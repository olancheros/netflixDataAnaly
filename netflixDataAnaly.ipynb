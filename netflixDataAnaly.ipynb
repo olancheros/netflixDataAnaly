{
 "cells": [
  {
   "cell_type": "markdown",
   "metadata": {},
   "source": [
    "<h1>Netflix Data Analysis</h1>\n",
    "<p>The aim of this work is to do some Exploratory Data Analysis (EDA), for a Netflix dataset. We have to answer the following questions:</p>\n",
    "<ul>\n",
    "    <li>What are the most preferred genres?</li>\n",
    "    <li>Which Netflix shows have the highest ratings?</li>\n",
    "    <li>What’s the best time of the year to release a show on Netflix?</li>\n",
    "    <li>Which countries have added most content?</li>\n",
    "</ul>\n",
    "<p>The data for this analysis can be downloaded from <a href=\"https://www.kaggle.com/datasets/shivamb/netflix-shows\">kaggle</a>.</p>\n"
   ]
  },
  {
   "cell_type": "markdown",
   "metadata": {},
   "source": [
    "<h2>Library import</h2>"
   ]
  },
  {
   "cell_type": "code",
   "execution_count": 2,
   "metadata": {},
   "outputs": [],
   "source": [
    "import numpy as np\n",
    "import pandas as pd\n",
    "from collections import Counter\n",
    "import plotly.express as px\n",
    "import plotly.graph_objects as go\n",
    "from plotly.subplots import make_subplots\n",
    "import plotly.figure_factory as ff\n",
    "import seaborn as sns\n",
    "import matplotlib.pyplot as plt\n",
    "from matplotlib import cm\n",
    "import warnings\n"
   ]
  },
  {
   "cell_type": "code",
   "execution_count": 3,
   "metadata": {},
   "outputs": [],
   "source": [
    "# Ignore notifications\n",
    "warnings.filterwarnings('ignore')"
   ]
  },
  {
   "cell_type": "markdown",
   "metadata": {},
   "source": [
    "<h2>Dataset</h2>"
   ]
  },
  {
   "cell_type": "code",
   "execution_count": 18,
   "metadata": {},
   "outputs": [],
   "source": [
    "df = pd.read_csv('../netflix/csvData/netflix_titles.csv')"
   ]
  },
  {
   "cell_type": "code",
   "execution_count": 19,
   "metadata": {},
   "outputs": [
    {
     "data": {
      "text/html": [
       "<div>\n",
       "<style scoped>\n",
       "    .dataframe tbody tr th:only-of-type {\n",
       "        vertical-align: middle;\n",
       "    }\n",
       "\n",
       "    .dataframe tbody tr th {\n",
       "        vertical-align: top;\n",
       "    }\n",
       "\n",
       "    .dataframe thead th {\n",
       "        text-align: right;\n",
       "    }\n",
       "</style>\n",
       "<table border=\"1\" class=\"dataframe\">\n",
       "  <thead>\n",
       "    <tr style=\"text-align: right;\">\n",
       "      <th></th>\n",
       "      <th>show_id</th>\n",
       "      <th>type</th>\n",
       "      <th>title</th>\n",
       "      <th>director</th>\n",
       "      <th>cast</th>\n",
       "      <th>country</th>\n",
       "      <th>date_added</th>\n",
       "      <th>release_year</th>\n",
       "      <th>rating</th>\n",
       "      <th>duration</th>\n",
       "      <th>listed_in</th>\n",
       "      <th>description</th>\n",
       "    </tr>\n",
       "  </thead>\n",
       "  <tbody>\n",
       "    <tr>\n",
       "      <th>0</th>\n",
       "      <td>s1</td>\n",
       "      <td>Movie</td>\n",
       "      <td>Dick Johnson Is Dead</td>\n",
       "      <td>Kirsten Johnson</td>\n",
       "      <td>NaN</td>\n",
       "      <td>United States</td>\n",
       "      <td>September 25, 2021</td>\n",
       "      <td>2020</td>\n",
       "      <td>PG-13</td>\n",
       "      <td>90 min</td>\n",
       "      <td>Documentaries</td>\n",
       "      <td>As her father nears the end of his life, filmm...</td>\n",
       "    </tr>\n",
       "    <tr>\n",
       "      <th>1</th>\n",
       "      <td>s2</td>\n",
       "      <td>TV Show</td>\n",
       "      <td>Blood &amp; Water</td>\n",
       "      <td>NaN</td>\n",
       "      <td>Ama Qamata, Khosi Ngema, Gail Mabalane, Thaban...</td>\n",
       "      <td>South Africa</td>\n",
       "      <td>September 24, 2021</td>\n",
       "      <td>2021</td>\n",
       "      <td>TV-MA</td>\n",
       "      <td>2 Seasons</td>\n",
       "      <td>International TV Shows, TV Dramas, TV Mysteries</td>\n",
       "      <td>After crossing paths at a party, a Cape Town t...</td>\n",
       "    </tr>\n",
       "    <tr>\n",
       "      <th>2</th>\n",
       "      <td>s3</td>\n",
       "      <td>TV Show</td>\n",
       "      <td>Ganglands</td>\n",
       "      <td>Julien Leclercq</td>\n",
       "      <td>Sami Bouajila, Tracy Gotoas, Samuel Jouy, Nabi...</td>\n",
       "      <td>NaN</td>\n",
       "      <td>September 24, 2021</td>\n",
       "      <td>2021</td>\n",
       "      <td>TV-MA</td>\n",
       "      <td>1 Season</td>\n",
       "      <td>Crime TV Shows, International TV Shows, TV Act...</td>\n",
       "      <td>To protect his family from a powerful drug lor...</td>\n",
       "    </tr>\n",
       "  </tbody>\n",
       "</table>\n",
       "</div>"
      ],
      "text/plain": [
       "  show_id     type                 title         director  \\\n",
       "0      s1    Movie  Dick Johnson Is Dead  Kirsten Johnson   \n",
       "1      s2  TV Show         Blood & Water              NaN   \n",
       "2      s3  TV Show             Ganglands  Julien Leclercq   \n",
       "\n",
       "                                                cast        country  \\\n",
       "0                                                NaN  United States   \n",
       "1  Ama Qamata, Khosi Ngema, Gail Mabalane, Thaban...   South Africa   \n",
       "2  Sami Bouajila, Tracy Gotoas, Samuel Jouy, Nabi...            NaN   \n",
       "\n",
       "           date_added  release_year rating   duration  \\\n",
       "0  September 25, 2021          2020  PG-13     90 min   \n",
       "1  September 24, 2021          2021  TV-MA  2 Seasons   \n",
       "2  September 24, 2021          2021  TV-MA   1 Season   \n",
       "\n",
       "                                           listed_in  \\\n",
       "0                                      Documentaries   \n",
       "1    International TV Shows, TV Dramas, TV Mysteries   \n",
       "2  Crime TV Shows, International TV Shows, TV Act...   \n",
       "\n",
       "                                         description  \n",
       "0  As her father nears the end of his life, filmm...  \n",
       "1  After crossing paths at a party, a Cape Town t...  \n",
       "2  To protect his family from a powerful drug lor...  "
      ]
     },
     "execution_count": 19,
     "metadata": {},
     "output_type": "execute_result"
    }
   ],
   "source": [
    "df.head(3)"
   ]
  },
  {
   "cell_type": "code",
   "execution_count": 20,
   "metadata": {},
   "outputs": [
    {
     "name": "stdout",
     "output_type": "stream",
     "text": [
      "<class 'pandas.core.frame.DataFrame'>\n",
      "RangeIndex: 8807 entries, 0 to 8806\n",
      "Data columns (total 12 columns):\n",
      " #   Column        Non-Null Count  Dtype \n",
      "---  ------        --------------  ----- \n",
      " 0   show_id       8807 non-null   object\n",
      " 1   type          8807 non-null   object\n",
      " 2   title         8807 non-null   object\n",
      " 3   director      6173 non-null   object\n",
      " 4   cast          7982 non-null   object\n",
      " 5   country       7976 non-null   object\n",
      " 6   date_added    8797 non-null   object\n",
      " 7   release_year  8807 non-null   int64 \n",
      " 8   rating        8803 non-null   object\n",
      " 9   duration      8804 non-null   object\n",
      " 10  listed_in     8807 non-null   object\n",
      " 11  description   8807 non-null   object\n",
      "dtypes: int64(1), object(11)\n",
      "memory usage: 825.8+ KB\n"
     ]
    }
   ],
   "source": [
    "df.info()"
   ]
  },
  {
   "cell_type": "markdown",
   "metadata": {},
   "source": [
    "<h4>Columns' Description</h4>\n",
    "<p>This dataset contains data collected from Netflix of different TV shows and movies from the year 2008 to 2021.</p>\n",
    "<ul>\n",
    "    <li><b>type:</b> Gives information about 2 different unique values one is TV Show and another is Movie.</li>\n",
    "    <li><b>title:</b> Gives information about the title of Movie or TV Show.</li>\n",
    "    <li><b>director:</b> Gives information about the director who directed the Movie or TV Show.</li>\n",
    "    <li><b>cast:</b> Gives information about the cast who plays role in Movie or TV Show.</li>\n",
    "    <li><b>release_year:</b> Gives information about the year when Movie or TV Show was released.</li>\n",
    "    <li><b>rating:</b> Gives information about the Movie or TV Show are in which category (eg like the movies are only for students, or adults, etc).</li>\n",
    "    <li><b>duration:</b> Gives information about the duration of Movie or TV Show.</li>\n",
    "    <li><b>listed_in:</b> Gives information about the genre of Movie or TV Show.</li>\n",
    "    <li><b>description:</b> Gives information about the description of Movie or TV Show.</li>\n",
    "</ul>"
   ]
  },
  {
   "cell_type": "code",
   "execution_count": 21,
   "metadata": {},
   "outputs": [
    {
     "data": {
      "text/plain": [
       "count    8807.000000\n",
       "mean     2014.180198\n",
       "std         8.819312\n",
       "min      1925.000000\n",
       "25%      2013.000000\n",
       "50%      2017.000000\n",
       "75%      2019.000000\n",
       "max      2021.000000\n",
       "Name: release_year, dtype: float64"
      ]
     },
     "execution_count": 21,
     "metadata": {},
     "output_type": "execute_result"
    }
   ],
   "source": [
    "df['release_year'].describe() # There is something weird with the min for the release year"
   ]
  },
  {
   "cell_type": "markdown",
   "metadata": {},
   "source": [
    "<h4>Data Cleaning</h4>"
   ]
  },
  {
   "cell_type": "code",
   "execution_count": 22,
   "metadata": {},
   "outputs": [
    {
     "name": "stdout",
     "output_type": "stream",
     "text": [
      "Number of missing values in DataFrame:\n",
      "show_id            0\n",
      "type               0\n",
      "title              0\n",
      "director        2634\n",
      "cast             825\n",
      "country          831\n",
      "date_added        10\n",
      "release_year       0\n",
      "rating             4\n",
      "duration           3\n",
      "listed_in          0\n",
      "description        0\n",
      "dtype: int64\n"
     ]
    }
   ],
   "source": [
    "print(f'Number of missing values in DataFrame:\\n{df.isna().sum()}')\n"
   ]
  },
  {
   "cell_type": "markdown",
   "metadata": {},
   "source": [
    "<p>There are many columns that need to be cleaned. Let's start with director and cast, because we are not going to do any analysis with those parameters.</p>"
   ]
  },
  {
   "cell_type": "code",
   "execution_count": 23,
   "metadata": {},
   "outputs": [],
   "source": [
    "df = df.dropna(how='any', subset=['cast', 'director'])"
   ]
  },
  {
   "cell_type": "markdown",
   "metadata": {},
   "source": [
    "Now, let's to drop all the null values"
   ]
  },
  {
   "cell_type": "code",
   "execution_count": 26,
   "metadata": {},
   "outputs": [],
   "source": [
    "df = df.dropna()"
   ]
  },
  {
   "cell_type": "code",
   "execution_count": 33,
   "metadata": {},
   "outputs": [
    {
     "name": "stdout",
     "output_type": "stream",
     "text": [
      "Number of missing values in DataFrame:\n",
      "show_id         0\n",
      "type            0\n",
      "title           0\n",
      "director        0\n",
      "cast            0\n",
      "country         0\n",
      "date_added      0\n",
      "release_year    0\n",
      "rating          0\n",
      "duration        0\n",
      "listed_in       0\n",
      "description     0\n",
      "year_added      0\n",
      "month_added     0\n",
      "season_count    0\n",
      "dtype: int64\n"
     ]
    }
   ],
   "source": [
    "print(f'Number of missing values in DataFrame:\\n{df.isna().sum()}')\n"
   ]
  },
  {
   "cell_type": "markdown",
   "metadata": {},
   "source": [
    "Next, we have to convert some columns into proper date time format"
   ]
  },
  {
   "cell_type": "code",
   "execution_count": 27,
   "metadata": {},
   "outputs": [],
   "source": [
    "df['date_added'] = pd.to_datetime(df['date_added'])\n",
    "df['year_added'] = df['date_added'].apply(lambda datetime: datetime.year)\n",
    "df['month_added'] = df['date_added'].apply(lambda datetime: datetime.month)"
   ]
  },
  {
   "cell_type": "markdown",
   "metadata": {},
   "source": [
    "Also, looking at duration column, there are many values that can be classified as a season too."
   ]
  },
  {
   "cell_type": "code",
   "execution_count": 30,
   "metadata": {},
   "outputs": [],
   "source": [
    "df['season_count'] = df.apply(lambda x: x['duration'].split(\" \")[0] if \"Season\" in x['duration'] else \"\", axis=1)\n",
    "df['duration'] = df.apply(lambda x: x['duration'].split(\" \")[0] if \"Season\" not in x['duration'] else \"\", axis=1)\n"
   ]
  },
  {
   "cell_type": "code",
   "execution_count": 32,
   "metadata": {},
   "outputs": [
    {
     "data": {
      "text/html": [
       "<div>\n",
       "<style scoped>\n",
       "    .dataframe tbody tr th:only-of-type {\n",
       "        vertical-align: middle;\n",
       "    }\n",
       "\n",
       "    .dataframe tbody tr th {\n",
       "        vertical-align: top;\n",
       "    }\n",
       "\n",
       "    .dataframe thead th {\n",
       "        text-align: right;\n",
       "    }\n",
       "</style>\n",
       "<table border=\"1\" class=\"dataframe\">\n",
       "  <thead>\n",
       "    <tr style=\"text-align: right;\">\n",
       "      <th></th>\n",
       "      <th>show_id</th>\n",
       "      <th>type</th>\n",
       "      <th>title</th>\n",
       "      <th>director</th>\n",
       "      <th>cast</th>\n",
       "      <th>country</th>\n",
       "      <th>date_added</th>\n",
       "      <th>release_year</th>\n",
       "      <th>rating</th>\n",
       "      <th>duration</th>\n",
       "      <th>listed_in</th>\n",
       "      <th>description</th>\n",
       "      <th>year_added</th>\n",
       "      <th>month_added</th>\n",
       "      <th>season_count</th>\n",
       "    </tr>\n",
       "  </thead>\n",
       "  <tbody>\n",
       "    <tr>\n",
       "      <th>7</th>\n",
       "      <td>s8</td>\n",
       "      <td>Movie</td>\n",
       "      <td>Sankofa</td>\n",
       "      <td>Haile Gerima</td>\n",
       "      <td>Kofi Ghanaba, Oyafunmike Ogunlano, Alexandra D...</td>\n",
       "      <td>United States, Ghana, Burkina Faso, United Kin...</td>\n",
       "      <td>2021-09-24</td>\n",
       "      <td>1993</td>\n",
       "      <td>TV-MA</td>\n",
       "      <td>125</td>\n",
       "      <td>Dramas, Independent Movies, International Movies</td>\n",
       "      <td>On a photo shoot in Ghana, an American model s...</td>\n",
       "      <td>2021</td>\n",
       "      <td>9</td>\n",
       "      <td></td>\n",
       "    </tr>\n",
       "    <tr>\n",
       "      <th>8</th>\n",
       "      <td>s9</td>\n",
       "      <td>TV Show</td>\n",
       "      <td>The Great British Baking Show</td>\n",
       "      <td>Andy Devonshire</td>\n",
       "      <td>Mel Giedroyc, Sue Perkins, Mary Berry, Paul Ho...</td>\n",
       "      <td>United Kingdom</td>\n",
       "      <td>2021-09-24</td>\n",
       "      <td>2021</td>\n",
       "      <td>TV-14</td>\n",
       "      <td></td>\n",
       "      <td>British TV Shows, Reality TV</td>\n",
       "      <td>A talented batch of amateur bakers face off in...</td>\n",
       "      <td>2021</td>\n",
       "      <td>9</td>\n",
       "      <td>9</td>\n",
       "    </tr>\n",
       "    <tr>\n",
       "      <th>9</th>\n",
       "      <td>s10</td>\n",
       "      <td>Movie</td>\n",
       "      <td>The Starling</td>\n",
       "      <td>Theodore Melfi</td>\n",
       "      <td>Melissa McCarthy, Chris O'Dowd, Kevin Kline, T...</td>\n",
       "      <td>United States</td>\n",
       "      <td>2021-09-24</td>\n",
       "      <td>2021</td>\n",
       "      <td>PG-13</td>\n",
       "      <td>104</td>\n",
       "      <td>Comedies, Dramas</td>\n",
       "      <td>A woman adjusting to life after a loss contend...</td>\n",
       "      <td>2021</td>\n",
       "      <td>9</td>\n",
       "      <td></td>\n",
       "    </tr>\n",
       "  </tbody>\n",
       "</table>\n",
       "</div>"
      ],
      "text/plain": [
       "  show_id     type                          title         director  \\\n",
       "7      s8    Movie                        Sankofa     Haile Gerima   \n",
       "8      s9  TV Show  The Great British Baking Show  Andy Devonshire   \n",
       "9     s10    Movie                   The Starling   Theodore Melfi   \n",
       "\n",
       "                                                cast  \\\n",
       "7  Kofi Ghanaba, Oyafunmike Ogunlano, Alexandra D...   \n",
       "8  Mel Giedroyc, Sue Perkins, Mary Berry, Paul Ho...   \n",
       "9  Melissa McCarthy, Chris O'Dowd, Kevin Kline, T...   \n",
       "\n",
       "                                             country date_added  release_year  \\\n",
       "7  United States, Ghana, Burkina Faso, United Kin... 2021-09-24          1993   \n",
       "8                                     United Kingdom 2021-09-24          2021   \n",
       "9                                      United States 2021-09-24          2021   \n",
       "\n",
       "  rating duration                                         listed_in  \\\n",
       "7  TV-MA      125  Dramas, Independent Movies, International Movies   \n",
       "8  TV-14                               British TV Shows, Reality TV   \n",
       "9  PG-13      104                                  Comedies, Dramas   \n",
       "\n",
       "                                         description  year_added  month_added  \\\n",
       "7  On a photo shoot in Ghana, an American model s...        2021            9   \n",
       "8  A talented batch of amateur bakers face off in...        2021            9   \n",
       "9  A woman adjusting to life after a loss contend...        2021            9   \n",
       "\n",
       "  season_count  \n",
       "7               \n",
       "8            9  \n",
       "9               "
      ]
     },
     "execution_count": 32,
     "metadata": {},
     "output_type": "execute_result"
    }
   ],
   "source": [
    "df.head(3)"
   ]
  },
  {
   "cell_type": "markdown",
   "metadata": {},
   "source": [
    "Now, let's change the column name \"listed_in\" by \"genre\""
   ]
  },
  {
   "cell_type": "code",
   "execution_count": 34,
   "metadata": {},
   "outputs": [],
   "source": [
    "df = df.rename(columns={'listed_in':'genre'})\n",
    "df['genre'] = df['genre'].apply(lambda x: x.split(\",\")[0])"
   ]
  },
  {
   "cell_type": "code",
   "execution_count": 35,
   "metadata": {},
   "outputs": [
    {
     "data": {
      "text/html": [
       "<div>\n",
       "<style scoped>\n",
       "    .dataframe tbody tr th:only-of-type {\n",
       "        vertical-align: middle;\n",
       "    }\n",
       "\n",
       "    .dataframe tbody tr th {\n",
       "        vertical-align: top;\n",
       "    }\n",
       "\n",
       "    .dataframe thead th {\n",
       "        text-align: right;\n",
       "    }\n",
       "</style>\n",
       "<table border=\"1\" class=\"dataframe\">\n",
       "  <thead>\n",
       "    <tr style=\"text-align: right;\">\n",
       "      <th></th>\n",
       "      <th>show_id</th>\n",
       "      <th>type</th>\n",
       "      <th>title</th>\n",
       "      <th>director</th>\n",
       "      <th>cast</th>\n",
       "      <th>country</th>\n",
       "      <th>date_added</th>\n",
       "      <th>release_year</th>\n",
       "      <th>rating</th>\n",
       "      <th>duration</th>\n",
       "      <th>genre</th>\n",
       "      <th>description</th>\n",
       "      <th>year_added</th>\n",
       "      <th>month_added</th>\n",
       "      <th>season_count</th>\n",
       "    </tr>\n",
       "  </thead>\n",
       "  <tbody>\n",
       "    <tr>\n",
       "      <th>7</th>\n",
       "      <td>s8</td>\n",
       "      <td>Movie</td>\n",
       "      <td>Sankofa</td>\n",
       "      <td>Haile Gerima</td>\n",
       "      <td>Kofi Ghanaba, Oyafunmike Ogunlano, Alexandra D...</td>\n",
       "      <td>United States, Ghana, Burkina Faso, United Kin...</td>\n",
       "      <td>2021-09-24</td>\n",
       "      <td>1993</td>\n",
       "      <td>TV-MA</td>\n",
       "      <td>125</td>\n",
       "      <td>Dramas</td>\n",
       "      <td>On a photo shoot in Ghana, an American model s...</td>\n",
       "      <td>2021</td>\n",
       "      <td>9</td>\n",
       "      <td></td>\n",
       "    </tr>\n",
       "    <tr>\n",
       "      <th>8</th>\n",
       "      <td>s9</td>\n",
       "      <td>TV Show</td>\n",
       "      <td>The Great British Baking Show</td>\n",
       "      <td>Andy Devonshire</td>\n",
       "      <td>Mel Giedroyc, Sue Perkins, Mary Berry, Paul Ho...</td>\n",
       "      <td>United Kingdom</td>\n",
       "      <td>2021-09-24</td>\n",
       "      <td>2021</td>\n",
       "      <td>TV-14</td>\n",
       "      <td></td>\n",
       "      <td>British TV Shows</td>\n",
       "      <td>A talented batch of amateur bakers face off in...</td>\n",
       "      <td>2021</td>\n",
       "      <td>9</td>\n",
       "      <td>9</td>\n",
       "    </tr>\n",
       "    <tr>\n",
       "      <th>9</th>\n",
       "      <td>s10</td>\n",
       "      <td>Movie</td>\n",
       "      <td>The Starling</td>\n",
       "      <td>Theodore Melfi</td>\n",
       "      <td>Melissa McCarthy, Chris O'Dowd, Kevin Kline, T...</td>\n",
       "      <td>United States</td>\n",
       "      <td>2021-09-24</td>\n",
       "      <td>2021</td>\n",
       "      <td>PG-13</td>\n",
       "      <td>104</td>\n",
       "      <td>Comedies</td>\n",
       "      <td>A woman adjusting to life after a loss contend...</td>\n",
       "      <td>2021</td>\n",
       "      <td>9</td>\n",
       "      <td></td>\n",
       "    </tr>\n",
       "  </tbody>\n",
       "</table>\n",
       "</div>"
      ],
      "text/plain": [
       "  show_id     type                          title         director  \\\n",
       "7      s8    Movie                        Sankofa     Haile Gerima   \n",
       "8      s9  TV Show  The Great British Baking Show  Andy Devonshire   \n",
       "9     s10    Movie                   The Starling   Theodore Melfi   \n",
       "\n",
       "                                                cast  \\\n",
       "7  Kofi Ghanaba, Oyafunmike Ogunlano, Alexandra D...   \n",
       "8  Mel Giedroyc, Sue Perkins, Mary Berry, Paul Ho...   \n",
       "9  Melissa McCarthy, Chris O'Dowd, Kevin Kline, T...   \n",
       "\n",
       "                                             country date_added  release_year  \\\n",
       "7  United States, Ghana, Burkina Faso, United Kin... 2021-09-24          1993   \n",
       "8                                     United Kingdom 2021-09-24          2021   \n",
       "9                                      United States 2021-09-24          2021   \n",
       "\n",
       "  rating duration             genre  \\\n",
       "7  TV-MA      125            Dramas   \n",
       "8  TV-14           British TV Shows   \n",
       "9  PG-13      104          Comedies   \n",
       "\n",
       "                                         description  year_added  month_added  \\\n",
       "7  On a photo shoot in Ghana, an American model s...        2021            9   \n",
       "8  A talented batch of amateur bakers face off in...        2021            9   \n",
       "9  A woman adjusting to life after a loss contend...        2021            9   \n",
       "\n",
       "  season_count  \n",
       "7               \n",
       "8            9  \n",
       "9               "
      ]
     },
     "execution_count": 35,
     "metadata": {},
     "output_type": "execute_result"
    }
   ],
   "source": [
    "df.head(3)"
   ]
  },
  {
   "cell_type": "markdown",
   "metadata": {},
   "source": [
    "<h3>Exploratory Data Analysis (EDA)</h3>"
   ]
  },
  {
   "cell_type": "markdown",
   "metadata": {},
   "source": [
    "<p>Let's start analyzing what type of content is the most watched.</p>\n",
    "<h4>Graph 1</h4>"
   ]
  },
  {
   "cell_type": "code",
   "execution_count": 40,
   "metadata": {},
   "outputs": [
    {
     "data": {
      "application/vnd.plotly.v1+json": {
       "config": {
        "plotlyServerURL": "https://plot.ly"
       },
       "data": [
        {
         "domain": {
          "x": [
           0,
           1
          ],
          "y": [
           0,
           1
          ]
         },
         "hole": 0.7,
         "labels": [
          "Movie",
          "TV Show",
          "Movie",
          "Movie",
          "Movie",
          "Movie",
          "Movie",
          "Movie",
          "Movie",
          "Movie",
          "Movie",
          "Movie",
          "Movie",
          "Movie",
          "Movie",
          "Movie",
          "Movie",
          "Movie",
          "Movie",
          "Movie",
          "Movie",
          "Movie",
          "Movie",
          "Movie",
          "Movie",
          "Movie",
          "Movie",
          "Movie",
          "Movie",
          "Movie",
          "Movie",
          "Movie",
          "Movie",
          "Movie",
          "Movie",
          "Movie",
          "Movie",
          "Movie",
          "Movie",
          "Movie",
          "Movie",
          "Movie",
          "Movie",
          "Movie",
          "Movie",
          "Movie",
          "Movie",
          "Movie",
          "Movie",
          "Movie",
          "Movie",
          "Movie",
          "Movie",
          "Movie",
          "Movie",
          "Movie",
          "Movie",
          "Movie",
          "Movie",
          "Movie",
          "Movie",
          "Movie",
          "Movie",
          "Movie",
          "Movie",
          "Movie",
          "Movie",
          "Movie",
          "Movie",
          "Movie",
          "Movie",
          "Movie",
          "Movie",
          "Movie",
          "Movie",
          "Movie",
          "Movie",
          "Movie",
          "Movie",
          "Movie",
          "Movie",
          "Movie",
          "Movie",
          "Movie",
          "Movie",
          "Movie",
          "Movie",
          "Movie",
          "Movie",
          "Movie",
          "Movie",
          "Movie",
          "TV Show",
          "Movie",
          "Movie",
          "Movie",
          "Movie",
          "Movie",
          "Movie",
          "Movie",
          "Movie",
          "Movie",
          "Movie",
          "Movie",
          "Movie",
          "Movie",
          "Movie",
          "Movie",
          "Movie",
          "Movie",
          "Movie",
          "Movie",
          "Movie",
          "Movie",
          "Movie",
          "Movie",
          "Movie",
          "Movie",
          "Movie",
          "Movie",
          "TV Show",
          "TV Show",
          "Movie",
          "Movie",
          "Movie",
          "Movie",
          "Movie",
          "Movie",
          "Movie",
          "Movie",
          "Movie",
          "TV Show",
          "Movie",
          "Movie",
          "Movie",
          "Movie",
          "Movie",
          "Movie",
          "Movie",
          "Movie",
          "Movie",
          "Movie",
          "Movie",
          "Movie",
          "TV Show",
          "Movie",
          "Movie",
          "Movie",
          "Movie",
          "Movie",
          "Movie",
          "Movie",
          "Movie",
          "Movie",
          "Movie",
          "Movie",
          "Movie",
          "Movie",
          "Movie",
          "Movie",
          "Movie",
          "Movie",
          "Movie",
          "Movie",
          "Movie",
          "Movie",
          "Movie",
          "Movie",
          "Movie",
          "Movie",
          "Movie",
          "Movie",
          "Movie",
          "Movie",
          "Movie",
          "Movie",
          "Movie",
          "Movie",
          "Movie",
          "Movie",
          "TV Show",
          "Movie",
          "Movie",
          "Movie",
          "Movie",
          "Movie",
          "Movie",
          "Movie",
          "Movie",
          "Movie",
          "Movie",
          "Movie",
          "Movie",
          "Movie",
          "Movie",
          "Movie",
          "Movie",
          "Movie",
          "Movie",
          "Movie",
          "Movie",
          "Movie",
          "Movie",
          "Movie",
          "Movie",
          "Movie",
          "Movie",
          "Movie",
          "Movie",
          "Movie",
          "Movie",
          "Movie",
          "Movie",
          "TV Show",
          "Movie",
          "Movie",
          "Movie",
          "Movie",
          "Movie",
          "Movie",
          "Movie",
          "Movie",
          "Movie",
          "Movie",
          "Movie",
          "Movie",
          "Movie",
          "Movie",
          "Movie",
          "Movie",
          "Movie",
          "Movie",
          "Movie",
          "Movie",
          "Movie",
          "Movie",
          "Movie",
          "Movie",
          "Movie",
          "Movie",
          "Movie",
          "Movie",
          "Movie",
          "Movie",
          "Movie",
          "Movie",
          "Movie",
          "Movie",
          "Movie",
          "Movie",
          "Movie",
          "Movie",
          "Movie",
          "Movie",
          "Movie",
          "Movie",
          "Movie",
          "Movie",
          "Movie",
          "Movie",
          "Movie",
          "Movie",
          "Movie",
          "Movie",
          "Movie",
          "Movie",
          "Movie",
          "Movie",
          "Movie",
          "Movie",
          "Movie",
          "Movie",
          "Movie",
          "Movie",
          "Movie",
          "Movie",
          "Movie",
          "Movie",
          "Movie",
          "Movie",
          "Movie",
          "Movie",
          "Movie",
          "Movie",
          "Movie",
          "Movie",
          "Movie",
          "Movie",
          "TV Show",
          "TV Show",
          "Movie",
          "Movie",
          "Movie",
          "Movie",
          "Movie",
          "Movie",
          "Movie",
          "Movie",
          "Movie",
          "Movie",
          "Movie",
          "Movie",
          "Movie",
          "TV Show",
          "TV Show",
          "Movie",
          "Movie",
          "Movie",
          "TV Show",
          "Movie",
          "Movie",
          "Movie",
          "Movie",
          "Movie",
          "Movie",
          "Movie",
          "Movie",
          "Movie",
          "Movie",
          "Movie",
          "Movie",
          "Movie",
          "TV Show",
          "Movie",
          "Movie",
          "Movie",
          "Movie",
          "Movie",
          "Movie",
          "Movie",
          "Movie",
          "Movie",
          "Movie",
          "Movie",
          "Movie",
          "Movie",
          "Movie",
          "Movie",
          "Movie",
          "Movie",
          "Movie",
          "Movie",
          "Movie",
          "Movie",
          "Movie",
          "Movie",
          "Movie",
          "Movie",
          "Movie",
          "Movie",
          "Movie",
          "Movie",
          "Movie",
          "TV Show",
          "Movie",
          "Movie",
          "Movie",
          "Movie",
          "Movie",
          "Movie",
          "Movie",
          "Movie",
          "Movie",
          "Movie",
          "Movie",
          "Movie",
          "Movie",
          "Movie",
          "Movie",
          "Movie",
          "Movie",
          "Movie",
          "Movie",
          "Movie",
          "Movie",
          "Movie",
          "Movie",
          "Movie",
          "Movie",
          "Movie",
          "Movie",
          "Movie",
          "Movie",
          "Movie",
          "Movie",
          "Movie",
          "Movie",
          "Movie",
          "TV Show",
          "Movie",
          "Movie",
          "Movie",
          "Movie",
          "Movie",
          "Movie",
          "Movie",
          "Movie",
          "Movie",
          "Movie",
          "Movie",
          "Movie",
          "Movie",
          "Movie",
          "Movie",
          "Movie",
          "Movie",
          "Movie",
          "Movie",
          "Movie",
          "Movie",
          "Movie",
          "Movie",
          "Movie",
          "Movie",
          "Movie",
          "Movie",
          "Movie",
          "Movie",
          "Movie",
          "Movie",
          "Movie",
          "Movie",
          "Movie",
          "Movie",
          "Movie",
          "Movie",
          "Movie",
          "Movie",
          "Movie",
          "Movie",
          "Movie",
          "Movie",
          "Movie",
          "Movie",
          "Movie",
          "Movie",
          "Movie",
          "Movie",
          "Movie",
          "Movie",
          "Movie",
          "Movie",
          "Movie",
          "Movie",
          "Movie",
          "Movie",
          "Movie",
          "Movie",
          "Movie",
          "Movie",
          "Movie",
          "Movie",
          "Movie",
          "Movie",
          "Movie",
          "TV Show",
          "Movie",
          "Movie",
          "Movie",
          "Movie",
          "Movie",
          "Movie",
          "Movie",
          "Movie",
          "Movie",
          "Movie",
          "Movie",
          "Movie",
          "Movie",
          "Movie",
          "Movie",
          "Movie",
          "Movie",
          "Movie",
          "Movie",
          "Movie",
          "Movie",
          "Movie",
          "Movie",
          "Movie",
          "Movie",
          "Movie",
          "Movie",
          "Movie",
          "Movie",
          "Movie",
          "Movie",
          "Movie",
          "TV Show",
          "Movie",
          "Movie",
          "Movie",
          "Movie",
          "Movie",
          "Movie",
          "TV Show",
          "Movie",
          "Movie",
          "Movie",
          "Movie",
          "Movie",
          "Movie",
          "Movie",
          "Movie",
          "Movie",
          "Movie",
          "Movie",
          "Movie",
          "Movie",
          "Movie",
          "Movie",
          "Movie",
          "Movie",
          "Movie",
          "Movie",
          "Movie",
          "Movie",
          "Movie",
          "Movie",
          "Movie",
          "Movie",
          "Movie",
          "Movie",
          "Movie",
          "Movie",
          "Movie",
          "Movie",
          "Movie",
          "Movie",
          "Movie",
          "Movie",
          "Movie",
          "Movie",
          "Movie",
          "Movie",
          "Movie",
          "Movie",
          "Movie",
          "Movie",
          "Movie",
          "Movie",
          "Movie",
          "Movie",
          "Movie",
          "Movie",
          "Movie",
          "Movie",
          "Movie",
          "Movie",
          "Movie",
          "Movie",
          "Movie",
          "Movie",
          "Movie",
          "Movie",
          "Movie",
          "Movie",
          "TV Show",
          "Movie",
          "Movie",
          "Movie",
          "Movie",
          "Movie",
          "Movie",
          "Movie",
          "Movie",
          "Movie",
          "Movie",
          "Movie",
          "Movie",
          "Movie",
          "Movie",
          "Movie",
          "Movie",
          "Movie",
          "Movie",
          "Movie",
          "Movie",
          "Movie",
          "Movie",
          "Movie",
          "Movie",
          "Movie",
          "Movie",
          "Movie",
          "Movie",
          "Movie",
          "Movie",
          "TV Show",
          "Movie",
          "Movie",
          "Movie",
          "Movie",
          "Movie",
          "Movie",
          "Movie",
          "Movie",
          "Movie",
          "Movie",
          "Movie",
          "Movie",
          "Movie",
          "Movie",
          "Movie",
          "Movie",
          "Movie",
          "Movie",
          "Movie",
          "Movie",
          "Movie",
          "Movie",
          "Movie",
          "Movie",
          "Movie",
          "Movie",
          "Movie",
          "Movie",
          "Movie",
          "Movie",
          "Movie",
          "Movie",
          "Movie",
          "Movie",
          "Movie",
          "Movie",
          "TV Show",
          "Movie",
          "Movie",
          "Movie",
          "Movie",
          "Movie",
          "Movie",
          "Movie",
          "Movie",
          "Movie",
          "Movie",
          "Movie",
          "Movie",
          "Movie",
          "Movie",
          "Movie",
          "Movie",
          "Movie",
          "Movie",
          "Movie",
          "Movie",
          "Movie",
          "Movie",
          "Movie",
          "Movie",
          "Movie",
          "Movie",
          "Movie",
          "Movie",
          "Movie",
          "Movie",
          "Movie",
          "Movie",
          "Movie",
          "Movie",
          "Movie",
          "Movie",
          "TV Show",
          "Movie",
          "Movie",
          "Movie",
          "Movie",
          "Movie",
          "Movie",
          "Movie",
          "Movie",
          "Movie",
          "Movie",
          "Movie",
          "Movie",
          "Movie",
          "Movie",
          "Movie",
          "Movie",
          "Movie",
          "Movie",
          "Movie",
          "Movie",
          "Movie",
          "Movie",
          "Movie",
          "Movie",
          "Movie",
          "Movie",
          "Movie",
          "Movie",
          "Movie",
          "Movie",
          "Movie",
          "Movie",
          "Movie",
          "Movie",
          "TV Show",
          "Movie",
          "Movie",
          "Movie",
          "Movie",
          "Movie",
          "Movie",
          "TV Show",
          "Movie",
          "Movie",
          "Movie",
          "Movie",
          "Movie",
          "Movie",
          "Movie",
          "Movie",
          "Movie",
          "Movie",
          "Movie",
          "Movie",
          "Movie",
          "Movie",
          "Movie",
          "Movie",
          "Movie",
          "Movie",
          "TV Show",
          "Movie",
          "Movie",
          "Movie",
          "Movie",
          "Movie",
          "Movie",
          "Movie",
          "Movie",
          "Movie",
          "Movie",
          "Movie",
          "Movie",
          "Movie",
          "Movie",
          "Movie",
          "Movie",
          "Movie",
          "Movie",
          "Movie",
          "Movie",
          "Movie",
          "Movie",
          "Movie",
          "Movie",
          "Movie",
          "Movie",
          "Movie",
          "Movie",
          "Movie",
          "Movie",
          "Movie",
          "Movie",
          "Movie",
          "Movie",
          "Movie",
          "TV Show",
          "Movie",
          "Movie",
          "Movie",
          "Movie",
          "Movie",
          "Movie",
          "Movie",
          "TV Show",
          "TV Show",
          "Movie",
          "Movie",
          "Movie",
          "Movie",
          "Movie",
          "Movie",
          "Movie",
          "Movie",
          "Movie",
          "Movie",
          "Movie",
          "Movie",
          "Movie",
          "Movie",
          "Movie",
          "Movie",
          "Movie",
          "Movie",
          "Movie",
          "Movie",
          "Movie",
          "Movie",
          "TV Show",
          "Movie",
          "Movie",
          "Movie",
          "Movie",
          "Movie",
          "Movie",
          "Movie",
          "Movie",
          "Movie",
          "Movie",
          "Movie",
          "Movie",
          "Movie",
          "Movie",
          "Movie",
          "Movie",
          "Movie",
          "Movie",
          "Movie",
          "Movie",
          "Movie",
          "Movie",
          "Movie",
          "Movie",
          "Movie",
          "Movie",
          "Movie",
          "Movie",
          "Movie",
          "Movie",
          "Movie",
          "Movie",
          "Movie",
          "Movie",
          "Movie",
          "Movie",
          "Movie",
          "Movie",
          "Movie",
          "Movie",
          "TV Show",
          "Movie",
          "Movie",
          "Movie",
          "Movie",
          "Movie",
          "Movie",
          "Movie",
          "Movie",
          "Movie",
          "Movie",
          "Movie",
          "Movie",
          "Movie",
          "Movie",
          "Movie",
          "Movie",
          "Movie",
          "Movie",
          "Movie",
          "Movie",
          "Movie",
          "Movie",
          "Movie",
          "Movie",
          "Movie",
          "Movie",
          "Movie",
          "Movie",
          "Movie",
          "Movie",
          "Movie",
          "Movie",
          "Movie",
          "TV Show",
          "Movie",
          "Movie",
          "Movie",
          "Movie",
          "Movie",
          "Movie",
          "TV Show",
          "Movie",
          "Movie",
          "Movie",
          "Movie",
          "Movie",
          "Movie",
          "Movie",
          "Movie",
          "Movie",
          "Movie",
          "Movie",
          "Movie",
          "Movie",
          "Movie",
          "Movie",
          "Movie",
          "Movie",
          "Movie",
          "Movie",
          "Movie",
          "Movie",
          "Movie",
          "Movie",
          "Movie",
          "Movie",
          "Movie",
          "TV Show",
          "Movie",
          "Movie",
          "Movie",
          "Movie",
          "Movie",
          "Movie",
          "Movie",
          "Movie",
          "Movie",
          "Movie",
          "Movie",
          "Movie",
          "TV Show",
          "Movie",
          "Movie",
          "Movie",
          "Movie",
          "Movie",
          "Movie",
          "Movie",
          "Movie",
          "Movie",
          "Movie",
          "Movie",
          "Movie",
          "Movie",
          "Movie",
          "Movie",
          "Movie",
          "Movie",
          "Movie",
          "Movie",
          "Movie",
          "Movie",
          "Movie",
          "Movie",
          "Movie",
          "Movie",
          "Movie",
          "Movie",
          "Movie",
          "Movie",
          "Movie",
          "Movie",
          "Movie",
          "Movie",
          "Movie",
          "Movie",
          "TV Show",
          "Movie",
          "Movie",
          "Movie",
          "Movie",
          "Movie",
          "Movie",
          "Movie",
          "Movie",
          "Movie",
          "Movie",
          "Movie",
          "Movie",
          "Movie",
          "Movie",
          "Movie",
          "Movie",
          "Movie",
          "Movie",
          "Movie",
          "Movie",
          "Movie",
          "Movie",
          "Movie",
          "TV Show",
          "Movie",
          "Movie",
          "Movie",
          "Movie",
          "Movie",
          "Movie",
          "Movie",
          "Movie",
          "Movie",
          "Movie",
          "Movie",
          "Movie",
          "Movie",
          "Movie",
          "Movie",
          "Movie",
          "Movie",
          "Movie",
          "Movie",
          "Movie",
          "Movie",
          "Movie",
          "Movie",
          "Movie",
          "Movie",
          "Movie",
          "Movie",
          "Movie",
          "Movie",
          "Movie",
          "Movie",
          "Movie",
          "Movie",
          "Movie",
          "Movie",
          "Movie",
          "Movie",
          "Movie",
          "Movie",
          "Movie",
          "Movie",
          "Movie",
          "Movie",
          "Movie",
          "Movie",
          "Movie",
          "Movie",
          "Movie",
          "Movie",
          "Movie",
          "Movie",
          "Movie",
          "Movie",
          "Movie",
          "Movie",
          "Movie",
          "Movie",
          "Movie",
          "Movie",
          "Movie",
          "Movie",
          "Movie",
          "Movie",
          "Movie",
          "TV Show",
          "Movie",
          "Movie",
          "Movie",
          "Movie",
          "Movie",
          "Movie",
          "Movie",
          "Movie",
          "Movie",
          "Movie",
          "Movie",
          "Movie",
          "Movie",
          "TV Show",
          "Movie",
          "Movie",
          "Movie",
          "Movie",
          "Movie",
          "Movie",
          "Movie",
          "Movie",
          "Movie",
          "Movie",
          "Movie",
          "Movie",
          "Movie",
          "Movie",
          "Movie",
          "Movie",
          "Movie",
          "Movie",
          "Movie",
          "Movie",
          "Movie",
          "Movie",
          "Movie",
          "Movie",
          "Movie",
          "Movie",
          "Movie",
          "Movie",
          "Movie",
          "Movie",
          "Movie",
          "Movie",
          "Movie",
          "Movie",
          "Movie",
          "Movie",
          "TV Show",
          "Movie",
          "Movie",
          "Movie",
          "Movie",
          "Movie",
          "Movie",
          "Movie",
          "Movie",
          "Movie",
          "Movie",
          "Movie",
          "Movie",
          "Movie",
          "Movie",
          "Movie",
          "TV Show",
          "Movie",
          "Movie",
          "Movie",
          "Movie",
          "Movie",
          "Movie",
          "Movie",
          "Movie",
          "Movie",
          "Movie",
          "Movie",
          "Movie",
          "Movie",
          "Movie",
          "Movie",
          "Movie",
          "Movie",
          "Movie",
          "Movie",
          "Movie",
          "Movie",
          "Movie",
          "Movie",
          "Movie",
          "Movie",
          "Movie",
          "Movie",
          "Movie",
          "Movie",
          "Movie",
          "Movie",
          "Movie",
          "Movie",
          "Movie",
          "Movie",
          "Movie",
          "Movie",
          "Movie",
          "Movie",
          "Movie",
          "Movie",
          "Movie",
          "Movie",
          "Movie",
          "Movie",
          "Movie",
          "Movie",
          "Movie",
          "Movie",
          "Movie",
          "Movie",
          "Movie",
          "Movie",
          "Movie",
          "Movie",
          "Movie",
          "Movie",
          "Movie",
          "Movie",
          "Movie",
          "Movie",
          "Movie",
          "Movie",
          "Movie",
          "Movie",
          "Movie",
          "Movie",
          "Movie",
          "Movie",
          "TV Show",
          "Movie",
          "Movie",
          "Movie",
          "Movie",
          "Movie",
          "Movie",
          "Movie",
          "Movie",
          "Movie",
          "Movie",
          "Movie",
          "Movie",
          "Movie",
          "Movie",
          "Movie",
          "Movie",
          "TV Show",
          "Movie",
          "Movie",
          "Movie",
          "Movie",
          "Movie",
          "Movie",
          "Movie",
          "Movie",
          "Movie",
          "Movie",
          "Movie",
          "Movie",
          "Movie",
          "Movie",
          "Movie",
          "Movie",
          "Movie",
          "Movie",
          "Movie",
          "Movie",
          "Movie",
          "Movie",
          "TV Show",
          "Movie",
          "Movie",
          "Movie",
          "Movie",
          "Movie",
          "Movie",
          "Movie",
          "Movie",
          "Movie",
          "Movie",
          "Movie",
          "Movie",
          "Movie",
          "Movie",
          "Movie",
          "Movie",
          "Movie",
          "Movie",
          "Movie",
          "Movie",
          "Movie",
          "Movie",
          "Movie",
          "Movie",
          "Movie",
          "Movie",
          "Movie",
          "Movie",
          "Movie",
          "Movie",
          "Movie",
          "Movie",
          "Movie",
          "Movie",
          "Movie",
          "Movie",
          "Movie",
          "Movie",
          "Movie",
          "Movie",
          "Movie",
          "Movie",
          "Movie",
          "Movie",
          "Movie",
          "Movie",
          "Movie",
          "Movie",
          "Movie",
          "Movie",
          "Movie",
          "Movie",
          "Movie",
          "Movie",
          "Movie",
          "Movie",
          "Movie",
          "Movie",
          "Movie",
          "Movie",
          "Movie",
          "Movie",
          "Movie",
          "TV Show",
          "Movie",
          "Movie",
          "Movie",
          "Movie",
          "Movie",
          "Movie",
          "Movie",
          "Movie",
          "Movie",
          "Movie",
          "Movie",
          "TV Show",
          "Movie",
          "Movie",
          "Movie",
          "Movie",
          "Movie",
          "Movie",
          "Movie",
          "Movie",
          "Movie",
          "Movie",
          "Movie",
          "Movie",
          "Movie",
          "Movie",
          "Movie",
          "Movie",
          "Movie",
          "Movie",
          "Movie",
          "Movie",
          "Movie",
          "Movie",
          "Movie",
          "Movie",
          "Movie",
          "Movie",
          "Movie",
          "Movie",
          "Movie",
          "Movie",
          "TV Show",
          "Movie",
          "Movie",
          "Movie",
          "Movie",
          "Movie",
          "Movie",
          "TV Show",
          "Movie",
          "Movie",
          "Movie",
          "Movie",
          "Movie",
          "Movie",
          "Movie",
          "Movie",
          "Movie",
          "Movie",
          "Movie",
          "Movie",
          "Movie",
          "Movie",
          "Movie",
          "Movie",
          "Movie",
          "Movie",
          "Movie",
          "TV Show",
          "Movie",
          "Movie",
          "Movie",
          "Movie",
          "Movie",
          "Movie",
          "Movie",
          "Movie",
          "TV Show",
          "TV Show",
          "Movie",
          "Movie",
          "Movie",
          "Movie",
          "Movie",
          "Movie",
          "Movie",
          "Movie",
          "Movie",
          "Movie",
          "Movie",
          "Movie",
          "Movie",
          "Movie",
          "Movie",
          "Movie",
          "TV Show",
          "Movie",
          "Movie",
          "TV Show",
          "Movie",
          "Movie",
          "Movie",
          "Movie",
          "Movie",
          "Movie",
          "TV Show",
          "Movie",
          "Movie",
          "Movie",
          "Movie",
          "Movie",
          "Movie",
          "Movie",
          "Movie",
          "Movie",
          "Movie",
          "Movie",
          "Movie",
          "Movie",
          "Movie",
          "Movie",
          "Movie",
          "Movie",
          "Movie",
          "Movie",
          "TV Show",
          "TV Show",
          "Movie",
          "Movie",
          "Movie",
          "Movie",
          "Movie",
          "Movie",
          "Movie",
          "Movie",
          "Movie",
          "Movie",
          "Movie",
          "Movie",
          "Movie",
          "Movie",
          "Movie",
          "Movie",
          "Movie",
          "Movie",
          "Movie",
          "Movie",
          "Movie",
          "Movie",
          "Movie",
          "Movie",
          "Movie",
          "Movie",
          "Movie",
          "Movie",
          "Movie",
          "Movie",
          "Movie",
          "Movie",
          "Movie",
          "Movie",
          "Movie",
          "Movie",
          "TV Show",
          "Movie",
          "Movie",
          "Movie",
          "Movie",
          "Movie",
          "Movie",
          "Movie",
          "TV Show",
          "Movie",
          "Movie",
          "Movie",
          "Movie",
          "Movie",
          "Movie",
          "Movie",
          "Movie",
          "Movie",
          "Movie",
          "Movie",
          "Movie",
          "Movie",
          "Movie",
          "Movie",
          "TV Show",
          "Movie",
          "Movie",
          "Movie",
          "Movie",
          "Movie",
          "Movie",
          "Movie",
          "Movie",
          "Movie",
          "Movie",
          "Movie",
          "Movie",
          "Movie",
          "Movie",
          "Movie",
          "Movie",
          "Movie",
          "Movie",
          "Movie",
          "Movie",
          "Movie",
          "Movie",
          "Movie",
          "Movie",
          "Movie",
          "Movie",
          "Movie",
          "Movie",
          "Movie",
          "Movie",
          "Movie",
          "Movie",
          "Movie",
          "Movie",
          "Movie",
          "Movie",
          "Movie",
          "Movie",
          "Movie",
          "Movie",
          "Movie",
          "Movie",
          "Movie",
          "Movie",
          "Movie",
          "Movie",
          "Movie",
          "Movie",
          "Movie",
          "Movie",
          "Movie",
          "Movie",
          "Movie",
          "Movie",
          "Movie",
          "Movie",
          "Movie",
          "Movie",
          "Movie",
          "Movie",
          "Movie",
          "Movie",
          "Movie",
          "Movie",
          "Movie",
          "Movie",
          "Movie",
          "Movie",
          "Movie",
          "Movie",
          "Movie",
          "TV Show",
          "Movie",
          "Movie",
          "Movie",
          "Movie",
          "Movie",
          "Movie",
          "Movie",
          "Movie",
          "Movie",
          "Movie",
          "Movie",
          "Movie",
          "Movie",
          "Movie",
          "Movie",
          "TV Show",
          "Movie",
          "Movie",
          "Movie",
          "Movie",
          "Movie",
          "Movie",
          "Movie",
          "Movie",
          "Movie",
          "Movie",
          "Movie",
          "Movie",
          "Movie",
          "Movie",
          "Movie",
          "Movie",
          "Movie",
          "TV Show",
          "Movie",
          "Movie",
          "Movie",
          "Movie",
          "Movie",
          "Movie",
          "Movie",
          "Movie",
          "TV Show",
          "Movie",
          "Movie",
          "Movie",
          "Movie",
          "Movie",
          "Movie",
          "Movie",
          "Movie",
          "TV Show",
          "Movie",
          "Movie",
          "Movie",
          "Movie",
          "Movie",
          "Movie",
          "Movie",
          "Movie",
          "Movie",
          "Movie",
          "TV Show",
          "Movie",
          "Movie",
          "Movie",
          "Movie",
          "Movie",
          "Movie",
          "Movie",
          "Movie",
          "Movie",
          "Movie",
          "Movie",
          "Movie",
          "Movie",
          "TV Show",
          "Movie",
          "Movie",
          "Movie",
          "Movie",
          "Movie",
          "Movie",
          "Movie",
          "Movie",
          "Movie",
          "Movie",
          "TV Show",
          "Movie",
          "Movie",
          "Movie",
          "Movie",
          "Movie",
          "Movie",
          "Movie",
          "Movie",
          "Movie",
          "Movie",
          "Movie",
          "Movie",
          "Movie",
          "Movie",
          "Movie",
          "Movie",
          "Movie",
          "TV Show",
          "Movie",
          "Movie",
          "Movie",
          "Movie",
          "Movie",
          "Movie",
          "Movie",
          "Movie",
          "Movie",
          "Movie",
          "Movie",
          "Movie",
          "Movie",
          "Movie",
          "Movie",
          "Movie",
          "Movie",
          "Movie",
          "Movie",
          "Movie",
          "Movie",
          "TV Show",
          "Movie",
          "Movie",
          "Movie",
          "Movie",
          "Movie",
          "Movie",
          "Movie",
          "Movie",
          "Movie",
          "Movie",
          "Movie",
          "Movie",
          "Movie",
          "Movie",
          "Movie",
          "Movie",
          "Movie",
          "Movie",
          "Movie",
          "Movie",
          "Movie",
          "Movie",
          "Movie",
          "Movie",
          "Movie",
          "Movie",
          "TV Show",
          "Movie",
          "Movie",
          "Movie",
          "Movie",
          "Movie",
          "Movie",
          "Movie",
          "Movie",
          "Movie",
          "Movie",
          "Movie",
          "Movie",
          "Movie",
          "Movie",
          "Movie",
          "Movie",
          "Movie",
          "Movie",
          "TV Show",
          "Movie",
          "Movie",
          "Movie",
          "Movie",
          "Movie",
          "Movie",
          "TV Show",
          "Movie",
          "Movie",
          "Movie",
          "Movie",
          "Movie",
          "Movie",
          "Movie",
          "Movie",
          "Movie",
          "Movie",
          "Movie",
          "Movie",
          "Movie",
          "Movie",
          "Movie",
          "Movie",
          "Movie",
          "Movie",
          "Movie",
          "Movie",
          "Movie",
          "Movie",
          "Movie",
          "Movie",
          "Movie",
          "TV Show",
          "Movie",
          "Movie",
          "Movie",
          "Movie",
          "Movie",
          "Movie",
          "Movie",
          "Movie",
          "Movie",
          "Movie",
          "Movie",
          "Movie",
          "Movie",
          "Movie",
          "Movie",
          "Movie",
          "Movie",
          "Movie",
          "Movie",
          "Movie",
          "Movie",
          "Movie",
          "Movie",
          "Movie",
          "Movie",
          "Movie",
          "Movie",
          "Movie",
          "Movie",
          "Movie",
          "Movie",
          "Movie",
          "Movie",
          "Movie",
          "Movie",
          "Movie",
          "Movie",
          "Movie",
          "Movie",
          "Movie",
          "Movie",
          "Movie",
          "Movie",
          "Movie",
          "Movie",
          "Movie",
          "Movie",
          "Movie",
          "Movie",
          "Movie",
          "Movie",
          "Movie",
          "Movie",
          "Movie",
          "Movie",
          "Movie",
          "Movie",
          "Movie",
          "Movie",
          "Movie",
          "Movie",
          "Movie",
          "Movie",
          "Movie",
          "Movie",
          "Movie",
          "Movie",
          "Movie",
          "Movie",
          "Movie",
          "Movie",
          "Movie",
          "Movie",
          "Movie",
          "Movie",
          "Movie",
          "Movie",
          "Movie",
          "Movie",
          "Movie",
          "Movie",
          "Movie",
          "Movie",
          "Movie",
          "Movie",
          "Movie",
          "Movie",
          "Movie",
          "Movie",
          "Movie",
          "Movie",
          "TV Show",
          "TV Show",
          "Movie",
          "Movie",
          "Movie",
          "Movie",
          "Movie",
          "Movie",
          "Movie",
          "Movie",
          "Movie",
          "Movie",
          "Movie",
          "Movie",
          "Movie",
          "Movie",
          "Movie",
          "Movie",
          "Movie",
          "Movie",
          "Movie",
          "Movie",
          "Movie",
          "Movie",
          "Movie",
          "Movie",
          "Movie",
          "Movie",
          "TV Show",
          "Movie",
          "Movie",
          "Movie",
          "Movie",
          "Movie",
          "Movie",
          "Movie",
          "Movie",
          "Movie",
          "Movie",
          "Movie",
          "Movie",
          "Movie",
          "Movie",
          "Movie",
          "Movie",
          "Movie",
          "Movie",
          "TV Show",
          "Movie",
          "Movie",
          "Movie",
          "Movie",
          "Movie",
          "TV Show",
          "Movie",
          "Movie",
          "Movie",
          "Movie",
          "Movie",
          "Movie",
          "Movie",
          "Movie",
          "Movie",
          "Movie",
          "Movie",
          "Movie",
          "TV Show",
          "TV Show",
          "Movie",
          "Movie",
          "Movie",
          "Movie",
          "Movie",
          "Movie",
          "Movie",
          "Movie",
          "Movie",
          "Movie",
          "Movie",
          "Movie",
          "Movie",
          "Movie",
          "Movie",
          "Movie",
          "Movie",
          "Movie",
          "Movie",
          "TV Show",
          "Movie",
          "Movie",
          "Movie",
          "Movie",
          "Movie",
          "Movie",
          "Movie",
          "Movie",
          "Movie",
          "Movie",
          "Movie",
          "Movie",
          "Movie",
          "Movie",
          "Movie",
          "Movie",
          "Movie",
          "Movie",
          "Movie",
          "Movie",
          "Movie",
          "TV Show",
          "TV Show",
          "Movie",
          "Movie",
          "Movie",
          "Movie",
          "Movie",
          "Movie",
          "TV Show",
          "TV Show",
          "TV Show",
          "Movie",
          "Movie",
          "Movie",
          "Movie",
          "Movie",
          "Movie",
          "Movie",
          "Movie",
          "Movie",
          "Movie",
          "Movie",
          "Movie",
          "Movie",
          "Movie",
          "Movie",
          "Movie",
          "Movie",
          "Movie",
          "Movie",
          "Movie",
          "Movie",
          "Movie",
          "Movie",
          "TV Show",
          "Movie",
          "Movie",
          "Movie",
          "Movie",
          "Movie",
          "Movie",
          "Movie",
          "Movie",
          "Movie",
          "Movie",
          "Movie",
          "Movie",
          "Movie",
          "Movie",
          "Movie",
          "Movie",
          "Movie",
          "Movie",
          "Movie",
          "Movie",
          "Movie",
          "TV Show",
          "Movie",
          "Movie",
          "Movie",
          "Movie",
          "Movie",
          "Movie",
          "Movie",
          "Movie",
          "Movie",
          "Movie",
          "Movie",
          "Movie",
          "Movie",
          "Movie",
          "Movie",
          "Movie",
          "Movie",
          "Movie",
          "Movie",
          "Movie",
          "Movie",
          "Movie",
          "Movie",
          "Movie",
          "Movie",
          "Movie",
          "Movie",
          "Movie",
          "Movie",
          "Movie",
          "Movie",
          "Movie",
          "Movie",
          "Movie",
          "Movie",
          "Movie",
          "Movie",
          "Movie",
          "Movie",
          "Movie",
          "Movie",
          "Movie",
          "Movie",
          "Movie",
          "Movie",
          "Movie",
          "Movie",
          "Movie",
          "Movie",
          "Movie",
          "Movie",
          "Movie",
          "Movie",
          "Movie",
          "Movie",
          "Movie",
          "Movie",
          "Movie",
          "TV Show",
          "Movie",
          "Movie",
          "Movie",
          "Movie",
          "Movie",
          "Movie",
          "Movie",
          "Movie",
          "Movie",
          "Movie",
          "Movie",
          "Movie",
          "Movie",
          "Movie",
          "Movie",
          "Movie",
          "Movie",
          "Movie",
          "Movie",
          "Movie",
          "Movie",
          "Movie",
          "Movie",
          "Movie",
          "Movie",
          "Movie",
          "Movie",
          "Movie",
          "Movie",
          "Movie",
          "Movie",
          "Movie",
          "Movie",
          "Movie",
          "Movie",
          "Movie",
          "TV Show",
          "Movie",
          "Movie",
          "Movie",
          "Movie",
          "Movie",
          "Movie",
          "Movie",
          "Movie",
          "Movie",
          "Movie",
          "Movie",
          "Movie",
          "Movie",
          "Movie",
          "Movie",
          "Movie",
          "Movie",
          "Movie",
          "Movie",
          "Movie",
          "Movie",
          "Movie",
          "Movie",
          "Movie",
          "Movie",
          "Movie",
          "Movie",
          "Movie",
          "Movie",
          "Movie",
          "Movie",
          "Movie",
          "Movie",
          "Movie",
          "Movie",
          "Movie",
          "Movie",
          "Movie",
          "Movie",
          "Movie",
          "Movie",
          "Movie",
          "Movie",
          "Movie",
          "Movie",
          "Movie",
          "Movie",
          "Movie",
          "Movie",
          "Movie",
          "Movie",
          "Movie",
          "Movie",
          "Movie",
          "Movie",
          "Movie",
          "Movie",
          "Movie",
          "Movie",
          "Movie",
          "Movie",
          "Movie",
          "Movie",
          "Movie",
          "Movie",
          "Movie",
          "Movie",
          "Movie",
          "Movie",
          "Movie",
          "Movie",
          "Movie",
          "Movie",
          "Movie",
          "Movie",
          "Movie",
          "Movie",
          "Movie",
          "Movie",
          "Movie",
          "Movie",
          "Movie",
          "Movie",
          "Movie",
          "Movie",
          "Movie",
          "Movie",
          "Movie",
          "Movie",
          "Movie",
          "Movie",
          "Movie",
          "Movie",
          "Movie",
          "Movie",
          "Movie",
          "Movie",
          "Movie",
          "Movie",
          "Movie",
          "Movie",
          "Movie",
          "Movie",
          "Movie",
          "TV Show",
          "Movie",
          "Movie",
          "Movie",
          "Movie",
          "Movie",
          "Movie",
          "Movie",
          "Movie",
          "Movie",
          "Movie",
          "Movie",
          "Movie",
          "Movie",
          "Movie",
          "Movie",
          "Movie",
          "Movie",
          "Movie",
          "Movie",
          "Movie",
          "Movie",
          "Movie",
          "Movie",
          "Movie",
          "Movie",
          "Movie",
          "Movie",
          "Movie",
          "Movie",
          "Movie",
          "Movie",
          "Movie",
          "Movie",
          "TV Show",
          "Movie",
          "Movie",
          "Movie",
          "Movie",
          "Movie",
          "Movie",
          "Movie",
          "Movie",
          "Movie",
          "Movie",
          "Movie",
          "Movie",
          "Movie",
          "Movie",
          "Movie",
          "Movie",
          "Movie",
          "Movie",
          "Movie",
          "Movie",
          "Movie",
          "Movie",
          "Movie",
          "Movie",
          "Movie",
          "Movie",
          "Movie",
          "Movie",
          "Movie",
          "Movie",
          "Movie",
          "Movie",
          "Movie",
          "Movie",
          "Movie",
          "Movie",
          "Movie",
          "Movie",
          "Movie",
          "Movie",
          "Movie",
          "Movie",
          "Movie",
          "Movie",
          "Movie",
          "Movie",
          "TV Show",
          "Movie",
          "Movie",
          "Movie",
          "Movie",
          "Movie",
          "Movie",
          "Movie",
          "Movie",
          "TV Show",
          "Movie",
          "Movie",
          "Movie",
          "Movie",
          "Movie",
          "Movie",
          "Movie",
          "Movie",
          "Movie",
          "Movie",
          "Movie",
          "Movie",
          "Movie",
          "Movie",
          "Movie",
          "Movie",
          "Movie",
          "Movie",
          "TV Show",
          "Movie",
          "Movie",
          "Movie",
          "Movie",
          "Movie",
          "Movie",
          "Movie",
          "Movie",
          "Movie",
          "Movie",
          "Movie",
          "Movie",
          "Movie",
          "Movie",
          "Movie",
          "Movie",
          "Movie",
          "Movie",
          "Movie",
          "Movie",
          "Movie",
          "Movie",
          "Movie",
          "Movie",
          "Movie",
          "Movie",
          "Movie",
          "Movie",
          "Movie",
          "Movie",
          "Movie",
          "Movie",
          "Movie",
          "Movie",
          "Movie",
          "Movie",
          "Movie",
          "Movie",
          "Movie",
          "Movie",
          "Movie",
          "Movie",
          "Movie",
          "Movie",
          "Movie",
          "Movie",
          "Movie",
          "Movie",
          "Movie",
          "Movie",
          "Movie",
          "Movie",
          "Movie",
          "Movie",
          "Movie",
          "Movie",
          "Movie",
          "Movie",
          "Movie",
          "Movie",
          "Movie",
          "Movie",
          "Movie",
          "Movie",
          "Movie",
          "Movie",
          "Movie",
          "Movie",
          "Movie",
          "Movie",
          "Movie",
          "Movie",
          "Movie",
          "Movie",
          "Movie",
          "Movie",
          "Movie",
          "Movie",
          "Movie",
          "Movie",
          "Movie",
          "Movie",
          "Movie",
          "Movie",
          "Movie",
          "Movie",
          "Movie",
          "Movie",
          "Movie",
          "Movie",
          "Movie",
          "Movie",
          "Movie",
          "Movie",
          "Movie",
          "Movie",
          "Movie",
          "Movie",
          "Movie",
          "Movie",
          "Movie",
          "Movie",
          "Movie",
          "Movie",
          "Movie",
          "Movie",
          "Movie",
          "Movie",
          "Movie",
          "Movie",
          "Movie",
          "Movie",
          "Movie",
          "Movie",
          "Movie",
          "Movie",
          "Movie",
          "Movie",
          "Movie",
          "Movie",
          "Movie",
          "Movie",
          "Movie",
          "Movie",
          "Movie",
          "Movie",
          "Movie",
          "Movie",
          "Movie",
          "Movie",
          "Movie",
          "Movie",
          "Movie",
          "Movie",
          "Movie",
          "Movie",
          "Movie",
          "Movie",
          "Movie",
          "Movie",
          "Movie",
          "Movie",
          "Movie",
          "Movie",
          "Movie",
          "Movie",
          "Movie",
          "Movie",
          "Movie",
          "Movie",
          "Movie",
          "Movie",
          "Movie",
          "Movie",
          "Movie",
          "Movie",
          "Movie",
          "Movie",
          "Movie",
          "Movie",
          "Movie",
          "Movie",
          "Movie",
          "Movie",
          "Movie",
          "Movie",
          "Movie",
          "Movie",
          "Movie",
          "Movie",
          "Movie",
          "Movie",
          "Movie",
          "Movie",
          "Movie",
          "Movie",
          "Movie",
          "Movie",
          "Movie",
          "Movie",
          "Movie",
          "Movie",
          "Movie",
          "Movie",
          "Movie",
          "Movie",
          "Movie",
          "Movie",
          "Movie",
          "Movie",
          "Movie",
          "Movie",
          "Movie",
          "Movie",
          "Movie",
          "Movie",
          "Movie",
          "Movie",
          "Movie",
          "Movie",
          "Movie",
          "Movie",
          "Movie",
          "Movie",
          "Movie",
          "Movie",
          "Movie",
          "Movie",
          "Movie",
          "TV Show",
          "Movie",
          "Movie",
          "Movie",
          "Movie",
          "Movie",
          "Movie",
          "Movie",
          "Movie",
          "Movie",
          "Movie",
          "Movie",
          "TV Show",
          "Movie",
          "TV Show",
          "Movie",
          "Movie",
          "Movie",
          "Movie",
          "Movie",
          "Movie",
          "Movie",
          "Movie",
          "Movie",
          "Movie",
          "Movie",
          "Movie",
          "Movie",
          "Movie",
          "Movie",
          "Movie",
          "Movie",
          "Movie",
          "Movie",
          "Movie",
          "Movie",
          "Movie",
          "Movie",
          "Movie",
          "Movie",
          "Movie",
          "Movie",
          "Movie",
          "Movie",
          "Movie",
          "Movie",
          "Movie",
          "Movie",
          "Movie",
          "Movie",
          "Movie",
          "Movie",
          "Movie",
          "Movie",
          "Movie",
          "Movie",
          "Movie",
          "Movie",
          "Movie",
          "Movie",
          "Movie",
          "Movie",
          "Movie",
          "Movie",
          "Movie",
          "Movie",
          "Movie",
          "Movie",
          "Movie",
          "Movie",
          "Movie",
          "Movie",
          "TV Show",
          "Movie",
          "Movie",
          "Movie",
          "Movie",
          "Movie",
          "Movie",
          "Movie",
          "Movie",
          "Movie",
          "Movie",
          "Movie",
          "Movie",
          "Movie",
          "Movie",
          "Movie",
          "Movie",
          "Movie",
          "Movie",
          "Movie",
          "Movie",
          "Movie",
          "Movie",
          "Movie",
          "Movie",
          "Movie",
          "Movie",
          "Movie",
          "Movie",
          "Movie",
          "Movie",
          "Movie",
          "Movie",
          "Movie",
          "Movie",
          "Movie",
          "Movie",
          "Movie",
          "Movie",
          "Movie",
          "Movie",
          "Movie",
          "Movie",
          "Movie",
          "Movie",
          "Movie",
          "Movie",
          "Movie",
          "Movie",
          "Movie",
          "Movie",
          "Movie",
          "Movie",
          "Movie",
          "Movie",
          "Movie",
          "Movie",
          "Movie",
          "Movie",
          "Movie",
          "Movie",
          "Movie",
          "Movie",
          "Movie",
          "Movie",
          "Movie",
          "Movie",
          "Movie",
          "Movie",
          "Movie",
          "Movie",
          "Movie",
          "Movie",
          "Movie",
          "Movie",
          "Movie",
          "Movie",
          "Movie",
          "Movie",
          "Movie",
          "Movie",
          "Movie",
          "Movie",
          "Movie",
          "Movie",
          "Movie",
          "Movie",
          "Movie",
          "Movie",
          "Movie",
          "Movie",
          "Movie",
          "Movie",
          "Movie",
          "Movie",
          "Movie",
          "Movie",
          "Movie",
          "Movie",
          "Movie",
          "Movie",
          "Movie",
          "Movie",
          "Movie",
          "Movie",
          "Movie",
          "Movie",
          "Movie",
          "Movie",
          "Movie",
          "Movie",
          "Movie",
          "Movie",
          "Movie",
          "Movie",
          "Movie",
          "Movie",
          "Movie",
          "Movie",
          "Movie",
          "Movie",
          "Movie",
          "Movie",
          "TV Show",
          "Movie",
          "Movie",
          "Movie",
          "Movie",
          "Movie",
          "Movie",
          "Movie",
          "Movie",
          "Movie",
          "Movie",
          "Movie",
          "Movie",
          "Movie",
          "TV Show",
          "Movie",
          "Movie",
          "Movie",
          "Movie",
          "Movie",
          "Movie",
          "Movie",
          "Movie",
          "Movie",
          "Movie",
          "Movie",
          "Movie",
          "Movie",
          "Movie",
          "Movie",
          "Movie",
          "Movie",
          "Movie",
          "Movie",
          "Movie",
          "Movie",
          "Movie",
          "Movie",
          "Movie",
          "Movie",
          "Movie",
          "Movie",
          "Movie",
          "Movie",
          "Movie",
          "Movie",
          "Movie",
          "Movie",
          "Movie",
          "Movie",
          "Movie",
          "Movie",
          "Movie",
          "Movie",
          "Movie",
          "Movie",
          "Movie",
          "Movie",
          "Movie",
          "Movie",
          "Movie",
          "Movie",
          "Movie",
          "Movie",
          "Movie",
          "Movie",
          "Movie",
          "Movie",
          "TV Show",
          "Movie",
          "Movie",
          "Movie",
          "Movie",
          "Movie",
          "Movie",
          "Movie",
          "Movie",
          "TV Show",
          "Movie",
          "TV Show",
          "TV Show",
          "Movie",
          "Movie",
          "Movie",
          "Movie",
          "Movie",
          "Movie",
          "Movie",
          "TV Show",
          "Movie",
          "Movie",
          "Movie",
          "Movie",
          "Movie",
          "Movie",
          "Movie",
          "Movie",
          "Movie",
          "Movie",
          "Movie",
          "Movie",
          "Movie",
          "Movie",
          "Movie",
          "Movie",
          "Movie",
          "Movie",
          "Movie",
          "Movie",
          "TV Show",
          "Movie",
          "Movie",
          "Movie",
          "Movie",
          "Movie",
          "Movie",
          "Movie",
          "Movie",
          "Movie",
          "Movie",
          "Movie",
          "Movie",
          "Movie",
          "TV Show",
          "Movie",
          "Movie",
          "Movie",
          "Movie",
          "Movie",
          "Movie",
          "Movie",
          "Movie",
          "Movie",
          "Movie",
          "Movie",
          "Movie",
          "Movie",
          "Movie",
          "Movie",
          "Movie",
          "Movie",
          "Movie",
          "Movie",
          "Movie",
          "Movie",
          "Movie",
          "Movie",
          "Movie",
          "Movie",
          "Movie",
          "Movie",
          "Movie",
          "Movie",
          "Movie",
          "Movie",
          "Movie",
          "Movie",
          "Movie",
          "Movie",
          "Movie",
          "Movie",
          "Movie",
          "Movie",
          "Movie",
          "Movie",
          "Movie",
          "Movie",
          "Movie",
          "Movie",
          "Movie",
          "Movie",
          "Movie",
          "Movie",
          "Movie",
          "Movie",
          "Movie",
          "Movie",
          "Movie",
          "Movie",
          "Movie",
          "Movie",
          "Movie",
          "Movie",
          "Movie",
          "Movie",
          "Movie",
          "Movie",
          "Movie",
          "Movie",
          "Movie",
          "Movie",
          "Movie",
          "Movie",
          "Movie",
          "Movie",
          "Movie",
          "Movie",
          "Movie",
          "Movie",
          "Movie",
          "Movie",
          "Movie",
          "Movie",
          "Movie",
          "Movie",
          "Movie",
          "Movie",
          "Movie",
          "Movie",
          "Movie",
          "Movie",
          "Movie",
          "Movie",
          "Movie",
          "Movie",
          "Movie",
          "Movie",
          "Movie",
          "Movie",
          "Movie",
          "Movie",
          "Movie",
          "Movie",
          "Movie",
          "Movie",
          "Movie",
          "Movie",
          "Movie",
          "Movie",
          "Movie",
          "TV Show",
          "Movie",
          "Movie",
          "Movie",
          "Movie",
          "Movie",
          "Movie",
          "TV Show",
          "Movie",
          "Movie",
          "TV Show",
          "Movie",
          "Movie",
          "Movie",
          "Movie",
          "Movie",
          "Movie",
          "Movie",
          "Movie",
          "Movie",
          "Movie",
          "Movie",
          "Movie",
          "Movie",
          "Movie",
          "Movie",
          "Movie",
          "TV Show",
          "Movie",
          "Movie",
          "Movie",
          "Movie",
          "TV Show",
          "Movie",
          "Movie",
          "Movie",
          "Movie",
          "Movie",
          "Movie",
          "Movie",
          "Movie",
          "Movie",
          "Movie",
          "Movie",
          "Movie",
          "Movie",
          "Movie",
          "Movie",
          "Movie",
          "Movie",
          "Movie",
          "Movie",
          "Movie",
          "Movie",
          "Movie",
          "Movie",
          "Movie",
          "Movie",
          "Movie",
          "Movie",
          "Movie",
          "Movie",
          "Movie",
          "Movie",
          "Movie",
          "Movie",
          "Movie",
          "Movie",
          "Movie",
          "Movie",
          "Movie",
          "Movie",
          "Movie",
          "Movie",
          "Movie",
          "Movie",
          "Movie",
          "Movie",
          "Movie",
          "Movie",
          "Movie",
          "Movie",
          "Movie",
          "Movie",
          "Movie",
          "Movie",
          "Movie",
          "Movie",
          "Movie",
          "Movie",
          "Movie",
          "Movie",
          "Movie",
          "Movie",
          "Movie",
          "Movie",
          "Movie",
          "Movie",
          "Movie",
          "Movie",
          "Movie",
          "Movie",
          "Movie",
          "Movie",
          "Movie",
          "Movie",
          "Movie",
          "Movie",
          "Movie",
          "Movie",
          "Movie",
          "Movie",
          "Movie",
          "Movie",
          "TV Show",
          "Movie",
          "Movie",
          "Movie",
          "Movie",
          "Movie",
          "TV Show",
          "Movie",
          "Movie",
          "Movie",
          "Movie",
          "Movie",
          "Movie",
          "Movie",
          "Movie",
          "Movie",
          "Movie",
          "Movie",
          "Movie",
          "Movie",
          "Movie",
          "Movie",
          "Movie",
          "Movie",
          "Movie",
          "Movie",
          "Movie",
          "Movie",
          "Movie",
          "Movie",
          "Movie",
          "Movie",
          "Movie",
          "Movie",
          "Movie",
          "Movie",
          "Movie",
          "Movie",
          "Movie",
          "Movie",
          "Movie",
          "Movie",
          "Movie",
          "Movie",
          "Movie",
          "Movie",
          "Movie",
          "Movie",
          "Movie",
          "Movie",
          "Movie",
          "Movie",
          "Movie",
          "Movie",
          "Movie",
          "Movie",
          "Movie",
          "Movie",
          "Movie",
          "Movie",
          "Movie",
          "Movie",
          "Movie",
          "Movie",
          "Movie",
          "Movie",
          "Movie",
          "Movie",
          "Movie",
          "Movie",
          "Movie",
          "Movie",
          "Movie",
          "Movie",
          "Movie",
          "Movie",
          "Movie",
          "Movie",
          "Movie",
          "Movie",
          "Movie",
          "Movie",
          "TV Show",
          "Movie",
          "Movie",
          "Movie",
          "Movie",
          "Movie",
          "Movie",
          "Movie",
          "Movie",
          "Movie",
          "Movie",
          "Movie",
          "Movie",
          "Movie",
          "Movie",
          "Movie",
          "Movie",
          "Movie",
          "Movie",
          "Movie",
          "Movie",
          "Movie",
          "Movie",
          "Movie",
          "Movie",
          "Movie",
          "Movie",
          "Movie",
          "Movie",
          "Movie",
          "Movie",
          "Movie",
          "Movie",
          "Movie",
          "Movie",
          "Movie",
          "Movie",
          "Movie",
          "Movie",
          "Movie",
          "Movie",
          "Movie",
          "Movie",
          "Movie",
          "Movie",
          "Movie",
          "Movie",
          "Movie",
          "Movie",
          "Movie",
          "Movie",
          "Movie",
          "Movie",
          "Movie",
          "Movie",
          "Movie",
          "Movie",
          "Movie",
          "Movie",
          "Movie",
          "Movie",
          "TV Show",
          "Movie",
          "Movie",
          "Movie",
          "Movie",
          "Movie",
          "Movie",
          "Movie",
          "Movie",
          "Movie",
          "Movie",
          "Movie",
          "Movie",
          "Movie",
          "Movie",
          "Movie",
          "Movie",
          "Movie",
          "Movie",
          "Movie",
          "Movie",
          "Movie",
          "Movie",
          "Movie",
          "Movie",
          "TV Show",
          "Movie",
          "Movie",
          "Movie",
          "Movie",
          "Movie",
          "Movie",
          "Movie",
          "Movie",
          "Movie",
          "Movie",
          "Movie",
          "Movie",
          "Movie",
          "Movie",
          "Movie",
          "Movie",
          "Movie",
          "Movie",
          "Movie",
          "Movie",
          "Movie",
          "Movie",
          "Movie",
          "Movie",
          "Movie",
          "Movie",
          "Movie",
          "Movie",
          "Movie",
          "Movie",
          "Movie",
          "Movie",
          "TV Show",
          "Movie",
          "Movie",
          "Movie",
          "Movie",
          "Movie",
          "Movie",
          "Movie",
          "Movie",
          "Movie",
          "Movie",
          "Movie",
          "Movie",
          "Movie",
          "Movie",
          "Movie",
          "Movie",
          "Movie",
          "Movie",
          "Movie",
          "Movie",
          "Movie",
          "Movie",
          "Movie",
          "Movie",
          "Movie",
          "Movie",
          "Movie",
          "Movie",
          "Movie",
          "Movie",
          "Movie",
          "Movie",
          "Movie",
          "Movie",
          "Movie",
          "Movie",
          "Movie",
          "Movie",
          "Movie",
          "Movie",
          "Movie",
          "Movie",
          "Movie",
          "Movie",
          "Movie",
          "Movie",
          "Movie",
          "Movie",
          "Movie",
          "Movie",
          "Movie",
          "Movie",
          "Movie",
          "Movie",
          "Movie",
          "Movie",
          "Movie",
          "Movie",
          "Movie",
          "Movie",
          "Movie",
          "Movie",
          "Movie",
          "Movie",
          "Movie",
          "Movie",
          "Movie",
          "Movie",
          "Movie",
          "Movie",
          "Movie",
          "Movie",
          "Movie",
          "Movie",
          "Movie",
          "Movie",
          "Movie",
          "Movie",
          "Movie",
          "Movie",
          "Movie",
          "Movie",
          "Movie",
          "Movie",
          "Movie",
          "Movie",
          "Movie",
          "Movie",
          "Movie",
          "Movie",
          "Movie",
          "Movie",
          "Movie",
          "Movie",
          "Movie",
          "Movie",
          "Movie",
          "Movie",
          "Movie",
          "TV Show",
          "Movie",
          "Movie",
          "Movie",
          "Movie",
          "Movie",
          "Movie",
          "Movie",
          "Movie",
          "Movie",
          "Movie",
          "Movie",
          "Movie",
          "Movie",
          "Movie",
          "Movie",
          "Movie",
          "Movie",
          "Movie",
          "Movie",
          "Movie",
          "Movie",
          "Movie",
          "Movie",
          "Movie",
          "Movie",
          "Movie",
          "Movie",
          "Movie",
          "Movie",
          "Movie",
          "Movie",
          "Movie",
          "Movie",
          "Movie",
          "Movie",
          "Movie",
          "Movie",
          "Movie",
          "Movie",
          "Movie",
          "Movie",
          "Movie",
          "TV Show",
          "Movie",
          "Movie",
          "Movie",
          "Movie",
          "Movie",
          "Movie",
          "Movie",
          "Movie",
          "Movie",
          "Movie",
          "Movie",
          "Movie",
          "Movie",
          "Movie",
          "Movie",
          "Movie",
          "Movie",
          "Movie",
          "Movie",
          "Movie",
          "Movie",
          "Movie",
          "Movie",
          "Movie",
          "Movie",
          "Movie",
          "Movie",
          "Movie",
          "Movie",
          "Movie",
          "Movie",
          "Movie",
          "Movie",
          "Movie",
          "Movie",
          "Movie",
          "Movie",
          "Movie",
          "Movie",
          "Movie",
          "Movie",
          "Movie",
          "Movie",
          "Movie",
          "Movie",
          "Movie",
          "Movie",
          "Movie",
          "Movie",
          "Movie",
          "Movie",
          "Movie",
          "Movie",
          "Movie",
          "Movie",
          "Movie",
          "Movie",
          "Movie",
          "Movie",
          "Movie",
          "Movie",
          "Movie",
          "Movie",
          "Movie",
          "Movie",
          "Movie",
          "Movie",
          "Movie",
          "Movie",
          "Movie",
          "Movie",
          "Movie",
          "Movie",
          "Movie",
          "Movie",
          "Movie",
          "Movie",
          "Movie",
          "Movie",
          "Movie",
          "Movie",
          "Movie",
          "Movie",
          "Movie",
          "Movie",
          "Movie",
          "Movie",
          "Movie",
          "Movie",
          "Movie",
          "Movie",
          "Movie",
          "Movie",
          "Movie",
          "Movie",
          "Movie",
          "Movie",
          "Movie",
          "Movie",
          "Movie",
          "Movie",
          "Movie",
          "Movie",
          "Movie",
          "Movie",
          "Movie",
          "Movie",
          "Movie",
          "Movie",
          "Movie",
          "Movie",
          "Movie",
          "Movie",
          "Movie",
          "Movie",
          "Movie",
          "Movie",
          "Movie",
          "Movie",
          "Movie",
          "Movie",
          "Movie",
          "Movie",
          "Movie",
          "Movie",
          "Movie",
          "Movie",
          "Movie",
          "Movie",
          "Movie",
          "Movie",
          "Movie",
          "Movie",
          "Movie",
          "Movie",
          "Movie",
          "Movie",
          "Movie",
          "Movie",
          "Movie",
          "Movie",
          "Movie",
          "Movie",
          "Movie",
          "Movie",
          "Movie",
          "Movie",
          "Movie",
          "Movie",
          "Movie",
          "Movie",
          "Movie",
          "Movie",
          "Movie",
          "Movie",
          "Movie",
          "Movie",
          "Movie",
          "Movie",
          "Movie",
          "Movie",
          "Movie",
          "Movie",
          "Movie",
          "Movie",
          "Movie",
          "Movie",
          "Movie",
          "Movie",
          "Movie",
          "Movie",
          "Movie",
          "Movie",
          "Movie",
          "Movie",
          "Movie",
          "Movie",
          "Movie",
          "Movie",
          "Movie",
          "TV Show",
          "Movie",
          "Movie",
          "Movie",
          "Movie",
          "Movie",
          "Movie",
          "Movie",
          "Movie",
          "Movie",
          "Movie",
          "Movie",
          "Movie",
          "Movie",
          "Movie",
          "Movie",
          "Movie",
          "Movie",
          "Movie",
          "Movie",
          "Movie",
          "Movie",
          "Movie",
          "Movie",
          "Movie",
          "Movie",
          "Movie",
          "Movie",
          "Movie",
          "Movie",
          "Movie",
          "Movie",
          "Movie",
          "Movie",
          "Movie",
          "Movie",
          "Movie",
          "Movie",
          "Movie",
          "TV Show",
          "Movie",
          "Movie",
          "Movie",
          "Movie",
          "Movie",
          "Movie",
          "Movie",
          "Movie",
          "Movie",
          "Movie",
          "Movie",
          "Movie",
          "Movie",
          "Movie",
          "Movie",
          "Movie",
          "Movie",
          "Movie",
          "Movie",
          "Movie",
          "Movie",
          "Movie",
          "TV Show",
          "Movie",
          "Movie",
          "Movie",
          "Movie",
          "Movie",
          "Movie",
          "Movie",
          "Movie",
          "Movie",
          "Movie",
          "Movie",
          "Movie",
          "Movie",
          "Movie",
          "Movie",
          "Movie",
          "Movie",
          "Movie",
          "Movie",
          "Movie",
          "Movie",
          "Movie",
          "Movie",
          "Movie",
          "Movie",
          "Movie",
          "Movie",
          "Movie",
          "Movie",
          "Movie",
          "Movie",
          "Movie",
          "Movie",
          "Movie",
          "Movie",
          "Movie",
          "Movie",
          "Movie",
          "Movie",
          "Movie",
          "Movie",
          "Movie",
          "Movie",
          "Movie",
          "Movie",
          "Movie",
          "Movie",
          "Movie",
          "Movie",
          "Movie",
          "Movie",
          "Movie",
          "Movie",
          "Movie",
          "Movie",
          "Movie",
          "Movie",
          "Movie",
          "Movie",
          "Movie",
          "Movie",
          "Movie",
          "Movie",
          "Movie",
          "Movie",
          "Movie",
          "Movie",
          "Movie",
          "Movie",
          "Movie",
          "Movie",
          "Movie",
          "Movie",
          "Movie",
          "Movie",
          "Movie",
          "Movie",
          "Movie",
          "Movie",
          "Movie",
          "Movie",
          "Movie",
          "Movie",
          "Movie",
          "Movie",
          "Movie",
          "Movie",
          "Movie",
          "Movie",
          "Movie",
          "Movie",
          "Movie",
          "Movie",
          "Movie",
          "Movie",
          "Movie",
          "Movie",
          "Movie",
          "Movie",
          "Movie",
          "Movie",
          "Movie",
          "Movie",
          "Movie",
          "Movie",
          "Movie",
          "Movie",
          "Movie",
          "Movie",
          "Movie",
          "Movie",
          "Movie",
          "Movie",
          "Movie",
          "Movie",
          "Movie",
          "Movie",
          "Movie",
          "Movie",
          "Movie",
          "Movie",
          "Movie",
          "Movie",
          "Movie",
          "Movie",
          "Movie",
          "Movie",
          "Movie",
          "Movie",
          "Movie",
          "Movie",
          "Movie",
          "Movie",
          "Movie",
          "Movie",
          "Movie",
          "Movie",
          "Movie",
          "Movie",
          "Movie",
          "Movie",
          "Movie",
          "Movie",
          "Movie",
          "Movie",
          "Movie",
          "Movie",
          "Movie",
          "Movie",
          "Movie",
          "Movie",
          "Movie",
          "Movie",
          "Movie",
          "Movie",
          "Movie",
          "Movie",
          "Movie",
          "Movie",
          "Movie",
          "Movie",
          "Movie",
          "Movie",
          "Movie",
          "Movie",
          "Movie",
          "Movie",
          "Movie",
          "Movie",
          "Movie",
          "Movie",
          "Movie",
          "Movie",
          "Movie",
          "Movie",
          "Movie",
          "Movie",
          "Movie",
          "Movie",
          "Movie",
          "Movie",
          "Movie",
          "Movie",
          "Movie",
          "Movie",
          "Movie",
          "Movie",
          "Movie",
          "Movie",
          "Movie",
          "Movie",
          "Movie",
          "Movie",
          "Movie",
          "Movie",
          "Movie",
          "Movie",
          "Movie",
          "Movie",
          "Movie",
          "Movie",
          "Movie",
          "Movie",
          "Movie",
          "Movie",
          "Movie",
          "Movie",
          "Movie",
          "Movie",
          "Movie",
          "Movie",
          "Movie",
          "Movie",
          "Movie",
          "Movie",
          "Movie",
          "Movie",
          "Movie",
          "Movie",
          "Movie",
          "Movie",
          "Movie",
          "Movie",
          "Movie",
          "Movie",
          "Movie",
          "Movie",
          "Movie",
          "Movie",
          "Movie",
          "Movie",
          "TV Show",
          "Movie",
          "Movie",
          "Movie",
          "Movie",
          "Movie",
          "Movie",
          "Movie",
          "Movie",
          "Movie",
          "Movie",
          "Movie",
          "Movie",
          "Movie",
          "Movie",
          "Movie",
          "Movie",
          "Movie",
          "Movie",
          "Movie",
          "Movie",
          "Movie",
          "Movie",
          "Movie",
          "Movie",
          "Movie",
          "Movie",
          "Movie",
          "Movie",
          "Movie",
          "Movie",
          "Movie",
          "Movie",
          "Movie",
          "Movie",
          "Movie",
          "Movie",
          "Movie",
          "Movie",
          "Movie",
          "Movie",
          "Movie",
          "Movie",
          "Movie",
          "Movie",
          "Movie",
          "Movie",
          "TV Show",
          "Movie",
          "Movie",
          "Movie",
          "Movie",
          "Movie",
          "Movie",
          "Movie",
          "Movie",
          "Movie",
          "Movie",
          "Movie",
          "Movie",
          "Movie",
          "Movie",
          "Movie",
          "TV Show",
          "Movie",
          "Movie",
          "Movie",
          "Movie",
          "Movie",
          "Movie",
          "Movie",
          "Movie",
          "Movie",
          "Movie",
          "Movie",
          "Movie",
          "Movie",
          "Movie",
          "Movie",
          "Movie",
          "Movie",
          "Movie",
          "Movie",
          "Movie",
          "Movie",
          "Movie",
          "Movie",
          "Movie",
          "Movie",
          "Movie",
          "Movie",
          "TV Show",
          "Movie",
          "Movie",
          "Movie",
          "Movie",
          "Movie",
          "Movie",
          "Movie",
          "Movie",
          "Movie",
          "Movie",
          "Movie",
          "Movie",
          "Movie",
          "Movie",
          "Movie",
          "Movie",
          "Movie",
          "Movie",
          "Movie",
          "Movie",
          "Movie",
          "Movie",
          "Movie",
          "Movie",
          "Movie",
          "Movie",
          "Movie",
          "Movie",
          "Movie",
          "Movie",
          "Movie",
          "Movie",
          "Movie",
          "Movie",
          "Movie",
          "Movie",
          "Movie",
          "Movie",
          "Movie",
          "Movie",
          "Movie",
          "Movie",
          "Movie",
          "Movie",
          "Movie",
          "Movie",
          "Movie",
          "Movie",
          "Movie",
          "Movie",
          "Movie",
          "Movie",
          "Movie",
          "Movie",
          "Movie",
          "Movie",
          "Movie",
          "Movie",
          "Movie",
          "Movie",
          "Movie",
          "Movie",
          "Movie",
          "Movie",
          "Movie",
          "Movie",
          "Movie",
          "Movie",
          "Movie",
          "Movie",
          "Movie",
          "Movie",
          "Movie",
          "Movie",
          "Movie",
          "Movie",
          "Movie",
          "Movie",
          "Movie",
          "Movie",
          "Movie",
          "Movie",
          "Movie",
          "Movie",
          "Movie",
          "Movie",
          "Movie",
          "Movie",
          "Movie",
          "Movie",
          "Movie",
          "Movie",
          "Movie",
          "Movie",
          "Movie",
          "Movie",
          "Movie",
          "Movie",
          "Movie",
          "Movie",
          "Movie",
          "Movie",
          "Movie",
          "Movie",
          "Movie",
          "Movie",
          "Movie",
          "Movie",
          "Movie",
          "Movie",
          "Movie",
          "Movie",
          "Movie",
          "Movie",
          "Movie",
          "Movie",
          "Movie",
          "Movie",
          "Movie",
          "Movie",
          "Movie",
          "Movie",
          "Movie",
          "Movie",
          "Movie",
          "Movie",
          "Movie",
          "Movie",
          "Movie",
          "Movie",
          "Movie",
          "Movie",
          "Movie",
          "Movie",
          "Movie",
          "Movie",
          "Movie",
          "Movie",
          "Movie",
          "Movie",
          "Movie",
          "Movie",
          "Movie",
          "Movie",
          "Movie",
          "Movie",
          "Movie",
          "Movie",
          "Movie",
          "Movie",
          "Movie",
          "Movie",
          "Movie",
          "Movie",
          "Movie",
          "Movie",
          "Movie",
          "Movie",
          "Movie",
          "Movie",
          "Movie",
          "Movie",
          "Movie",
          "Movie",
          "Movie",
          "Movie",
          "Movie",
          "TV Show",
          "Movie",
          "Movie",
          "Movie",
          "Movie",
          "Movie",
          "Movie",
          "Movie",
          "Movie",
          "Movie",
          "Movie",
          "Movie",
          "Movie",
          "Movie",
          "Movie",
          "Movie",
          "Movie",
          "Movie",
          "TV Show",
          "Movie",
          "Movie",
          "Movie",
          "Movie",
          "Movie",
          "Movie",
          "Movie",
          "Movie",
          "Movie",
          "Movie",
          "Movie",
          "Movie",
          "Movie",
          "Movie",
          "Movie",
          "Movie",
          "Movie",
          "Movie",
          "Movie",
          "Movie",
          "Movie",
          "Movie",
          "Movie",
          "Movie",
          "Movie",
          "Movie",
          "Movie",
          "TV Show",
          "Movie",
          "Movie",
          "Movie",
          "Movie",
          "Movie",
          "Movie",
          "Movie",
          "Movie",
          "Movie",
          "Movie",
          "Movie",
          "Movie",
          "Movie",
          "Movie",
          "Movie",
          "Movie",
          "Movie",
          "Movie",
          "Movie",
          "Movie",
          "Movie",
          "Movie",
          "Movie",
          "Movie",
          "Movie",
          "Movie",
          "Movie",
          "Movie",
          "Movie",
          "Movie",
          "Movie",
          "Movie",
          "Movie",
          "Movie",
          "Movie",
          "Movie",
          "Movie",
          "Movie",
          "Movie",
          "Movie",
          "Movie",
          "Movie",
          "Movie",
          "Movie",
          "Movie",
          "Movie",
          "Movie",
          "Movie",
          "Movie",
          "Movie",
          "Movie",
          "Movie",
          "Movie",
          "Movie",
          "Movie",
          "TV Show",
          "Movie",
          "Movie",
          "Movie",
          "Movie",
          "Movie",
          "Movie",
          "Movie",
          "Movie",
          "Movie",
          "Movie",
          "Movie",
          "Movie",
          "Movie",
          "Movie",
          "Movie",
          "Movie",
          "Movie",
          "Movie",
          "Movie",
          "Movie",
          "TV Show",
          "Movie",
          "Movie",
          "TV Show",
          "Movie",
          "Movie",
          "Movie",
          "Movie",
          "Movie",
          "Movie",
          "Movie",
          "Movie",
          "Movie",
          "Movie",
          "Movie",
          "Movie",
          "Movie",
          "Movie",
          "Movie",
          "Movie",
          "Movie",
          "Movie",
          "Movie",
          "Movie",
          "Movie",
          "Movie",
          "Movie",
          "TV Show",
          "Movie",
          "Movie",
          "Movie",
          "Movie",
          "Movie",
          "Movie",
          "Movie",
          "Movie",
          "Movie",
          "Movie",
          "Movie",
          "Movie",
          "Movie",
          "Movie",
          "Movie",
          "Movie",
          "Movie",
          "Movie",
          "Movie",
          "Movie",
          "Movie",
          "Movie",
          "Movie",
          "Movie",
          "Movie",
          "Movie",
          "Movie",
          "Movie",
          "Movie",
          "TV Show",
          "Movie",
          "Movie",
          "Movie",
          "Movie",
          "Movie",
          "Movie",
          "Movie",
          "Movie",
          "Movie",
          "Movie",
          "Movie",
          "Movie",
          "Movie",
          "Movie",
          "Movie",
          "Movie",
          "Movie",
          "Movie",
          "Movie",
          "Movie",
          "Movie",
          "Movie",
          "Movie",
          "TV Show",
          "Movie",
          "Movie",
          "Movie",
          "Movie",
          "Movie",
          "Movie",
          "Movie",
          "Movie",
          "Movie",
          "Movie",
          "Movie",
          "Movie",
          "Movie",
          "Movie",
          "Movie",
          "Movie",
          "Movie",
          "Movie",
          "Movie",
          "Movie",
          "Movie",
          "Movie",
          "Movie",
          "Movie",
          "Movie",
          "Movie",
          "Movie",
          "Movie",
          "Movie",
          "Movie",
          "Movie",
          "Movie",
          "Movie",
          "Movie",
          "Movie",
          "Movie",
          "Movie",
          "Movie",
          "Movie",
          "Movie",
          "Movie",
          "Movie",
          "Movie",
          "Movie",
          "Movie",
          "Movie",
          "Movie",
          "Movie",
          "Movie",
          "Movie",
          "Movie",
          "Movie",
          "Movie",
          "Movie",
          "Movie",
          "Movie",
          "Movie",
          "Movie",
          "Movie",
          "Movie",
          "Movie",
          "Movie",
          "Movie",
          "Movie",
          "Movie",
          "Movie",
          "Movie",
          "Movie",
          "Movie",
          "Movie",
          "Movie",
          "Movie",
          "Movie",
          "Movie",
          "Movie",
          "Movie",
          "Movie",
          "Movie",
          "Movie",
          "Movie",
          "Movie",
          "Movie",
          "Movie",
          "Movie",
          "Movie",
          "Movie",
          "Movie",
          "Movie",
          "Movie",
          "Movie",
          "Movie",
          "Movie",
          "Movie",
          "Movie",
          "Movie",
          "Movie",
          "Movie",
          "Movie",
          "Movie",
          "Movie",
          "Movie",
          "Movie",
          "Movie",
          "Movie",
          "Movie",
          "Movie",
          "Movie",
          "Movie",
          "Movie",
          "Movie",
          "Movie",
          "Movie",
          "Movie",
          "Movie",
          "Movie",
          "Movie",
          "Movie",
          "Movie",
          "Movie",
          "Movie",
          "Movie",
          "Movie",
          "Movie",
          "Movie",
          "Movie",
          "Movie",
          "Movie",
          "Movie",
          "Movie",
          "Movie",
          "Movie",
          "Movie",
          "Movie",
          "Movie",
          "Movie",
          "Movie",
          "Movie",
          "Movie",
          "Movie",
          "Movie",
          "Movie",
          "Movie",
          "Movie",
          "Movie",
          "Movie",
          "Movie",
          "Movie",
          "Movie",
          "Movie",
          "Movie",
          "Movie",
          "Movie",
          "Movie",
          "Movie",
          "Movie",
          "Movie",
          "Movie",
          "Movie",
          "Movie",
          "Movie",
          "Movie",
          "TV Show",
          "Movie",
          "Movie",
          "Movie",
          "Movie",
          "Movie",
          "Movie",
          "Movie",
          "Movie",
          "Movie",
          "Movie",
          "Movie",
          "Movie",
          "Movie",
          "Movie",
          "Movie",
          "Movie",
          "Movie",
          "Movie",
          "Movie",
          "Movie",
          "Movie",
          "Movie",
          "Movie",
          "Movie",
          "Movie",
          "Movie",
          "Movie",
          "Movie",
          "Movie",
          "Movie",
          "Movie",
          "Movie",
          "Movie",
          "Movie",
          "Movie",
          "Movie",
          "Movie",
          "Movie",
          "Movie",
          "Movie",
          "Movie",
          "Movie",
          "Movie",
          "Movie",
          "Movie",
          "Movie",
          "Movie",
          "Movie",
          "Movie",
          "Movie",
          "Movie",
          "Movie",
          "Movie",
          "Movie",
          "Movie",
          "Movie",
          "Movie",
          "Movie",
          "Movie",
          "Movie",
          "Movie",
          "Movie",
          "Movie",
          "Movie",
          "Movie",
          "Movie",
          "Movie",
          "Movie",
          "Movie",
          "Movie",
          "TV Show",
          "Movie",
          "Movie",
          "Movie",
          "Movie",
          "Movie",
          "Movie",
          "Movie",
          "Movie",
          "Movie",
          "Movie",
          "Movie",
          "Movie",
          "Movie",
          "Movie",
          "Movie",
          "Movie",
          "Movie",
          "Movie",
          "Movie",
          "Movie",
          "Movie",
          "Movie",
          "Movie",
          "Movie",
          "Movie",
          "Movie",
          "Movie",
          "Movie",
          "Movie",
          "Movie",
          "Movie",
          "Movie",
          "Movie",
          "Movie",
          "Movie",
          "Movie",
          "Movie",
          "Movie",
          "Movie",
          "Movie",
          "Movie",
          "Movie",
          "Movie",
          "Movie",
          "Movie",
          "Movie",
          "Movie",
          "Movie",
          "Movie",
          "Movie",
          "Movie",
          "Movie",
          "Movie",
          "Movie",
          "Movie",
          "Movie",
          "Movie",
          "Movie",
          "Movie",
          "Movie",
          "Movie",
          "TV Show",
          "Movie",
          "Movie",
          "Movie",
          "Movie",
          "Movie",
          "Movie",
          "Movie",
          "Movie",
          "Movie",
          "Movie",
          "Movie",
          "Movie",
          "Movie",
          "Movie",
          "Movie",
          "Movie",
          "Movie",
          "Movie",
          "Movie",
          "Movie",
          "Movie",
          "Movie",
          "Movie",
          "TV Show",
          "Movie",
          "Movie",
          "Movie",
          "Movie",
          "Movie",
          "Movie",
          "Movie",
          "Movie",
          "Movie",
          "Movie",
          "Movie",
          "Movie",
          "Movie",
          "Movie",
          "Movie",
          "Movie",
          "TV Show",
          "Movie",
          "Movie",
          "Movie",
          "Movie",
          "Movie",
          "Movie",
          "Movie",
          "Movie",
          "Movie",
          "Movie",
          "Movie",
          "Movie",
          "Movie",
          "Movie",
          "Movie",
          "Movie",
          "Movie",
          "Movie",
          "Movie",
          "Movie",
          "Movie",
          "Movie",
          "Movie",
          "Movie",
          "Movie",
          "Movie",
          "Movie",
          "Movie",
          "Movie",
          "Movie",
          "Movie",
          "Movie",
          "Movie",
          "Movie",
          "Movie",
          "Movie",
          "Movie",
          "Movie",
          "Movie",
          "Movie",
          "Movie",
          "Movie",
          "Movie",
          "Movie",
          "Movie",
          "Movie",
          "Movie",
          "Movie",
          "Movie",
          "Movie",
          "Movie",
          "Movie",
          "Movie",
          "Movie",
          "Movie",
          "Movie",
          "Movie",
          "Movie",
          "Movie",
          "Movie",
          "Movie",
          "Movie",
          "Movie",
          "Movie",
          "Movie",
          "Movie",
          "Movie",
          "Movie",
          "Movie",
          "Movie",
          "Movie",
          "Movie",
          "Movie",
          "Movie",
          "Movie",
          "Movie",
          "Movie",
          "Movie",
          "Movie",
          "Movie",
          "Movie",
          "Movie",
          "Movie",
          "Movie",
          "Movie",
          "Movie",
          "Movie",
          "Movie",
          "Movie",
          "Movie",
          "Movie",
          "Movie",
          "Movie",
          "Movie",
          "Movie",
          "Movie",
          "Movie",
          "Movie",
          "Movie",
          "Movie",
          "Movie",
          "Movie",
          "Movie",
          "Movie",
          "Movie",
          "Movie",
          "Movie",
          "Movie",
          "Movie",
          "Movie",
          "Movie",
          "Movie",
          "Movie",
          "Movie",
          "Movie",
          "Movie",
          "Movie",
          "Movie",
          "Movie",
          "Movie",
          "Movie",
          "Movie",
          "Movie",
          "Movie",
          "Movie",
          "Movie",
          "Movie",
          "Movie",
          "Movie",
          "Movie",
          "Movie",
          "Movie",
          "Movie",
          "Movie",
          "Movie",
          "Movie",
          "Movie",
          "Movie",
          "Movie",
          "Movie",
          "Movie",
          "Movie",
          "Movie",
          "Movie",
          "Movie",
          "Movie",
          "Movie",
          "Movie",
          "Movie",
          "Movie",
          "Movie",
          "Movie",
          "Movie",
          "Movie",
          "Movie",
          "Movie",
          "Movie",
          "Movie",
          "Movie",
          "Movie",
          "Movie",
          "Movie",
          "Movie",
          "Movie",
          "Movie",
          "Movie",
          "Movie",
          "Movie",
          "Movie",
          "Movie",
          "Movie",
          "Movie",
          "Movie",
          "Movie",
          "Movie",
          "Movie",
          "Movie",
          "Movie",
          "Movie",
          "Movie",
          "Movie",
          "Movie",
          "Movie",
          "Movie",
          "Movie",
          "Movie",
          "Movie",
          "Movie",
          "Movie",
          "Movie",
          "Movie",
          "Movie",
          "Movie",
          "Movie",
          "Movie",
          "Movie",
          "Movie",
          "Movie",
          "TV Show",
          "Movie",
          "Movie",
          "Movie",
          "Movie",
          "Movie",
          "Movie",
          "Movie",
          "Movie",
          "Movie",
          "Movie",
          "Movie",
          "Movie",
          "Movie",
          "Movie",
          "Movie",
          "Movie",
          "Movie",
          "Movie",
          "Movie",
          "Movie",
          "Movie",
          "Movie",
          "Movie",
          "Movie",
          "Movie",
          "TV Show",
          "Movie",
          "Movie",
          "Movie",
          "Movie",
          "Movie",
          "Movie",
          "Movie",
          "Movie",
          "Movie",
          "Movie",
          "Movie",
          "Movie",
          "Movie",
          "Movie",
          "Movie",
          "Movie",
          "Movie",
          "Movie",
          "Movie",
          "Movie",
          "Movie",
          "Movie",
          "Movie",
          "Movie",
          "Movie",
          "Movie",
          "Movie",
          "Movie",
          "Movie",
          "Movie",
          "Movie",
          "Movie",
          "Movie",
          "Movie",
          "Movie",
          "Movie",
          "Movie",
          "Movie",
          "Movie",
          "Movie",
          "Movie",
          "Movie",
          "Movie",
          "Movie",
          "Movie",
          "Movie",
          "Movie",
          "Movie",
          "Movie",
          "Movie",
          "Movie",
          "Movie",
          "Movie",
          "Movie",
          "Movie",
          "Movie",
          "Movie",
          "Movie",
          "Movie",
          "Movie",
          "Movie",
          "Movie",
          "TV Show",
          "Movie",
          "Movie",
          "Movie",
          "Movie",
          "Movie",
          "Movie",
          "Movie",
          "TV Show",
          "Movie",
          "Movie",
          "Movie",
          "Movie",
          "Movie",
          "Movie",
          "Movie",
          "Movie",
          "Movie",
          "Movie",
          "Movie",
          "Movie",
          "Movie",
          "Movie",
          "Movie",
          "Movie",
          "Movie",
          "Movie",
          "Movie",
          "Movie",
          "Movie",
          "Movie",
          "Movie",
          "Movie",
          "Movie",
          "Movie",
          "Movie",
          "Movie",
          "Movie",
          "Movie",
          "Movie",
          "Movie",
          "Movie",
          "Movie",
          "Movie",
          "Movie",
          "Movie",
          "Movie",
          "Movie",
          "Movie",
          "Movie",
          "Movie",
          "Movie",
          "Movie",
          "Movie",
          "Movie",
          "Movie",
          "Movie",
          "Movie",
          "Movie",
          "Movie",
          "Movie",
          "Movie",
          "Movie",
          "Movie",
          "Movie",
          "Movie",
          "Movie",
          "Movie",
          "Movie",
          "Movie",
          "Movie",
          "Movie",
          "Movie",
          "Movie",
          "Movie",
          "Movie",
          "Movie",
          "Movie",
          "Movie",
          "Movie",
          "Movie",
          "Movie",
          "Movie",
          "Movie",
          "Movie",
          "Movie",
          "Movie",
          "Movie",
          "Movie",
          "Movie",
          "Movie",
          "Movie",
          "Movie",
          "Movie",
          "Movie",
          "Movie",
          "Movie",
          "Movie",
          "Movie",
          "Movie",
          "Movie",
          "Movie",
          "Movie",
          "Movie",
          "Movie",
          "Movie",
          "Movie",
          "Movie",
          "Movie",
          "Movie",
          "Movie",
          "Movie",
          "Movie",
          "Movie",
          "Movie",
          "Movie",
          "Movie",
          "Movie",
          "Movie",
          "Movie",
          "Movie",
          "Movie",
          "Movie",
          "Movie",
          "Movie",
          "Movie",
          "Movie",
          "Movie",
          "Movie",
          "Movie",
          "Movie",
          "Movie",
          "Movie",
          "Movie",
          "Movie",
          "Movie",
          "Movie",
          "Movie",
          "Movie",
          "Movie",
          "Movie",
          "Movie",
          "Movie",
          "Movie",
          "Movie",
          "Movie",
          "Movie",
          "Movie",
          "Movie",
          "Movie",
          "Movie",
          "Movie",
          "Movie",
          "Movie",
          "Movie",
          "Movie",
          "Movie",
          "Movie",
          "Movie",
          "Movie",
          "Movie",
          "Movie",
          "Movie",
          "Movie",
          "Movie",
          "Movie",
          "Movie",
          "Movie",
          "Movie",
          "Movie",
          "Movie",
          "Movie",
          "Movie",
          "Movie",
          "Movie",
          "Movie",
          "Movie",
          "Movie",
          "Movie",
          "Movie",
          "Movie",
          "Movie",
          "Movie",
          "Movie",
          "Movie",
          "Movie",
          "Movie",
          "Movie",
          "Movie",
          "Movie",
          "Movie",
          "Movie",
          "Movie",
          "Movie",
          "Movie",
          "Movie",
          "Movie",
          "Movie",
          "Movie",
          "Movie",
          "Movie",
          "Movie",
          "Movie",
          "Movie",
          "Movie",
          "Movie",
          "Movie",
          "Movie",
          "Movie",
          "Movie",
          "Movie",
          "Movie",
          "Movie",
          "Movie",
          "Movie",
          "TV Show",
          "Movie",
          "Movie",
          "Movie",
          "Movie",
          "Movie",
          "Movie",
          "Movie",
          "Movie",
          "Movie",
          "Movie",
          "Movie",
          "Movie",
          "Movie",
          "Movie",
          "Movie",
          "Movie",
          "Movie",
          "Movie",
          "Movie",
          "Movie",
          "Movie",
          "Movie",
          "Movie",
          "Movie",
          "Movie",
          "Movie",
          "Movie",
          "Movie",
          "Movie",
          "Movie",
          "Movie",
          "Movie",
          "Movie",
          "Movie",
          "Movie",
          "Movie",
          "Movie",
          "Movie",
          "Movie",
          "Movie",
          "Movie",
          "Movie",
          "Movie",
          "Movie",
          "Movie",
          "Movie",
          "Movie",
          "Movie",
          "Movie",
          "Movie",
          "Movie",
          "Movie",
          "Movie",
          "Movie",
          "Movie",
          "Movie",
          "Movie",
          "Movie",
          "Movie",
          "Movie",
          "Movie",
          "Movie",
          "Movie",
          "Movie",
          "Movie",
          "Movie",
          "Movie",
          "Movie",
          "Movie",
          "Movie",
          "Movie",
          "Movie",
          "Movie",
          "Movie",
          "Movie",
          "Movie",
          "Movie",
          "Movie",
          "Movie",
          "Movie",
          "Movie",
          "Movie",
          "Movie",
          "Movie",
          "Movie",
          "Movie",
          "Movie",
          "Movie",
          "Movie",
          "Movie",
          "Movie",
          "Movie",
          "Movie",
          "Movie",
          "Movie",
          "Movie",
          "Movie",
          "Movie",
          "Movie",
          "Movie",
          "Movie",
          "Movie",
          "Movie",
          "Movie",
          "Movie",
          "Movie",
          "Movie",
          "Movie",
          "Movie",
          "Movie",
          "Movie",
          "Movie",
          "Movie",
          "Movie",
          "Movie",
          "Movie",
          "Movie",
          "Movie",
          "Movie",
          "Movie",
          "Movie",
          "Movie",
          "Movie",
          "Movie",
          "Movie",
          "Movie",
          "Movie",
          "Movie",
          "Movie",
          "Movie",
          "Movie",
          "Movie",
          "Movie",
          "Movie",
          "Movie",
          "Movie",
          "Movie",
          "Movie",
          "Movie",
          "Movie",
          "Movie",
          "Movie",
          "Movie",
          "Movie",
          "Movie",
          "Movie",
          "Movie"
         ],
         "legendgroup": "",
         "name": "",
         "rotation": 90,
         "showlegend": true,
         "textinfo": "percent+label",
         "textposition": "outside",
         "type": "pie"
        }
       ],
       "layout": {
        "font": {
         "color": "#8a8d93",
         "size": 17
        },
        "height": 300,
        "hoverlabel": {
         "bgcolor": "#444",
         "font": {
          "family": "Lato, sans-serif",
          "size": 13
         }
        },
        "legend": {
         "tracegroupgap": 0
        },
        "margin": {
         "b": 30,
         "l": 0,
         "r": 0,
         "t": 100
        },
        "paper_bgcolor": "#333",
        "piecolorway": [
         "#b20710",
         "#221f1f"
        ],
        "plot_bgcolor": "#333",
        "showlegend": false,
        "template": {
         "data": {
          "bar": [
           {
            "error_x": {
             "color": "#2a3f5f"
            },
            "error_y": {
             "color": "#2a3f5f"
            },
            "marker": {
             "line": {
              "color": "#E5ECF6",
              "width": 0.5
             },
             "pattern": {
              "fillmode": "overlay",
              "size": 10,
              "solidity": 0.2
             }
            },
            "type": "bar"
           }
          ],
          "barpolar": [
           {
            "marker": {
             "line": {
              "color": "#E5ECF6",
              "width": 0.5
             },
             "pattern": {
              "fillmode": "overlay",
              "size": 10,
              "solidity": 0.2
             }
            },
            "type": "barpolar"
           }
          ],
          "carpet": [
           {
            "aaxis": {
             "endlinecolor": "#2a3f5f",
             "gridcolor": "white",
             "linecolor": "white",
             "minorgridcolor": "white",
             "startlinecolor": "#2a3f5f"
            },
            "baxis": {
             "endlinecolor": "#2a3f5f",
             "gridcolor": "white",
             "linecolor": "white",
             "minorgridcolor": "white",
             "startlinecolor": "#2a3f5f"
            },
            "type": "carpet"
           }
          ],
          "choropleth": [
           {
            "colorbar": {
             "outlinewidth": 0,
             "ticks": ""
            },
            "type": "choropleth"
           }
          ],
          "contour": [
           {
            "colorbar": {
             "outlinewidth": 0,
             "ticks": ""
            },
            "colorscale": [
             [
              0,
              "#0d0887"
             ],
             [
              0.1111111111111111,
              "#46039f"
             ],
             [
              0.2222222222222222,
              "#7201a8"
             ],
             [
              0.3333333333333333,
              "#9c179e"
             ],
             [
              0.4444444444444444,
              "#bd3786"
             ],
             [
              0.5555555555555556,
              "#d8576b"
             ],
             [
              0.6666666666666666,
              "#ed7953"
             ],
             [
              0.7777777777777778,
              "#fb9f3a"
             ],
             [
              0.8888888888888888,
              "#fdca26"
             ],
             [
              1,
              "#f0f921"
             ]
            ],
            "type": "contour"
           }
          ],
          "contourcarpet": [
           {
            "colorbar": {
             "outlinewidth": 0,
             "ticks": ""
            },
            "type": "contourcarpet"
           }
          ],
          "heatmap": [
           {
            "colorbar": {
             "outlinewidth": 0,
             "ticks": ""
            },
            "colorscale": [
             [
              0,
              "#0d0887"
             ],
             [
              0.1111111111111111,
              "#46039f"
             ],
             [
              0.2222222222222222,
              "#7201a8"
             ],
             [
              0.3333333333333333,
              "#9c179e"
             ],
             [
              0.4444444444444444,
              "#bd3786"
             ],
             [
              0.5555555555555556,
              "#d8576b"
             ],
             [
              0.6666666666666666,
              "#ed7953"
             ],
             [
              0.7777777777777778,
              "#fb9f3a"
             ],
             [
              0.8888888888888888,
              "#fdca26"
             ],
             [
              1,
              "#f0f921"
             ]
            ],
            "type": "heatmap"
           }
          ],
          "heatmapgl": [
           {
            "colorbar": {
             "outlinewidth": 0,
             "ticks": ""
            },
            "colorscale": [
             [
              0,
              "#0d0887"
             ],
             [
              0.1111111111111111,
              "#46039f"
             ],
             [
              0.2222222222222222,
              "#7201a8"
             ],
             [
              0.3333333333333333,
              "#9c179e"
             ],
             [
              0.4444444444444444,
              "#bd3786"
             ],
             [
              0.5555555555555556,
              "#d8576b"
             ],
             [
              0.6666666666666666,
              "#ed7953"
             ],
             [
              0.7777777777777778,
              "#fb9f3a"
             ],
             [
              0.8888888888888888,
              "#fdca26"
             ],
             [
              1,
              "#f0f921"
             ]
            ],
            "type": "heatmapgl"
           }
          ],
          "histogram": [
           {
            "marker": {
             "pattern": {
              "fillmode": "overlay",
              "size": 10,
              "solidity": 0.2
             }
            },
            "type": "histogram"
           }
          ],
          "histogram2d": [
           {
            "colorbar": {
             "outlinewidth": 0,
             "ticks": ""
            },
            "colorscale": [
             [
              0,
              "#0d0887"
             ],
             [
              0.1111111111111111,
              "#46039f"
             ],
             [
              0.2222222222222222,
              "#7201a8"
             ],
             [
              0.3333333333333333,
              "#9c179e"
             ],
             [
              0.4444444444444444,
              "#bd3786"
             ],
             [
              0.5555555555555556,
              "#d8576b"
             ],
             [
              0.6666666666666666,
              "#ed7953"
             ],
             [
              0.7777777777777778,
              "#fb9f3a"
             ],
             [
              0.8888888888888888,
              "#fdca26"
             ],
             [
              1,
              "#f0f921"
             ]
            ],
            "type": "histogram2d"
           }
          ],
          "histogram2dcontour": [
           {
            "colorbar": {
             "outlinewidth": 0,
             "ticks": ""
            },
            "colorscale": [
             [
              0,
              "#0d0887"
             ],
             [
              0.1111111111111111,
              "#46039f"
             ],
             [
              0.2222222222222222,
              "#7201a8"
             ],
             [
              0.3333333333333333,
              "#9c179e"
             ],
             [
              0.4444444444444444,
              "#bd3786"
             ],
             [
              0.5555555555555556,
              "#d8576b"
             ],
             [
              0.6666666666666666,
              "#ed7953"
             ],
             [
              0.7777777777777778,
              "#fb9f3a"
             ],
             [
              0.8888888888888888,
              "#fdca26"
             ],
             [
              1,
              "#f0f921"
             ]
            ],
            "type": "histogram2dcontour"
           }
          ],
          "mesh3d": [
           {
            "colorbar": {
             "outlinewidth": 0,
             "ticks": ""
            },
            "type": "mesh3d"
           }
          ],
          "parcoords": [
           {
            "line": {
             "colorbar": {
              "outlinewidth": 0,
              "ticks": ""
             }
            },
            "type": "parcoords"
           }
          ],
          "pie": [
           {
            "automargin": true,
            "type": "pie"
           }
          ],
          "scatter": [
           {
            "fillpattern": {
             "fillmode": "overlay",
             "size": 10,
             "solidity": 0.2
            },
            "type": "scatter"
           }
          ],
          "scatter3d": [
           {
            "line": {
             "colorbar": {
              "outlinewidth": 0,
              "ticks": ""
             }
            },
            "marker": {
             "colorbar": {
              "outlinewidth": 0,
              "ticks": ""
             }
            },
            "type": "scatter3d"
           }
          ],
          "scattercarpet": [
           {
            "marker": {
             "colorbar": {
              "outlinewidth": 0,
              "ticks": ""
             }
            },
            "type": "scattercarpet"
           }
          ],
          "scattergeo": [
           {
            "marker": {
             "colorbar": {
              "outlinewidth": 0,
              "ticks": ""
             }
            },
            "type": "scattergeo"
           }
          ],
          "scattergl": [
           {
            "marker": {
             "colorbar": {
              "outlinewidth": 0,
              "ticks": ""
             }
            },
            "type": "scattergl"
           }
          ],
          "scattermapbox": [
           {
            "marker": {
             "colorbar": {
              "outlinewidth": 0,
              "ticks": ""
             }
            },
            "type": "scattermapbox"
           }
          ],
          "scatterpolar": [
           {
            "marker": {
             "colorbar": {
              "outlinewidth": 0,
              "ticks": ""
             }
            },
            "type": "scatterpolar"
           }
          ],
          "scatterpolargl": [
           {
            "marker": {
             "colorbar": {
              "outlinewidth": 0,
              "ticks": ""
             }
            },
            "type": "scatterpolargl"
           }
          ],
          "scatterternary": [
           {
            "marker": {
             "colorbar": {
              "outlinewidth": 0,
              "ticks": ""
             }
            },
            "type": "scatterternary"
           }
          ],
          "surface": [
           {
            "colorbar": {
             "outlinewidth": 0,
             "ticks": ""
            },
            "colorscale": [
             [
              0,
              "#0d0887"
             ],
             [
              0.1111111111111111,
              "#46039f"
             ],
             [
              0.2222222222222222,
              "#7201a8"
             ],
             [
              0.3333333333333333,
              "#9c179e"
             ],
             [
              0.4444444444444444,
              "#bd3786"
             ],
             [
              0.5555555555555556,
              "#d8576b"
             ],
             [
              0.6666666666666666,
              "#ed7953"
             ],
             [
              0.7777777777777778,
              "#fb9f3a"
             ],
             [
              0.8888888888888888,
              "#fdca26"
             ],
             [
              1,
              "#f0f921"
             ]
            ],
            "type": "surface"
           }
          ],
          "table": [
           {
            "cells": {
             "fill": {
              "color": "#EBF0F8"
             },
             "line": {
              "color": "white"
             }
            },
            "header": {
             "fill": {
              "color": "#C8D4E3"
             },
             "line": {
              "color": "white"
             }
            },
            "type": "table"
           }
          ]
         },
         "layout": {
          "annotationdefaults": {
           "arrowcolor": "#2a3f5f",
           "arrowhead": 0,
           "arrowwidth": 1
          },
          "autotypenumbers": "strict",
          "coloraxis": {
           "colorbar": {
            "outlinewidth": 0,
            "ticks": ""
           }
          },
          "colorscale": {
           "diverging": [
            [
             0,
             "#8e0152"
            ],
            [
             0.1,
             "#c51b7d"
            ],
            [
             0.2,
             "#de77ae"
            ],
            [
             0.3,
             "#f1b6da"
            ],
            [
             0.4,
             "#fde0ef"
            ],
            [
             0.5,
             "#f7f7f7"
            ],
            [
             0.6,
             "#e6f5d0"
            ],
            [
             0.7,
             "#b8e186"
            ],
            [
             0.8,
             "#7fbc41"
            ],
            [
             0.9,
             "#4d9221"
            ],
            [
             1,
             "#276419"
            ]
           ],
           "sequential": [
            [
             0,
             "#0d0887"
            ],
            [
             0.1111111111111111,
             "#46039f"
            ],
            [
             0.2222222222222222,
             "#7201a8"
            ],
            [
             0.3333333333333333,
             "#9c179e"
            ],
            [
             0.4444444444444444,
             "#bd3786"
            ],
            [
             0.5555555555555556,
             "#d8576b"
            ],
            [
             0.6666666666666666,
             "#ed7953"
            ],
            [
             0.7777777777777778,
             "#fb9f3a"
            ],
            [
             0.8888888888888888,
             "#fdca26"
            ],
            [
             1,
             "#f0f921"
            ]
           ],
           "sequentialminus": [
            [
             0,
             "#0d0887"
            ],
            [
             0.1111111111111111,
             "#46039f"
            ],
            [
             0.2222222222222222,
             "#7201a8"
            ],
            [
             0.3333333333333333,
             "#9c179e"
            ],
            [
             0.4444444444444444,
             "#bd3786"
            ],
            [
             0.5555555555555556,
             "#d8576b"
            ],
            [
             0.6666666666666666,
             "#ed7953"
            ],
            [
             0.7777777777777778,
             "#fb9f3a"
            ],
            [
             0.8888888888888888,
             "#fdca26"
            ],
            [
             1,
             "#f0f921"
            ]
           ]
          },
          "colorway": [
           "#636efa",
           "#EF553B",
           "#00cc96",
           "#ab63fa",
           "#FFA15A",
           "#19d3f3",
           "#FF6692",
           "#B6E880",
           "#FF97FF",
           "#FECB52"
          ],
          "font": {
           "color": "#2a3f5f"
          },
          "geo": {
           "bgcolor": "white",
           "lakecolor": "white",
           "landcolor": "#E5ECF6",
           "showlakes": true,
           "showland": true,
           "subunitcolor": "white"
          },
          "hoverlabel": {
           "align": "left"
          },
          "hovermode": "closest",
          "mapbox": {
           "style": "light"
          },
          "paper_bgcolor": "white",
          "plot_bgcolor": "#E5ECF6",
          "polar": {
           "angularaxis": {
            "gridcolor": "white",
            "linecolor": "white",
            "ticks": ""
           },
           "bgcolor": "#E5ECF6",
           "radialaxis": {
            "gridcolor": "white",
            "linecolor": "white",
            "ticks": ""
           }
          },
          "scene": {
           "xaxis": {
            "backgroundcolor": "#E5ECF6",
            "gridcolor": "white",
            "gridwidth": 2,
            "linecolor": "white",
            "showbackground": true,
            "ticks": "",
            "zerolinecolor": "white"
           },
           "yaxis": {
            "backgroundcolor": "#E5ECF6",
            "gridcolor": "white",
            "gridwidth": 2,
            "linecolor": "white",
            "showbackground": true,
            "ticks": "",
            "zerolinecolor": "white"
           },
           "zaxis": {
            "backgroundcolor": "#E5ECF6",
            "gridcolor": "white",
            "gridwidth": 2,
            "linecolor": "white",
            "showbackground": true,
            "ticks": "",
            "zerolinecolor": "white"
           }
          },
          "shapedefaults": {
           "line": {
            "color": "#2a3f5f"
           }
          },
          "ternary": {
           "aaxis": {
            "gridcolor": "white",
            "linecolor": "white",
            "ticks": ""
           },
           "baxis": {
            "gridcolor": "white",
            "linecolor": "white",
            "ticks": ""
           },
           "bgcolor": "#E5ECF6",
           "caxis": {
            "gridcolor": "white",
            "linecolor": "white",
            "ticks": ""
           }
          },
          "title": {
           "x": 0.05
          },
          "xaxis": {
           "automargin": true,
           "gridcolor": "white",
           "linecolor": "white",
           "ticks": "",
           "title": {
            "standoff": 15
           },
           "zerolinecolor": "white",
           "zerolinewidth": 2
          },
          "yaxis": {
           "automargin": true,
           "gridcolor": "white",
           "linecolor": "white",
           "ticks": "",
           "title": {
            "standoff": 15
           },
           "zerolinecolor": "white",
           "zerolinewidth": 2
          }
         }
        },
        "title": {
         "font": {
          "color": "#8a8d93",
          "family": "Lato, sans-serif",
          "size": 45
         },
         "text": "Most watched on Netflix"
        },
        "width": 600
       }
      }
     },
     "metadata": {},
     "output_type": "display_data"
    }
   ],
   "source": [
    "\n",
    "fig_donut = px.pie(df, names='type', height=300, width=600, hole=0.7, title='Most watched on Netflix', color_discrete_sequence=['#b20710', '#221f1f'])\n",
    "\n",
    "fig_donut.update_traces(hovertemplate=None, textposition='outside', textinfo='percent+label', rotation=90)\n",
    "fig_donut.update_layout(margin=dict(t=100, b=30, l=0, r=0), showlegend=False,\n",
    "                        plot_bgcolor='#333', paper_bgcolor='#333', title_font=dict(size=45, color='#8a8d93', family=\"Lato, sans-serif\"), font=dict(size=17, color='#8a8d93'), hoverlabel=dict(bgcolor=\"#444\", font_size=13, font_family=\"Lato, sans-serif\"))\n"
   ]
  },
  {
   "cell_type": "markdown",
   "metadata": {},
   "source": [
    "<h5>Conclusion 1</h5>\n",
    "<p>From graph 1, we may see that the ratio to Movies:TV Shows is 97:3. So, there is a clear people's preference for movies over TV Shows.</p>"
   ]
  },
  {
   "cell_type": "markdown",
   "metadata": {},
   "source": [
    "<h4>Graph 2</h4>\n",
    "<p>Now, let's see how has been the impact of movies and tv shows over the years.</p>"
   ]
  },
  {
   "cell_type": "code",
   "execution_count": 39,
   "metadata": {},
   "outputs": [
    {
     "data": {
      "application/vnd.plotly.v1+json": {
       "config": {
        "plotlyServerURL": "https://plot.ly"
       },
       "data": [
        {
         "marker": {
          "color": "orange"
         },
         "name": "TV Shows",
         "type": "scatter",
         "x": [
          2013,
          2015,
          2016,
          2017,
          2018,
          2019,
          2020,
          2021
         ],
         "y": [
          1,
          3,
          7,
          22,
          16,
          29,
          43,
          26
         ]
        },
        {
         "marker": {
          "color": "#b20710"
         },
         "name": "Movie",
         "type": "scatter",
         "x": [
          2008,
          2009,
          2010,
          2011,
          2012,
          2013,
          2014,
          2015,
          2016,
          2017,
          2018,
          2019,
          2020,
          2021
         ],
         "y": [
          1,
          2,
          1,
          13,
          3,
          6,
          14,
          47,
          195,
          702,
          1085,
          1236,
          1151,
          729
         ]
        }
       ],
       "layout": {
        "annotations": [
         {
          "ax": 0,
          "ay": 0,
          "text": "Highest number of <b>Tv Shows</b><br> were released in <b>2020</b><br> followed by 2017.",
          "x": 0.8,
          "xref": "paper",
          "y": 0.3,
          "yref": "paper"
         },
         {
          "ax": 0,
          "ay": 0,
          "text": "Highest number of <b>Movies</b> were relased<br> in <b>2019</b> followed by 2020",
          "x": 0.9,
          "xref": "paper",
          "y": 1,
          "yref": "paper"
         }
        ],
        "font": {
         "color": "#8a8d93"
        },
        "height": 400,
        "hovermode": "x unified",
        "legend": {
         "orientation": "h",
         "x": 0.5,
         "xanchor": "center",
         "y": 1,
         "yanchor": "bottom"
        },
        "margin": {
         "b": 0,
         "l": 70,
         "r": 40,
         "t": 130
        },
        "paper_bgcolor": "#333",
        "plot_bgcolor": "#333",
        "template": {
         "data": {
          "bar": [
           {
            "error_x": {
             "color": "#2a3f5f"
            },
            "error_y": {
             "color": "#2a3f5f"
            },
            "marker": {
             "line": {
              "color": "#E5ECF6",
              "width": 0.5
             },
             "pattern": {
              "fillmode": "overlay",
              "size": 10,
              "solidity": 0.2
             }
            },
            "type": "bar"
           }
          ],
          "barpolar": [
           {
            "marker": {
             "line": {
              "color": "#E5ECF6",
              "width": 0.5
             },
             "pattern": {
              "fillmode": "overlay",
              "size": 10,
              "solidity": 0.2
             }
            },
            "type": "barpolar"
           }
          ],
          "carpet": [
           {
            "aaxis": {
             "endlinecolor": "#2a3f5f",
             "gridcolor": "white",
             "linecolor": "white",
             "minorgridcolor": "white",
             "startlinecolor": "#2a3f5f"
            },
            "baxis": {
             "endlinecolor": "#2a3f5f",
             "gridcolor": "white",
             "linecolor": "white",
             "minorgridcolor": "white",
             "startlinecolor": "#2a3f5f"
            },
            "type": "carpet"
           }
          ],
          "choropleth": [
           {
            "colorbar": {
             "outlinewidth": 0,
             "ticks": ""
            },
            "type": "choropleth"
           }
          ],
          "contour": [
           {
            "colorbar": {
             "outlinewidth": 0,
             "ticks": ""
            },
            "colorscale": [
             [
              0,
              "#0d0887"
             ],
             [
              0.1111111111111111,
              "#46039f"
             ],
             [
              0.2222222222222222,
              "#7201a8"
             ],
             [
              0.3333333333333333,
              "#9c179e"
             ],
             [
              0.4444444444444444,
              "#bd3786"
             ],
             [
              0.5555555555555556,
              "#d8576b"
             ],
             [
              0.6666666666666666,
              "#ed7953"
             ],
             [
              0.7777777777777778,
              "#fb9f3a"
             ],
             [
              0.8888888888888888,
              "#fdca26"
             ],
             [
              1,
              "#f0f921"
             ]
            ],
            "type": "contour"
           }
          ],
          "contourcarpet": [
           {
            "colorbar": {
             "outlinewidth": 0,
             "ticks": ""
            },
            "type": "contourcarpet"
           }
          ],
          "heatmap": [
           {
            "colorbar": {
             "outlinewidth": 0,
             "ticks": ""
            },
            "colorscale": [
             [
              0,
              "#0d0887"
             ],
             [
              0.1111111111111111,
              "#46039f"
             ],
             [
              0.2222222222222222,
              "#7201a8"
             ],
             [
              0.3333333333333333,
              "#9c179e"
             ],
             [
              0.4444444444444444,
              "#bd3786"
             ],
             [
              0.5555555555555556,
              "#d8576b"
             ],
             [
              0.6666666666666666,
              "#ed7953"
             ],
             [
              0.7777777777777778,
              "#fb9f3a"
             ],
             [
              0.8888888888888888,
              "#fdca26"
             ],
             [
              1,
              "#f0f921"
             ]
            ],
            "type": "heatmap"
           }
          ],
          "heatmapgl": [
           {
            "colorbar": {
             "outlinewidth": 0,
             "ticks": ""
            },
            "colorscale": [
             [
              0,
              "#0d0887"
             ],
             [
              0.1111111111111111,
              "#46039f"
             ],
             [
              0.2222222222222222,
              "#7201a8"
             ],
             [
              0.3333333333333333,
              "#9c179e"
             ],
             [
              0.4444444444444444,
              "#bd3786"
             ],
             [
              0.5555555555555556,
              "#d8576b"
             ],
             [
              0.6666666666666666,
              "#ed7953"
             ],
             [
              0.7777777777777778,
              "#fb9f3a"
             ],
             [
              0.8888888888888888,
              "#fdca26"
             ],
             [
              1,
              "#f0f921"
             ]
            ],
            "type": "heatmapgl"
           }
          ],
          "histogram": [
           {
            "marker": {
             "pattern": {
              "fillmode": "overlay",
              "size": 10,
              "solidity": 0.2
             }
            },
            "type": "histogram"
           }
          ],
          "histogram2d": [
           {
            "colorbar": {
             "outlinewidth": 0,
             "ticks": ""
            },
            "colorscale": [
             [
              0,
              "#0d0887"
             ],
             [
              0.1111111111111111,
              "#46039f"
             ],
             [
              0.2222222222222222,
              "#7201a8"
             ],
             [
              0.3333333333333333,
              "#9c179e"
             ],
             [
              0.4444444444444444,
              "#bd3786"
             ],
             [
              0.5555555555555556,
              "#d8576b"
             ],
             [
              0.6666666666666666,
              "#ed7953"
             ],
             [
              0.7777777777777778,
              "#fb9f3a"
             ],
             [
              0.8888888888888888,
              "#fdca26"
             ],
             [
              1,
              "#f0f921"
             ]
            ],
            "type": "histogram2d"
           }
          ],
          "histogram2dcontour": [
           {
            "colorbar": {
             "outlinewidth": 0,
             "ticks": ""
            },
            "colorscale": [
             [
              0,
              "#0d0887"
             ],
             [
              0.1111111111111111,
              "#46039f"
             ],
             [
              0.2222222222222222,
              "#7201a8"
             ],
             [
              0.3333333333333333,
              "#9c179e"
             ],
             [
              0.4444444444444444,
              "#bd3786"
             ],
             [
              0.5555555555555556,
              "#d8576b"
             ],
             [
              0.6666666666666666,
              "#ed7953"
             ],
             [
              0.7777777777777778,
              "#fb9f3a"
             ],
             [
              0.8888888888888888,
              "#fdca26"
             ],
             [
              1,
              "#f0f921"
             ]
            ],
            "type": "histogram2dcontour"
           }
          ],
          "mesh3d": [
           {
            "colorbar": {
             "outlinewidth": 0,
             "ticks": ""
            },
            "type": "mesh3d"
           }
          ],
          "parcoords": [
           {
            "line": {
             "colorbar": {
              "outlinewidth": 0,
              "ticks": ""
             }
            },
            "type": "parcoords"
           }
          ],
          "pie": [
           {
            "automargin": true,
            "type": "pie"
           }
          ],
          "scatter": [
           {
            "fillpattern": {
             "fillmode": "overlay",
             "size": 10,
             "solidity": 0.2
            },
            "type": "scatter"
           }
          ],
          "scatter3d": [
           {
            "line": {
             "colorbar": {
              "outlinewidth": 0,
              "ticks": ""
             }
            },
            "marker": {
             "colorbar": {
              "outlinewidth": 0,
              "ticks": ""
             }
            },
            "type": "scatter3d"
           }
          ],
          "scattercarpet": [
           {
            "marker": {
             "colorbar": {
              "outlinewidth": 0,
              "ticks": ""
             }
            },
            "type": "scattercarpet"
           }
          ],
          "scattergeo": [
           {
            "marker": {
             "colorbar": {
              "outlinewidth": 0,
              "ticks": ""
             }
            },
            "type": "scattergeo"
           }
          ],
          "scattergl": [
           {
            "marker": {
             "colorbar": {
              "outlinewidth": 0,
              "ticks": ""
             }
            },
            "type": "scattergl"
           }
          ],
          "scattermapbox": [
           {
            "marker": {
             "colorbar": {
              "outlinewidth": 0,
              "ticks": ""
             }
            },
            "type": "scattermapbox"
           }
          ],
          "scatterpolar": [
           {
            "marker": {
             "colorbar": {
              "outlinewidth": 0,
              "ticks": ""
             }
            },
            "type": "scatterpolar"
           }
          ],
          "scatterpolargl": [
           {
            "marker": {
             "colorbar": {
              "outlinewidth": 0,
              "ticks": ""
             }
            },
            "type": "scatterpolargl"
           }
          ],
          "scatterternary": [
           {
            "marker": {
             "colorbar": {
              "outlinewidth": 0,
              "ticks": ""
             }
            },
            "type": "scatterternary"
           }
          ],
          "surface": [
           {
            "colorbar": {
             "outlinewidth": 0,
             "ticks": ""
            },
            "colorscale": [
             [
              0,
              "#0d0887"
             ],
             [
              0.1111111111111111,
              "#46039f"
             ],
             [
              0.2222222222222222,
              "#7201a8"
             ],
             [
              0.3333333333333333,
              "#9c179e"
             ],
             [
              0.4444444444444444,
              "#bd3786"
             ],
             [
              0.5555555555555556,
              "#d8576b"
             ],
             [
              0.6666666666666666,
              "#ed7953"
             ],
             [
              0.7777777777777778,
              "#fb9f3a"
             ],
             [
              0.8888888888888888,
              "#fdca26"
             ],
             [
              1,
              "#f0f921"
             ]
            ],
            "type": "surface"
           }
          ],
          "table": [
           {
            "cells": {
             "fill": {
              "color": "#EBF0F8"
             },
             "line": {
              "color": "white"
             }
            },
            "header": {
             "fill": {
              "color": "#C8D4E3"
             },
             "line": {
              "color": "white"
             }
            },
            "type": "table"
           }
          ]
         },
         "layout": {
          "annotationdefaults": {
           "arrowcolor": "#2a3f5f",
           "arrowhead": 0,
           "arrowwidth": 1
          },
          "autotypenumbers": "strict",
          "coloraxis": {
           "colorbar": {
            "outlinewidth": 0,
            "ticks": ""
           }
          },
          "colorscale": {
           "diverging": [
            [
             0,
             "#8e0152"
            ],
            [
             0.1,
             "#c51b7d"
            ],
            [
             0.2,
             "#de77ae"
            ],
            [
             0.3,
             "#f1b6da"
            ],
            [
             0.4,
             "#fde0ef"
            ],
            [
             0.5,
             "#f7f7f7"
            ],
            [
             0.6,
             "#e6f5d0"
            ],
            [
             0.7,
             "#b8e186"
            ],
            [
             0.8,
             "#7fbc41"
            ],
            [
             0.9,
             "#4d9221"
            ],
            [
             1,
             "#276419"
            ]
           ],
           "sequential": [
            [
             0,
             "#0d0887"
            ],
            [
             0.1111111111111111,
             "#46039f"
            ],
            [
             0.2222222222222222,
             "#7201a8"
            ],
            [
             0.3333333333333333,
             "#9c179e"
            ],
            [
             0.4444444444444444,
             "#bd3786"
            ],
            [
             0.5555555555555556,
             "#d8576b"
            ],
            [
             0.6666666666666666,
             "#ed7953"
            ],
            [
             0.7777777777777778,
             "#fb9f3a"
            ],
            [
             0.8888888888888888,
             "#fdca26"
            ],
            [
             1,
             "#f0f921"
            ]
           ],
           "sequentialminus": [
            [
             0,
             "#0d0887"
            ],
            [
             0.1111111111111111,
             "#46039f"
            ],
            [
             0.2222222222222222,
             "#7201a8"
            ],
            [
             0.3333333333333333,
             "#9c179e"
            ],
            [
             0.4444444444444444,
             "#bd3786"
            ],
            [
             0.5555555555555556,
             "#d8576b"
            ],
            [
             0.6666666666666666,
             "#ed7953"
            ],
            [
             0.7777777777777778,
             "#fb9f3a"
            ],
            [
             0.8888888888888888,
             "#fdca26"
            ],
            [
             1,
             "#f0f921"
            ]
           ]
          },
          "colorway": [
           "#636efa",
           "#EF553B",
           "#00cc96",
           "#ab63fa",
           "#FFA15A",
           "#19d3f3",
           "#FF6692",
           "#B6E880",
           "#FF97FF",
           "#FECB52"
          ],
          "font": {
           "color": "#2a3f5f"
          },
          "geo": {
           "bgcolor": "white",
           "lakecolor": "white",
           "landcolor": "#E5ECF6",
           "showlakes": true,
           "showland": true,
           "subunitcolor": "white"
          },
          "hoverlabel": {
           "align": "left"
          },
          "hovermode": "closest",
          "mapbox": {
           "style": "light"
          },
          "paper_bgcolor": "white",
          "plot_bgcolor": "#E5ECF6",
          "polar": {
           "angularaxis": {
            "gridcolor": "white",
            "linecolor": "white",
            "ticks": ""
           },
           "bgcolor": "#E5ECF6",
           "radialaxis": {
            "gridcolor": "white",
            "linecolor": "white",
            "ticks": ""
           }
          },
          "scene": {
           "xaxis": {
            "backgroundcolor": "#E5ECF6",
            "gridcolor": "white",
            "gridwidth": 2,
            "linecolor": "white",
            "showbackground": true,
            "ticks": "",
            "zerolinecolor": "white"
           },
           "yaxis": {
            "backgroundcolor": "#E5ECF6",
            "gridcolor": "white",
            "gridwidth": 2,
            "linecolor": "white",
            "showbackground": true,
            "ticks": "",
            "zerolinecolor": "white"
           },
           "zaxis": {
            "backgroundcolor": "#E5ECF6",
            "gridcolor": "white",
            "gridwidth": 2,
            "linecolor": "white",
            "showbackground": true,
            "ticks": "",
            "zerolinecolor": "white"
           }
          },
          "shapedefaults": {
           "line": {
            "color": "#2a3f5f"
           }
          },
          "ternary": {
           "aaxis": {
            "gridcolor": "white",
            "linecolor": "white",
            "ticks": ""
           },
           "baxis": {
            "gridcolor": "white",
            "linecolor": "white",
            "ticks": ""
           },
           "bgcolor": "#E5ECF6",
           "caxis": {
            "gridcolor": "white",
            "linecolor": "white",
            "ticks": ""
           }
          },
          "title": {
           "x": 0.05
          },
          "xaxis": {
           "automargin": true,
           "gridcolor": "white",
           "linecolor": "white",
           "ticks": "",
           "title": {
            "standoff": 15
           },
           "zerolinecolor": "white",
           "zerolinewidth": 2
          },
          "yaxis": {
           "automargin": true,
           "gridcolor": "white",
           "linecolor": "white",
           "ticks": "",
           "title": {
            "standoff": 15
           },
           "zerolinecolor": "white",
           "zerolinewidth": 2
          }
         }
        },
        "title": {
         "font": {
          "color": "#8a8d93",
          "family": "Lato, sans-serif",
          "size": 25
         },
         "text": "Tv Show and Movies impact over the Year<br><span style='font-size:13px; font-family:Tahoma'>Due to Covid updatation of content is slowed."
        },
        "xaxis": {
         "showgrid": false,
         "title": {
          "text": " "
         }
        },
        "yaxis": {
         "showgrid": false,
         "title": {
          "text": " "
         }
        }
       }
      }
     },
     "metadata": {},
     "output_type": "display_data"
    }
   ],
   "source": [
    "d1 = df[df['type'] == \"TV Show\"]\n",
    "d2 = df[df['type'] == \"Movie\"]\n",
    "\n",
    "col = 'year_added'\n",
    "\n",
    "vc1 = d1[col].value_counts().reset_index().rename(columns={col: 'count', 'index': col})\n",
    "vc1['percent'] = vc1['count'].apply(lambda x: 100*x/sum(vc1['count']))\n",
    "vc1 = vc1.sort_values(col)\n",
    "\n",
    "vc2 = d2[col].value_counts().reset_index().rename(columns={col: 'count', 'index': col})\n",
    "vc2['percent'] = vc2['count'].apply(lambda x: 100*x/sum(vc2['count']))\n",
    "vc2 = vc2.sort_values(col)\n",
    "\n",
    "trace1 = go.Scatter(x=vc1[col], y=vc1['count'], name=\"TV Shows\", marker=dict(color='orange'))\n",
    "trace2 = go.Scatter(x=vc2[col], y=vc2['count'], name=\"Movie\", marker=dict(color='#b20710'))\n",
    "data = [trace1, trace2]\n",
    "fig_line = go.Figure(data)\n",
    "\n",
    "fig_line.update_traces(hovertemplate=None)\n",
    "fig_line.update_xaxes(showgrid=False)\n",
    "fig_line.update_yaxes(showgrid=False)\n",
    "\n",
    "large_title_format = 'Tv Show and Movies impact over the Year'\n",
    "small_title_format = \"<span style='font-size:13px; font-family:Tahoma'>Due to Covid updatation of content is slowed.\"\n",
    "fig_line.update_layout(title=large_title_format + \"<br>\" + small_title_format, height=400,\n",
    "                    margin=dict(t=130, b=0, l=70, r=40),\n",
    "                    hovermode='x unified', xaxis_title=' ', yaxis_title=' ', plot_bgcolor='#333', paper_bgcolor='#333', title_font=dict(size=25, color='#8a8d93', family='Lato, sans-serif'), font=dict(color='#8a8d93'), legend=dict(orientation=\"h\", yanchor=\"bottom\", y=1, xanchor=\"center\", x=0.5))\n",
    "\n",
    "fig_line.add_annotation(dict(x=0.8, y=0.3, ax=0, ay=0, xref=\"paper\", yref=\"paper\",\n",
    "                        text=\"Highest number of <b>Tv Shows</b><br> were released in <b>2020</b><br> followed by 2017.\"))\n",
    "fig_line.add_annotation(dict(x=0.9, y=1, ax=0, ay=0, xref=\"paper\", yref='paper',\n",
    "                        text=\"Highest number of <b>Movies</b> were relased<br> in <b>2019</b> followed by 2020\"))\n",
    "\n",
    "fig_line.show()\n"
   ]
  },
  {
   "cell_type": "markdown",
   "metadata": {},
   "source": [
    "<h4>Conclusion 2</h4>\n",
    "<p>As expected, most content watched on Netflix is the movies. However, call my attention to the fact that 2019 had the highest movie released while 2020 had a spike in TV shows released. This effect probably can be attributed to the pandemic and curfews around the world.</p>"
   ]
  },
  {
   "cell_type": "markdown",
   "metadata": {},
   "source": [
    "<h4>Graph 3</h4>\n",
    "<p>The next step is to investigate which month is the best one to release content.</p>"
   ]
  },
  {
   "cell_type": "code",
   "execution_count": 41,
   "metadata": {},
   "outputs": [
    {
     "data": {
      "application/vnd.plotly.v1+json": {
       "config": {
        "plotlyServerURL": "https://plot.ly"
       },
       "data": [
        {
         "legendgroup": "",
         "marker": {
          "color": "#b20710",
          "line": {
           "width": 0
          }
         },
         "name": "",
         "orientation": "h",
         "showlegend": false,
         "type": "funnel",
         "x": [
          491,
          490,
          489,
          471,
          469,
          464,
          458,
          449,
          427,
          415,
          368,
          341
         ],
         "xaxis": "x",
         "y": [
          "Oct",
          "Dec",
          "Jan",
          "Apr",
          "Mar",
          "Jul",
          "Nov",
          "Aug",
          "Sep",
          "Jun",
          "May",
          "Feb"
         ],
         "yaxis": "y"
        }
       ],
       "layout": {
        "font": {
         "color": "#8a8d93"
        },
        "height": 350,
        "hoverlabel": {
         "bgcolor": "black",
         "font": {
          "family": "Lato, sans-serif",
          "size": 13
         }
        },
        "legend": {
         "tracegroupgap": 0
        },
        "margin": {
         "b": 20,
         "l": 70,
         "r": 40,
         "t": 60
        },
        "paper_bgcolor": "#333",
        "plot_bgcolor": "#333",
        "template": {
         "data": {
          "bar": [
           {
            "error_x": {
             "color": "#2a3f5f"
            },
            "error_y": {
             "color": "#2a3f5f"
            },
            "marker": {
             "line": {
              "color": "#E5ECF6",
              "width": 0.5
             },
             "pattern": {
              "fillmode": "overlay",
              "size": 10,
              "solidity": 0.2
             }
            },
            "type": "bar"
           }
          ],
          "barpolar": [
           {
            "marker": {
             "line": {
              "color": "#E5ECF6",
              "width": 0.5
             },
             "pattern": {
              "fillmode": "overlay",
              "size": 10,
              "solidity": 0.2
             }
            },
            "type": "barpolar"
           }
          ],
          "carpet": [
           {
            "aaxis": {
             "endlinecolor": "#2a3f5f",
             "gridcolor": "white",
             "linecolor": "white",
             "minorgridcolor": "white",
             "startlinecolor": "#2a3f5f"
            },
            "baxis": {
             "endlinecolor": "#2a3f5f",
             "gridcolor": "white",
             "linecolor": "white",
             "minorgridcolor": "white",
             "startlinecolor": "#2a3f5f"
            },
            "type": "carpet"
           }
          ],
          "choropleth": [
           {
            "colorbar": {
             "outlinewidth": 0,
             "ticks": ""
            },
            "type": "choropleth"
           }
          ],
          "contour": [
           {
            "colorbar": {
             "outlinewidth": 0,
             "ticks": ""
            },
            "colorscale": [
             [
              0,
              "#0d0887"
             ],
             [
              0.1111111111111111,
              "#46039f"
             ],
             [
              0.2222222222222222,
              "#7201a8"
             ],
             [
              0.3333333333333333,
              "#9c179e"
             ],
             [
              0.4444444444444444,
              "#bd3786"
             ],
             [
              0.5555555555555556,
              "#d8576b"
             ],
             [
              0.6666666666666666,
              "#ed7953"
             ],
             [
              0.7777777777777778,
              "#fb9f3a"
             ],
             [
              0.8888888888888888,
              "#fdca26"
             ],
             [
              1,
              "#f0f921"
             ]
            ],
            "type": "contour"
           }
          ],
          "contourcarpet": [
           {
            "colorbar": {
             "outlinewidth": 0,
             "ticks": ""
            },
            "type": "contourcarpet"
           }
          ],
          "heatmap": [
           {
            "colorbar": {
             "outlinewidth": 0,
             "ticks": ""
            },
            "colorscale": [
             [
              0,
              "#0d0887"
             ],
             [
              0.1111111111111111,
              "#46039f"
             ],
             [
              0.2222222222222222,
              "#7201a8"
             ],
             [
              0.3333333333333333,
              "#9c179e"
             ],
             [
              0.4444444444444444,
              "#bd3786"
             ],
             [
              0.5555555555555556,
              "#d8576b"
             ],
             [
              0.6666666666666666,
              "#ed7953"
             ],
             [
              0.7777777777777778,
              "#fb9f3a"
             ],
             [
              0.8888888888888888,
              "#fdca26"
             ],
             [
              1,
              "#f0f921"
             ]
            ],
            "type": "heatmap"
           }
          ],
          "heatmapgl": [
           {
            "colorbar": {
             "outlinewidth": 0,
             "ticks": ""
            },
            "colorscale": [
             [
              0,
              "#0d0887"
             ],
             [
              0.1111111111111111,
              "#46039f"
             ],
             [
              0.2222222222222222,
              "#7201a8"
             ],
             [
              0.3333333333333333,
              "#9c179e"
             ],
             [
              0.4444444444444444,
              "#bd3786"
             ],
             [
              0.5555555555555556,
              "#d8576b"
             ],
             [
              0.6666666666666666,
              "#ed7953"
             ],
             [
              0.7777777777777778,
              "#fb9f3a"
             ],
             [
              0.8888888888888888,
              "#fdca26"
             ],
             [
              1,
              "#f0f921"
             ]
            ],
            "type": "heatmapgl"
           }
          ],
          "histogram": [
           {
            "marker": {
             "pattern": {
              "fillmode": "overlay",
              "size": 10,
              "solidity": 0.2
             }
            },
            "type": "histogram"
           }
          ],
          "histogram2d": [
           {
            "colorbar": {
             "outlinewidth": 0,
             "ticks": ""
            },
            "colorscale": [
             [
              0,
              "#0d0887"
             ],
             [
              0.1111111111111111,
              "#46039f"
             ],
             [
              0.2222222222222222,
              "#7201a8"
             ],
             [
              0.3333333333333333,
              "#9c179e"
             ],
             [
              0.4444444444444444,
              "#bd3786"
             ],
             [
              0.5555555555555556,
              "#d8576b"
             ],
             [
              0.6666666666666666,
              "#ed7953"
             ],
             [
              0.7777777777777778,
              "#fb9f3a"
             ],
             [
              0.8888888888888888,
              "#fdca26"
             ],
             [
              1,
              "#f0f921"
             ]
            ],
            "type": "histogram2d"
           }
          ],
          "histogram2dcontour": [
           {
            "colorbar": {
             "outlinewidth": 0,
             "ticks": ""
            },
            "colorscale": [
             [
              0,
              "#0d0887"
             ],
             [
              0.1111111111111111,
              "#46039f"
             ],
             [
              0.2222222222222222,
              "#7201a8"
             ],
             [
              0.3333333333333333,
              "#9c179e"
             ],
             [
              0.4444444444444444,
              "#bd3786"
             ],
             [
              0.5555555555555556,
              "#d8576b"
             ],
             [
              0.6666666666666666,
              "#ed7953"
             ],
             [
              0.7777777777777778,
              "#fb9f3a"
             ],
             [
              0.8888888888888888,
              "#fdca26"
             ],
             [
              1,
              "#f0f921"
             ]
            ],
            "type": "histogram2dcontour"
           }
          ],
          "mesh3d": [
           {
            "colorbar": {
             "outlinewidth": 0,
             "ticks": ""
            },
            "type": "mesh3d"
           }
          ],
          "parcoords": [
           {
            "line": {
             "colorbar": {
              "outlinewidth": 0,
              "ticks": ""
             }
            },
            "type": "parcoords"
           }
          ],
          "pie": [
           {
            "automargin": true,
            "type": "pie"
           }
          ],
          "scatter": [
           {
            "fillpattern": {
             "fillmode": "overlay",
             "size": 10,
             "solidity": 0.2
            },
            "type": "scatter"
           }
          ],
          "scatter3d": [
           {
            "line": {
             "colorbar": {
              "outlinewidth": 0,
              "ticks": ""
             }
            },
            "marker": {
             "colorbar": {
              "outlinewidth": 0,
              "ticks": ""
             }
            },
            "type": "scatter3d"
           }
          ],
          "scattercarpet": [
           {
            "marker": {
             "colorbar": {
              "outlinewidth": 0,
              "ticks": ""
             }
            },
            "type": "scattercarpet"
           }
          ],
          "scattergeo": [
           {
            "marker": {
             "colorbar": {
              "outlinewidth": 0,
              "ticks": ""
             }
            },
            "type": "scattergeo"
           }
          ],
          "scattergl": [
           {
            "marker": {
             "colorbar": {
              "outlinewidth": 0,
              "ticks": ""
             }
            },
            "type": "scattergl"
           }
          ],
          "scattermapbox": [
           {
            "marker": {
             "colorbar": {
              "outlinewidth": 0,
              "ticks": ""
             }
            },
            "type": "scattermapbox"
           }
          ],
          "scatterpolar": [
           {
            "marker": {
             "colorbar": {
              "outlinewidth": 0,
              "ticks": ""
             }
            },
            "type": "scatterpolar"
           }
          ],
          "scatterpolargl": [
           {
            "marker": {
             "colorbar": {
              "outlinewidth": 0,
              "ticks": ""
             }
            },
            "type": "scatterpolargl"
           }
          ],
          "scatterternary": [
           {
            "marker": {
             "colorbar": {
              "outlinewidth": 0,
              "ticks": ""
             }
            },
            "type": "scatterternary"
           }
          ],
          "surface": [
           {
            "colorbar": {
             "outlinewidth": 0,
             "ticks": ""
            },
            "colorscale": [
             [
              0,
              "#0d0887"
             ],
             [
              0.1111111111111111,
              "#46039f"
             ],
             [
              0.2222222222222222,
              "#7201a8"
             ],
             [
              0.3333333333333333,
              "#9c179e"
             ],
             [
              0.4444444444444444,
              "#bd3786"
             ],
             [
              0.5555555555555556,
              "#d8576b"
             ],
             [
              0.6666666666666666,
              "#ed7953"
             ],
             [
              0.7777777777777778,
              "#fb9f3a"
             ],
             [
              0.8888888888888888,
              "#fdca26"
             ],
             [
              1,
              "#f0f921"
             ]
            ],
            "type": "surface"
           }
          ],
          "table": [
           {
            "cells": {
             "fill": {
              "color": "#EBF0F8"
             },
             "line": {
              "color": "white"
             }
            },
            "header": {
             "fill": {
              "color": "#C8D4E3"
             },
             "line": {
              "color": "white"
             }
            },
            "type": "table"
           }
          ]
         },
         "layout": {
          "annotationdefaults": {
           "arrowcolor": "#2a3f5f",
           "arrowhead": 0,
           "arrowwidth": 1
          },
          "autotypenumbers": "strict",
          "coloraxis": {
           "colorbar": {
            "outlinewidth": 0,
            "ticks": ""
           }
          },
          "colorscale": {
           "diverging": [
            [
             0,
             "#8e0152"
            ],
            [
             0.1,
             "#c51b7d"
            ],
            [
             0.2,
             "#de77ae"
            ],
            [
             0.3,
             "#f1b6da"
            ],
            [
             0.4,
             "#fde0ef"
            ],
            [
             0.5,
             "#f7f7f7"
            ],
            [
             0.6,
             "#e6f5d0"
            ],
            [
             0.7,
             "#b8e186"
            ],
            [
             0.8,
             "#7fbc41"
            ],
            [
             0.9,
             "#4d9221"
            ],
            [
             1,
             "#276419"
            ]
           ],
           "sequential": [
            [
             0,
             "#0d0887"
            ],
            [
             0.1111111111111111,
             "#46039f"
            ],
            [
             0.2222222222222222,
             "#7201a8"
            ],
            [
             0.3333333333333333,
             "#9c179e"
            ],
            [
             0.4444444444444444,
             "#bd3786"
            ],
            [
             0.5555555555555556,
             "#d8576b"
            ],
            [
             0.6666666666666666,
             "#ed7953"
            ],
            [
             0.7777777777777778,
             "#fb9f3a"
            ],
            [
             0.8888888888888888,
             "#fdca26"
            ],
            [
             1,
             "#f0f921"
            ]
           ],
           "sequentialminus": [
            [
             0,
             "#0d0887"
            ],
            [
             0.1111111111111111,
             "#46039f"
            ],
            [
             0.2222222222222222,
             "#7201a8"
            ],
            [
             0.3333333333333333,
             "#9c179e"
            ],
            [
             0.4444444444444444,
             "#bd3786"
            ],
            [
             0.5555555555555556,
             "#d8576b"
            ],
            [
             0.6666666666666666,
             "#ed7953"
            ],
            [
             0.7777777777777778,
             "#fb9f3a"
            ],
            [
             0.8888888888888888,
             "#fdca26"
            ],
            [
             1,
             "#f0f921"
            ]
           ]
          },
          "colorway": [
           "#636efa",
           "#EF553B",
           "#00cc96",
           "#ab63fa",
           "#FFA15A",
           "#19d3f3",
           "#FF6692",
           "#B6E880",
           "#FF97FF",
           "#FECB52"
          ],
          "font": {
           "color": "#2a3f5f"
          },
          "geo": {
           "bgcolor": "white",
           "lakecolor": "white",
           "landcolor": "#E5ECF6",
           "showlakes": true,
           "showland": true,
           "subunitcolor": "white"
          },
          "hoverlabel": {
           "align": "left"
          },
          "hovermode": "closest",
          "mapbox": {
           "style": "light"
          },
          "paper_bgcolor": "white",
          "plot_bgcolor": "#E5ECF6",
          "polar": {
           "angularaxis": {
            "gridcolor": "white",
            "linecolor": "white",
            "ticks": ""
           },
           "bgcolor": "#E5ECF6",
           "radialaxis": {
            "gridcolor": "white",
            "linecolor": "white",
            "ticks": ""
           }
          },
          "scene": {
           "xaxis": {
            "backgroundcolor": "#E5ECF6",
            "gridcolor": "white",
            "gridwidth": 2,
            "linecolor": "white",
            "showbackground": true,
            "ticks": "",
            "zerolinecolor": "white"
           },
           "yaxis": {
            "backgroundcolor": "#E5ECF6",
            "gridcolor": "white",
            "gridwidth": 2,
            "linecolor": "white",
            "showbackground": true,
            "ticks": "",
            "zerolinecolor": "white"
           },
           "zaxis": {
            "backgroundcolor": "#E5ECF6",
            "gridcolor": "white",
            "gridwidth": 2,
            "linecolor": "white",
            "showbackground": true,
            "ticks": "",
            "zerolinecolor": "white"
           }
          },
          "shapedefaults": {
           "line": {
            "color": "#2a3f5f"
           }
          },
          "ternary": {
           "aaxis": {
            "gridcolor": "white",
            "linecolor": "white",
            "ticks": ""
           },
           "baxis": {
            "gridcolor": "white",
            "linecolor": "white",
            "ticks": ""
           },
           "bgcolor": "#E5ECF6",
           "caxis": {
            "gridcolor": "white",
            "linecolor": "white",
            "ticks": ""
           }
          },
          "title": {
           "x": 0.05
          },
          "xaxis": {
           "automargin": true,
           "gridcolor": "white",
           "linecolor": "white",
           "ticks": "",
           "title": {
            "standoff": 15
           },
           "zerolinecolor": "white",
           "zerolinewidth": 2
          },
          "yaxis": {
           "automargin": true,
           "gridcolor": "white",
           "linecolor": "white",
           "ticks": "",
           "title": {
            "standoff": 15
           },
           "zerolinecolor": "white",
           "zerolinewidth": 2
          }
         }
        },
        "title": {
         "font": {
          "color": "#8a8d93",
          "family": "Lato, sans-serif",
          "size": 25
         },
         "text": "Best Month for Releasing Content"
        },
        "width": 600,
        "xaxis": {
         "anchor": "y",
         "domain": [
          0,
          1
         ],
         "showgrid": false,
         "showline": true,
         "ticksuffix": " ",
         "title": {
          "text": " "
         }
        },
        "yaxis": {
         "anchor": "x",
         "domain": [
          0,
          1
         ],
         "title": {
          "text": " "
         }
        }
       }
      }
     },
     "metadata": {},
     "output_type": "display_data"
    }
   ],
   "source": [
    "df_month = pd.DataFrame(df.month_added.value_counts()).reset_index().rename(columns={'index':'month',\n",
    "                        'month_added':'count'})\n",
    "df_month['month_final'] = df_month['month'].replace({1:'Jan', 2:'Feb', 3:'Mar', 4:'Apr',\n",
    "                        5:'May', 6:'Jun', 7:'Jul', 8:'Aug', 9:'Sep', 10:'Oct', 11:'Nov', 12:'Dec'})\n",
    "\n",
    "fig_month = px.funnel(df_month, x='count', y='month_final', title='Best Month for Releasing Content',\n",
    "                    height=350, width=600, color_discrete_sequence=['#b20710'])\n",
    "fig_month.update_xaxes(showgrid=False, ticksuffix=' ', showline=True)\n",
    "fig_month.update_traces(hovertemplate=None, marker=dict(line=dict(width=0)))\n",
    "fig_month.update_layout(margin=dict(t=60, b=20, l=70, r=40),\n",
    "                        xaxis_title=' ', yaxis_title=' ',\n",
    "                        plot_bgcolor='#333', paper_bgcolor='#333',\n",
    "                        title_font=dict(size=25, color='#8a8d93', family=\"Lato, sans-serif\"),\n",
    "                        font=dict(color='#8a8d93'),\n",
    "                        hoverlabel=dict(bgcolor='black', font_size=13, font_family='Lato, sans-serif'))\n"
   ]
  },
  {
   "cell_type": "markdown",
   "metadata": {},
   "source": [
    "<h4>Conclusion 3</h4>\n",
    "<p>Looking at the funnel chart, we may see that looks like the last quarter of the year is the best time to release content.</p>"
   ]
  },
  {
   "cell_type": "markdown",
   "metadata": {},
   "source": [
    "<h4>Graph 4</h4>\n",
    "<p>As next step let's see which country has added the most content to Netflix</p>"
   ]
  },
  {
   "cell_type": "code",
   "execution_count": 43,
   "metadata": {},
   "outputs": [],
   "source": [
    "df['country'] = df['country'].apply(lambda x: x.split(\",\")[0])\n"
   ]
  },
  {
   "cell_type": "code",
   "execution_count": 58,
   "metadata": {},
   "outputs": [
    {
     "data": {
      "application/vnd.plotly.v1+json": {
       "config": {
        "plotlyServerURL": "https://plot.ly"
       },
       "data": [
        {
         "alignmentgroup": "True",
         "legendgroup": "",
         "marker": {
          "color": "#b20710",
          "line": {
           "width": 0
          },
          "pattern": {
           "shape": ""
          }
         },
         "name": "",
         "offsetgroup": "",
         "orientation": "h",
         "showlegend": false,
         "text": [
          "United States",
          "India",
          "United Kingdom",
          "Canada",
          "France",
          "Spain",
          "Egypt",
          "Japan",
          "Nigeria",
          "Turkey",
          "Indonesia",
          "Mexico",
          "Philippines",
          "Hong Kong",
          "Germany",
          "China",
          "South Korea",
          "Australia",
          "Argentina",
          "Brazil"
         ],
         "textposition": "auto",
         "type": "bar",
         "x": [
          2130,
          910,
          347,
          166,
          145,
          122,
          95,
          91,
          89,
          84,
          82,
          81,
          79,
          75,
          70,
          58,
          54,
          53,
          52,
          51
         ],
         "xaxis": "x",
         "y": [
          "United States",
          "India",
          "United Kingdom",
          "Canada",
          "France",
          "Spain",
          "Egypt",
          "Japan",
          "Nigeria",
          "Turkey",
          "Indonesia",
          "Mexico",
          "Philippines",
          "Hong Kong",
          "Germany",
          "China",
          "South Korea",
          "Australia",
          "Argentina",
          "Brazil"
         ],
         "yaxis": "y"
        }
       ],
       "layout": {
        "barmode": "relative",
        "font": {
         "color": "#8a8d93",
         "size": 13
        },
        "height": 600,
        "hovermode": "y unified",
        "legend": {
         "tracegroupgap": 0
        },
        "margin": {
         "b": 20,
         "l": 70,
         "r": 40,
         "t": 100
        },
        "paper_bgcolor": "#333",
        "plot_bgcolor": "#333",
        "template": {
         "data": {
          "bar": [
           {
            "error_x": {
             "color": "#2a3f5f"
            },
            "error_y": {
             "color": "#2a3f5f"
            },
            "marker": {
             "line": {
              "color": "#E5ECF6",
              "width": 0.5
             },
             "pattern": {
              "fillmode": "overlay",
              "size": 10,
              "solidity": 0.2
             }
            },
            "type": "bar"
           }
          ],
          "barpolar": [
           {
            "marker": {
             "line": {
              "color": "#E5ECF6",
              "width": 0.5
             },
             "pattern": {
              "fillmode": "overlay",
              "size": 10,
              "solidity": 0.2
             }
            },
            "type": "barpolar"
           }
          ],
          "carpet": [
           {
            "aaxis": {
             "endlinecolor": "#2a3f5f",
             "gridcolor": "white",
             "linecolor": "white",
             "minorgridcolor": "white",
             "startlinecolor": "#2a3f5f"
            },
            "baxis": {
             "endlinecolor": "#2a3f5f",
             "gridcolor": "white",
             "linecolor": "white",
             "minorgridcolor": "white",
             "startlinecolor": "#2a3f5f"
            },
            "type": "carpet"
           }
          ],
          "choropleth": [
           {
            "colorbar": {
             "outlinewidth": 0,
             "ticks": ""
            },
            "type": "choropleth"
           }
          ],
          "contour": [
           {
            "colorbar": {
             "outlinewidth": 0,
             "ticks": ""
            },
            "colorscale": [
             [
              0,
              "#0d0887"
             ],
             [
              0.1111111111111111,
              "#46039f"
             ],
             [
              0.2222222222222222,
              "#7201a8"
             ],
             [
              0.3333333333333333,
              "#9c179e"
             ],
             [
              0.4444444444444444,
              "#bd3786"
             ],
             [
              0.5555555555555556,
              "#d8576b"
             ],
             [
              0.6666666666666666,
              "#ed7953"
             ],
             [
              0.7777777777777778,
              "#fb9f3a"
             ],
             [
              0.8888888888888888,
              "#fdca26"
             ],
             [
              1,
              "#f0f921"
             ]
            ],
            "type": "contour"
           }
          ],
          "contourcarpet": [
           {
            "colorbar": {
             "outlinewidth": 0,
             "ticks": ""
            },
            "type": "contourcarpet"
           }
          ],
          "heatmap": [
           {
            "colorbar": {
             "outlinewidth": 0,
             "ticks": ""
            },
            "colorscale": [
             [
              0,
              "#0d0887"
             ],
             [
              0.1111111111111111,
              "#46039f"
             ],
             [
              0.2222222222222222,
              "#7201a8"
             ],
             [
              0.3333333333333333,
              "#9c179e"
             ],
             [
              0.4444444444444444,
              "#bd3786"
             ],
             [
              0.5555555555555556,
              "#d8576b"
             ],
             [
              0.6666666666666666,
              "#ed7953"
             ],
             [
              0.7777777777777778,
              "#fb9f3a"
             ],
             [
              0.8888888888888888,
              "#fdca26"
             ],
             [
              1,
              "#f0f921"
             ]
            ],
            "type": "heatmap"
           }
          ],
          "heatmapgl": [
           {
            "colorbar": {
             "outlinewidth": 0,
             "ticks": ""
            },
            "colorscale": [
             [
              0,
              "#0d0887"
             ],
             [
              0.1111111111111111,
              "#46039f"
             ],
             [
              0.2222222222222222,
              "#7201a8"
             ],
             [
              0.3333333333333333,
              "#9c179e"
             ],
             [
              0.4444444444444444,
              "#bd3786"
             ],
             [
              0.5555555555555556,
              "#d8576b"
             ],
             [
              0.6666666666666666,
              "#ed7953"
             ],
             [
              0.7777777777777778,
              "#fb9f3a"
             ],
             [
              0.8888888888888888,
              "#fdca26"
             ],
             [
              1,
              "#f0f921"
             ]
            ],
            "type": "heatmapgl"
           }
          ],
          "histogram": [
           {
            "marker": {
             "pattern": {
              "fillmode": "overlay",
              "size": 10,
              "solidity": 0.2
             }
            },
            "type": "histogram"
           }
          ],
          "histogram2d": [
           {
            "colorbar": {
             "outlinewidth": 0,
             "ticks": ""
            },
            "colorscale": [
             [
              0,
              "#0d0887"
             ],
             [
              0.1111111111111111,
              "#46039f"
             ],
             [
              0.2222222222222222,
              "#7201a8"
             ],
             [
              0.3333333333333333,
              "#9c179e"
             ],
             [
              0.4444444444444444,
              "#bd3786"
             ],
             [
              0.5555555555555556,
              "#d8576b"
             ],
             [
              0.6666666666666666,
              "#ed7953"
             ],
             [
              0.7777777777777778,
              "#fb9f3a"
             ],
             [
              0.8888888888888888,
              "#fdca26"
             ],
             [
              1,
              "#f0f921"
             ]
            ],
            "type": "histogram2d"
           }
          ],
          "histogram2dcontour": [
           {
            "colorbar": {
             "outlinewidth": 0,
             "ticks": ""
            },
            "colorscale": [
             [
              0,
              "#0d0887"
             ],
             [
              0.1111111111111111,
              "#46039f"
             ],
             [
              0.2222222222222222,
              "#7201a8"
             ],
             [
              0.3333333333333333,
              "#9c179e"
             ],
             [
              0.4444444444444444,
              "#bd3786"
             ],
             [
              0.5555555555555556,
              "#d8576b"
             ],
             [
              0.6666666666666666,
              "#ed7953"
             ],
             [
              0.7777777777777778,
              "#fb9f3a"
             ],
             [
              0.8888888888888888,
              "#fdca26"
             ],
             [
              1,
              "#f0f921"
             ]
            ],
            "type": "histogram2dcontour"
           }
          ],
          "mesh3d": [
           {
            "colorbar": {
             "outlinewidth": 0,
             "ticks": ""
            },
            "type": "mesh3d"
           }
          ],
          "parcoords": [
           {
            "line": {
             "colorbar": {
              "outlinewidth": 0,
              "ticks": ""
             }
            },
            "type": "parcoords"
           }
          ],
          "pie": [
           {
            "automargin": true,
            "type": "pie"
           }
          ],
          "scatter": [
           {
            "fillpattern": {
             "fillmode": "overlay",
             "size": 10,
             "solidity": 0.2
            },
            "type": "scatter"
           }
          ],
          "scatter3d": [
           {
            "line": {
             "colorbar": {
              "outlinewidth": 0,
              "ticks": ""
             }
            },
            "marker": {
             "colorbar": {
              "outlinewidth": 0,
              "ticks": ""
             }
            },
            "type": "scatter3d"
           }
          ],
          "scattercarpet": [
           {
            "marker": {
             "colorbar": {
              "outlinewidth": 0,
              "ticks": ""
             }
            },
            "type": "scattercarpet"
           }
          ],
          "scattergeo": [
           {
            "marker": {
             "colorbar": {
              "outlinewidth": 0,
              "ticks": ""
             }
            },
            "type": "scattergeo"
           }
          ],
          "scattergl": [
           {
            "marker": {
             "colorbar": {
              "outlinewidth": 0,
              "ticks": ""
             }
            },
            "type": "scattergl"
           }
          ],
          "scattermapbox": [
           {
            "marker": {
             "colorbar": {
              "outlinewidth": 0,
              "ticks": ""
             }
            },
            "type": "scattermapbox"
           }
          ],
          "scatterpolar": [
           {
            "marker": {
             "colorbar": {
              "outlinewidth": 0,
              "ticks": ""
             }
            },
            "type": "scatterpolar"
           }
          ],
          "scatterpolargl": [
           {
            "marker": {
             "colorbar": {
              "outlinewidth": 0,
              "ticks": ""
             }
            },
            "type": "scatterpolargl"
           }
          ],
          "scatterternary": [
           {
            "marker": {
             "colorbar": {
              "outlinewidth": 0,
              "ticks": ""
             }
            },
            "type": "scatterternary"
           }
          ],
          "surface": [
           {
            "colorbar": {
             "outlinewidth": 0,
             "ticks": ""
            },
            "colorscale": [
             [
              0,
              "#0d0887"
             ],
             [
              0.1111111111111111,
              "#46039f"
             ],
             [
              0.2222222222222222,
              "#7201a8"
             ],
             [
              0.3333333333333333,
              "#9c179e"
             ],
             [
              0.4444444444444444,
              "#bd3786"
             ],
             [
              0.5555555555555556,
              "#d8576b"
             ],
             [
              0.6666666666666666,
              "#ed7953"
             ],
             [
              0.7777777777777778,
              "#fb9f3a"
             ],
             [
              0.8888888888888888,
              "#fdca26"
             ],
             [
              1,
              "#f0f921"
             ]
            ],
            "type": "surface"
           }
          ],
          "table": [
           {
            "cells": {
             "fill": {
              "color": "#EBF0F8"
             },
             "line": {
              "color": "white"
             }
            },
            "header": {
             "fill": {
              "color": "#C8D4E3"
             },
             "line": {
              "color": "white"
             }
            },
            "type": "table"
           }
          ]
         },
         "layout": {
          "annotationdefaults": {
           "arrowcolor": "#2a3f5f",
           "arrowhead": 0,
           "arrowwidth": 1
          },
          "autotypenumbers": "strict",
          "coloraxis": {
           "colorbar": {
            "outlinewidth": 0,
            "ticks": ""
           }
          },
          "colorscale": {
           "diverging": [
            [
             0,
             "#8e0152"
            ],
            [
             0.1,
             "#c51b7d"
            ],
            [
             0.2,
             "#de77ae"
            ],
            [
             0.3,
             "#f1b6da"
            ],
            [
             0.4,
             "#fde0ef"
            ],
            [
             0.5,
             "#f7f7f7"
            ],
            [
             0.6,
             "#e6f5d0"
            ],
            [
             0.7,
             "#b8e186"
            ],
            [
             0.8,
             "#7fbc41"
            ],
            [
             0.9,
             "#4d9221"
            ],
            [
             1,
             "#276419"
            ]
           ],
           "sequential": [
            [
             0,
             "#0d0887"
            ],
            [
             0.1111111111111111,
             "#46039f"
            ],
            [
             0.2222222222222222,
             "#7201a8"
            ],
            [
             0.3333333333333333,
             "#9c179e"
            ],
            [
             0.4444444444444444,
             "#bd3786"
            ],
            [
             0.5555555555555556,
             "#d8576b"
            ],
            [
             0.6666666666666666,
             "#ed7953"
            ],
            [
             0.7777777777777778,
             "#fb9f3a"
            ],
            [
             0.8888888888888888,
             "#fdca26"
            ],
            [
             1,
             "#f0f921"
            ]
           ],
           "sequentialminus": [
            [
             0,
             "#0d0887"
            ],
            [
             0.1111111111111111,
             "#46039f"
            ],
            [
             0.2222222222222222,
             "#7201a8"
            ],
            [
             0.3333333333333333,
             "#9c179e"
            ],
            [
             0.4444444444444444,
             "#bd3786"
            ],
            [
             0.5555555555555556,
             "#d8576b"
            ],
            [
             0.6666666666666666,
             "#ed7953"
            ],
            [
             0.7777777777777778,
             "#fb9f3a"
            ],
            [
             0.8888888888888888,
             "#fdca26"
            ],
            [
             1,
             "#f0f921"
            ]
           ]
          },
          "colorway": [
           "#636efa",
           "#EF553B",
           "#00cc96",
           "#ab63fa",
           "#FFA15A",
           "#19d3f3",
           "#FF6692",
           "#B6E880",
           "#FF97FF",
           "#FECB52"
          ],
          "font": {
           "color": "#2a3f5f"
          },
          "geo": {
           "bgcolor": "white",
           "lakecolor": "white",
           "landcolor": "#E5ECF6",
           "showlakes": true,
           "showland": true,
           "subunitcolor": "white"
          },
          "hoverlabel": {
           "align": "left"
          },
          "hovermode": "closest",
          "mapbox": {
           "style": "light"
          },
          "paper_bgcolor": "white",
          "plot_bgcolor": "#E5ECF6",
          "polar": {
           "angularaxis": {
            "gridcolor": "white",
            "linecolor": "white",
            "ticks": ""
           },
           "bgcolor": "#E5ECF6",
           "radialaxis": {
            "gridcolor": "white",
            "linecolor": "white",
            "ticks": ""
           }
          },
          "scene": {
           "xaxis": {
            "backgroundcolor": "#E5ECF6",
            "gridcolor": "white",
            "gridwidth": 2,
            "linecolor": "white",
            "showbackground": true,
            "ticks": "",
            "zerolinecolor": "white"
           },
           "yaxis": {
            "backgroundcolor": "#E5ECF6",
            "gridcolor": "white",
            "gridwidth": 2,
            "linecolor": "white",
            "showbackground": true,
            "ticks": "",
            "zerolinecolor": "white"
           },
           "zaxis": {
            "backgroundcolor": "#E5ECF6",
            "gridcolor": "white",
            "gridwidth": 2,
            "linecolor": "white",
            "showbackground": true,
            "ticks": "",
            "zerolinecolor": "white"
           }
          },
          "shapedefaults": {
           "line": {
            "color": "#2a3f5f"
           }
          },
          "ternary": {
           "aaxis": {
            "gridcolor": "white",
            "linecolor": "white",
            "ticks": ""
           },
           "baxis": {
            "gridcolor": "white",
            "linecolor": "white",
            "ticks": ""
           },
           "bgcolor": "#E5ECF6",
           "caxis": {
            "gridcolor": "white",
            "linecolor": "white",
            "ticks": ""
           }
          },
          "title": {
           "x": 0.05
          },
          "xaxis": {
           "automargin": true,
           "gridcolor": "white",
           "linecolor": "white",
           "ticks": "",
           "title": {
            "standoff": 15
           },
           "zerolinecolor": "white",
           "zerolinewidth": 2
          },
          "yaxis": {
           "automargin": true,
           "gridcolor": "white",
           "linecolor": "white",
           "ticks": "",
           "title": {
            "standoff": 15
           },
           "zerolinecolor": "white",
           "zerolinewidth": 2
          }
         }
        },
        "title": {
         "font": {
          "color": "#8a8d93",
          "family": "Lato, sans-serif",
          "size": 25
         },
         "text": "Country that has Added Most Content"
        },
        "xaxis": {
         "anchor": "y",
         "domain": [
          0,
          1
         ],
         "title": {
          "text": "country"
         },
         "visible": false
        },
        "yaxis": {
         "anchor": "x",
         "categoryorder": "total ascending",
         "domain": [
          0,
          1
         ],
         "title": {
          "text": "index"
         },
         "visible": false
        }
       }
      }
     },
     "metadata": {},
     "output_type": "display_data"
    }
   ],
   "source": [
    "\n",
    "df_ctry = pd.DataFrame(df.country.value_counts()).reset_index()\n",
    "\n",
    "fig_bars_ctry = px.bar(df_ctry[:20], x='country', y='index', text='index',\n",
    "                    title='Country that has Added Most Content',\n",
    "                    color_discrete_sequence=['#b20710'])\n",
    "fig_bars_ctry.update_traces(hovertemplate=None, marker=dict(line=dict(width=0)))\n",
    "fig_bars_ctry.update_xaxes(visible=False)\n",
    "fig_bars_ctry.update_yaxes(visible=False, categoryorder='total ascending')\n",
    "fig_bars_ctry.update_layout(height=600,\n",
    "                            margin=dict(t=100, b=20, l=70, r=40),\n",
    "                            hovermode='y unified',\n",
    "                            plot_bgcolor='#333', paper_bgcolor='#333',\n",
    "                            title_font=dict(size=25, color='#8a8d93', family='Lato, sans-serif'),\n",
    "                            font=dict(color='#8a8d93', size=13))\n",
    "\n"
   ]
  },
  {
   "cell_type": "markdown",
   "metadata": {},
   "source": [
    "<h4>Conclusion 4</h4>\n",
    "<ul>\n",
    "    <li>USA is the country that has added more content to Netflix, followed by India and UK.</li>\n",
    "    <li>For South America, Argentina, and Brazil are in positions 19 and 20 respectively, with 52 and 51 shows added to Netflix.</li>\n",
    "</ul>"
   ]
  },
  {
   "cell_type": "markdown",
   "metadata": {},
   "source": [
    "<h4>Graph 5</h4>\n",
    "<p>Now, let's see how has been the dynamics of content by years.</p>"
   ]
  },
  {
   "cell_type": "code",
   "execution_count": 62,
   "metadata": {},
   "outputs": [
    {
     "data": {
      "application/vnd.plotly.v1+json": {
       "config": {
        "plotlyServerURL": "https://plot.ly"
       },
       "data": [
        {
         "coloraxis": "coloraxis",
         "geo": "geo",
         "hovertemplate": "year_added=2008<br>country=%{location}<br>counts=%{z}<extra></extra>",
         "locationmode": "country names",
         "locations": [
          "United States"
         ],
         "name": "",
         "type": "choropleth",
         "z": [
          1
         ]
        }
       ],
       "frames": [
        {
         "data": [
          {
           "coloraxis": "coloraxis",
           "geo": "geo",
           "hovertemplate": "year_added=2008<br>country=%{location}<br>counts=%{z}<extra></extra>",
           "locationmode": "country names",
           "locations": [
            "United States"
           ],
           "name": "",
           "type": "choropleth",
           "z": [
            1
           ]
          }
         ],
         "name": "2008"
        },
        {
         "data": [
          {
           "coloraxis": "coloraxis",
           "geo": "geo",
           "hovertemplate": "year_added=2009<br>country=%{location}<br>counts=%{z}<extra></extra>",
           "locationmode": "country names",
           "locations": [
            "Denmark",
            "United States"
           ],
           "name": "",
           "type": "choropleth",
           "z": [
            1,
            1
           ]
          }
         ],
         "name": "2009"
        },
        {
         "data": [
          {
           "coloraxis": "coloraxis",
           "geo": "geo",
           "hovertemplate": "year_added=2010<br>country=%{location}<br>counts=%{z}<extra></extra>",
           "locationmode": "country names",
           "locations": [
            "United States"
           ],
           "name": "",
           "type": "choropleth",
           "z": [
            1
           ]
          }
         ],
         "name": "2010"
        },
        {
         "data": [
          {
           "coloraxis": "coloraxis",
           "geo": "geo",
           "hovertemplate": "year_added=2011<br>country=%{location}<br>counts=%{z}<extra></extra>",
           "locationmode": "country names",
           "locations": [
            "United States",
            "Spain"
           ],
           "name": "",
           "type": "choropleth",
           "z": [
            12,
            1
           ]
          }
         ],
         "name": "2011"
        },
        {
         "data": [
          {
           "coloraxis": "coloraxis",
           "geo": "geo",
           "hovertemplate": "year_added=2012<br>country=%{location}<br>counts=%{z}<extra></extra>",
           "locationmode": "country names",
           "locations": [
            "United States"
           ],
           "name": "",
           "type": "choropleth",
           "z": [
            3
           ]
          }
         ],
         "name": "2012"
        },
        {
         "data": [
          {
           "coloraxis": "coloraxis",
           "geo": "geo",
           "hovertemplate": "year_added=2013<br>country=%{location}<br>counts=%{z}<extra></extra>",
           "locationmode": "country names",
           "locations": [
            "United States",
            "Canada"
           ],
           "name": "",
           "type": "choropleth",
           "z": [
            6,
            1
           ]
          }
         ],
         "name": "2013"
        },
        {
         "data": [
          {
           "coloraxis": "coloraxis",
           "geo": "geo",
           "hovertemplate": "year_added=2014<br>country=%{location}<br>counts=%{z}<extra></extra>",
           "locationmode": "country names",
           "locations": [
            "United States",
            "United Kingdom"
           ],
           "name": "",
           "type": "choropleth",
           "z": [
            12,
            2
           ]
          }
         ],
         "name": "2014"
        },
        {
         "data": [
          {
           "coloraxis": "coloraxis",
           "geo": "geo",
           "hovertemplate": "year_added=2015<br>country=%{location}<br>counts=%{z}<extra></extra>",
           "locationmode": "country names",
           "locations": [
            "United States",
            "Canada",
            "France",
            "United Kingdom",
            "Australia",
            "Germany",
            "Italy",
            "Mexico",
            "New Zealand",
            "Nigeria",
            "Norway"
           ],
           "name": "",
           "type": "choropleth",
           "z": [
            37,
            2,
            2,
            2,
            1,
            1,
            1,
            1,
            1,
            1,
            1
           ]
          }
         ],
         "name": "2015"
        },
        {
         "data": [
          {
           "coloraxis": "coloraxis",
           "geo": "geo",
           "hovertemplate": "year_added=2016<br>country=%{location}<br>counts=%{z}<extra></extra>",
           "locationmode": "country names",
           "locations": [
            "United States",
            "United Kingdom",
            "France",
            "Canada",
            "India",
            "Mexico",
            "Spain",
            "Japan",
            "Netherlands",
            "Argentina",
            "Australia",
            "Germany",
            "Hong Kong",
            "China",
            "Denmark",
            "Israel",
            "Pakistan",
            "Belgium",
            "Brazil",
            "Chile",
            "Croatia",
            "Ireland",
            "Italy",
            "New Zealand",
            "Nigeria",
            "Peru",
            "United Arab Emirates"
           ],
           "name": "",
           "type": "choropleth",
           "z": [
            100,
            16,
            11,
            9,
            9,
            9,
            9,
            5,
            4,
            3,
            3,
            3,
            3,
            2,
            2,
            2,
            2,
            1,
            1,
            1,
            1,
            1,
            1,
            1,
            1,
            1,
            1
           ]
          }
         ],
         "name": "2016"
        },
        {
         "data": [
          {
           "coloraxis": "coloraxis",
           "geo": "geo",
           "hovertemplate": "year_added=2017<br>country=%{location}<br>counts=%{z}<extra></extra>",
           "locationmode": "country names",
           "locations": [
            "United States",
            "India",
            "United Kingdom",
            "Canada",
            "France",
            "Spain",
            "Mexico",
            "Turkey",
            "Germany",
            "Brazil",
            "China",
            "Japan",
            "South Korea",
            "Argentina",
            "Australia",
            "Chile",
            "Italy",
            "Pakistan",
            "Malaysia",
            "Norway",
            "Belgium",
            "Hong Kong",
            "Ireland",
            "Israel",
            "Netherlands",
            "New Zealand",
            "United Arab Emirates",
            "Austria",
            "Bulgaria",
            "Cambodia",
            "Czech Republic",
            "Denmark",
            "Finland",
            "Georgia",
            "Indonesia",
            "Lebanon",
            "Nigeria",
            "Portugal",
            "Russia",
            "Saudi Arabia",
            "Singapore",
            "Slovenia",
            "South Africa",
            "Sweden",
            "Switzerland",
            "Thailand",
            "Venezuela",
            "Vietnam"
           ],
           "name": "",
           "type": "choropleth",
           "z": [
            266,
            133,
            62,
            34,
            24,
            24,
            22,
            20,
            15,
            13,
            12,
            11,
            11,
            9,
            9,
            5,
            5,
            5,
            4,
            4,
            3,
            2,
            2,
            2,
            2,
            2,
            2,
            1,
            1,
            1,
            1,
            1,
            1,
            1,
            1,
            1,
            1,
            1,
            1,
            1,
            1,
            1,
            1,
            1,
            1,
            1,
            1,
            1
           ]
          }
         ],
         "name": "2017"
        },
        {
         "data": [
          {
           "coloraxis": "coloraxis",
           "geo": "geo",
           "hovertemplate": "year_added=2018<br>country=%{location}<br>counts=%{z}<extra></extra>",
           "locationmode": "country names",
           "locations": [
            "United States",
            "India",
            "United Kingdom",
            "Hong Kong",
            "Canada",
            "Thailand",
            "Indonesia",
            "Spain",
            "Australia",
            "France",
            "Argentina",
            "China",
            "Mexico",
            "Japan",
            "South Korea",
            "Germany",
            "Brazil",
            "Ireland",
            "Chile",
            "Italy",
            "Singapore",
            "Colombia",
            "Denmark",
            "Pakistan",
            "South Africa",
            "Philippines",
            "Turkey",
            "Bulgaria",
            "Israel",
            "Netherlands",
            "New Zealand",
            "Norway",
            "United Arab Emirates",
            "Czech Republic",
            "Hungary",
            "Malaysia",
            "Serbia",
            "Sweden",
            "Switzerland",
            "Vietnam",
            "Belgium",
            "Cambodia",
            "Egypt",
            "Guatemala",
            "Iceland",
            "Nigeria",
            "Peru",
            "Poland",
            "Portugal",
            "Russia",
            "Somalia",
            "Soviet Union",
            "Taiwan",
            "Uruguay"
           ],
           "name": "",
           "type": "choropleth",
           "z": [
            320,
            316,
            69,
            48,
            34,
            26,
            25,
            24,
            20,
            20,
            19,
            17,
            15,
            13,
            13,
            12,
            9,
            8,
            7,
            6,
            6,
            5,
            5,
            5,
            5,
            4,
            4,
            3,
            3,
            3,
            3,
            3,
            3,
            2,
            2,
            2,
            2,
            2,
            2,
            2,
            1,
            1,
            1,
            1,
            1,
            1,
            1,
            1,
            1,
            1,
            1,
            1,
            1,
            1
           ]
          }
         ],
         "name": "2018"
        },
        {
         "data": [
          {
           "coloraxis": "coloraxis",
           "geo": "geo",
           "hovertemplate": "year_added=2019<br>country=%{location}<br>counts=%{z}<extra></extra>",
           "locationmode": "country names",
           "locations": [
            "United States",
            "India",
            "United Kingdom",
            "Egypt",
            "Philippines",
            "Canada",
            "Spain",
            "France",
            "Nigeria",
            "Japan",
            "Indonesia",
            "Turkey",
            "Hong Kong",
            "Mexico",
            "South Korea",
            "Germany",
            "Brazil",
            "China",
            "Italy",
            "Poland",
            "Argentina",
            "Australia",
            "Denmark",
            "Taiwan",
            "Thailand",
            "Colombia",
            "Pakistan",
            "Netherlands",
            "South Africa",
            "Israel",
            "Malaysia",
            "United Arab Emirates",
            "Uruguay",
            "Austria",
            "Bangladesh",
            "Chile",
            "Ghana",
            "New Zealand",
            "Romania",
            "Singapore",
            "Switzerland",
            "Iceland",
            "Iran",
            "Ireland",
            "Paraguay",
            "Peru",
            "Sweden",
            "Vietnam"
           ],
           "name": "",
           "type": "choropleth",
           "z": [
            550,
            192,
            89,
            44,
            39,
            30,
            29,
            27,
            26,
            19,
            18,
            16,
            15,
            14,
            14,
            12,
            10,
            9,
            9,
            9,
            7,
            7,
            7,
            7,
            7,
            6,
            6,
            5,
            5,
            4,
            4,
            3,
            3,
            2,
            2,
            2,
            2,
            2,
            2,
            2,
            2,
            1,
            1,
            1,
            1,
            1,
            1,
            1
           ]
          }
         ],
         "name": "2019"
        },
        {
         "data": [
          {
           "coloraxis": "coloraxis",
           "geo": "geo",
           "hovertemplate": "year_added=2020<br>country=%{location}<br>counts=%{z}<extra></extra>",
           "locationmode": "country names",
           "locations": [
            "United States",
            "India",
            "United Kingdom",
            "Egypt",
            "Canada",
            "France",
            "Nigeria",
            "Philippines",
            "Indonesia",
            "Japan",
            "Turkey",
            "Spain",
            "South Africa",
            "Italy",
            "Brazil",
            "Germany",
            "Mexico",
            "Lebanon",
            "Taiwan",
            "Argentina",
            "Australia",
            "Poland",
            "South Korea",
            "United Arab Emirates",
            "China",
            "Saudi Arabia",
            "Thailand",
            "Ireland",
            "Malaysia",
            "Hong Kong",
            "Kuwait",
            "Netherlands",
            "New Zealand",
            "Romania",
            "Kenya",
            "Uruguay",
            "Austria",
            "Chile",
            "Colombia",
            "Ghana",
            "Hungary",
            "Norway",
            "Russia",
            "Sweden",
            "Belgium",
            "Finland",
            "Iceland",
            "Jamaica",
            "Mozambique",
            "Namibia",
            "Peru",
            "Serbia",
            "Singapore",
            "Switzerland",
            "Vietnam",
            "Zimbabwe"
           ],
           "name": "",
           "type": "choropleth",
           "z": [
            460,
            174,
            59,
            46,
            42,
            42,
            35,
            31,
            26,
            23,
            23,
            19,
            17,
            14,
            13,
            13,
            13,
            12,
            10,
            8,
            8,
            8,
            8,
            8,
            6,
            6,
            6,
            5,
            5,
            4,
            4,
            4,
            4,
            4,
            3,
            3,
            2,
            2,
            2,
            2,
            2,
            2,
            2,
            2,
            1,
            1,
            1,
            1,
            1,
            1,
            1,
            1,
            1,
            1,
            1,
            1
           ]
          }
         ],
         "name": "2020"
        },
        {
         "data": [
          {
           "coloraxis": "coloraxis",
           "geo": "geo",
           "hovertemplate": "year_added=2021<br>country=%{location}<br>counts=%{z}<extra></extra>",
           "locationmode": "country names",
           "locations": [
            "United States",
            "India",
            "United Kingdom",
            "Nigeria",
            "Turkey",
            "Japan",
            "France",
            "Spain",
            "Canada",
            "Germany",
            "China",
            "Indonesia",
            "South Korea",
            "Italy",
            "Mexico",
            "Argentina",
            "South Africa",
            "Australia",
            "Brazil",
            "Philippines",
            "Egypt",
            "Poland",
            "Taiwan",
            "Thailand",
            "Hong Kong",
            "Lebanon",
            "Romania",
            "Belgium",
            "Colombia",
            "Ireland",
            "New Zealand",
            "Portugal",
            "Sweden",
            "United Arab Emirates",
            "Vietnam",
            "",
            "Austria",
            "Bangladesh",
            "Bulgaria",
            "Cameroon",
            "Chile",
            "Czech Republic",
            "Hungary",
            "Kenya",
            "Kuwait",
            "Malaysia",
            "Mauritius",
            "Netherlands",
            "Norway",
            "Russia",
            "Saudi Arabia",
            "Switzerland",
            "Syria"
           ],
           "name": "",
           "type": "choropleth",
           "z": [
            361,
            86,
            48,
            24,
            21,
            20,
            19,
            16,
            14,
            14,
            12,
            12,
            8,
            7,
            7,
            6,
            6,
            5,
            5,
            5,
            4,
            4,
            4,
            4,
            3,
            3,
            3,
            2,
            2,
            2,
            2,
            2,
            2,
            2,
            2,
            1,
            1,
            1,
            1,
            1,
            1,
            1,
            1,
            1,
            1,
            1,
            1,
            1,
            1,
            1,
            1,
            1,
            1
           ]
          }
         ],
         "name": "2021"
        }
       ],
       "layout": {
        "coloraxis": {
         "cmax": 200,
         "cmin": 0,
         "colorbar": {
          "title": {
           "text": "counts"
          }
         },
         "colorscale": [
          [
           0,
           "rgb(103,0,31)"
          ],
          [
           0.1,
           "rgb(178,24,43)"
          ],
          [
           0.2,
           "rgb(214,96,77)"
          ],
          [
           0.3,
           "rgb(244,165,130)"
          ],
          [
           0.4,
           "rgb(253,219,199)"
          ],
          [
           0.5,
           "rgb(247,247,247)"
          ],
          [
           0.6,
           "rgb(209,229,240)"
          ],
          [
           0.7,
           "rgb(146,197,222)"
          ],
          [
           0.8,
           "rgb(67,147,195)"
          ],
          [
           0.9,
           "rgb(33,102,172)"
          ],
          [
           1,
           "rgb(5,48,97)"
          ]
         ]
        },
        "geo": {
         "center": {},
         "domain": {
          "x": [
           0,
           1
          ],
          "y": [
           0,
           1
          ]
         }
        },
        "legend": {
         "tracegroupgap": 0
        },
        "margin": {
         "t": 60
        },
        "sliders": [
         {
          "active": 0,
          "currentvalue": {
           "prefix": "year_added="
          },
          "len": 0.9,
          "pad": {
           "b": 10,
           "t": 60
          },
          "steps": [
           {
            "args": [
             [
              "2008"
             ],
             {
              "frame": {
               "duration": 0,
               "redraw": true
              },
              "fromcurrent": true,
              "mode": "immediate",
              "transition": {
               "duration": 0,
               "easing": "linear"
              }
             }
            ],
            "label": "2008",
            "method": "animate"
           },
           {
            "args": [
             [
              "2009"
             ],
             {
              "frame": {
               "duration": 0,
               "redraw": true
              },
              "fromcurrent": true,
              "mode": "immediate",
              "transition": {
               "duration": 0,
               "easing": "linear"
              }
             }
            ],
            "label": "2009",
            "method": "animate"
           },
           {
            "args": [
             [
              "2010"
             ],
             {
              "frame": {
               "duration": 0,
               "redraw": true
              },
              "fromcurrent": true,
              "mode": "immediate",
              "transition": {
               "duration": 0,
               "easing": "linear"
              }
             }
            ],
            "label": "2010",
            "method": "animate"
           },
           {
            "args": [
             [
              "2011"
             ],
             {
              "frame": {
               "duration": 0,
               "redraw": true
              },
              "fromcurrent": true,
              "mode": "immediate",
              "transition": {
               "duration": 0,
               "easing": "linear"
              }
             }
            ],
            "label": "2011",
            "method": "animate"
           },
           {
            "args": [
             [
              "2012"
             ],
             {
              "frame": {
               "duration": 0,
               "redraw": true
              },
              "fromcurrent": true,
              "mode": "immediate",
              "transition": {
               "duration": 0,
               "easing": "linear"
              }
             }
            ],
            "label": "2012",
            "method": "animate"
           },
           {
            "args": [
             [
              "2013"
             ],
             {
              "frame": {
               "duration": 0,
               "redraw": true
              },
              "fromcurrent": true,
              "mode": "immediate",
              "transition": {
               "duration": 0,
               "easing": "linear"
              }
             }
            ],
            "label": "2013",
            "method": "animate"
           },
           {
            "args": [
             [
              "2014"
             ],
             {
              "frame": {
               "duration": 0,
               "redraw": true
              },
              "fromcurrent": true,
              "mode": "immediate",
              "transition": {
               "duration": 0,
               "easing": "linear"
              }
             }
            ],
            "label": "2014",
            "method": "animate"
           },
           {
            "args": [
             [
              "2015"
             ],
             {
              "frame": {
               "duration": 0,
               "redraw": true
              },
              "fromcurrent": true,
              "mode": "immediate",
              "transition": {
               "duration": 0,
               "easing": "linear"
              }
             }
            ],
            "label": "2015",
            "method": "animate"
           },
           {
            "args": [
             [
              "2016"
             ],
             {
              "frame": {
               "duration": 0,
               "redraw": true
              },
              "fromcurrent": true,
              "mode": "immediate",
              "transition": {
               "duration": 0,
               "easing": "linear"
              }
             }
            ],
            "label": "2016",
            "method": "animate"
           },
           {
            "args": [
             [
              "2017"
             ],
             {
              "frame": {
               "duration": 0,
               "redraw": true
              },
              "fromcurrent": true,
              "mode": "immediate",
              "transition": {
               "duration": 0,
               "easing": "linear"
              }
             }
            ],
            "label": "2017",
            "method": "animate"
           },
           {
            "args": [
             [
              "2018"
             ],
             {
              "frame": {
               "duration": 0,
               "redraw": true
              },
              "fromcurrent": true,
              "mode": "immediate",
              "transition": {
               "duration": 0,
               "easing": "linear"
              }
             }
            ],
            "label": "2018",
            "method": "animate"
           },
           {
            "args": [
             [
              "2019"
             ],
             {
              "frame": {
               "duration": 0,
               "redraw": true
              },
              "fromcurrent": true,
              "mode": "immediate",
              "transition": {
               "duration": 0,
               "easing": "linear"
              }
             }
            ],
            "label": "2019",
            "method": "animate"
           },
           {
            "args": [
             [
              "2020"
             ],
             {
              "frame": {
               "duration": 0,
               "redraw": true
              },
              "fromcurrent": true,
              "mode": "immediate",
              "transition": {
               "duration": 0,
               "easing": "linear"
              }
             }
            ],
            "label": "2020",
            "method": "animate"
           },
           {
            "args": [
             [
              "2021"
             ],
             {
              "frame": {
               "duration": 0,
               "redraw": true
              },
              "fromcurrent": true,
              "mode": "immediate",
              "transition": {
               "duration": 0,
               "easing": "linear"
              }
             }
            ],
            "label": "2021",
            "method": "animate"
           }
          ],
          "x": 0.1,
          "xanchor": "left",
          "y": 0,
          "yanchor": "top"
         }
        ],
        "template": {
         "data": {
          "bar": [
           {
            "error_x": {
             "color": "#2a3f5f"
            },
            "error_y": {
             "color": "#2a3f5f"
            },
            "marker": {
             "line": {
              "color": "#E5ECF6",
              "width": 0.5
             },
             "pattern": {
              "fillmode": "overlay",
              "size": 10,
              "solidity": 0.2
             }
            },
            "type": "bar"
           }
          ],
          "barpolar": [
           {
            "marker": {
             "line": {
              "color": "#E5ECF6",
              "width": 0.5
             },
             "pattern": {
              "fillmode": "overlay",
              "size": 10,
              "solidity": 0.2
             }
            },
            "type": "barpolar"
           }
          ],
          "carpet": [
           {
            "aaxis": {
             "endlinecolor": "#2a3f5f",
             "gridcolor": "white",
             "linecolor": "white",
             "minorgridcolor": "white",
             "startlinecolor": "#2a3f5f"
            },
            "baxis": {
             "endlinecolor": "#2a3f5f",
             "gridcolor": "white",
             "linecolor": "white",
             "minorgridcolor": "white",
             "startlinecolor": "#2a3f5f"
            },
            "type": "carpet"
           }
          ],
          "choropleth": [
           {
            "colorbar": {
             "outlinewidth": 0,
             "ticks": ""
            },
            "type": "choropleth"
           }
          ],
          "contour": [
           {
            "colorbar": {
             "outlinewidth": 0,
             "ticks": ""
            },
            "colorscale": [
             [
              0,
              "#0d0887"
             ],
             [
              0.1111111111111111,
              "#46039f"
             ],
             [
              0.2222222222222222,
              "#7201a8"
             ],
             [
              0.3333333333333333,
              "#9c179e"
             ],
             [
              0.4444444444444444,
              "#bd3786"
             ],
             [
              0.5555555555555556,
              "#d8576b"
             ],
             [
              0.6666666666666666,
              "#ed7953"
             ],
             [
              0.7777777777777778,
              "#fb9f3a"
             ],
             [
              0.8888888888888888,
              "#fdca26"
             ],
             [
              1,
              "#f0f921"
             ]
            ],
            "type": "contour"
           }
          ],
          "contourcarpet": [
           {
            "colorbar": {
             "outlinewidth": 0,
             "ticks": ""
            },
            "type": "contourcarpet"
           }
          ],
          "heatmap": [
           {
            "colorbar": {
             "outlinewidth": 0,
             "ticks": ""
            },
            "colorscale": [
             [
              0,
              "#0d0887"
             ],
             [
              0.1111111111111111,
              "#46039f"
             ],
             [
              0.2222222222222222,
              "#7201a8"
             ],
             [
              0.3333333333333333,
              "#9c179e"
             ],
             [
              0.4444444444444444,
              "#bd3786"
             ],
             [
              0.5555555555555556,
              "#d8576b"
             ],
             [
              0.6666666666666666,
              "#ed7953"
             ],
             [
              0.7777777777777778,
              "#fb9f3a"
             ],
             [
              0.8888888888888888,
              "#fdca26"
             ],
             [
              1,
              "#f0f921"
             ]
            ],
            "type": "heatmap"
           }
          ],
          "heatmapgl": [
           {
            "colorbar": {
             "outlinewidth": 0,
             "ticks": ""
            },
            "colorscale": [
             [
              0,
              "#0d0887"
             ],
             [
              0.1111111111111111,
              "#46039f"
             ],
             [
              0.2222222222222222,
              "#7201a8"
             ],
             [
              0.3333333333333333,
              "#9c179e"
             ],
             [
              0.4444444444444444,
              "#bd3786"
             ],
             [
              0.5555555555555556,
              "#d8576b"
             ],
             [
              0.6666666666666666,
              "#ed7953"
             ],
             [
              0.7777777777777778,
              "#fb9f3a"
             ],
             [
              0.8888888888888888,
              "#fdca26"
             ],
             [
              1,
              "#f0f921"
             ]
            ],
            "type": "heatmapgl"
           }
          ],
          "histogram": [
           {
            "marker": {
             "pattern": {
              "fillmode": "overlay",
              "size": 10,
              "solidity": 0.2
             }
            },
            "type": "histogram"
           }
          ],
          "histogram2d": [
           {
            "colorbar": {
             "outlinewidth": 0,
             "ticks": ""
            },
            "colorscale": [
             [
              0,
              "#0d0887"
             ],
             [
              0.1111111111111111,
              "#46039f"
             ],
             [
              0.2222222222222222,
              "#7201a8"
             ],
             [
              0.3333333333333333,
              "#9c179e"
             ],
             [
              0.4444444444444444,
              "#bd3786"
             ],
             [
              0.5555555555555556,
              "#d8576b"
             ],
             [
              0.6666666666666666,
              "#ed7953"
             ],
             [
              0.7777777777777778,
              "#fb9f3a"
             ],
             [
              0.8888888888888888,
              "#fdca26"
             ],
             [
              1,
              "#f0f921"
             ]
            ],
            "type": "histogram2d"
           }
          ],
          "histogram2dcontour": [
           {
            "colorbar": {
             "outlinewidth": 0,
             "ticks": ""
            },
            "colorscale": [
             [
              0,
              "#0d0887"
             ],
             [
              0.1111111111111111,
              "#46039f"
             ],
             [
              0.2222222222222222,
              "#7201a8"
             ],
             [
              0.3333333333333333,
              "#9c179e"
             ],
             [
              0.4444444444444444,
              "#bd3786"
             ],
             [
              0.5555555555555556,
              "#d8576b"
             ],
             [
              0.6666666666666666,
              "#ed7953"
             ],
             [
              0.7777777777777778,
              "#fb9f3a"
             ],
             [
              0.8888888888888888,
              "#fdca26"
             ],
             [
              1,
              "#f0f921"
             ]
            ],
            "type": "histogram2dcontour"
           }
          ],
          "mesh3d": [
           {
            "colorbar": {
             "outlinewidth": 0,
             "ticks": ""
            },
            "type": "mesh3d"
           }
          ],
          "parcoords": [
           {
            "line": {
             "colorbar": {
              "outlinewidth": 0,
              "ticks": ""
             }
            },
            "type": "parcoords"
           }
          ],
          "pie": [
           {
            "automargin": true,
            "type": "pie"
           }
          ],
          "scatter": [
           {
            "fillpattern": {
             "fillmode": "overlay",
             "size": 10,
             "solidity": 0.2
            },
            "type": "scatter"
           }
          ],
          "scatter3d": [
           {
            "line": {
             "colorbar": {
              "outlinewidth": 0,
              "ticks": ""
             }
            },
            "marker": {
             "colorbar": {
              "outlinewidth": 0,
              "ticks": ""
             }
            },
            "type": "scatter3d"
           }
          ],
          "scattercarpet": [
           {
            "marker": {
             "colorbar": {
              "outlinewidth": 0,
              "ticks": ""
             }
            },
            "type": "scattercarpet"
           }
          ],
          "scattergeo": [
           {
            "marker": {
             "colorbar": {
              "outlinewidth": 0,
              "ticks": ""
             }
            },
            "type": "scattergeo"
           }
          ],
          "scattergl": [
           {
            "marker": {
             "colorbar": {
              "outlinewidth": 0,
              "ticks": ""
             }
            },
            "type": "scattergl"
           }
          ],
          "scattermapbox": [
           {
            "marker": {
             "colorbar": {
              "outlinewidth": 0,
              "ticks": ""
             }
            },
            "type": "scattermapbox"
           }
          ],
          "scatterpolar": [
           {
            "marker": {
             "colorbar": {
              "outlinewidth": 0,
              "ticks": ""
             }
            },
            "type": "scatterpolar"
           }
          ],
          "scatterpolargl": [
           {
            "marker": {
             "colorbar": {
              "outlinewidth": 0,
              "ticks": ""
             }
            },
            "type": "scatterpolargl"
           }
          ],
          "scatterternary": [
           {
            "marker": {
             "colorbar": {
              "outlinewidth": 0,
              "ticks": ""
             }
            },
            "type": "scatterternary"
           }
          ],
          "surface": [
           {
            "colorbar": {
             "outlinewidth": 0,
             "ticks": ""
            },
            "colorscale": [
             [
              0,
              "#0d0887"
             ],
             [
              0.1111111111111111,
              "#46039f"
             ],
             [
              0.2222222222222222,
              "#7201a8"
             ],
             [
              0.3333333333333333,
              "#9c179e"
             ],
             [
              0.4444444444444444,
              "#bd3786"
             ],
             [
              0.5555555555555556,
              "#d8576b"
             ],
             [
              0.6666666666666666,
              "#ed7953"
             ],
             [
              0.7777777777777778,
              "#fb9f3a"
             ],
             [
              0.8888888888888888,
              "#fdca26"
             ],
             [
              1,
              "#f0f921"
             ]
            ],
            "type": "surface"
           }
          ],
          "table": [
           {
            "cells": {
             "fill": {
              "color": "#EBF0F8"
             },
             "line": {
              "color": "white"
             }
            },
            "header": {
             "fill": {
              "color": "#C8D4E3"
             },
             "line": {
              "color": "white"
             }
            },
            "type": "table"
           }
          ]
         },
         "layout": {
          "annotationdefaults": {
           "arrowcolor": "#2a3f5f",
           "arrowhead": 0,
           "arrowwidth": 1
          },
          "autotypenumbers": "strict",
          "coloraxis": {
           "colorbar": {
            "outlinewidth": 0,
            "ticks": ""
           }
          },
          "colorscale": {
           "diverging": [
            [
             0,
             "#8e0152"
            ],
            [
             0.1,
             "#c51b7d"
            ],
            [
             0.2,
             "#de77ae"
            ],
            [
             0.3,
             "#f1b6da"
            ],
            [
             0.4,
             "#fde0ef"
            ],
            [
             0.5,
             "#f7f7f7"
            ],
            [
             0.6,
             "#e6f5d0"
            ],
            [
             0.7,
             "#b8e186"
            ],
            [
             0.8,
             "#7fbc41"
            ],
            [
             0.9,
             "#4d9221"
            ],
            [
             1,
             "#276419"
            ]
           ],
           "sequential": [
            [
             0,
             "#0d0887"
            ],
            [
             0.1111111111111111,
             "#46039f"
            ],
            [
             0.2222222222222222,
             "#7201a8"
            ],
            [
             0.3333333333333333,
             "#9c179e"
            ],
            [
             0.4444444444444444,
             "#bd3786"
            ],
            [
             0.5555555555555556,
             "#d8576b"
            ],
            [
             0.6666666666666666,
             "#ed7953"
            ],
            [
             0.7777777777777778,
             "#fb9f3a"
            ],
            [
             0.8888888888888888,
             "#fdca26"
            ],
            [
             1,
             "#f0f921"
            ]
           ],
           "sequentialminus": [
            [
             0,
             "#0d0887"
            ],
            [
             0.1111111111111111,
             "#46039f"
            ],
            [
             0.2222222222222222,
             "#7201a8"
            ],
            [
             0.3333333333333333,
             "#9c179e"
            ],
            [
             0.4444444444444444,
             "#bd3786"
            ],
            [
             0.5555555555555556,
             "#d8576b"
            ],
            [
             0.6666666666666666,
             "#ed7953"
            ],
            [
             0.7777777777777778,
             "#fb9f3a"
            ],
            [
             0.8888888888888888,
             "#fdca26"
            ],
            [
             1,
             "#f0f921"
            ]
           ]
          },
          "colorway": [
           "#636efa",
           "#EF553B",
           "#00cc96",
           "#ab63fa",
           "#FFA15A",
           "#19d3f3",
           "#FF6692",
           "#B6E880",
           "#FF97FF",
           "#FECB52"
          ],
          "font": {
           "color": "#2a3f5f"
          },
          "geo": {
           "bgcolor": "white",
           "lakecolor": "white",
           "landcolor": "#E5ECF6",
           "showlakes": true,
           "showland": true,
           "subunitcolor": "white"
          },
          "hoverlabel": {
           "align": "left"
          },
          "hovermode": "closest",
          "mapbox": {
           "style": "light"
          },
          "paper_bgcolor": "white",
          "plot_bgcolor": "#E5ECF6",
          "polar": {
           "angularaxis": {
            "gridcolor": "white",
            "linecolor": "white",
            "ticks": ""
           },
           "bgcolor": "#E5ECF6",
           "radialaxis": {
            "gridcolor": "white",
            "linecolor": "white",
            "ticks": ""
           }
          },
          "scene": {
           "xaxis": {
            "backgroundcolor": "#E5ECF6",
            "gridcolor": "white",
            "gridwidth": 2,
            "linecolor": "white",
            "showbackground": true,
            "ticks": "",
            "zerolinecolor": "white"
           },
           "yaxis": {
            "backgroundcolor": "#E5ECF6",
            "gridcolor": "white",
            "gridwidth": 2,
            "linecolor": "white",
            "showbackground": true,
            "ticks": "",
            "zerolinecolor": "white"
           },
           "zaxis": {
            "backgroundcolor": "#E5ECF6",
            "gridcolor": "white",
            "gridwidth": 2,
            "linecolor": "white",
            "showbackground": true,
            "ticks": "",
            "zerolinecolor": "white"
           }
          },
          "shapedefaults": {
           "line": {
            "color": "#2a3f5f"
           }
          },
          "ternary": {
           "aaxis": {
            "gridcolor": "white",
            "linecolor": "white",
            "ticks": ""
           },
           "baxis": {
            "gridcolor": "white",
            "linecolor": "white",
            "ticks": ""
           },
           "bgcolor": "#E5ECF6",
           "caxis": {
            "gridcolor": "white",
            "linecolor": "white",
            "ticks": ""
           }
          },
          "title": {
           "x": 0.05
          },
          "xaxis": {
           "automargin": true,
           "gridcolor": "white",
           "linecolor": "white",
           "ticks": "",
           "title": {
            "standoff": 15
           },
           "zerolinecolor": "white",
           "zerolinewidth": 2
          },
          "yaxis": {
           "automargin": true,
           "gridcolor": "white",
           "linecolor": "white",
           "ticks": "",
           "title": {
            "standoff": 15
           },
           "zerolinecolor": "white",
           "zerolinewidth": 2
          }
         }
        },
        "title": {
         "text": "Dynamics of content by years"
        },
        "updatemenus": [
         {
          "buttons": [
           {
            "args": [
             null,
             {
              "frame": {
               "duration": 500,
               "redraw": true
              },
              "fromcurrent": true,
              "mode": "immediate",
              "transition": {
               "duration": 500,
               "easing": "linear"
              }
             }
            ],
            "label": "&#9654;",
            "method": "animate"
           },
           {
            "args": [
             [
              null
             ],
             {
              "frame": {
               "duration": 0,
               "redraw": true
              },
              "fromcurrent": true,
              "mode": "immediate",
              "transition": {
               "duration": 0,
               "easing": "linear"
              }
             }
            ],
            "label": "&#9724;",
            "method": "animate"
           }
          ],
          "direction": "left",
          "pad": {
           "r": 10,
           "t": 70
          },
          "showactive": false,
          "type": "buttons",
          "x": 0.1,
          "xanchor": "right",
          "y": 0,
          "yanchor": "top"
         }
        ]
       }
      }
     },
     "metadata": {},
     "output_type": "display_data"
    }
   ],
   "source": [
    "df_ctry2 = df.groupby('year_added')['country'].value_counts().reset_index(name='counts')\n",
    "\n",
    "fig = px.choropleth(df_ctry2, locations='country', color='counts',\n",
    "                    locationmode='country names',\n",
    "                    animation_frame='year_added',\n",
    "                    range_color=[0,200],\n",
    "                    color_continuous_scale=px.colors.sequential.RdBu)\n",
    "\n",
    "fig.update_layout(title='Dynamics of content by years')\n",
    "\n",
    "fig.show()\n"
   ]
  },
  {
   "cell_type": "markdown",
   "metadata": {},
   "source": [
    "<h4>Conclusion 5</h4>\n",
    "<p>The analysis above shows a few interesting things about the content by country.\n",
    "<ul>\n",
    "    <li>From 2008 till 2012, the USA was practically the only country adding content to Netflix. Just in 2011, Spain did contribute with one movie.</li>\n",
    "    <li>Just in 2015, countries outside of North America started to contribute content to Netflix, being Mexico the first Latin American country to do so.</li>\n",
    "    <li>In 2016, India started to add content to Netflix, as well as South American countries, however, since that year India has been adding a high amount of content.</li>\n",
    "</ul>\n",
    "</p>"
   ]
  },
  {
   "cell_type": "markdown",
   "metadata": {},
   "source": [
    "<h4>Graph 6</h4>\n",
    "<p>Now, let's have a look on the ratings of shows on the Netflix platform.</p>"
   ]
  },
  {
   "cell_type": "code",
   "execution_count": 66,
   "metadata": {},
   "outputs": [
    {
     "data": {
      "application/vnd.plotly.v1+json": {
       "config": {
        "plotlyServerURL": "https://plot.ly"
       },
       "data": [
        {
         "marker": {
          "color": "#221f1f",
          "line": {
           "width": 0
          }
         },
         "name": "TV Show",
         "orientation": "h",
         "showlegend": true,
         "text": [
          81,
          37,
          15,
          6,
          5,
          3
         ],
         "type": "bar",
         "x": [
          -81,
          -37,
          -15,
          -6,
          -5,
          -3
         ],
         "xaxis": "x",
         "y": [
          "TV-MA",
          "TV-14",
          "TV-PG",
          "TV-Y7",
          "TV-Y",
          "TV-G"
         ],
         "yaxis": "y"
        },
        {
         "marker": {
          "color": "#b20710",
          "line": {
           "width": 0
          }
         },
         "name": "Movie",
         "orientation": "h",
         "showlegend": true,
         "text": [
          1741,
          1177,
          778,
          470,
          416,
          275,
          81,
          71,
          70,
          58,
          40,
          3,
          3,
          2
         ],
         "type": "bar",
         "x": [
          1741,
          1177,
          778,
          470,
          416,
          275,
          81,
          71,
          70,
          58,
          40,
          3,
          3,
          2
         ],
         "xaxis": "x2",
         "y": [
          "TV-MA",
          "TV-14",
          "R",
          "PG-13",
          "TV-PG",
          "PG",
          "TV-G",
          "TV-Y",
          "TV-Y7",
          "NR",
          "G",
          "TV-Y7-FV",
          "UR",
          "NC-17"
         ],
         "yaxis": "y2"
        }
       ],
       "layout": {
        "font": {
         "color": "#8a8d93"
        },
        "hoverlabel": {
         "bgcolor": "black",
         "font": {
          "family": "Lato, sans-serif",
          "size": 13
         }
        },
        "hovermode": "y unified",
        "legend": {
         "orientation": "h",
         "x": 0.5,
         "xanchor": "center",
         "y": 1,
         "yanchor": "bottom"
        },
        "margin": {
         "b": 0,
         "l": 70,
         "r": 40,
         "t": 80
        },
        "paper_bgcolor": "#333",
        "plot_bgcolor": "#333",
        "template": {
         "data": {
          "bar": [
           {
            "error_x": {
             "color": "#2a3f5f"
            },
            "error_y": {
             "color": "#2a3f5f"
            },
            "marker": {
             "line": {
              "color": "#E5ECF6",
              "width": 0.5
             },
             "pattern": {
              "fillmode": "overlay",
              "size": 10,
              "solidity": 0.2
             }
            },
            "type": "bar"
           }
          ],
          "barpolar": [
           {
            "marker": {
             "line": {
              "color": "#E5ECF6",
              "width": 0.5
             },
             "pattern": {
              "fillmode": "overlay",
              "size": 10,
              "solidity": 0.2
             }
            },
            "type": "barpolar"
           }
          ],
          "carpet": [
           {
            "aaxis": {
             "endlinecolor": "#2a3f5f",
             "gridcolor": "white",
             "linecolor": "white",
             "minorgridcolor": "white",
             "startlinecolor": "#2a3f5f"
            },
            "baxis": {
             "endlinecolor": "#2a3f5f",
             "gridcolor": "white",
             "linecolor": "white",
             "minorgridcolor": "white",
             "startlinecolor": "#2a3f5f"
            },
            "type": "carpet"
           }
          ],
          "choropleth": [
           {
            "colorbar": {
             "outlinewidth": 0,
             "ticks": ""
            },
            "type": "choropleth"
           }
          ],
          "contour": [
           {
            "colorbar": {
             "outlinewidth": 0,
             "ticks": ""
            },
            "colorscale": [
             [
              0,
              "#0d0887"
             ],
             [
              0.1111111111111111,
              "#46039f"
             ],
             [
              0.2222222222222222,
              "#7201a8"
             ],
             [
              0.3333333333333333,
              "#9c179e"
             ],
             [
              0.4444444444444444,
              "#bd3786"
             ],
             [
              0.5555555555555556,
              "#d8576b"
             ],
             [
              0.6666666666666666,
              "#ed7953"
             ],
             [
              0.7777777777777778,
              "#fb9f3a"
             ],
             [
              0.8888888888888888,
              "#fdca26"
             ],
             [
              1,
              "#f0f921"
             ]
            ],
            "type": "contour"
           }
          ],
          "contourcarpet": [
           {
            "colorbar": {
             "outlinewidth": 0,
             "ticks": ""
            },
            "type": "contourcarpet"
           }
          ],
          "heatmap": [
           {
            "colorbar": {
             "outlinewidth": 0,
             "ticks": ""
            },
            "colorscale": [
             [
              0,
              "#0d0887"
             ],
             [
              0.1111111111111111,
              "#46039f"
             ],
             [
              0.2222222222222222,
              "#7201a8"
             ],
             [
              0.3333333333333333,
              "#9c179e"
             ],
             [
              0.4444444444444444,
              "#bd3786"
             ],
             [
              0.5555555555555556,
              "#d8576b"
             ],
             [
              0.6666666666666666,
              "#ed7953"
             ],
             [
              0.7777777777777778,
              "#fb9f3a"
             ],
             [
              0.8888888888888888,
              "#fdca26"
             ],
             [
              1,
              "#f0f921"
             ]
            ],
            "type": "heatmap"
           }
          ],
          "heatmapgl": [
           {
            "colorbar": {
             "outlinewidth": 0,
             "ticks": ""
            },
            "colorscale": [
             [
              0,
              "#0d0887"
             ],
             [
              0.1111111111111111,
              "#46039f"
             ],
             [
              0.2222222222222222,
              "#7201a8"
             ],
             [
              0.3333333333333333,
              "#9c179e"
             ],
             [
              0.4444444444444444,
              "#bd3786"
             ],
             [
              0.5555555555555556,
              "#d8576b"
             ],
             [
              0.6666666666666666,
              "#ed7953"
             ],
             [
              0.7777777777777778,
              "#fb9f3a"
             ],
             [
              0.8888888888888888,
              "#fdca26"
             ],
             [
              1,
              "#f0f921"
             ]
            ],
            "type": "heatmapgl"
           }
          ],
          "histogram": [
           {
            "marker": {
             "pattern": {
              "fillmode": "overlay",
              "size": 10,
              "solidity": 0.2
             }
            },
            "type": "histogram"
           }
          ],
          "histogram2d": [
           {
            "colorbar": {
             "outlinewidth": 0,
             "ticks": ""
            },
            "colorscale": [
             [
              0,
              "#0d0887"
             ],
             [
              0.1111111111111111,
              "#46039f"
             ],
             [
              0.2222222222222222,
              "#7201a8"
             ],
             [
              0.3333333333333333,
              "#9c179e"
             ],
             [
              0.4444444444444444,
              "#bd3786"
             ],
             [
              0.5555555555555556,
              "#d8576b"
             ],
             [
              0.6666666666666666,
              "#ed7953"
             ],
             [
              0.7777777777777778,
              "#fb9f3a"
             ],
             [
              0.8888888888888888,
              "#fdca26"
             ],
             [
              1,
              "#f0f921"
             ]
            ],
            "type": "histogram2d"
           }
          ],
          "histogram2dcontour": [
           {
            "colorbar": {
             "outlinewidth": 0,
             "ticks": ""
            },
            "colorscale": [
             [
              0,
              "#0d0887"
             ],
             [
              0.1111111111111111,
              "#46039f"
             ],
             [
              0.2222222222222222,
              "#7201a8"
             ],
             [
              0.3333333333333333,
              "#9c179e"
             ],
             [
              0.4444444444444444,
              "#bd3786"
             ],
             [
              0.5555555555555556,
              "#d8576b"
             ],
             [
              0.6666666666666666,
              "#ed7953"
             ],
             [
              0.7777777777777778,
              "#fb9f3a"
             ],
             [
              0.8888888888888888,
              "#fdca26"
             ],
             [
              1,
              "#f0f921"
             ]
            ],
            "type": "histogram2dcontour"
           }
          ],
          "mesh3d": [
           {
            "colorbar": {
             "outlinewidth": 0,
             "ticks": ""
            },
            "type": "mesh3d"
           }
          ],
          "parcoords": [
           {
            "line": {
             "colorbar": {
              "outlinewidth": 0,
              "ticks": ""
             }
            },
            "type": "parcoords"
           }
          ],
          "pie": [
           {
            "automargin": true,
            "type": "pie"
           }
          ],
          "scatter": [
           {
            "fillpattern": {
             "fillmode": "overlay",
             "size": 10,
             "solidity": 0.2
            },
            "type": "scatter"
           }
          ],
          "scatter3d": [
           {
            "line": {
             "colorbar": {
              "outlinewidth": 0,
              "ticks": ""
             }
            },
            "marker": {
             "colorbar": {
              "outlinewidth": 0,
              "ticks": ""
             }
            },
            "type": "scatter3d"
           }
          ],
          "scattercarpet": [
           {
            "marker": {
             "colorbar": {
              "outlinewidth": 0,
              "ticks": ""
             }
            },
            "type": "scattercarpet"
           }
          ],
          "scattergeo": [
           {
            "marker": {
             "colorbar": {
              "outlinewidth": 0,
              "ticks": ""
             }
            },
            "type": "scattergeo"
           }
          ],
          "scattergl": [
           {
            "marker": {
             "colorbar": {
              "outlinewidth": 0,
              "ticks": ""
             }
            },
            "type": "scattergl"
           }
          ],
          "scattermapbox": [
           {
            "marker": {
             "colorbar": {
              "outlinewidth": 0,
              "ticks": ""
             }
            },
            "type": "scattermapbox"
           }
          ],
          "scatterpolar": [
           {
            "marker": {
             "colorbar": {
              "outlinewidth": 0,
              "ticks": ""
             }
            },
            "type": "scatterpolar"
           }
          ],
          "scatterpolargl": [
           {
            "marker": {
             "colorbar": {
              "outlinewidth": 0,
              "ticks": ""
             }
            },
            "type": "scatterpolargl"
           }
          ],
          "scatterternary": [
           {
            "marker": {
             "colorbar": {
              "outlinewidth": 0,
              "ticks": ""
             }
            },
            "type": "scatterternary"
           }
          ],
          "surface": [
           {
            "colorbar": {
             "outlinewidth": 0,
             "ticks": ""
            },
            "colorscale": [
             [
              0,
              "#0d0887"
             ],
             [
              0.1111111111111111,
              "#46039f"
             ],
             [
              0.2222222222222222,
              "#7201a8"
             ],
             [
              0.3333333333333333,
              "#9c179e"
             ],
             [
              0.4444444444444444,
              "#bd3786"
             ],
             [
              0.5555555555555556,
              "#d8576b"
             ],
             [
              0.6666666666666666,
              "#ed7953"
             ],
             [
              0.7777777777777778,
              "#fb9f3a"
             ],
             [
              0.8888888888888888,
              "#fdca26"
             ],
             [
              1,
              "#f0f921"
             ]
            ],
            "type": "surface"
           }
          ],
          "table": [
           {
            "cells": {
             "fill": {
              "color": "#EBF0F8"
             },
             "line": {
              "color": "white"
             }
            },
            "header": {
             "fill": {
              "color": "#C8D4E3"
             },
             "line": {
              "color": "white"
             }
            },
            "type": "table"
           }
          ]
         },
         "layout": {
          "annotationdefaults": {
           "arrowcolor": "#2a3f5f",
           "arrowhead": 0,
           "arrowwidth": 1
          },
          "autotypenumbers": "strict",
          "coloraxis": {
           "colorbar": {
            "outlinewidth": 0,
            "ticks": ""
           }
          },
          "colorscale": {
           "diverging": [
            [
             0,
             "#8e0152"
            ],
            [
             0.1,
             "#c51b7d"
            ],
            [
             0.2,
             "#de77ae"
            ],
            [
             0.3,
             "#f1b6da"
            ],
            [
             0.4,
             "#fde0ef"
            ],
            [
             0.5,
             "#f7f7f7"
            ],
            [
             0.6,
             "#e6f5d0"
            ],
            [
             0.7,
             "#b8e186"
            ],
            [
             0.8,
             "#7fbc41"
            ],
            [
             0.9,
             "#4d9221"
            ],
            [
             1,
             "#276419"
            ]
           ],
           "sequential": [
            [
             0,
             "#0d0887"
            ],
            [
             0.1111111111111111,
             "#46039f"
            ],
            [
             0.2222222222222222,
             "#7201a8"
            ],
            [
             0.3333333333333333,
             "#9c179e"
            ],
            [
             0.4444444444444444,
             "#bd3786"
            ],
            [
             0.5555555555555556,
             "#d8576b"
            ],
            [
             0.6666666666666666,
             "#ed7953"
            ],
            [
             0.7777777777777778,
             "#fb9f3a"
            ],
            [
             0.8888888888888888,
             "#fdca26"
            ],
            [
             1,
             "#f0f921"
            ]
           ],
           "sequentialminus": [
            [
             0,
             "#0d0887"
            ],
            [
             0.1111111111111111,
             "#46039f"
            ],
            [
             0.2222222222222222,
             "#7201a8"
            ],
            [
             0.3333333333333333,
             "#9c179e"
            ],
            [
             0.4444444444444444,
             "#bd3786"
            ],
            [
             0.5555555555555556,
             "#d8576b"
            ],
            [
             0.6666666666666666,
             "#ed7953"
            ],
            [
             0.7777777777777778,
             "#fb9f3a"
            ],
            [
             0.8888888888888888,
             "#fdca26"
            ],
            [
             1,
             "#f0f921"
            ]
           ]
          },
          "colorway": [
           "#636efa",
           "#EF553B",
           "#00cc96",
           "#ab63fa",
           "#FFA15A",
           "#19d3f3",
           "#FF6692",
           "#B6E880",
           "#FF97FF",
           "#FECB52"
          ],
          "font": {
           "color": "#2a3f5f"
          },
          "geo": {
           "bgcolor": "white",
           "lakecolor": "white",
           "landcolor": "#E5ECF6",
           "showlakes": true,
           "showland": true,
           "subunitcolor": "white"
          },
          "hoverlabel": {
           "align": "left"
          },
          "hovermode": "closest",
          "mapbox": {
           "style": "light"
          },
          "paper_bgcolor": "white",
          "plot_bgcolor": "#E5ECF6",
          "polar": {
           "angularaxis": {
            "gridcolor": "white",
            "linecolor": "white",
            "ticks": ""
           },
           "bgcolor": "#E5ECF6",
           "radialaxis": {
            "gridcolor": "white",
            "linecolor": "white",
            "ticks": ""
           }
          },
          "scene": {
           "xaxis": {
            "backgroundcolor": "#E5ECF6",
            "gridcolor": "white",
            "gridwidth": 2,
            "linecolor": "white",
            "showbackground": true,
            "ticks": "",
            "zerolinecolor": "white"
           },
           "yaxis": {
            "backgroundcolor": "#E5ECF6",
            "gridcolor": "white",
            "gridwidth": 2,
            "linecolor": "white",
            "showbackground": true,
            "ticks": "",
            "zerolinecolor": "white"
           },
           "zaxis": {
            "backgroundcolor": "#E5ECF6",
            "gridcolor": "white",
            "gridwidth": 2,
            "linecolor": "white",
            "showbackground": true,
            "ticks": "",
            "zerolinecolor": "white"
           }
          },
          "shapedefaults": {
           "line": {
            "color": "#2a3f5f"
           }
          },
          "ternary": {
           "aaxis": {
            "gridcolor": "white",
            "linecolor": "white",
            "ticks": ""
           },
           "baxis": {
            "gridcolor": "white",
            "linecolor": "white",
            "ticks": ""
           },
           "bgcolor": "#E5ECF6",
           "caxis": {
            "gridcolor": "white",
            "linecolor": "white",
            "ticks": ""
           }
          },
          "title": {
           "x": 0.05
          },
          "xaxis": {
           "automargin": true,
           "gridcolor": "white",
           "linecolor": "white",
           "ticks": "",
           "title": {
            "standoff": 15
           },
           "zerolinecolor": "white",
           "zerolinewidth": 2
          },
          "yaxis": {
           "automargin": true,
           "gridcolor": "white",
           "linecolor": "white",
           "ticks": "",
           "title": {
            "standoff": 15
           },
           "zerolinecolor": "white",
           "zerolinewidth": 2
          }
         }
        },
        "title": {
         "font": {
          "color": "#8a8d93",
          "family": "Lato, sans-serif",
          "size": 25
         },
         "text": "Which has the highest rating TV shows or Movies?"
        },
        "xaxis": {
         "anchor": "y",
         "domain": [
          0,
          0.5
         ],
         "showgrid": false,
         "title": {
          "text": " "
         }
        },
        "xaxis2": {
         "anchor": "y2",
         "domain": [
          0.5,
          1
         ],
         "showgrid": false
        },
        "yaxis": {
         "anchor": "x",
         "categoryorder": "total ascending",
         "domain": [
          0,
          1
         ],
         "showgrid": false,
         "showline": false,
         "ticksuffix": " ",
         "title": {
          "text": " "
         }
        },
        "yaxis2": {
         "anchor": "x2",
         "categoryorder": "total ascending",
         "domain": [
          0,
          1
         ],
         "matches": "y",
         "showgrid": false,
         "showline": false,
         "showticklabels": false,
         "ticksuffix": " "
        }
       }
      }
     },
     "metadata": {},
     "output_type": "display_data"
    }
   ],
   "source": [
    "dfCopy = df.copy()\n",
    "\n",
    "df_tvShow = dfCopy[dfCopy['type']=='TV Show'][['rating', 'type']].rename(columns={'type':'tv_show'})\n",
    "df_movie = dfCopy[dfCopy['type']=='Movie'][['rating', 'type']].rename(columns={'type':'movie'})\n",
    "df_movie = pd.DataFrame(df_movie.rating.value_counts()).reset_index().rename(columns={'index':'movie'})\n",
    "\n",
    "df_tvShow = pd.DataFrame(df_tvShow.rating.value_counts()).reset_index().rename(columns={'index':'tv_show'})\n",
    "df_tvShow['rating_final'] = df_tvShow['rating']\n",
    "df_tvShow['rating'] *= -1 # this is to do the rating negative\n",
    "\n",
    "# chart\n",
    "fig = make_subplots(rows=1, cols=2, specs=[[{}, {}]], shared_yaxes=True, horizontal_spacing=0)\n",
    "\n",
    "# bar plot for tv shows\n",
    "fig.append_trace(go.Bar(x=df_tvShow.rating, y=df_tvShow.tv_show, orientation='h', showlegend=True,\n",
    "                        text=df_tvShow.rating_final, name='TV Show', marker_color='#221f1f'), 1, 1)\n",
    "\n",
    "# bar plot for movies\n",
    "fig.append_trace(go.Bar(x=df_movie.rating, y=df_movie.movie, orientation='h', showlegend=True,\n",
    "                        text=df_movie.rating, name='Movie', marker_color='#b20710'), 1, 2)\n",
    "\n",
    "# styling the chart\n",
    "fig.update_xaxes(showgrid=False)\n",
    "fig.update_yaxes(showgrid=False, categoryorder='total ascending', ticksuffix=' ', showline=False)\n",
    "fig.update_traces(hovertemplate=None, marker=dict(line=dict(width=0)))\n",
    "fig.update_layout(title='Which has the highest rating TV shows or Movies?',\n",
    "                margin=dict(t=80, b=0, l=70, r=40),\n",
    "                hovermode='y unified',\n",
    "                xaxis_title=' ', yaxis_title=' ',\n",
    "                plot_bgcolor= '#333', paper_bgcolor='#333',\n",
    "                title_font=dict(size=25, color='#8a8d93', family='Lato, sans-serif'),\n",
    "                font=dict(color='#8a8d93'),\n",
    "                legend=dict(orientation='h', yanchor='bottom', y=1, xanchor='center', x=0.5),\n",
    "                hoverlabel=dict(bgcolor='black', font_size=13, font_family= 'Lato, sans-serif'))\n",
    "\n",
    "fig.show()\n"
   ]
  },
  {
   "cell_type": "markdown",
   "metadata": {},
   "source": [
    "<h4>Conclusion 6</h4>\n",
    "<p>Netflix content most voted, in both cases TV shows and movies, are TV-MA, followed by TV-14.</p>"
   ]
  },
  {
   "cell_type": "markdown",
   "metadata": {},
   "source": [
    "<h4>Graph 7</h4>\n",
    "<p>Now, let's analyze the people's preferred genre</p>"
   ]
  },
  {
   "cell_type": "code",
   "execution_count": 68,
   "metadata": {},
   "outputs": [
    {
     "data": {
      "application/vnd.plotly.v1+json": {
       "config": {
        "plotlyServerURL": "https://plot.ly"
       },
       "data": [
        {
         "alignmentgroup": "True",
         "legendgroup": "",
         "marker": {
          "color": "#b20710",
          "line": {
           "width": 0
          },
          "pattern": {
           "shape": ""
          }
         },
         "name": "",
         "offsetgroup": "",
         "orientation": "h",
         "showlegend": false,
         "text": [
          "Dramas",
          "Comedies",
          "Action & Adventure",
          "Children & Family Movies",
          "Documentaries"
         ],
         "textposition": "auto",
         "type": "bar",
         "x": [
          1518,
          1127,
          806,
          469,
          372
         ],
         "xaxis": "x",
         "y": [
          "Dramas",
          "Comedies",
          "Action & Adventure",
          "Children & Family Movies",
          "Documentaries"
         ],
         "yaxis": "y"
        }
       ],
       "layout": {
        "barmode": "relative",
        "font": {
         "color": "#8a8d93",
         "size": 13
        },
        "height": 300,
        "hovermode": "y unified",
        "legend": {
         "tracegroupgap": 0
        },
        "margin": {
         "b": 20,
         "l": 70,
         "r": 40,
         "t": 100
        },
        "paper_bgcolor": "#333",
        "plot_bgcolor": "#333",
        "template": {
         "data": {
          "bar": [
           {
            "error_x": {
             "color": "#2a3f5f"
            },
            "error_y": {
             "color": "#2a3f5f"
            },
            "marker": {
             "line": {
              "color": "#E5ECF6",
              "width": 0.5
             },
             "pattern": {
              "fillmode": "overlay",
              "size": 10,
              "solidity": 0.2
             }
            },
            "type": "bar"
           }
          ],
          "barpolar": [
           {
            "marker": {
             "line": {
              "color": "#E5ECF6",
              "width": 0.5
             },
             "pattern": {
              "fillmode": "overlay",
              "size": 10,
              "solidity": 0.2
             }
            },
            "type": "barpolar"
           }
          ],
          "carpet": [
           {
            "aaxis": {
             "endlinecolor": "#2a3f5f",
             "gridcolor": "white",
             "linecolor": "white",
             "minorgridcolor": "white",
             "startlinecolor": "#2a3f5f"
            },
            "baxis": {
             "endlinecolor": "#2a3f5f",
             "gridcolor": "white",
             "linecolor": "white",
             "minorgridcolor": "white",
             "startlinecolor": "#2a3f5f"
            },
            "type": "carpet"
           }
          ],
          "choropleth": [
           {
            "colorbar": {
             "outlinewidth": 0,
             "ticks": ""
            },
            "type": "choropleth"
           }
          ],
          "contour": [
           {
            "colorbar": {
             "outlinewidth": 0,
             "ticks": ""
            },
            "colorscale": [
             [
              0,
              "#0d0887"
             ],
             [
              0.1111111111111111,
              "#46039f"
             ],
             [
              0.2222222222222222,
              "#7201a8"
             ],
             [
              0.3333333333333333,
              "#9c179e"
             ],
             [
              0.4444444444444444,
              "#bd3786"
             ],
             [
              0.5555555555555556,
              "#d8576b"
             ],
             [
              0.6666666666666666,
              "#ed7953"
             ],
             [
              0.7777777777777778,
              "#fb9f3a"
             ],
             [
              0.8888888888888888,
              "#fdca26"
             ],
             [
              1,
              "#f0f921"
             ]
            ],
            "type": "contour"
           }
          ],
          "contourcarpet": [
           {
            "colorbar": {
             "outlinewidth": 0,
             "ticks": ""
            },
            "type": "contourcarpet"
           }
          ],
          "heatmap": [
           {
            "colorbar": {
             "outlinewidth": 0,
             "ticks": ""
            },
            "colorscale": [
             [
              0,
              "#0d0887"
             ],
             [
              0.1111111111111111,
              "#46039f"
             ],
             [
              0.2222222222222222,
              "#7201a8"
             ],
             [
              0.3333333333333333,
              "#9c179e"
             ],
             [
              0.4444444444444444,
              "#bd3786"
             ],
             [
              0.5555555555555556,
              "#d8576b"
             ],
             [
              0.6666666666666666,
              "#ed7953"
             ],
             [
              0.7777777777777778,
              "#fb9f3a"
             ],
             [
              0.8888888888888888,
              "#fdca26"
             ],
             [
              1,
              "#f0f921"
             ]
            ],
            "type": "heatmap"
           }
          ],
          "heatmapgl": [
           {
            "colorbar": {
             "outlinewidth": 0,
             "ticks": ""
            },
            "colorscale": [
             [
              0,
              "#0d0887"
             ],
             [
              0.1111111111111111,
              "#46039f"
             ],
             [
              0.2222222222222222,
              "#7201a8"
             ],
             [
              0.3333333333333333,
              "#9c179e"
             ],
             [
              0.4444444444444444,
              "#bd3786"
             ],
             [
              0.5555555555555556,
              "#d8576b"
             ],
             [
              0.6666666666666666,
              "#ed7953"
             ],
             [
              0.7777777777777778,
              "#fb9f3a"
             ],
             [
              0.8888888888888888,
              "#fdca26"
             ],
             [
              1,
              "#f0f921"
             ]
            ],
            "type": "heatmapgl"
           }
          ],
          "histogram": [
           {
            "marker": {
             "pattern": {
              "fillmode": "overlay",
              "size": 10,
              "solidity": 0.2
             }
            },
            "type": "histogram"
           }
          ],
          "histogram2d": [
           {
            "colorbar": {
             "outlinewidth": 0,
             "ticks": ""
            },
            "colorscale": [
             [
              0,
              "#0d0887"
             ],
             [
              0.1111111111111111,
              "#46039f"
             ],
             [
              0.2222222222222222,
              "#7201a8"
             ],
             [
              0.3333333333333333,
              "#9c179e"
             ],
             [
              0.4444444444444444,
              "#bd3786"
             ],
             [
              0.5555555555555556,
              "#d8576b"
             ],
             [
              0.6666666666666666,
              "#ed7953"
             ],
             [
              0.7777777777777778,
              "#fb9f3a"
             ],
             [
              0.8888888888888888,
              "#fdca26"
             ],
             [
              1,
              "#f0f921"
             ]
            ],
            "type": "histogram2d"
           }
          ],
          "histogram2dcontour": [
           {
            "colorbar": {
             "outlinewidth": 0,
             "ticks": ""
            },
            "colorscale": [
             [
              0,
              "#0d0887"
             ],
             [
              0.1111111111111111,
              "#46039f"
             ],
             [
              0.2222222222222222,
              "#7201a8"
             ],
             [
              0.3333333333333333,
              "#9c179e"
             ],
             [
              0.4444444444444444,
              "#bd3786"
             ],
             [
              0.5555555555555556,
              "#d8576b"
             ],
             [
              0.6666666666666666,
              "#ed7953"
             ],
             [
              0.7777777777777778,
              "#fb9f3a"
             ],
             [
              0.8888888888888888,
              "#fdca26"
             ],
             [
              1,
              "#f0f921"
             ]
            ],
            "type": "histogram2dcontour"
           }
          ],
          "mesh3d": [
           {
            "colorbar": {
             "outlinewidth": 0,
             "ticks": ""
            },
            "type": "mesh3d"
           }
          ],
          "parcoords": [
           {
            "line": {
             "colorbar": {
              "outlinewidth": 0,
              "ticks": ""
             }
            },
            "type": "parcoords"
           }
          ],
          "pie": [
           {
            "automargin": true,
            "type": "pie"
           }
          ],
          "scatter": [
           {
            "fillpattern": {
             "fillmode": "overlay",
             "size": 10,
             "solidity": 0.2
            },
            "type": "scatter"
           }
          ],
          "scatter3d": [
           {
            "line": {
             "colorbar": {
              "outlinewidth": 0,
              "ticks": ""
             }
            },
            "marker": {
             "colorbar": {
              "outlinewidth": 0,
              "ticks": ""
             }
            },
            "type": "scatter3d"
           }
          ],
          "scattercarpet": [
           {
            "marker": {
             "colorbar": {
              "outlinewidth": 0,
              "ticks": ""
             }
            },
            "type": "scattercarpet"
           }
          ],
          "scattergeo": [
           {
            "marker": {
             "colorbar": {
              "outlinewidth": 0,
              "ticks": ""
             }
            },
            "type": "scattergeo"
           }
          ],
          "scattergl": [
           {
            "marker": {
             "colorbar": {
              "outlinewidth": 0,
              "ticks": ""
             }
            },
            "type": "scattergl"
           }
          ],
          "scattermapbox": [
           {
            "marker": {
             "colorbar": {
              "outlinewidth": 0,
              "ticks": ""
             }
            },
            "type": "scattermapbox"
           }
          ],
          "scatterpolar": [
           {
            "marker": {
             "colorbar": {
              "outlinewidth": 0,
              "ticks": ""
             }
            },
            "type": "scatterpolar"
           }
          ],
          "scatterpolargl": [
           {
            "marker": {
             "colorbar": {
              "outlinewidth": 0,
              "ticks": ""
             }
            },
            "type": "scatterpolargl"
           }
          ],
          "scatterternary": [
           {
            "marker": {
             "colorbar": {
              "outlinewidth": 0,
              "ticks": ""
             }
            },
            "type": "scatterternary"
           }
          ],
          "surface": [
           {
            "colorbar": {
             "outlinewidth": 0,
             "ticks": ""
            },
            "colorscale": [
             [
              0,
              "#0d0887"
             ],
             [
              0.1111111111111111,
              "#46039f"
             ],
             [
              0.2222222222222222,
              "#7201a8"
             ],
             [
              0.3333333333333333,
              "#9c179e"
             ],
             [
              0.4444444444444444,
              "#bd3786"
             ],
             [
              0.5555555555555556,
              "#d8576b"
             ],
             [
              0.6666666666666666,
              "#ed7953"
             ],
             [
              0.7777777777777778,
              "#fb9f3a"
             ],
             [
              0.8888888888888888,
              "#fdca26"
             ],
             [
              1,
              "#f0f921"
             ]
            ],
            "type": "surface"
           }
          ],
          "table": [
           {
            "cells": {
             "fill": {
              "color": "#EBF0F8"
             },
             "line": {
              "color": "white"
             }
            },
            "header": {
             "fill": {
              "color": "#C8D4E3"
             },
             "line": {
              "color": "white"
             }
            },
            "type": "table"
           }
          ]
         },
         "layout": {
          "annotationdefaults": {
           "arrowcolor": "#2a3f5f",
           "arrowhead": 0,
           "arrowwidth": 1
          },
          "autotypenumbers": "strict",
          "coloraxis": {
           "colorbar": {
            "outlinewidth": 0,
            "ticks": ""
           }
          },
          "colorscale": {
           "diverging": [
            [
             0,
             "#8e0152"
            ],
            [
             0.1,
             "#c51b7d"
            ],
            [
             0.2,
             "#de77ae"
            ],
            [
             0.3,
             "#f1b6da"
            ],
            [
             0.4,
             "#fde0ef"
            ],
            [
             0.5,
             "#f7f7f7"
            ],
            [
             0.6,
             "#e6f5d0"
            ],
            [
             0.7,
             "#b8e186"
            ],
            [
             0.8,
             "#7fbc41"
            ],
            [
             0.9,
             "#4d9221"
            ],
            [
             1,
             "#276419"
            ]
           ],
           "sequential": [
            [
             0,
             "#0d0887"
            ],
            [
             0.1111111111111111,
             "#46039f"
            ],
            [
             0.2222222222222222,
             "#7201a8"
            ],
            [
             0.3333333333333333,
             "#9c179e"
            ],
            [
             0.4444444444444444,
             "#bd3786"
            ],
            [
             0.5555555555555556,
             "#d8576b"
            ],
            [
             0.6666666666666666,
             "#ed7953"
            ],
            [
             0.7777777777777778,
             "#fb9f3a"
            ],
            [
             0.8888888888888888,
             "#fdca26"
            ],
            [
             1,
             "#f0f921"
            ]
           ],
           "sequentialminus": [
            [
             0,
             "#0d0887"
            ],
            [
             0.1111111111111111,
             "#46039f"
            ],
            [
             0.2222222222222222,
             "#7201a8"
            ],
            [
             0.3333333333333333,
             "#9c179e"
            ],
            [
             0.4444444444444444,
             "#bd3786"
            ],
            [
             0.5555555555555556,
             "#d8576b"
            ],
            [
             0.6666666666666666,
             "#ed7953"
            ],
            [
             0.7777777777777778,
             "#fb9f3a"
            ],
            [
             0.8888888888888888,
             "#fdca26"
            ],
            [
             1,
             "#f0f921"
            ]
           ]
          },
          "colorway": [
           "#636efa",
           "#EF553B",
           "#00cc96",
           "#ab63fa",
           "#FFA15A",
           "#19d3f3",
           "#FF6692",
           "#B6E880",
           "#FF97FF",
           "#FECB52"
          ],
          "font": {
           "color": "#2a3f5f"
          },
          "geo": {
           "bgcolor": "white",
           "lakecolor": "white",
           "landcolor": "#E5ECF6",
           "showlakes": true,
           "showland": true,
           "subunitcolor": "white"
          },
          "hoverlabel": {
           "align": "left"
          },
          "hovermode": "closest",
          "mapbox": {
           "style": "light"
          },
          "paper_bgcolor": "white",
          "plot_bgcolor": "#E5ECF6",
          "polar": {
           "angularaxis": {
            "gridcolor": "white",
            "linecolor": "white",
            "ticks": ""
           },
           "bgcolor": "#E5ECF6",
           "radialaxis": {
            "gridcolor": "white",
            "linecolor": "white",
            "ticks": ""
           }
          },
          "scene": {
           "xaxis": {
            "backgroundcolor": "#E5ECF6",
            "gridcolor": "white",
            "gridwidth": 2,
            "linecolor": "white",
            "showbackground": true,
            "ticks": "",
            "zerolinecolor": "white"
           },
           "yaxis": {
            "backgroundcolor": "#E5ECF6",
            "gridcolor": "white",
            "gridwidth": 2,
            "linecolor": "white",
            "showbackground": true,
            "ticks": "",
            "zerolinecolor": "white"
           },
           "zaxis": {
            "backgroundcolor": "#E5ECF6",
            "gridcolor": "white",
            "gridwidth": 2,
            "linecolor": "white",
            "showbackground": true,
            "ticks": "",
            "zerolinecolor": "white"
           }
          },
          "shapedefaults": {
           "line": {
            "color": "#2a3f5f"
           }
          },
          "ternary": {
           "aaxis": {
            "gridcolor": "white",
            "linecolor": "white",
            "ticks": ""
           },
           "baxis": {
            "gridcolor": "white",
            "linecolor": "white",
            "ticks": ""
           },
           "bgcolor": "#E5ECF6",
           "caxis": {
            "gridcolor": "white",
            "linecolor": "white",
            "ticks": ""
           }
          },
          "title": {
           "x": 0.05
          },
          "xaxis": {
           "automargin": true,
           "gridcolor": "white",
           "linecolor": "white",
           "ticks": "",
           "title": {
            "standoff": 15
           },
           "zerolinecolor": "white",
           "zerolinewidth": 2
          },
          "yaxis": {
           "automargin": true,
           "gridcolor": "white",
           "linecolor": "white",
           "ticks": "",
           "title": {
            "standoff": 15
           },
           "zerolinecolor": "white",
           "zerolinewidth": 2
          }
         }
        },
        "title": {
         "font": {
          "color": "#8a8d93",
          "family": "Lato, sans-serif",
          "size": 25
         },
         "text": "Most preferd Genre for Movies"
        },
        "xaxis": {
         "anchor": "y",
         "domain": [
          0,
          1
         ],
         "title": {
          "text": "genre"
         },
         "visible": false
        },
        "yaxis": {
         "anchor": "x",
         "categoryorder": "total ascending",
         "domain": [
          0,
          1
         ],
         "title": {
          "text": "index"
         },
         "visible": false
        }
       }
      }
     },
     "metadata": {},
     "output_type": "display_data"
    }
   ],
   "source": [
    "df_m = df[df['type'] == 'Movie']\n",
    "df_m = pd.DataFrame(df_m['genre'].value_counts()).reset_index()\n",
    "\n",
    "fig_bars = px.bar(df_m[:5], x='genre', y='index', text='index',\n",
    "                title='Most preferd Genre for Movies',\n",
    "                color_discrete_sequence=['#b20710'])\n",
    "fig_bars.update_traces(hovertemplate=None, marker=dict(line=dict(width=0)))\n",
    "fig_bars.update_xaxes(visible=False)\n",
    "fig_bars.update_yaxes(visible=False, categoryorder='total ascending')\n",
    "fig_bars.update_layout(height=300,\n",
    "                    margin=dict(t=100, b=20, l=70, r=40),\n",
    "                    hovermode=\"y unified\",\n",
    "                    plot_bgcolor='#333', paper_bgcolor='#333',\n",
    "                    title_font=dict(size=25, color='#8a8d93',family=\"Lato, sans-serif\"),\n",
    "                    font=dict(color='#8a8d93', size=13))\n"
   ]
  },
  {
   "cell_type": "code",
   "execution_count": 70,
   "metadata": {},
   "outputs": [
    {
     "data": {
      "application/vnd.plotly.v1+json": {
       "config": {
        "plotlyServerURL": "https://plot.ly"
       },
       "data": [
        {
         "alignmentgroup": "True",
         "legendgroup": "",
         "marker": {
          "color": "#b20710",
          "line": {
           "width": 0
          },
          "pattern": {
           "shape": ""
          }
         },
         "name": "",
         "offsetgroup": "",
         "orientation": "h",
         "showlegend": false,
         "text": [
          "International TV Shows",
          "Crime TV Shows",
          "British TV Shows",
          "Anime Series",
          "Kids' TV"
         ],
         "textposition": "auto",
         "type": "bar",
         "x": [
          45,
          32,
          21,
          10,
          10
         ],
         "xaxis": "x",
         "y": [
          "International TV Shows",
          "Crime TV Shows",
          "British TV Shows",
          "Anime Series",
          "Kids' TV"
         ],
         "yaxis": "y"
        }
       ],
       "layout": {
        "barmode": "relative",
        "font": {
         "color": "#8a8d93",
         "size": 13
        },
        "height": 300,
        "hovermode": "y unified",
        "legend": {
         "tracegroupgap": 0
        },
        "margin": {
         "b": 20,
         "l": 70,
         "r": 40,
         "t": 100
        },
        "paper_bgcolor": "#333",
        "plot_bgcolor": "#333",
        "template": {
         "data": {
          "bar": [
           {
            "error_x": {
             "color": "#2a3f5f"
            },
            "error_y": {
             "color": "#2a3f5f"
            },
            "marker": {
             "line": {
              "color": "#E5ECF6",
              "width": 0.5
             },
             "pattern": {
              "fillmode": "overlay",
              "size": 10,
              "solidity": 0.2
             }
            },
            "type": "bar"
           }
          ],
          "barpolar": [
           {
            "marker": {
             "line": {
              "color": "#E5ECF6",
              "width": 0.5
             },
             "pattern": {
              "fillmode": "overlay",
              "size": 10,
              "solidity": 0.2
             }
            },
            "type": "barpolar"
           }
          ],
          "carpet": [
           {
            "aaxis": {
             "endlinecolor": "#2a3f5f",
             "gridcolor": "white",
             "linecolor": "white",
             "minorgridcolor": "white",
             "startlinecolor": "#2a3f5f"
            },
            "baxis": {
             "endlinecolor": "#2a3f5f",
             "gridcolor": "white",
             "linecolor": "white",
             "minorgridcolor": "white",
             "startlinecolor": "#2a3f5f"
            },
            "type": "carpet"
           }
          ],
          "choropleth": [
           {
            "colorbar": {
             "outlinewidth": 0,
             "ticks": ""
            },
            "type": "choropleth"
           }
          ],
          "contour": [
           {
            "colorbar": {
             "outlinewidth": 0,
             "ticks": ""
            },
            "colorscale": [
             [
              0,
              "#0d0887"
             ],
             [
              0.1111111111111111,
              "#46039f"
             ],
             [
              0.2222222222222222,
              "#7201a8"
             ],
             [
              0.3333333333333333,
              "#9c179e"
             ],
             [
              0.4444444444444444,
              "#bd3786"
             ],
             [
              0.5555555555555556,
              "#d8576b"
             ],
             [
              0.6666666666666666,
              "#ed7953"
             ],
             [
              0.7777777777777778,
              "#fb9f3a"
             ],
             [
              0.8888888888888888,
              "#fdca26"
             ],
             [
              1,
              "#f0f921"
             ]
            ],
            "type": "contour"
           }
          ],
          "contourcarpet": [
           {
            "colorbar": {
             "outlinewidth": 0,
             "ticks": ""
            },
            "type": "contourcarpet"
           }
          ],
          "heatmap": [
           {
            "colorbar": {
             "outlinewidth": 0,
             "ticks": ""
            },
            "colorscale": [
             [
              0,
              "#0d0887"
             ],
             [
              0.1111111111111111,
              "#46039f"
             ],
             [
              0.2222222222222222,
              "#7201a8"
             ],
             [
              0.3333333333333333,
              "#9c179e"
             ],
             [
              0.4444444444444444,
              "#bd3786"
             ],
             [
              0.5555555555555556,
              "#d8576b"
             ],
             [
              0.6666666666666666,
              "#ed7953"
             ],
             [
              0.7777777777777778,
              "#fb9f3a"
             ],
             [
              0.8888888888888888,
              "#fdca26"
             ],
             [
              1,
              "#f0f921"
             ]
            ],
            "type": "heatmap"
           }
          ],
          "heatmapgl": [
           {
            "colorbar": {
             "outlinewidth": 0,
             "ticks": ""
            },
            "colorscale": [
             [
              0,
              "#0d0887"
             ],
             [
              0.1111111111111111,
              "#46039f"
             ],
             [
              0.2222222222222222,
              "#7201a8"
             ],
             [
              0.3333333333333333,
              "#9c179e"
             ],
             [
              0.4444444444444444,
              "#bd3786"
             ],
             [
              0.5555555555555556,
              "#d8576b"
             ],
             [
              0.6666666666666666,
              "#ed7953"
             ],
             [
              0.7777777777777778,
              "#fb9f3a"
             ],
             [
              0.8888888888888888,
              "#fdca26"
             ],
             [
              1,
              "#f0f921"
             ]
            ],
            "type": "heatmapgl"
           }
          ],
          "histogram": [
           {
            "marker": {
             "pattern": {
              "fillmode": "overlay",
              "size": 10,
              "solidity": 0.2
             }
            },
            "type": "histogram"
           }
          ],
          "histogram2d": [
           {
            "colorbar": {
             "outlinewidth": 0,
             "ticks": ""
            },
            "colorscale": [
             [
              0,
              "#0d0887"
             ],
             [
              0.1111111111111111,
              "#46039f"
             ],
             [
              0.2222222222222222,
              "#7201a8"
             ],
             [
              0.3333333333333333,
              "#9c179e"
             ],
             [
              0.4444444444444444,
              "#bd3786"
             ],
             [
              0.5555555555555556,
              "#d8576b"
             ],
             [
              0.6666666666666666,
              "#ed7953"
             ],
             [
              0.7777777777777778,
              "#fb9f3a"
             ],
             [
              0.8888888888888888,
              "#fdca26"
             ],
             [
              1,
              "#f0f921"
             ]
            ],
            "type": "histogram2d"
           }
          ],
          "histogram2dcontour": [
           {
            "colorbar": {
             "outlinewidth": 0,
             "ticks": ""
            },
            "colorscale": [
             [
              0,
              "#0d0887"
             ],
             [
              0.1111111111111111,
              "#46039f"
             ],
             [
              0.2222222222222222,
              "#7201a8"
             ],
             [
              0.3333333333333333,
              "#9c179e"
             ],
             [
              0.4444444444444444,
              "#bd3786"
             ],
             [
              0.5555555555555556,
              "#d8576b"
             ],
             [
              0.6666666666666666,
              "#ed7953"
             ],
             [
              0.7777777777777778,
              "#fb9f3a"
             ],
             [
              0.8888888888888888,
              "#fdca26"
             ],
             [
              1,
              "#f0f921"
             ]
            ],
            "type": "histogram2dcontour"
           }
          ],
          "mesh3d": [
           {
            "colorbar": {
             "outlinewidth": 0,
             "ticks": ""
            },
            "type": "mesh3d"
           }
          ],
          "parcoords": [
           {
            "line": {
             "colorbar": {
              "outlinewidth": 0,
              "ticks": ""
             }
            },
            "type": "parcoords"
           }
          ],
          "pie": [
           {
            "automargin": true,
            "type": "pie"
           }
          ],
          "scatter": [
           {
            "fillpattern": {
             "fillmode": "overlay",
             "size": 10,
             "solidity": 0.2
            },
            "type": "scatter"
           }
          ],
          "scatter3d": [
           {
            "line": {
             "colorbar": {
              "outlinewidth": 0,
              "ticks": ""
             }
            },
            "marker": {
             "colorbar": {
              "outlinewidth": 0,
              "ticks": ""
             }
            },
            "type": "scatter3d"
           }
          ],
          "scattercarpet": [
           {
            "marker": {
             "colorbar": {
              "outlinewidth": 0,
              "ticks": ""
             }
            },
            "type": "scattercarpet"
           }
          ],
          "scattergeo": [
           {
            "marker": {
             "colorbar": {
              "outlinewidth": 0,
              "ticks": ""
             }
            },
            "type": "scattergeo"
           }
          ],
          "scattergl": [
           {
            "marker": {
             "colorbar": {
              "outlinewidth": 0,
              "ticks": ""
             }
            },
            "type": "scattergl"
           }
          ],
          "scattermapbox": [
           {
            "marker": {
             "colorbar": {
              "outlinewidth": 0,
              "ticks": ""
             }
            },
            "type": "scattermapbox"
           }
          ],
          "scatterpolar": [
           {
            "marker": {
             "colorbar": {
              "outlinewidth": 0,
              "ticks": ""
             }
            },
            "type": "scatterpolar"
           }
          ],
          "scatterpolargl": [
           {
            "marker": {
             "colorbar": {
              "outlinewidth": 0,
              "ticks": ""
             }
            },
            "type": "scatterpolargl"
           }
          ],
          "scatterternary": [
           {
            "marker": {
             "colorbar": {
              "outlinewidth": 0,
              "ticks": ""
             }
            },
            "type": "scatterternary"
           }
          ],
          "surface": [
           {
            "colorbar": {
             "outlinewidth": 0,
             "ticks": ""
            },
            "colorscale": [
             [
              0,
              "#0d0887"
             ],
             [
              0.1111111111111111,
              "#46039f"
             ],
             [
              0.2222222222222222,
              "#7201a8"
             ],
             [
              0.3333333333333333,
              "#9c179e"
             ],
             [
              0.4444444444444444,
              "#bd3786"
             ],
             [
              0.5555555555555556,
              "#d8576b"
             ],
             [
              0.6666666666666666,
              "#ed7953"
             ],
             [
              0.7777777777777778,
              "#fb9f3a"
             ],
             [
              0.8888888888888888,
              "#fdca26"
             ],
             [
              1,
              "#f0f921"
             ]
            ],
            "type": "surface"
           }
          ],
          "table": [
           {
            "cells": {
             "fill": {
              "color": "#EBF0F8"
             },
             "line": {
              "color": "white"
             }
            },
            "header": {
             "fill": {
              "color": "#C8D4E3"
             },
             "line": {
              "color": "white"
             }
            },
            "type": "table"
           }
          ]
         },
         "layout": {
          "annotationdefaults": {
           "arrowcolor": "#2a3f5f",
           "arrowhead": 0,
           "arrowwidth": 1
          },
          "autotypenumbers": "strict",
          "coloraxis": {
           "colorbar": {
            "outlinewidth": 0,
            "ticks": ""
           }
          },
          "colorscale": {
           "diverging": [
            [
             0,
             "#8e0152"
            ],
            [
             0.1,
             "#c51b7d"
            ],
            [
             0.2,
             "#de77ae"
            ],
            [
             0.3,
             "#f1b6da"
            ],
            [
             0.4,
             "#fde0ef"
            ],
            [
             0.5,
             "#f7f7f7"
            ],
            [
             0.6,
             "#e6f5d0"
            ],
            [
             0.7,
             "#b8e186"
            ],
            [
             0.8,
             "#7fbc41"
            ],
            [
             0.9,
             "#4d9221"
            ],
            [
             1,
             "#276419"
            ]
           ],
           "sequential": [
            [
             0,
             "#0d0887"
            ],
            [
             0.1111111111111111,
             "#46039f"
            ],
            [
             0.2222222222222222,
             "#7201a8"
            ],
            [
             0.3333333333333333,
             "#9c179e"
            ],
            [
             0.4444444444444444,
             "#bd3786"
            ],
            [
             0.5555555555555556,
             "#d8576b"
            ],
            [
             0.6666666666666666,
             "#ed7953"
            ],
            [
             0.7777777777777778,
             "#fb9f3a"
            ],
            [
             0.8888888888888888,
             "#fdca26"
            ],
            [
             1,
             "#f0f921"
            ]
           ],
           "sequentialminus": [
            [
             0,
             "#0d0887"
            ],
            [
             0.1111111111111111,
             "#46039f"
            ],
            [
             0.2222222222222222,
             "#7201a8"
            ],
            [
             0.3333333333333333,
             "#9c179e"
            ],
            [
             0.4444444444444444,
             "#bd3786"
            ],
            [
             0.5555555555555556,
             "#d8576b"
            ],
            [
             0.6666666666666666,
             "#ed7953"
            ],
            [
             0.7777777777777778,
             "#fb9f3a"
            ],
            [
             0.8888888888888888,
             "#fdca26"
            ],
            [
             1,
             "#f0f921"
            ]
           ]
          },
          "colorway": [
           "#636efa",
           "#EF553B",
           "#00cc96",
           "#ab63fa",
           "#FFA15A",
           "#19d3f3",
           "#FF6692",
           "#B6E880",
           "#FF97FF",
           "#FECB52"
          ],
          "font": {
           "color": "#2a3f5f"
          },
          "geo": {
           "bgcolor": "white",
           "lakecolor": "white",
           "landcolor": "#E5ECF6",
           "showlakes": true,
           "showland": true,
           "subunitcolor": "white"
          },
          "hoverlabel": {
           "align": "left"
          },
          "hovermode": "closest",
          "mapbox": {
           "style": "light"
          },
          "paper_bgcolor": "white",
          "plot_bgcolor": "#E5ECF6",
          "polar": {
           "angularaxis": {
            "gridcolor": "white",
            "linecolor": "white",
            "ticks": ""
           },
           "bgcolor": "#E5ECF6",
           "radialaxis": {
            "gridcolor": "white",
            "linecolor": "white",
            "ticks": ""
           }
          },
          "scene": {
           "xaxis": {
            "backgroundcolor": "#E5ECF6",
            "gridcolor": "white",
            "gridwidth": 2,
            "linecolor": "white",
            "showbackground": true,
            "ticks": "",
            "zerolinecolor": "white"
           },
           "yaxis": {
            "backgroundcolor": "#E5ECF6",
            "gridcolor": "white",
            "gridwidth": 2,
            "linecolor": "white",
            "showbackground": true,
            "ticks": "",
            "zerolinecolor": "white"
           },
           "zaxis": {
            "backgroundcolor": "#E5ECF6",
            "gridcolor": "white",
            "gridwidth": 2,
            "linecolor": "white",
            "showbackground": true,
            "ticks": "",
            "zerolinecolor": "white"
           }
          },
          "shapedefaults": {
           "line": {
            "color": "#2a3f5f"
           }
          },
          "ternary": {
           "aaxis": {
            "gridcolor": "white",
            "linecolor": "white",
            "ticks": ""
           },
           "baxis": {
            "gridcolor": "white",
            "linecolor": "white",
            "ticks": ""
           },
           "bgcolor": "#E5ECF6",
           "caxis": {
            "gridcolor": "white",
            "linecolor": "white",
            "ticks": ""
           }
          },
          "title": {
           "x": 0.05
          },
          "xaxis": {
           "automargin": true,
           "gridcolor": "white",
           "linecolor": "white",
           "ticks": "",
           "title": {
            "standoff": 15
           },
           "zerolinecolor": "white",
           "zerolinewidth": 2
          },
          "yaxis": {
           "automargin": true,
           "gridcolor": "white",
           "linecolor": "white",
           "ticks": "",
           "title": {
            "standoff": 15
           },
           "zerolinecolor": "white",
           "zerolinewidth": 2
          }
         }
        },
        "title": {
         "font": {
          "color": "#8a8d93",
          "family": "Lato, sans-serif",
          "size": 25
         },
         "text": "Most preferd Genre for TV Shows"
        },
        "xaxis": {
         "anchor": "y",
         "domain": [
          0,
          1
         ],
         "title": {
          "text": "genre"
         },
         "visible": false
        },
        "yaxis": {
         "anchor": "x",
         "categoryorder": "total ascending",
         "domain": [
          0,
          1
         ],
         "title": {
          "text": "index"
         },
         "visible": false
        }
       }
      }
     },
     "metadata": {},
     "output_type": "display_data"
    }
   ],
   "source": [
    "df_tv = df[df['type'] == 'TV Show']\n",
    "df_tv = pd.DataFrame(df_tv['genre'].value_counts()).reset_index()\n",
    "\n",
    "fig_tv = px.bar(df_tv[:5], x='genre', y='index', text='index',\n",
    "                title='Most preferd Genre for TV Shows',\n",
    "                color_discrete_sequence=['#b20710'])\n",
    "fig_tv.update_traces(hovertemplate=None, marker=dict(line=dict(width=0)))\n",
    "fig_tv.update_xaxes(visible=False)\n",
    "fig_tv.update_yaxes(visible=False, categoryorder='total ascending')\n",
    "fig_tv.update_layout(height=300,\n",
    "                    margin=dict(t=100, b=20, l=70, r=40),\n",
    "                    hovermode=\"y unified\",\n",
    "                    plot_bgcolor='#333', paper_bgcolor='#333',\n",
    "                    title_font=dict(size=25, color='#8a8d93',family=\"Lato, sans-serif\"),\n",
    "                    font=dict(color='#8a8d93', size=13))\n",
    "\n",
    "fig_tv.show()\n"
   ]
  },
  {
   "cell_type": "markdown",
   "metadata": {},
   "source": [
    "<h4>Conclusion 7</h4>\n",
    "<p>From the graphs above, we may conclude that people prefer:</p>\n",
    "<ul>\n",
    "    <li>About movies, drama and comedies are the most preferred genre.</li>\n",
    "    <li>For TV Shows, international tv shows and crime tv shows are preferred by the public.</li>\n",
    "</ul>\n"
   ]
  },
  {
   "cell_type": "markdown",
   "metadata": {},
   "source": [
    "<h4>Graph 8</h4>\n",
    "<p>What about with watching movies over the years</p>"
   ]
  },
  {
   "cell_type": "code",
   "execution_count": 73,
   "metadata": {},
   "outputs": [
    {
     "data": {
      "text/html": [
       "<div>\n",
       "<style scoped>\n",
       "    .dataframe tbody tr th:only-of-type {\n",
       "        vertical-align: middle;\n",
       "    }\n",
       "\n",
       "    .dataframe tbody tr th {\n",
       "        vertical-align: top;\n",
       "    }\n",
       "\n",
       "    .dataframe thead th {\n",
       "        text-align: right;\n",
       "    }\n",
       "</style>\n",
       "<table border=\"1\" class=\"dataframe\">\n",
       "  <thead>\n",
       "    <tr style=\"text-align: right;\">\n",
       "      <th></th>\n",
       "      <th>year_added</th>\n",
       "      <th>count</th>\n",
       "      <th>percent</th>\n",
       "    </tr>\n",
       "  </thead>\n",
       "  <tbody>\n",
       "    <tr>\n",
       "      <th>12</th>\n",
       "      <td>2008</td>\n",
       "      <td>1</td>\n",
       "      <td>0.019286</td>\n",
       "    </tr>\n",
       "    <tr>\n",
       "      <th>11</th>\n",
       "      <td>2009</td>\n",
       "      <td>2</td>\n",
       "      <td>0.038573</td>\n",
       "    </tr>\n",
       "    <tr>\n",
       "      <th>13</th>\n",
       "      <td>2010</td>\n",
       "      <td>1</td>\n",
       "      <td>0.019286</td>\n",
       "    </tr>\n",
       "    <tr>\n",
       "      <th>8</th>\n",
       "      <td>2011</td>\n",
       "      <td>13</td>\n",
       "      <td>0.250723</td>\n",
       "    </tr>\n",
       "    <tr>\n",
       "      <th>10</th>\n",
       "      <td>2012</td>\n",
       "      <td>3</td>\n",
       "      <td>0.057859</td>\n",
       "    </tr>\n",
       "    <tr>\n",
       "      <th>9</th>\n",
       "      <td>2013</td>\n",
       "      <td>6</td>\n",
       "      <td>0.115718</td>\n",
       "    </tr>\n",
       "    <tr>\n",
       "      <th>7</th>\n",
       "      <td>2014</td>\n",
       "      <td>14</td>\n",
       "      <td>0.270010</td>\n",
       "    </tr>\n",
       "    <tr>\n",
       "      <th>6</th>\n",
       "      <td>2015</td>\n",
       "      <td>47</td>\n",
       "      <td>0.906461</td>\n",
       "    </tr>\n",
       "    <tr>\n",
       "      <th>5</th>\n",
       "      <td>2016</td>\n",
       "      <td>195</td>\n",
       "      <td>3.760849</td>\n",
       "    </tr>\n",
       "    <tr>\n",
       "      <th>4</th>\n",
       "      <td>2017</td>\n",
       "      <td>702</td>\n",
       "      <td>13.539055</td>\n",
       "    </tr>\n",
       "    <tr>\n",
       "      <th>2</th>\n",
       "      <td>2018</td>\n",
       "      <td>1085</td>\n",
       "      <td>20.925747</td>\n",
       "    </tr>\n",
       "    <tr>\n",
       "      <th>0</th>\n",
       "      <td>2019</td>\n",
       "      <td>1236</td>\n",
       "      <td>23.837994</td>\n",
       "    </tr>\n",
       "    <tr>\n",
       "      <th>1</th>\n",
       "      <td>2020</td>\n",
       "      <td>1151</td>\n",
       "      <td>22.198650</td>\n",
       "    </tr>\n",
       "    <tr>\n",
       "      <th>3</th>\n",
       "      <td>2021</td>\n",
       "      <td>729</td>\n",
       "      <td>14.059788</td>\n",
       "    </tr>\n",
       "  </tbody>\n",
       "</table>\n",
       "</div>"
      ],
      "text/plain": [
       "    year_added  count    percent\n",
       "12        2008      1   0.019286\n",
       "11        2009      2   0.038573\n",
       "13        2010      1   0.019286\n",
       "8         2011     13   0.250723\n",
       "10        2012      3   0.057859\n",
       "9         2013      6   0.115718\n",
       "7         2014     14   0.270010\n",
       "6         2015     47   0.906461\n",
       "5         2016    195   3.760849\n",
       "4         2017    702  13.539055\n",
       "2         2018   1085  20.925747\n",
       "0         2019   1236  23.837994\n",
       "1         2020   1151  22.198650\n",
       "3         2021    729  14.059788"
      ]
     },
     "execution_count": 73,
     "metadata": {},
     "output_type": "execute_result"
    }
   ],
   "source": [
    "d2 = df[df[\"type\"] == \"Movie\"]\n",
    "col = \"year_added\"\n",
    "\n",
    "vc2 = d2[col].value_counts().reset_index().rename(\n",
    "    columns={col: \"count\", \"index\": col})\n",
    "vc2['percent'] = vc2['count'].apply(lambda x: 100*x/sum(vc2['count']))\n",
    "vc2 = vc2.sort_values(col)\n",
    "\n",
    "vc2"
   ]
  },
  {
   "cell_type": "code",
   "execution_count": 77,
   "metadata": {},
   "outputs": [
    {
     "data": {
      "application/vnd.plotly.v1+json": {
       "config": {
        "plotlyServerURL": "https://plot.ly"
       },
       "data": [
        {
         "connector": {
          "line": {
           "color": "#b20710"
          }
         },
         "decreasing": {
          "marker": {
           "color": "orange"
          }
         },
         "increasing": {
          "marker": {
           "color": "#b20710"
          }
         },
         "name": "Movie",
         "orientation": "v",
         "text": [
          "1",
          "2",
          "1",
          "13",
          "3",
          "6",
          "14",
          "47",
          "195",
          "702",
          "1085",
          "1236",
          "1151",
          "729"
         ],
         "textposition": "auto",
         "type": "waterfall",
         "x": [
          "2008",
          "2009",
          "2010",
          "2011",
          "2012",
          "2013",
          "2014",
          "2015",
          "2016",
          "2017",
          "2018",
          "2019",
          "2020",
          "2021"
         ],
         "y": [
          1,
          2,
          -1,
          13,
          -3,
          6,
          14,
          47,
          195,
          702,
          1085,
          1236,
          -1151,
          -729
         ]
        }
       ],
       "layout": {
        "font": {
         "color": "#8a8d93"
        },
        "height": 350,
        "hovermode": "x unified",
        "margin": {
         "b": 20,
         "l": 50,
         "r": 50,
         "t": 80
        },
        "paper_bgcolor": "#333",
        "plot_bgcolor": "#333",
        "template": {
         "data": {
          "bar": [
           {
            "error_x": {
             "color": "#2a3f5f"
            },
            "error_y": {
             "color": "#2a3f5f"
            },
            "marker": {
             "line": {
              "color": "#E5ECF6",
              "width": 0.5
             },
             "pattern": {
              "fillmode": "overlay",
              "size": 10,
              "solidity": 0.2
             }
            },
            "type": "bar"
           }
          ],
          "barpolar": [
           {
            "marker": {
             "line": {
              "color": "#E5ECF6",
              "width": 0.5
             },
             "pattern": {
              "fillmode": "overlay",
              "size": 10,
              "solidity": 0.2
             }
            },
            "type": "barpolar"
           }
          ],
          "carpet": [
           {
            "aaxis": {
             "endlinecolor": "#2a3f5f",
             "gridcolor": "white",
             "linecolor": "white",
             "minorgridcolor": "white",
             "startlinecolor": "#2a3f5f"
            },
            "baxis": {
             "endlinecolor": "#2a3f5f",
             "gridcolor": "white",
             "linecolor": "white",
             "minorgridcolor": "white",
             "startlinecolor": "#2a3f5f"
            },
            "type": "carpet"
           }
          ],
          "choropleth": [
           {
            "colorbar": {
             "outlinewidth": 0,
             "ticks": ""
            },
            "type": "choropleth"
           }
          ],
          "contour": [
           {
            "colorbar": {
             "outlinewidth": 0,
             "ticks": ""
            },
            "colorscale": [
             [
              0,
              "#0d0887"
             ],
             [
              0.1111111111111111,
              "#46039f"
             ],
             [
              0.2222222222222222,
              "#7201a8"
             ],
             [
              0.3333333333333333,
              "#9c179e"
             ],
             [
              0.4444444444444444,
              "#bd3786"
             ],
             [
              0.5555555555555556,
              "#d8576b"
             ],
             [
              0.6666666666666666,
              "#ed7953"
             ],
             [
              0.7777777777777778,
              "#fb9f3a"
             ],
             [
              0.8888888888888888,
              "#fdca26"
             ],
             [
              1,
              "#f0f921"
             ]
            ],
            "type": "contour"
           }
          ],
          "contourcarpet": [
           {
            "colorbar": {
             "outlinewidth": 0,
             "ticks": ""
            },
            "type": "contourcarpet"
           }
          ],
          "heatmap": [
           {
            "colorbar": {
             "outlinewidth": 0,
             "ticks": ""
            },
            "colorscale": [
             [
              0,
              "#0d0887"
             ],
             [
              0.1111111111111111,
              "#46039f"
             ],
             [
              0.2222222222222222,
              "#7201a8"
             ],
             [
              0.3333333333333333,
              "#9c179e"
             ],
             [
              0.4444444444444444,
              "#bd3786"
             ],
             [
              0.5555555555555556,
              "#d8576b"
             ],
             [
              0.6666666666666666,
              "#ed7953"
             ],
             [
              0.7777777777777778,
              "#fb9f3a"
             ],
             [
              0.8888888888888888,
              "#fdca26"
             ],
             [
              1,
              "#f0f921"
             ]
            ],
            "type": "heatmap"
           }
          ],
          "heatmapgl": [
           {
            "colorbar": {
             "outlinewidth": 0,
             "ticks": ""
            },
            "colorscale": [
             [
              0,
              "#0d0887"
             ],
             [
              0.1111111111111111,
              "#46039f"
             ],
             [
              0.2222222222222222,
              "#7201a8"
             ],
             [
              0.3333333333333333,
              "#9c179e"
             ],
             [
              0.4444444444444444,
              "#bd3786"
             ],
             [
              0.5555555555555556,
              "#d8576b"
             ],
             [
              0.6666666666666666,
              "#ed7953"
             ],
             [
              0.7777777777777778,
              "#fb9f3a"
             ],
             [
              0.8888888888888888,
              "#fdca26"
             ],
             [
              1,
              "#f0f921"
             ]
            ],
            "type": "heatmapgl"
           }
          ],
          "histogram": [
           {
            "marker": {
             "pattern": {
              "fillmode": "overlay",
              "size": 10,
              "solidity": 0.2
             }
            },
            "type": "histogram"
           }
          ],
          "histogram2d": [
           {
            "colorbar": {
             "outlinewidth": 0,
             "ticks": ""
            },
            "colorscale": [
             [
              0,
              "#0d0887"
             ],
             [
              0.1111111111111111,
              "#46039f"
             ],
             [
              0.2222222222222222,
              "#7201a8"
             ],
             [
              0.3333333333333333,
              "#9c179e"
             ],
             [
              0.4444444444444444,
              "#bd3786"
             ],
             [
              0.5555555555555556,
              "#d8576b"
             ],
             [
              0.6666666666666666,
              "#ed7953"
             ],
             [
              0.7777777777777778,
              "#fb9f3a"
             ],
             [
              0.8888888888888888,
              "#fdca26"
             ],
             [
              1,
              "#f0f921"
             ]
            ],
            "type": "histogram2d"
           }
          ],
          "histogram2dcontour": [
           {
            "colorbar": {
             "outlinewidth": 0,
             "ticks": ""
            },
            "colorscale": [
             [
              0,
              "#0d0887"
             ],
             [
              0.1111111111111111,
              "#46039f"
             ],
             [
              0.2222222222222222,
              "#7201a8"
             ],
             [
              0.3333333333333333,
              "#9c179e"
             ],
             [
              0.4444444444444444,
              "#bd3786"
             ],
             [
              0.5555555555555556,
              "#d8576b"
             ],
             [
              0.6666666666666666,
              "#ed7953"
             ],
             [
              0.7777777777777778,
              "#fb9f3a"
             ],
             [
              0.8888888888888888,
              "#fdca26"
             ],
             [
              1,
              "#f0f921"
             ]
            ],
            "type": "histogram2dcontour"
           }
          ],
          "mesh3d": [
           {
            "colorbar": {
             "outlinewidth": 0,
             "ticks": ""
            },
            "type": "mesh3d"
           }
          ],
          "parcoords": [
           {
            "line": {
             "colorbar": {
              "outlinewidth": 0,
              "ticks": ""
             }
            },
            "type": "parcoords"
           }
          ],
          "pie": [
           {
            "automargin": true,
            "type": "pie"
           }
          ],
          "scatter": [
           {
            "fillpattern": {
             "fillmode": "overlay",
             "size": 10,
             "solidity": 0.2
            },
            "type": "scatter"
           }
          ],
          "scatter3d": [
           {
            "line": {
             "colorbar": {
              "outlinewidth": 0,
              "ticks": ""
             }
            },
            "marker": {
             "colorbar": {
              "outlinewidth": 0,
              "ticks": ""
             }
            },
            "type": "scatter3d"
           }
          ],
          "scattercarpet": [
           {
            "marker": {
             "colorbar": {
              "outlinewidth": 0,
              "ticks": ""
             }
            },
            "type": "scattercarpet"
           }
          ],
          "scattergeo": [
           {
            "marker": {
             "colorbar": {
              "outlinewidth": 0,
              "ticks": ""
             }
            },
            "type": "scattergeo"
           }
          ],
          "scattergl": [
           {
            "marker": {
             "colorbar": {
              "outlinewidth": 0,
              "ticks": ""
             }
            },
            "type": "scattergl"
           }
          ],
          "scattermapbox": [
           {
            "marker": {
             "colorbar": {
              "outlinewidth": 0,
              "ticks": ""
             }
            },
            "type": "scattermapbox"
           }
          ],
          "scatterpolar": [
           {
            "marker": {
             "colorbar": {
              "outlinewidth": 0,
              "ticks": ""
             }
            },
            "type": "scatterpolar"
           }
          ],
          "scatterpolargl": [
           {
            "marker": {
             "colorbar": {
              "outlinewidth": 0,
              "ticks": ""
             }
            },
            "type": "scatterpolargl"
           }
          ],
          "scatterternary": [
           {
            "marker": {
             "colorbar": {
              "outlinewidth": 0,
              "ticks": ""
             }
            },
            "type": "scatterternary"
           }
          ],
          "surface": [
           {
            "colorbar": {
             "outlinewidth": 0,
             "ticks": ""
            },
            "colorscale": [
             [
              0,
              "#0d0887"
             ],
             [
              0.1111111111111111,
              "#46039f"
             ],
             [
              0.2222222222222222,
              "#7201a8"
             ],
             [
              0.3333333333333333,
              "#9c179e"
             ],
             [
              0.4444444444444444,
              "#bd3786"
             ],
             [
              0.5555555555555556,
              "#d8576b"
             ],
             [
              0.6666666666666666,
              "#ed7953"
             ],
             [
              0.7777777777777778,
              "#fb9f3a"
             ],
             [
              0.8888888888888888,
              "#fdca26"
             ],
             [
              1,
              "#f0f921"
             ]
            ],
            "type": "surface"
           }
          ],
          "table": [
           {
            "cells": {
             "fill": {
              "color": "#EBF0F8"
             },
             "line": {
              "color": "white"
             }
            },
            "header": {
             "fill": {
              "color": "#C8D4E3"
             },
             "line": {
              "color": "white"
             }
            },
            "type": "table"
           }
          ]
         },
         "layout": {
          "annotationdefaults": {
           "arrowcolor": "#2a3f5f",
           "arrowhead": 0,
           "arrowwidth": 1
          },
          "autotypenumbers": "strict",
          "coloraxis": {
           "colorbar": {
            "outlinewidth": 0,
            "ticks": ""
           }
          },
          "colorscale": {
           "diverging": [
            [
             0,
             "#8e0152"
            ],
            [
             0.1,
             "#c51b7d"
            ],
            [
             0.2,
             "#de77ae"
            ],
            [
             0.3,
             "#f1b6da"
            ],
            [
             0.4,
             "#fde0ef"
            ],
            [
             0.5,
             "#f7f7f7"
            ],
            [
             0.6,
             "#e6f5d0"
            ],
            [
             0.7,
             "#b8e186"
            ],
            [
             0.8,
             "#7fbc41"
            ],
            [
             0.9,
             "#4d9221"
            ],
            [
             1,
             "#276419"
            ]
           ],
           "sequential": [
            [
             0,
             "#0d0887"
            ],
            [
             0.1111111111111111,
             "#46039f"
            ],
            [
             0.2222222222222222,
             "#7201a8"
            ],
            [
             0.3333333333333333,
             "#9c179e"
            ],
            [
             0.4444444444444444,
             "#bd3786"
            ],
            [
             0.5555555555555556,
             "#d8576b"
            ],
            [
             0.6666666666666666,
             "#ed7953"
            ],
            [
             0.7777777777777778,
             "#fb9f3a"
            ],
            [
             0.8888888888888888,
             "#fdca26"
            ],
            [
             1,
             "#f0f921"
            ]
           ],
           "sequentialminus": [
            [
             0,
             "#0d0887"
            ],
            [
             0.1111111111111111,
             "#46039f"
            ],
            [
             0.2222222222222222,
             "#7201a8"
            ],
            [
             0.3333333333333333,
             "#9c179e"
            ],
            [
             0.4444444444444444,
             "#bd3786"
            ],
            [
             0.5555555555555556,
             "#d8576b"
            ],
            [
             0.6666666666666666,
             "#ed7953"
            ],
            [
             0.7777777777777778,
             "#fb9f3a"
            ],
            [
             0.8888888888888888,
             "#fdca26"
            ],
            [
             1,
             "#f0f921"
            ]
           ]
          },
          "colorway": [
           "#636efa",
           "#EF553B",
           "#00cc96",
           "#ab63fa",
           "#FFA15A",
           "#19d3f3",
           "#FF6692",
           "#B6E880",
           "#FF97FF",
           "#FECB52"
          ],
          "font": {
           "color": "#2a3f5f"
          },
          "geo": {
           "bgcolor": "white",
           "lakecolor": "white",
           "landcolor": "#E5ECF6",
           "showlakes": true,
           "showland": true,
           "subunitcolor": "white"
          },
          "hoverlabel": {
           "align": "left"
          },
          "hovermode": "closest",
          "mapbox": {
           "style": "light"
          },
          "paper_bgcolor": "white",
          "plot_bgcolor": "#E5ECF6",
          "polar": {
           "angularaxis": {
            "gridcolor": "white",
            "linecolor": "white",
            "ticks": ""
           },
           "bgcolor": "#E5ECF6",
           "radialaxis": {
            "gridcolor": "white",
            "linecolor": "white",
            "ticks": ""
           }
          },
          "scene": {
           "xaxis": {
            "backgroundcolor": "#E5ECF6",
            "gridcolor": "white",
            "gridwidth": 2,
            "linecolor": "white",
            "showbackground": true,
            "ticks": "",
            "zerolinecolor": "white"
           },
           "yaxis": {
            "backgroundcolor": "#E5ECF6",
            "gridcolor": "white",
            "gridwidth": 2,
            "linecolor": "white",
            "showbackground": true,
            "ticks": "",
            "zerolinecolor": "white"
           },
           "zaxis": {
            "backgroundcolor": "#E5ECF6",
            "gridcolor": "white",
            "gridwidth": 2,
            "linecolor": "white",
            "showbackground": true,
            "ticks": "",
            "zerolinecolor": "white"
           }
          },
          "shapedefaults": {
           "line": {
            "color": "#2a3f5f"
           }
          },
          "ternary": {
           "aaxis": {
            "gridcolor": "white",
            "linecolor": "white",
            "ticks": ""
           },
           "baxis": {
            "gridcolor": "white",
            "linecolor": "white",
            "ticks": ""
           },
           "bgcolor": "#E5ECF6",
           "caxis": {
            "gridcolor": "white",
            "linecolor": "white",
            "ticks": ""
           }
          },
          "title": {
           "x": 0.05
          },
          "xaxis": {
           "automargin": true,
           "gridcolor": "white",
           "linecolor": "white",
           "ticks": "",
           "title": {
            "standoff": 15
           },
           "zerolinecolor": "white",
           "zerolinewidth": 2
          },
          "yaxis": {
           "automargin": true,
           "gridcolor": "white",
           "linecolor": "white",
           "ticks": "",
           "title": {
            "standoff": 15
           },
           "zerolinecolor": "white",
           "zerolinewidth": 2
          }
         }
        },
        "title": {
         "font": {
          "color": "#8a8d93",
          "family": "Lato, sans-serif",
          "size": 25
         },
         "text": "Watching Movies over the year"
        },
        "xaxis": {
         "showgrid": false,
         "title": {
          "text": " "
         }
        },
        "yaxis": {
         "showgrid": false,
         "title": {
          "text": " "
         },
         "visible": false
        }
       }
      }
     },
     "metadata": {},
     "output_type": "display_data"
    }
   ],
   "source": [
    "fig2 = go.Figure(go.Waterfall(\n",
    "    name=\"Movie\", orientation=\"v\",\n",
    "    x=[\"2008\", \"2009\", \"2010\", \"2011\", \"2012\", \"2013\", \"2014\",\n",
    "        \"2015\", \"2016\", \"2017\", \"2018\", \"2019\", \"2020\", \"2021\"],\n",
    "    textposition=\"auto\",\n",
    "    text=[\"1\", \"2\", \"1\", \"13\", \"3\", \"6\", \"14\", \"47\",\n",
    "        \"195\", \"702\", \"1085\", \"1236\", \"1151\", \"729\"],\n",
    "    y=[1, 2, -1, 13, -3, 6, 14, 47, 195, 702, 1085, 1236, -1151, -729],\n",
    "    connector={\"line\": {\"color\": \"#b20710\"}},\n",
    "    increasing={\"marker\": {\"color\": \"#b20710\"}},\n",
    "    decreasing={\"marker\": {\"color\": \"orange\"}},\n",
    "\n",
    "))\n",
    "fig2.update_xaxes(showgrid=False)\n",
    "fig2.update_yaxes(showgrid=False, visible=False)\n",
    "fig2.update_traces(hovertemplate=None)\n",
    "fig2.update_layout(title='Watching Movies over the year', height=350,\n",
    "                margin=dict(t=80, b=20, l=50, r=50),\n",
    "                hovermode=\"x unified\",\n",
    "                xaxis_title=' ', yaxis_title=\" \",\n",
    "                plot_bgcolor='#333', paper_bgcolor='#333',\n",
    "                title_font=dict(size=25, color='#8a8d93',family=\"Lato, sans-serif\"),\n",
    "                font=dict(color='#8a8d93'))\n"
   ]
  },
  {
   "cell_type": "code",
   "execution_count": 76,
   "metadata": {},
   "outputs": [
    {
     "data": {
      "text/html": [
       "<div>\n",
       "<style scoped>\n",
       "    .dataframe tbody tr th:only-of-type {\n",
       "        vertical-align: middle;\n",
       "    }\n",
       "\n",
       "    .dataframe tbody tr th {\n",
       "        vertical-align: top;\n",
       "    }\n",
       "\n",
       "    .dataframe thead th {\n",
       "        text-align: right;\n",
       "    }\n",
       "</style>\n",
       "<table border=\"1\" class=\"dataframe\">\n",
       "  <thead>\n",
       "    <tr style=\"text-align: right;\">\n",
       "      <th></th>\n",
       "      <th>year_added</th>\n",
       "      <th>count</th>\n",
       "      <th>percent</th>\n",
       "    </tr>\n",
       "  </thead>\n",
       "  <tbody>\n",
       "    <tr>\n",
       "      <th>7</th>\n",
       "      <td>2013</td>\n",
       "      <td>1</td>\n",
       "      <td>0.680272</td>\n",
       "    </tr>\n",
       "    <tr>\n",
       "      <th>6</th>\n",
       "      <td>2015</td>\n",
       "      <td>3</td>\n",
       "      <td>2.040816</td>\n",
       "    </tr>\n",
       "    <tr>\n",
       "      <th>5</th>\n",
       "      <td>2016</td>\n",
       "      <td>7</td>\n",
       "      <td>4.761905</td>\n",
       "    </tr>\n",
       "    <tr>\n",
       "      <th>3</th>\n",
       "      <td>2017</td>\n",
       "      <td>22</td>\n",
       "      <td>14.965986</td>\n",
       "    </tr>\n",
       "    <tr>\n",
       "      <th>4</th>\n",
       "      <td>2018</td>\n",
       "      <td>16</td>\n",
       "      <td>10.884354</td>\n",
       "    </tr>\n",
       "    <tr>\n",
       "      <th>1</th>\n",
       "      <td>2019</td>\n",
       "      <td>29</td>\n",
       "      <td>19.727891</td>\n",
       "    </tr>\n",
       "    <tr>\n",
       "      <th>0</th>\n",
       "      <td>2020</td>\n",
       "      <td>43</td>\n",
       "      <td>29.251701</td>\n",
       "    </tr>\n",
       "    <tr>\n",
       "      <th>2</th>\n",
       "      <td>2021</td>\n",
       "      <td>26</td>\n",
       "      <td>17.687075</td>\n",
       "    </tr>\n",
       "  </tbody>\n",
       "</table>\n",
       "</div>"
      ],
      "text/plain": [
       "   year_added  count    percent\n",
       "7        2013      1   0.680272\n",
       "6        2015      3   2.040816\n",
       "5        2016      7   4.761905\n",
       "3        2017     22  14.965986\n",
       "4        2018     16  10.884354\n",
       "1        2019     29  19.727891\n",
       "0        2020     43  29.251701\n",
       "2        2021     26  17.687075"
      ]
     },
     "execution_count": 76,
     "metadata": {},
     "output_type": "execute_result"
    }
   ],
   "source": [
    "d3 = df[df[\"type\"] == \"TV Show\"]\n",
    "col = \"year_added\"\n",
    "\n",
    "vc3 = d3[col].value_counts().reset_index().rename(\n",
    "    columns={col: \"count\", \"index\": col})\n",
    "vc3['percent'] = vc3['count'].apply(lambda x: 100*x/sum(vc3['count']))\n",
    "vc3 = vc3.sort_values(col)\n",
    "\n",
    "vc3\n"
   ]
  },
  {
   "cell_type": "code",
   "execution_count": 78,
   "metadata": {},
   "outputs": [
    {
     "data": {
      "application/vnd.plotly.v1+json": {
       "config": {
        "plotlyServerURL": "https://plot.ly"
       },
       "data": [
        {
         "connector": {
          "line": {
           "color": "#b20710"
          }
         },
         "decreasing": {
          "marker": {
           "color": "orange"
          }
         },
         "increasing": {
          "marker": {
           "color": "#b20710"
          }
         },
         "name": "TV Show",
         "orientation": "v",
         "text": [
          "1",
          "3",
          "7",
          "22",
          "16",
          "29",
          "43",
          "26"
         ],
         "textposition": "auto",
         "type": "waterfall",
         "x": [
          "2013",
          "2015",
          "2016",
          "2017",
          "2018",
          "2019",
          "2020",
          "2021"
         ],
         "y": [
          1,
          3,
          7,
          22,
          -16,
          29,
          43,
          -26
         ]
        }
       ],
       "layout": {
        "font": {
         "color": "#8a8d93"
        },
        "height": 350,
        "hovermode": "x unified",
        "margin": {
         "b": 20,
         "l": 50,
         "r": 50,
         "t": 80
        },
        "paper_bgcolor": "#333",
        "plot_bgcolor": "#333",
        "template": {
         "data": {
          "bar": [
           {
            "error_x": {
             "color": "#2a3f5f"
            },
            "error_y": {
             "color": "#2a3f5f"
            },
            "marker": {
             "line": {
              "color": "#E5ECF6",
              "width": 0.5
             },
             "pattern": {
              "fillmode": "overlay",
              "size": 10,
              "solidity": 0.2
             }
            },
            "type": "bar"
           }
          ],
          "barpolar": [
           {
            "marker": {
             "line": {
              "color": "#E5ECF6",
              "width": 0.5
             },
             "pattern": {
              "fillmode": "overlay",
              "size": 10,
              "solidity": 0.2
             }
            },
            "type": "barpolar"
           }
          ],
          "carpet": [
           {
            "aaxis": {
             "endlinecolor": "#2a3f5f",
             "gridcolor": "white",
             "linecolor": "white",
             "minorgridcolor": "white",
             "startlinecolor": "#2a3f5f"
            },
            "baxis": {
             "endlinecolor": "#2a3f5f",
             "gridcolor": "white",
             "linecolor": "white",
             "minorgridcolor": "white",
             "startlinecolor": "#2a3f5f"
            },
            "type": "carpet"
           }
          ],
          "choropleth": [
           {
            "colorbar": {
             "outlinewidth": 0,
             "ticks": ""
            },
            "type": "choropleth"
           }
          ],
          "contour": [
           {
            "colorbar": {
             "outlinewidth": 0,
             "ticks": ""
            },
            "colorscale": [
             [
              0,
              "#0d0887"
             ],
             [
              0.1111111111111111,
              "#46039f"
             ],
             [
              0.2222222222222222,
              "#7201a8"
             ],
             [
              0.3333333333333333,
              "#9c179e"
             ],
             [
              0.4444444444444444,
              "#bd3786"
             ],
             [
              0.5555555555555556,
              "#d8576b"
             ],
             [
              0.6666666666666666,
              "#ed7953"
             ],
             [
              0.7777777777777778,
              "#fb9f3a"
             ],
             [
              0.8888888888888888,
              "#fdca26"
             ],
             [
              1,
              "#f0f921"
             ]
            ],
            "type": "contour"
           }
          ],
          "contourcarpet": [
           {
            "colorbar": {
             "outlinewidth": 0,
             "ticks": ""
            },
            "type": "contourcarpet"
           }
          ],
          "heatmap": [
           {
            "colorbar": {
             "outlinewidth": 0,
             "ticks": ""
            },
            "colorscale": [
             [
              0,
              "#0d0887"
             ],
             [
              0.1111111111111111,
              "#46039f"
             ],
             [
              0.2222222222222222,
              "#7201a8"
             ],
             [
              0.3333333333333333,
              "#9c179e"
             ],
             [
              0.4444444444444444,
              "#bd3786"
             ],
             [
              0.5555555555555556,
              "#d8576b"
             ],
             [
              0.6666666666666666,
              "#ed7953"
             ],
             [
              0.7777777777777778,
              "#fb9f3a"
             ],
             [
              0.8888888888888888,
              "#fdca26"
             ],
             [
              1,
              "#f0f921"
             ]
            ],
            "type": "heatmap"
           }
          ],
          "heatmapgl": [
           {
            "colorbar": {
             "outlinewidth": 0,
             "ticks": ""
            },
            "colorscale": [
             [
              0,
              "#0d0887"
             ],
             [
              0.1111111111111111,
              "#46039f"
             ],
             [
              0.2222222222222222,
              "#7201a8"
             ],
             [
              0.3333333333333333,
              "#9c179e"
             ],
             [
              0.4444444444444444,
              "#bd3786"
             ],
             [
              0.5555555555555556,
              "#d8576b"
             ],
             [
              0.6666666666666666,
              "#ed7953"
             ],
             [
              0.7777777777777778,
              "#fb9f3a"
             ],
             [
              0.8888888888888888,
              "#fdca26"
             ],
             [
              1,
              "#f0f921"
             ]
            ],
            "type": "heatmapgl"
           }
          ],
          "histogram": [
           {
            "marker": {
             "pattern": {
              "fillmode": "overlay",
              "size": 10,
              "solidity": 0.2
             }
            },
            "type": "histogram"
           }
          ],
          "histogram2d": [
           {
            "colorbar": {
             "outlinewidth": 0,
             "ticks": ""
            },
            "colorscale": [
             [
              0,
              "#0d0887"
             ],
             [
              0.1111111111111111,
              "#46039f"
             ],
             [
              0.2222222222222222,
              "#7201a8"
             ],
             [
              0.3333333333333333,
              "#9c179e"
             ],
             [
              0.4444444444444444,
              "#bd3786"
             ],
             [
              0.5555555555555556,
              "#d8576b"
             ],
             [
              0.6666666666666666,
              "#ed7953"
             ],
             [
              0.7777777777777778,
              "#fb9f3a"
             ],
             [
              0.8888888888888888,
              "#fdca26"
             ],
             [
              1,
              "#f0f921"
             ]
            ],
            "type": "histogram2d"
           }
          ],
          "histogram2dcontour": [
           {
            "colorbar": {
             "outlinewidth": 0,
             "ticks": ""
            },
            "colorscale": [
             [
              0,
              "#0d0887"
             ],
             [
              0.1111111111111111,
              "#46039f"
             ],
             [
              0.2222222222222222,
              "#7201a8"
             ],
             [
              0.3333333333333333,
              "#9c179e"
             ],
             [
              0.4444444444444444,
              "#bd3786"
             ],
             [
              0.5555555555555556,
              "#d8576b"
             ],
             [
              0.6666666666666666,
              "#ed7953"
             ],
             [
              0.7777777777777778,
              "#fb9f3a"
             ],
             [
              0.8888888888888888,
              "#fdca26"
             ],
             [
              1,
              "#f0f921"
             ]
            ],
            "type": "histogram2dcontour"
           }
          ],
          "mesh3d": [
           {
            "colorbar": {
             "outlinewidth": 0,
             "ticks": ""
            },
            "type": "mesh3d"
           }
          ],
          "parcoords": [
           {
            "line": {
             "colorbar": {
              "outlinewidth": 0,
              "ticks": ""
             }
            },
            "type": "parcoords"
           }
          ],
          "pie": [
           {
            "automargin": true,
            "type": "pie"
           }
          ],
          "scatter": [
           {
            "fillpattern": {
             "fillmode": "overlay",
             "size": 10,
             "solidity": 0.2
            },
            "type": "scatter"
           }
          ],
          "scatter3d": [
           {
            "line": {
             "colorbar": {
              "outlinewidth": 0,
              "ticks": ""
             }
            },
            "marker": {
             "colorbar": {
              "outlinewidth": 0,
              "ticks": ""
             }
            },
            "type": "scatter3d"
           }
          ],
          "scattercarpet": [
           {
            "marker": {
             "colorbar": {
              "outlinewidth": 0,
              "ticks": ""
             }
            },
            "type": "scattercarpet"
           }
          ],
          "scattergeo": [
           {
            "marker": {
             "colorbar": {
              "outlinewidth": 0,
              "ticks": ""
             }
            },
            "type": "scattergeo"
           }
          ],
          "scattergl": [
           {
            "marker": {
             "colorbar": {
              "outlinewidth": 0,
              "ticks": ""
             }
            },
            "type": "scattergl"
           }
          ],
          "scattermapbox": [
           {
            "marker": {
             "colorbar": {
              "outlinewidth": 0,
              "ticks": ""
             }
            },
            "type": "scattermapbox"
           }
          ],
          "scatterpolar": [
           {
            "marker": {
             "colorbar": {
              "outlinewidth": 0,
              "ticks": ""
             }
            },
            "type": "scatterpolar"
           }
          ],
          "scatterpolargl": [
           {
            "marker": {
             "colorbar": {
              "outlinewidth": 0,
              "ticks": ""
             }
            },
            "type": "scatterpolargl"
           }
          ],
          "scatterternary": [
           {
            "marker": {
             "colorbar": {
              "outlinewidth": 0,
              "ticks": ""
             }
            },
            "type": "scatterternary"
           }
          ],
          "surface": [
           {
            "colorbar": {
             "outlinewidth": 0,
             "ticks": ""
            },
            "colorscale": [
             [
              0,
              "#0d0887"
             ],
             [
              0.1111111111111111,
              "#46039f"
             ],
             [
              0.2222222222222222,
              "#7201a8"
             ],
             [
              0.3333333333333333,
              "#9c179e"
             ],
             [
              0.4444444444444444,
              "#bd3786"
             ],
             [
              0.5555555555555556,
              "#d8576b"
             ],
             [
              0.6666666666666666,
              "#ed7953"
             ],
             [
              0.7777777777777778,
              "#fb9f3a"
             ],
             [
              0.8888888888888888,
              "#fdca26"
             ],
             [
              1,
              "#f0f921"
             ]
            ],
            "type": "surface"
           }
          ],
          "table": [
           {
            "cells": {
             "fill": {
              "color": "#EBF0F8"
             },
             "line": {
              "color": "white"
             }
            },
            "header": {
             "fill": {
              "color": "#C8D4E3"
             },
             "line": {
              "color": "white"
             }
            },
            "type": "table"
           }
          ]
         },
         "layout": {
          "annotationdefaults": {
           "arrowcolor": "#2a3f5f",
           "arrowhead": 0,
           "arrowwidth": 1
          },
          "autotypenumbers": "strict",
          "coloraxis": {
           "colorbar": {
            "outlinewidth": 0,
            "ticks": ""
           }
          },
          "colorscale": {
           "diverging": [
            [
             0,
             "#8e0152"
            ],
            [
             0.1,
             "#c51b7d"
            ],
            [
             0.2,
             "#de77ae"
            ],
            [
             0.3,
             "#f1b6da"
            ],
            [
             0.4,
             "#fde0ef"
            ],
            [
             0.5,
             "#f7f7f7"
            ],
            [
             0.6,
             "#e6f5d0"
            ],
            [
             0.7,
             "#b8e186"
            ],
            [
             0.8,
             "#7fbc41"
            ],
            [
             0.9,
             "#4d9221"
            ],
            [
             1,
             "#276419"
            ]
           ],
           "sequential": [
            [
             0,
             "#0d0887"
            ],
            [
             0.1111111111111111,
             "#46039f"
            ],
            [
             0.2222222222222222,
             "#7201a8"
            ],
            [
             0.3333333333333333,
             "#9c179e"
            ],
            [
             0.4444444444444444,
             "#bd3786"
            ],
            [
             0.5555555555555556,
             "#d8576b"
            ],
            [
             0.6666666666666666,
             "#ed7953"
            ],
            [
             0.7777777777777778,
             "#fb9f3a"
            ],
            [
             0.8888888888888888,
             "#fdca26"
            ],
            [
             1,
             "#f0f921"
            ]
           ],
           "sequentialminus": [
            [
             0,
             "#0d0887"
            ],
            [
             0.1111111111111111,
             "#46039f"
            ],
            [
             0.2222222222222222,
             "#7201a8"
            ],
            [
             0.3333333333333333,
             "#9c179e"
            ],
            [
             0.4444444444444444,
             "#bd3786"
            ],
            [
             0.5555555555555556,
             "#d8576b"
            ],
            [
             0.6666666666666666,
             "#ed7953"
            ],
            [
             0.7777777777777778,
             "#fb9f3a"
            ],
            [
             0.8888888888888888,
             "#fdca26"
            ],
            [
             1,
             "#f0f921"
            ]
           ]
          },
          "colorway": [
           "#636efa",
           "#EF553B",
           "#00cc96",
           "#ab63fa",
           "#FFA15A",
           "#19d3f3",
           "#FF6692",
           "#B6E880",
           "#FF97FF",
           "#FECB52"
          ],
          "font": {
           "color": "#2a3f5f"
          },
          "geo": {
           "bgcolor": "white",
           "lakecolor": "white",
           "landcolor": "#E5ECF6",
           "showlakes": true,
           "showland": true,
           "subunitcolor": "white"
          },
          "hoverlabel": {
           "align": "left"
          },
          "hovermode": "closest",
          "mapbox": {
           "style": "light"
          },
          "paper_bgcolor": "white",
          "plot_bgcolor": "#E5ECF6",
          "polar": {
           "angularaxis": {
            "gridcolor": "white",
            "linecolor": "white",
            "ticks": ""
           },
           "bgcolor": "#E5ECF6",
           "radialaxis": {
            "gridcolor": "white",
            "linecolor": "white",
            "ticks": ""
           }
          },
          "scene": {
           "xaxis": {
            "backgroundcolor": "#E5ECF6",
            "gridcolor": "white",
            "gridwidth": 2,
            "linecolor": "white",
            "showbackground": true,
            "ticks": "",
            "zerolinecolor": "white"
           },
           "yaxis": {
            "backgroundcolor": "#E5ECF6",
            "gridcolor": "white",
            "gridwidth": 2,
            "linecolor": "white",
            "showbackground": true,
            "ticks": "",
            "zerolinecolor": "white"
           },
           "zaxis": {
            "backgroundcolor": "#E5ECF6",
            "gridcolor": "white",
            "gridwidth": 2,
            "linecolor": "white",
            "showbackground": true,
            "ticks": "",
            "zerolinecolor": "white"
           }
          },
          "shapedefaults": {
           "line": {
            "color": "#2a3f5f"
           }
          },
          "ternary": {
           "aaxis": {
            "gridcolor": "white",
            "linecolor": "white",
            "ticks": ""
           },
           "baxis": {
            "gridcolor": "white",
            "linecolor": "white",
            "ticks": ""
           },
           "bgcolor": "#E5ECF6",
           "caxis": {
            "gridcolor": "white",
            "linecolor": "white",
            "ticks": ""
           }
          },
          "title": {
           "x": 0.05
          },
          "xaxis": {
           "automargin": true,
           "gridcolor": "white",
           "linecolor": "white",
           "ticks": "",
           "title": {
            "standoff": 15
           },
           "zerolinecolor": "white",
           "zerolinewidth": 2
          },
          "yaxis": {
           "automargin": true,
           "gridcolor": "white",
           "linecolor": "white",
           "ticks": "",
           "title": {
            "standoff": 15
           },
           "zerolinecolor": "white",
           "zerolinewidth": 2
          }
         }
        },
        "title": {
         "font": {
          "color": "#8a8d93",
          "family": "Lato, sans-serif",
          "size": 25
         },
         "text": "Watching TV Shows over the year"
        },
        "xaxis": {
         "showgrid": false,
         "title": {
          "text": " "
         }
        },
        "yaxis": {
         "showgrid": false,
         "title": {
          "text": " "
         },
         "visible": false
        }
       }
      }
     },
     "metadata": {},
     "output_type": "display_data"
    }
   ],
   "source": [
    "fig3 = go.Figure(go.Waterfall(\n",
    "    name=\"TV Show\", orientation=\"v\",\n",
    "    x=[\"2013\", \"2015\", \"2016\", \"2017\", \"2018\", \"2019\", \"2020\", \"2021\"],\n",
    "    textposition=\"auto\",\n",
    "    text=[\"1\", \"3\", \"7\", \"22\", \"16\", \"29\", \"43\", \"26\"],\n",
    "    y=[1, 3, 7, 22, -16, 29, 43, -26],\n",
    "    connector={\"line\": {\"color\": \"#b20710\"}},\n",
    "    increasing={\"marker\": {\"color\": \"#b20710\"}},\n",
    "    decreasing={\"marker\": {\"color\": \"orange\"}},\n",
    "\n",
    "))\n",
    "fig3.update_xaxes(showgrid=False)\n",
    "fig3.update_yaxes(showgrid=False, visible=False)\n",
    "fig3.update_traces(hovertemplate=None)\n",
    "fig3.update_layout(title='Watching TV Shows over the year', height=350,\n",
    "                margin=dict(t=80, b=20, l=50, r=50),\n",
    "                hovermode=\"x unified\",\n",
    "                xaxis_title=' ', yaxis_title=\" \",\n",
    "                plot_bgcolor='#333', paper_bgcolor='#333',\n",
    "                title_font=dict(size=25, color='#8a8d93',family=\"Lato, sans-serif\"),\n",
    "                font=dict(color='#8a8d93'))\n"
   ]
  },
  {
   "cell_type": "markdown",
   "metadata": {},
   "source": [
    "<h4>Conclusion 8</h4>\n",
    "<p>The Waterfall chart shows that 2010 and 2012, were not good years for movie sales. However, 2020 and 2021 were the worst, and this effect can be attributed to the impact of COVID-19 worldwide.</p>\n",
    "<p>For TV Shows, 2016 was a bad year for sales, however, unlike the movies, 2020 was a good year for sales, probably people preferred to run a marathon of TV Shows, instead of watching a movie. The situation changes in 2021, here we can see also a big fall in both, movies and TV Shows.</p>"
   ]
  },
  {
   "cell_type": "markdown",
   "metadata": {},
   "source": [
    "<h4>Graph 9</h4>\n",
    "<p>Finally, let's see the time duration of the movies.</p>"
   ]
  },
  {
   "cell_type": "code",
   "execution_count": 105,
   "metadata": {},
   "outputs": [
    {
     "data": {
      "text/html": [
       "        <script type=\"text/javascript\">\n",
       "        window.PlotlyConfig = {MathJaxConfig: 'local'};\n",
       "        if (window.MathJax && window.MathJax.Hub && window.MathJax.Hub.Config) {window.MathJax.Hub.Config({SVG: {font: \"STIX-Web\"}});}\n",
       "        if (typeof require !== 'undefined') {\n",
       "        require.undef(\"plotly\");\n",
       "        requirejs.config({\n",
       "            paths: {\n",
       "                'plotly': ['https://cdn.plot.ly/plotly-2.12.1.min']\n",
       "            }\n",
       "        });\n",
       "        require(['plotly'], function(Plotly) {\n",
       "            window._Plotly = Plotly;\n",
       "        });\n",
       "        }\n",
       "        </script>\n",
       "        "
      ]
     },
     "metadata": {},
     "output_type": "display_data"
    },
    {
     "data": {
      "text/html": [
       "        <script type=\"text/javascript\">\n",
       "        window.PlotlyConfig = {MathJaxConfig: 'local'};\n",
       "        if (window.MathJax && window.MathJax.Hub && window.MathJax.Hub.Config) {window.MathJax.Hub.Config({SVG: {font: \"STIX-Web\"}});}\n",
       "        if (typeof require !== 'undefined') {\n",
       "        require.undef(\"plotly\");\n",
       "        requirejs.config({\n",
       "            paths: {\n",
       "                'plotly': ['https://cdn.plot.ly/plotly-2.12.1.min']\n",
       "            }\n",
       "        });\n",
       "        require(['plotly'], function(Plotly) {\n",
       "            window._Plotly = Plotly;\n",
       "        });\n",
       "        }\n",
       "        </script>\n",
       "        "
      ]
     },
     "metadata": {},
     "output_type": "display_data"
    },
    {
     "data": {
      "application/vnd.plotly.v1+json": {
       "config": {
        "linkText": "Export to plot.ly",
        "plotlyServerURL": "https://plot.ly",
        "showLink": true
       },
       "data": [
        {
         "histfunc": "count",
         "histnorm": "",
         "marker": {
          "color": "rgba(178, 7, 16, 1.0)",
          "line": {
           "color": "#D9D9D9",
           "width": 1.3
          }
         },
         "name": "duration",
         "opacity": 0.8,
         "orientation": "v",
         "type": "histogram",
         "x": [
          125,
          104,
          127,
          166,
          103,
          97,
          106,
          96,
          124,
          116,
          98,
          91,
          115,
          122,
          99,
          99,
          88,
          100,
          102,
          93,
          96,
          95,
          85,
          97,
          95,
          83,
          182,
          106,
          147,
          95,
          90,
          97,
          128,
          90,
          143,
          119,
          114,
          106,
          118,
          115,
          95,
          108,
          117,
          121,
          142,
          113,
          154,
          95,
          108,
          120,
          100,
          82,
          124,
          114,
          104,
          94,
          94,
          93,
          97,
          109,
          88,
          101,
          105,
          102,
          101,
          103,
          106,
          118,
          86,
          121,
          229,
          76,
          95,
          98,
          89,
          120,
          110,
          83,
          121,
          105,
          94,
          156,
          112,
          95,
          114,
          129,
          97,
          125,
          107,
          127,
          128,
          135,
          124,
          136,
          165,
          124,
          136,
          150,
          112,
          119,
          133,
          142,
          93,
          113,
          116,
          106,
          145,
          95,
          108,
          90,
          92,
          110,
          91,
          135,
          82,
          94,
          121,
          110,
          64,
          59,
          101,
          127,
          114,
          108,
          98,
          86,
          111,
          115,
          102,
          100,
          135,
          95,
          97,
          124,
          118,
          115,
          115,
          104,
          106,
          87,
          88,
          114,
          90,
          142,
          90,
          105,
          103,
          116,
          113,
          99,
          148,
          189,
          97,
          102,
          99,
          85,
          112,
          91,
          91,
          141,
          130,
          98,
          105,
          101,
          105,
          118,
          97,
          102,
          114,
          111,
          125,
          103,
          94,
          92,
          143,
          117,
          165,
          91,
          111,
          64,
          68,
          99,
          105,
          102,
          91,
          88,
          101,
          94,
          105,
          117,
          115,
          124,
          131,
          122,
          113,
          86,
          95,
          87,
          96,
          94,
          104,
          97,
          91,
          106,
          90,
          104,
          92,
          95,
          105,
          116,
          124,
          101,
          95,
          128,
          143,
          136,
          136,
          126,
          116,
          100,
          115,
          125,
          94,
          90,
          95,
          155,
          98,
          108,
          96,
          117,
          103,
          94,
          93,
          115,
          120,
          145,
          126,
          101,
          118,
          109,
          89,
          106,
          101,
          123,
          106,
          89,
          128,
          85,
          89,
          108,
          105,
          133,
          129,
          127,
          113,
          112,
          130,
          100,
          103,
          85,
          124,
          103,
          121,
          89,
          92,
          112,
          114,
          116,
          98,
          100,
          97,
          83,
          101,
          109,
          87,
          96,
          84,
          125,
          119,
          105,
          111,
          119,
          13,
          101,
          96,
          122,
          89,
          98,
          119,
          104,
          101,
          99,
          84,
          89,
          113,
          110,
          102,
          86,
          91,
          117,
          99,
          77,
          97,
          106,
          97,
          104,
          110,
          98,
          74,
          103,
          94,
          112,
          49,
          111,
          72,
          78,
          101,
          110,
          94,
          70,
          118,
          103,
          95,
          93,
          101,
          101,
          89,
          109,
          104,
          90,
          109,
          145,
          88,
          132,
          109,
          133,
          85,
          104,
          99,
          93,
          98,
          101,
          94,
          99,
          108,
          128,
          104,
          127,
          136,
          97,
          88,
          97,
          97,
          88,
          97,
          97,
          118,
          70,
          91,
          92,
          94,
          131,
          148,
          92,
          88,
          109,
          92,
          101,
          140,
          89,
          81,
          99,
          107,
          107,
          90,
          104,
          100,
          102,
          105,
          107,
          99,
          102,
          119,
          86,
          122,
          95,
          104,
          118,
          98,
          99,
          107,
          97,
          112,
          118,
          109,
          109,
          88,
          97,
          97,
          95,
          91,
          115,
          93,
          109,
          96,
          138,
          113,
          94,
          89,
          121,
          127,
          94,
          89,
          136,
          89,
          99,
          93,
          85,
          102,
          101,
          128,
          85,
          95,
          121,
          116,
          91,
          149,
          113,
          127,
          101,
          102,
          102,
          107,
          123,
          98,
          95,
          101,
          104,
          104,
          111,
          102,
          15,
          120,
          106,
          116,
          116,
          86,
          97,
          132,
          126,
          101,
          102,
          147,
          224,
          141,
          109,
          162,
          142,
          93,
          60,
          119,
          96,
          116,
          102,
          123,
          102,
          127,
          88,
          106,
          65,
          96,
          88,
          143,
          137,
          75,
          103,
          130,
          145,
          118,
          102,
          132,
          108,
          133,
          107,
          32,
          78,
          140,
          143,
          88,
          89,
          93,
          97,
          94,
          112,
          100,
          120,
          91,
          98,
          113,
          98,
          91,
          158,
          164,
          133,
          103,
          90,
          116,
          96,
          121,
          101,
          173,
          89,
          181,
          99,
          88,
          107,
          114,
          96,
          149,
          102,
          83,
          98,
          83,
          104,
          111,
          98,
          93,
          73,
          141,
          116,
          98,
          95,
          93,
          97,
          114,
          100,
          105,
          60,
          98,
          108,
          90,
          102,
          120,
          106,
          115,
          98,
          60,
          113,
          101,
          24,
          80,
          100,
          139,
          74,
          131,
          131,
          118,
          97,
          92,
          136,
          97,
          110,
          105,
          90,
          107,
          92,
          94,
          99,
          97,
          151,
          108,
          113,
          81,
          116,
          119,
          116,
          112,
          121,
          115,
          98,
          181,
          100,
          22,
          134,
          94,
          88,
          119,
          107,
          112,
          103,
          90,
          120,
          97,
          102,
          106,
          119,
          58,
          143,
          112,
          134,
          123,
          123,
          118,
          91,
          97,
          85,
          139,
          162,
          92,
          86,
          107,
          85,
          83,
          104,
          116,
          87,
          91,
          119,
          102,
          86,
          102,
          98,
          99,
          108,
          114,
          104,
          88,
          104,
          123,
          106,
          138,
          107,
          133,
          97,
          116,
          123,
          89,
          93,
          139,
          112,
          101,
          113,
          89,
          107,
          123,
          113,
          90,
          52,
          127,
          95,
          121,
          95,
          133,
          127,
          95,
          101,
          123,
          89,
          100,
          108,
          94,
          103,
          105,
          116,
          92,
          65,
          115,
          96,
          32,
          102,
          102,
          101,
          71,
          81,
          112,
          161,
          129,
          85,
          148,
          99,
          101,
          89,
          128,
          99,
          126,
          106,
          101,
          87,
          111,
          90,
          91,
          101,
          96,
          96,
          148,
          96,
          98,
          104,
          53,
          113,
          102,
          118,
          83,
          116,
          116,
          106,
          105,
          8,
          110,
          71,
          91,
          46,
          109,
          102,
          101,
          94,
          110,
          117,
          85,
          119,
          115,
          105,
          68,
          57,
          28,
          98,
          95,
          96,
          66,
          112,
          84,
          94,
          98,
          85,
          120,
          83,
          94,
          102,
          111,
          90,
          110,
          87,
          132,
          117,
          50,
          106,
          125,
          107,
          91,
          132,
          133,
          109,
          107,
          111,
          108,
          105,
          119,
          104,
          83,
          79,
          115,
          97,
          26,
          46,
          106,
          133,
          93,
          108,
          96,
          101,
          106,
          54,
          118,
          117,
          48,
          139,
          115,
          109,
          91,
          60,
          102,
          120,
          149,
          91,
          99,
          106,
          108,
          45,
          93,
          22,
          81,
          98,
          100,
          112,
          114,
          68,
          103,
          121,
          95,
          87,
          115,
          171,
          46,
          117,
          84,
          98,
          83,
          97,
          99,
          108,
          93,
          42,
          64,
          162,
          130,
          108,
          129,
          105,
          133,
          142,
          128,
          97,
          107,
          135,
          84,
          70,
          124,
          84,
          95,
          84,
          120,
          87,
          75,
          124,
          95,
          107,
          123,
          85,
          150,
          97,
          88,
          93,
          151,
          82,
          148,
          95,
          90,
          103,
          87,
          102,
          96,
          86,
          136,
          60,
          127,
          100,
          87,
          28,
          27,
          90,
          102,
          94,
          81,
          134,
          114,
          107,
          107,
          130,
          87,
          93,
          114,
          91,
          116,
          93,
          106,
          105,
          93,
          103,
          50,
          150,
          100,
          117,
          87,
          100,
          86,
          87,
          103,
          112,
          120,
          111,
          78,
          51,
          123,
          46,
          102,
          106,
          112,
          101,
          96,
          103,
          94,
          69,
          81,
          76,
          108,
          94,
          106,
          98,
          93,
          99,
          93,
          82,
          107,
          104,
          130,
          83,
          99,
          77,
          94,
          118,
          87,
          101,
          80,
          117,
          47,
          165,
          134,
          140,
          150,
          156,
          86,
          126,
          100,
          124,
          100,
          106,
          104,
          96,
          90,
          33,
          81,
          84,
          44,
          115,
          94,
          107,
          115,
          93,
          107,
          86,
          112,
          102,
          91,
          83,
          73,
          139,
          101,
          87,
          120,
          123,
          95,
          29,
          28,
          122,
          59,
          80,
          103,
          104,
          146,
          135,
          129,
          115,
          143,
          173,
          129,
          149,
          98,
          127,
          124,
          85,
          102,
          129,
          124,
          118,
          111,
          94,
          130,
          117,
          137,
          139,
          111,
          103,
          120,
          98,
          130,
          96,
          61,
          90,
          139,
          94,
          92,
          63,
          88,
          105,
          140,
          103,
          102,
          93,
          133,
          157,
          116,
          112,
          96,
          127,
          130,
          93,
          138,
          138,
          92,
          110,
          102,
          113,
          96,
          108,
          94,
          99,
          98,
          97,
          135,
          93,
          94,
          117,
          63,
          73,
          91,
          93,
          101,
          93,
          96,
          112,
          72,
          112,
          72,
          92,
          109,
          155,
          109,
          115,
          97,
          103,
          24,
          110,
          97,
          94,
          107,
          97,
          103,
          88,
          111,
          94,
          33,
          110,
          98,
          81,
          104,
          121,
          100,
          97,
          75,
          102,
          158,
          102,
          203,
          92,
          104,
          72,
          113,
          93,
          119,
          105,
          113,
          93,
          44,
          110,
          90,
          82,
          69,
          46,
          94,
          72,
          95,
          71,
          64,
          92,
          80,
          104,
          25,
          111,
          99,
          83,
          150,
          108,
          44,
          102,
          137,
          112,
          102,
          103,
          136,
          84,
          114,
          110,
          103,
          106,
          46,
          115,
          140,
          124,
          133,
          91,
          30,
          105,
          58,
          87,
          95,
          90,
          102,
          98,
          104,
          89,
          62,
          104,
          101,
          126,
          89,
          96,
          91,
          86,
          89,
          151,
          116,
          110,
          123,
          139,
          95,
          121,
          127,
          162,
          128,
          112,
          125,
          128,
          120,
          86,
          107,
          129,
          135,
          97,
          125,
          162,
          136,
          138,
          126,
          137,
          114,
          96,
          107,
          89,
          94,
          148,
          82,
          95,
          120,
          115,
          107,
          105,
          134,
          128,
          103,
          114,
          102,
          52,
          86,
          104,
          76,
          99,
          124,
          117,
          107,
          135,
          126,
          164,
          166,
          94,
          92,
          52,
          112,
          90,
          101,
          84,
          112,
          136,
          110,
          93,
          90,
          130,
          128,
          104,
          131,
          109,
          129,
          73,
          104,
          114,
          86,
          194,
          76,
          116,
          130,
          85,
          108,
          81,
          76,
          92,
          85,
          108,
          120,
          117,
          100,
          101,
          156,
          55,
          96,
          104,
          101,
          113,
          126,
          98,
          114,
          132,
          92,
          90,
          86,
          103,
          114,
          115,
          149,
          102,
          105,
          114,
          94,
          106,
          116,
          109,
          100,
          116,
          111,
          95,
          135,
          95,
          92,
          100,
          80,
          98,
          104,
          98,
          104,
          99,
          68,
          106,
          71,
          80,
          116,
          112,
          73,
          110,
          135,
          128,
          93,
          149,
          54,
          87,
          102,
          177,
          98,
          237,
          195,
          253,
          157,
          97,
          85,
          94,
          80,
          94,
          92,
          105,
          120,
          96,
          107,
          93,
          101,
          110,
          112,
          93,
          109,
          105,
          97,
          91,
          88,
          109,
          118,
          109,
          131,
          152,
          67,
          72,
          83,
          90,
          106,
          190,
          129,
          160,
          86,
          92,
          114,
          90,
          94,
          86,
          89,
          61,
          93,
          81,
          120,
          94,
          91,
          104,
          76,
          90,
          103,
          122,
          97,
          98,
          42,
          91,
          94,
          107,
          143,
          105,
          116,
          105,
          97,
          105,
          109,
          111,
          132,
          102,
          107,
          100,
          115,
          104,
          110,
          100,
          108,
          104,
          116,
          106,
          96,
          140,
          107,
          138,
          132,
          208,
          105,
          101,
          124,
          93,
          110,
          115,
          107,
          72,
          107,
          95,
          180,
          135,
          94,
          105,
          93,
          92,
          144,
          101,
          81,
          95,
          119,
          121,
          88,
          106,
          119,
          63,
          82,
          95,
          93,
          120,
          147,
          55,
          107,
          92,
          98,
          101,
          112,
          103,
          91,
          96,
          104,
          66,
          83,
          111,
          90,
          121,
          121,
          88,
          107,
          91,
          174,
          155,
          87,
          77,
          142,
          170,
          165,
          161,
          144,
          149,
          135,
          131,
          126,
          192,
          209,
          187,
          138,
          185,
          143,
          172,
          103,
          83,
          107,
          114,
          93,
          85,
          131,
          101,
          107,
          84,
          104,
          160,
          103,
          46,
          112,
          83,
          72,
          24,
          104,
          72,
          113,
          100,
          99,
          104,
          70,
          95,
          109,
          91,
          75,
          100,
          95,
          113,
          62,
          93,
          135,
          101,
          98,
          103,
          106,
          95,
          132,
          82,
          71,
          79,
          120,
          82,
          115,
          111,
          110,
          121,
          108,
          186,
          116,
          154,
          105,
          71,
          61,
          133,
          98,
          119,
          61,
          130,
          87,
          127,
          87,
          88,
          158,
          93,
          109,
          162,
          98,
          103,
          97,
          94,
          101,
          109,
          50,
          110,
          92,
          120,
          101,
          116,
          117,
          95,
          122,
          102,
          96,
          93,
          93,
          87,
          95,
          33,
          113,
          118,
          171,
          100,
          103,
          86,
          102,
          101,
          96,
          106,
          88,
          103,
          139,
          89,
          104,
          124,
          112,
          70,
          106,
          97,
          106,
          60,
          148,
          122,
          86,
          193,
          92,
          94,
          82,
          89,
          176,
          116,
          86,
          93,
          85,
          62,
          112,
          121,
          133,
          76,
          82,
          156,
          90,
          97,
          51,
          98,
          61,
          116,
          132,
          17,
          91,
          121,
          78,
          95,
          86,
          132,
          107,
          122,
          95,
          108,
          99,
          103,
          66,
          132,
          56,
          128,
          119,
          97,
          92,
          102,
          90,
          129,
          106,
          105,
          78,
          79,
          78,
          145,
          71,
          83,
          119,
          98,
          102,
          97,
          110,
          85,
          90,
          89,
          120,
          102,
          73,
          79,
          97,
          91,
          96,
          103,
          95,
          83,
          117,
          70,
          90,
          86,
          86,
          113,
          141,
          126,
          63,
          136,
          120,
          134,
          185,
          174,
          169,
          148,
          135,
          135,
          119,
          98,
          135,
          185,
          156,
          104,
          139,
          140,
          154,
          129,
          99,
          100,
          95,
          65,
          143,
          101,
          60,
          29,
          92,
          172,
          97,
          108,
          137,
          106,
          115,
          92,
          93,
          85,
          56,
          86,
          127,
          93,
          94,
          120,
          135,
          134,
          137,
          103,
          133,
          95,
          126,
          67,
          135,
          106,
          107,
          81,
          107,
          110,
          104,
          93,
          94,
          137,
          134,
          106,
          209,
          86,
          24,
          117,
          121,
          97,
          121,
          119,
          93,
          86,
          134,
          28,
          131,
          78,
          84,
          107,
          101,
          107,
          74,
          60,
          143,
          105,
          110,
          98,
          74,
          46,
          54,
          59,
          100,
          93,
          94,
          121,
          78,
          116,
          87,
          61,
          98,
          123,
          85,
          78,
          103,
          68,
          68,
          69,
          81,
          69,
          68,
          68,
          86,
          40,
          94,
          90,
          112,
          101,
          119,
          86,
          92,
          91,
          141,
          107,
          89,
          65,
          126,
          63,
          20,
          106,
          118,
          86,
          94,
          82,
          92,
          52,
          108,
          67,
          91,
          118,
          87,
          98,
          95,
          100,
          101,
          96,
          99,
          112,
          127,
          63,
          97,
          86,
          62,
          96,
          104,
          123,
          100,
          99,
          151,
          102,
          106,
          87,
          70,
          101,
          109,
          110,
          102,
          102,
          24,
          98,
          90,
          64,
          79,
          81,
          81,
          64,
          90,
          102,
          116,
          133,
          108,
          106,
          58,
          152,
          87,
          121,
          83,
          111,
          171,
          88,
          76,
          64,
          94,
          157,
          83,
          65,
          105,
          107,
          103,
          67,
          125,
          142,
          133,
          100,
          128,
          93,
          82,
          47,
          95,
          91,
          102,
          100,
          98,
          110,
          85,
          66,
          92,
          133,
          135,
          120,
          118,
          98,
          104,
          52,
          117,
          100,
          86,
          69,
          119,
          123,
          93,
          107,
          46,
          117,
          67,
          114,
          67,
          77,
          63,
          59,
          102,
          81,
          116,
          177,
          130,
          111,
          100,
          77,
          93,
          58,
          56,
          110,
          98,
          106,
          102,
          81,
          98,
          136,
          161,
          32,
          105,
          106,
          90,
          87,
          65,
          66,
          122,
          141,
          176,
          73,
          87,
          15,
          55,
          122,
          63,
          96,
          113,
          69,
          87,
          116,
          116,
          110,
          59,
          88,
          91,
          113,
          90,
          95,
          98,
          61,
          117,
          60,
          142,
          74,
          119,
          114,
          125,
          71,
          110,
          127,
          118,
          90,
          130,
          12,
          62,
          114,
          128,
          109,
          109,
          101,
          103,
          98,
          123,
          101,
          99,
          91,
          137,
          66,
          90,
          53,
          87,
          90,
          96,
          94,
          108,
          102,
          70,
          88,
          100,
          111,
          128,
          98,
          104,
          126,
          125,
          79,
          110,
          128,
          110,
          116,
          119,
          90,
          88,
          104,
          140,
          92,
          64,
          119,
          91,
          122,
          125,
          168,
          102,
          92,
          111,
          113,
          54,
          123,
          102,
          141,
          111,
          131,
          116,
          119,
          146,
          101,
          87,
          94,
          133,
          135,
          91,
          59,
          91,
          131,
          88,
          170,
          92,
          126,
          120,
          76,
          60,
          103,
          124,
          91,
          88,
          81,
          124,
          102,
          132,
          75,
          126,
          61,
          126,
          108,
          100,
          129,
          108,
          105,
          115,
          118,
          130,
          115,
          69,
          97,
          61,
          92,
          108,
          104,
          65,
          106,
          69,
          97,
          80,
          85,
          98,
          115,
          117,
          132,
          127,
          125,
          128,
          126,
          116,
          90,
          111,
          100,
          99,
          105,
          128,
          91,
          127,
          94,
          124,
          103,
          118,
          89,
          103,
          87,
          93,
          90,
          114,
          107,
          97,
          103,
          125,
          130,
          119,
          110,
          120,
          102,
          125,
          127,
          121,
          113,
          118,
          132,
          61,
          80,
          110,
          70,
          117,
          89,
          84,
          131,
          139,
          42,
          79,
          96,
          114,
          111,
          112,
          103,
          104,
          102,
          97,
          132,
          120,
          137,
          82,
          115,
          130,
          62,
          91,
          63,
          74,
          136,
          59,
          91,
          93,
          100,
          22,
          22,
          113,
          110,
          120,
          127,
          74,
          137,
          86,
          125,
          114,
          143,
          121,
          119,
          150,
          88,
          105,
          96,
          96,
          96,
          90,
          97,
          88,
          127,
          125,
          116,
          102,
          65,
          106,
          117,
          136,
          104,
          91,
          99,
          91,
          117,
          95,
          101,
          102,
          95,
          92,
          111,
          115,
          61,
          97,
          120,
          148,
          48,
          28,
          61,
          56,
          81,
          50,
          49,
          71,
          100,
          30,
          146,
          127,
          46,
          57,
          122,
          109,
          96,
          105,
          124,
          78,
          22,
          95,
          82,
          89,
          90,
          85,
          29,
          137,
          27,
          112,
          112,
          153,
          123,
          90,
          84,
          79,
          83,
          145,
          135,
          68,
          96,
          110,
          105,
          98,
          155,
          122,
          87,
          98,
          130,
          105,
          110,
          81,
          115,
          113,
          146,
          118,
          109,
          117,
          95,
          124,
          96,
          96,
          93,
          30,
          82,
          127,
          114,
          119,
          101,
          96,
          44,
          104,
          91,
          91,
          114,
          91,
          64,
          89,
          95,
          94,
          133,
          122,
          86,
          111,
          111,
          121,
          119,
          115,
          128,
          99,
          106,
          122,
          129,
          116,
          95,
          122,
          98,
          117,
          95,
          146,
          136,
          91,
          123,
          144,
          121,
          91,
          158,
          157,
          124,
          106,
          92,
          80,
          126,
          129,
          133,
          109,
          143,
          140,
          150,
          128,
          120,
          154,
          45,
          132,
          126,
          95,
          135,
          139,
          131,
          118,
          129,
          131,
          146,
          123,
          141,
          93,
          91,
          106,
          131,
          104,
          126,
          118,
          94,
          126,
          90,
          115,
          93,
          74,
          102,
          104,
          51,
          86,
          140,
          122,
          95,
          121,
          131,
          63,
          150,
          159,
          131,
          130,
          99,
          106,
          97,
          144,
          110,
          57,
          119,
          94,
          89,
          124,
          121,
          88,
          111,
          81,
          137,
          56,
          80,
          94,
          94,
          72,
          140,
          91,
          97,
          146,
          118,
          128,
          137,
          145,
          106,
          137,
          129,
          99,
          155,
          142,
          214,
          137,
          128,
          151,
          121,
          101,
          145,
          147,
          90,
          129,
          129,
          136,
          117,
          150,
          134,
          100,
          44,
          44,
          111,
          147,
          115,
          121,
          103,
          73,
          129,
          102,
          122,
          155,
          139,
          131,
          127,
          156,
          132,
          130,
          137,
          156,
          132,
          119,
          140,
          126,
          107,
          111,
          130,
          126,
          108,
          101,
          124,
          114,
          98,
          100,
          123,
          106,
          106,
          102,
          146,
          96,
          104,
          109,
          110,
          110,
          101,
          94,
          101,
          141,
          120,
          140,
          50,
          31,
          90,
          110,
          162,
          139,
          130,
          145,
          114,
          100,
          54,
          150,
          105,
          124,
          95,
          12,
          104,
          143,
          127,
          100,
          74,
          104,
          148,
          127,
          158,
          124,
          163,
          121,
          154,
          127,
          128,
          98,
          109,
          168,
          162,
          159,
          137,
          133,
          127,
          131,
          90,
          88,
          87,
          82,
          86,
          100,
          57,
          95,
          124,
          72,
          93,
          92,
          133,
          105,
          101,
          88,
          113,
          71,
          75,
          66,
          83,
          110,
          88,
          77,
          58,
          69,
          61,
          88,
          122,
          60,
          166,
          107,
          94,
          87,
          92,
          130,
          88,
          128,
          94,
          69,
          90,
          101,
          77,
          89,
          98,
          66,
          103,
          95,
          89,
          119,
          70,
          121,
          106,
          106,
          113,
          119,
          100,
          110,
          66,
          126,
          130,
          110,
          85,
          117,
          63,
          94,
          74,
          58,
          117,
          89,
          158,
          100,
          64,
          92,
          63,
          105,
          67,
          91,
          92,
          87,
          100,
          113,
          105,
          94,
          109,
          99,
          89,
          92,
          105,
          130,
          98,
          90,
          65,
          92,
          25,
          101,
          90,
          96,
          115,
          92,
          93,
          95,
          117,
          66,
          97,
          78,
          102,
          62,
          97,
          105,
          90,
          107,
          105,
          99,
          108,
          66,
          75,
          96,
          95,
          32,
          70,
          94,
          78,
          91,
          75,
          105,
          96,
          132,
          60,
          171,
          116,
          169,
          134,
          159,
          87,
          103,
          78,
          62,
          97,
          102,
          95,
          115,
          102,
          99,
          74,
          100,
          150,
          87,
          129,
          91,
          115,
          140,
          79,
          104,
          121,
          94,
          58,
          51,
          69,
          104,
          94,
          166,
          155,
          145,
          106,
          94,
          127,
          87,
          185,
          75,
          89,
          81,
          47,
          46,
          125,
          160,
          110,
          67,
          105,
          127,
          109,
          134,
          60,
          96,
          65,
          133,
          96,
          95,
          97,
          102,
          116,
          102,
          117,
          96,
          69,
          108,
          102,
          61,
          49,
          87,
          59,
          63,
          62,
          108,
          95,
          99,
          62,
          147,
          153,
          87,
          124,
          94,
          71,
          135,
          97,
          86,
          82,
          102,
          105,
          106,
          91,
          61,
          80,
          118,
          94,
          84,
          103,
          69,
          105,
          128,
          86,
          109,
          70,
          89,
          162,
          163,
          27,
          67,
          142,
          78,
          26,
          81,
          119,
          99,
          96,
          128,
          101,
          109,
          51,
          61,
          73,
          92,
          94,
          135,
          66,
          126,
          54,
          100,
          81,
          123,
          153,
          141,
          104,
          97,
          82,
          98,
          84,
          76,
          75,
          93,
          98,
          91,
          168,
          68,
          103,
          82,
          94,
          66,
          135,
          144,
          90,
          158,
          83,
          102,
          52,
          85,
          113,
          88,
          89,
          59,
          66,
          135,
          93,
          47,
          118,
          81,
          103,
          103,
          104,
          82,
          112,
          102,
          101,
          119,
          62,
          64,
          137,
          78,
          71,
          99,
          60,
          98,
          70,
          148,
          92,
          107,
          90,
          151,
          132,
          95,
          162,
          163,
          89,
          103,
          160,
          113,
          86,
          83,
          113,
          86,
          57,
          98,
          116,
          100,
          51,
          113,
          124,
          63,
          56,
          94,
          90,
          71,
          97,
          83,
          92,
          165,
          159,
          22,
          105,
          54,
          121,
          103,
          129,
          95,
          80,
          84,
          97,
          86,
          114,
          84,
          67,
          63,
          116,
          104,
          14,
          108,
          59,
          74,
          84,
          97,
          95,
          116,
          86,
          153,
          104,
          163,
          106,
          148,
          105,
          121,
          66,
          102,
          89,
          161,
          24,
          66,
          104,
          73,
          47,
          102,
          87,
          117,
          119,
          130,
          102,
          154,
          44,
          96,
          47,
          44,
          109,
          89,
          92,
          122,
          154,
          152,
          161,
          123,
          44,
          71,
          153,
          143,
          123,
          80,
          106,
          101,
          59,
          164,
          151,
          84,
          142,
          110,
          86,
          101,
          88,
          86,
          61,
          81,
          72,
          98,
          64,
          111,
          148,
          163,
          95,
          99,
          93,
          89,
          83,
          104,
          53,
          95,
          149,
          106,
          108,
          66,
          113,
          83,
          50,
          97,
          105,
          107,
          99,
          101,
          81,
          92,
          131,
          101,
          96,
          85,
          110,
          89,
          88,
          88,
          143,
          83,
          107,
          134,
          78,
          81,
          106,
          102,
          63,
          91,
          93,
          93,
          97,
          92,
          137,
          143,
          168,
          117,
          87,
          160,
          62,
          109,
          102,
          118,
          57,
          94,
          71,
          123,
          97,
          99,
          97,
          67,
          105,
          78,
          99,
          119,
          109,
          92,
          88,
          71,
          64,
          97,
          54,
          78,
          86,
          154,
          179,
          93,
          97,
          108,
          92,
          78,
          87,
          99,
          91,
          102,
          67,
          57,
          130,
          80,
          66,
          105,
          98,
          91,
          123,
          104,
          109,
          74,
          84,
          98,
          22,
          100,
          75,
          69,
          97,
          92,
          92,
          146,
          97,
          93,
          62,
          22,
          88,
          105,
          88,
          93,
          98,
          88,
          31,
          83,
          38,
          108,
          97,
          81,
          70,
          62,
          99,
          112,
          90,
          89,
          24,
          100,
          116,
          92,
          79,
          72,
          92,
          61,
          88,
          113,
          67,
          65,
          62,
          107,
          69,
          77,
          98,
          71,
          64,
          59,
          91,
          107,
          92,
          89,
          107,
          94,
          110,
          81,
          77,
          64,
          97,
          77,
          94,
          94,
          91,
          80,
          95,
          90,
          73,
          108,
          25,
          86,
          105,
          100,
          96,
          97,
          73,
          132,
          96,
          92,
          99,
          78,
          89,
          60,
          83,
          75,
          92,
          80,
          72,
          71,
          77,
          70,
          73,
          81,
          45,
          46,
          112,
          101,
          117,
          114,
          96,
          87,
          105,
          80,
          97,
          105,
          60,
          109,
          60,
          101,
          127,
          82,
          23,
          97,
          62,
          84,
          90,
          101,
          74,
          68,
          92,
          107,
          108,
          74,
          29,
          60,
          120,
          74,
          57,
          91,
          62,
          85,
          90,
          105,
          59,
          137,
          86,
          64,
          82,
          90,
          80,
          62,
          92,
          78,
          92,
          69,
          92,
          143,
          78,
          84,
          84,
          58,
          82,
          83,
          81,
          75,
          68,
          71,
          94,
          80,
          93,
          105,
          130,
          100,
          80,
          76,
          95,
          96,
          94,
          94,
          93,
          96,
          94,
          94,
          93,
          95,
          93,
          75,
          103,
          29,
          104,
          81,
          80,
          123,
          119,
          118,
          143,
          149,
          144,
          124,
          128,
          117,
          100,
          105,
          106,
          99,
          93,
          89,
          105,
          109,
          90,
          90,
          93,
          113,
          89,
          102,
          102,
          90,
          94,
          91,
          95,
          119,
          93,
          101,
          93,
          82,
          70,
          104,
          92,
          124,
          91,
          83,
          93,
          81,
          86,
          97,
          99,
          100,
          126,
          94,
          103,
          96,
          137,
          104,
          104,
          94,
          176,
          137,
          101,
          111,
          110,
          142,
          86,
          86,
          80,
          92,
          96,
          125,
          82,
          111,
          92,
          94,
          91,
          44,
          108,
          123,
          106,
          89,
          98,
          108,
          92,
          102,
          103,
          110,
          77,
          99,
          122,
          150,
          126,
          164,
          115,
          133,
          127,
          131,
          44,
          101,
          90,
          89,
          88,
          133,
          110,
          112,
          87,
          91,
          111,
          99,
          86,
          107,
          89,
          92,
          122,
          91,
          127,
          153,
          106,
          102,
          112,
          63,
          90,
          101,
          85,
          83,
          92,
          84,
          91,
          100,
          103,
          103,
          45,
          45,
          98,
          92,
          172,
          125,
          81,
          112,
          122,
          53,
          53,
          99,
          95,
          119,
          163,
          55,
          102,
          106,
          128,
          80,
          75,
          75,
          79,
          87,
          97,
          85,
          111,
          113,
          90,
          103,
          105,
          104,
          127,
          92,
          72,
          118,
          110,
          90,
          134,
          86,
          87,
          107,
          79,
          87,
          113,
          110,
          98,
          93,
          139,
          94,
          133,
          81,
          91,
          122,
          102,
          88,
          49,
          110,
          150,
          97,
          129,
          99,
          112,
          143,
          95,
          92,
          97,
          90,
          119,
          147,
          83,
          83,
          91,
          117,
          78,
          75,
          78,
          149,
          103,
          94,
          95,
          122,
          107,
          126,
          122,
          95,
          74,
          74,
          74,
          83,
          79,
          72,
          80,
          75,
          75,
          72,
          99,
          91,
          166,
          103,
          128,
          87,
          125,
          121,
          110,
          88,
          89,
          81,
          73,
          75,
          99,
          121,
          100,
          97,
          100,
          115,
          99,
          91,
          90,
          100,
          25,
          99,
          104,
          149,
          112,
          98,
          120,
          151,
          148,
          114,
          123,
          87,
          93,
          88,
          126,
          90,
          95,
          108,
          65,
          110,
          66,
          127,
          131,
          88,
          97,
          116,
          117,
          79,
          144,
          135,
          88,
          116,
          91,
          90,
          129,
          120,
          91,
          85,
          88,
          123,
          180,
          98,
          90,
          90,
          94,
          112,
          97,
          47,
          99,
          168,
          99,
          92,
          99,
          89,
          88,
          111,
          79,
          86,
          74,
          84,
          80,
          86,
          90,
          102,
          92,
          81,
          116,
          110,
          95,
          133,
          120,
          91,
          90,
          90,
          103,
          98,
          119,
          148,
          94,
          108,
          114,
          98,
          151,
          78,
          125,
          126,
          104,
          104,
          117,
          101,
          99,
          126,
          92,
          131,
          119,
          98,
          85,
          84,
          145,
          125,
          108,
          108,
          82,
          77,
          156,
          116,
          126,
          129,
          132,
          118,
          87,
          95,
          86,
          106,
          115,
          106,
          94,
          121,
          113,
          129,
          99,
          116,
          88,
          112,
          113,
          82,
          98,
          87,
          111,
          105,
          146,
          96,
          80,
          99,
          87,
          88,
          99,
          104,
          104,
          118,
          127,
          109,
          130,
          110,
          88,
          106,
          91,
          103,
          89,
          108,
          124,
          96,
          172,
          124,
          85,
          137,
          91,
          120,
          118,
          110,
          114,
          112,
          137,
          84,
          96,
          112,
          90,
          106,
          116,
          127,
          96,
          101,
          88,
          75,
          112,
          110,
          120,
          90,
          82,
          118,
          153,
          117,
          93,
          82,
          115,
          151,
          103,
          117,
          100,
          70,
          103,
          108,
          91,
          93,
          113,
          116,
          121,
          112,
          76,
          81,
          110,
          90,
          97,
          86,
          94,
          83,
          43,
          92,
          93,
          88,
          53,
          156,
          79,
          96,
          140,
          62,
          76,
          99,
          97,
          87,
          108,
          94,
          123,
          128,
          132,
          93,
          96,
          133,
          176,
          115,
          90,
          111,
          87,
          112,
          200,
          93,
          90,
          107,
          89,
          83,
          96,
          99,
          95,
          88,
          94,
          93,
          93,
          92,
          127,
          105,
          94,
          104,
          82,
          86,
          103,
          97,
          84,
          98,
          42,
          89,
          93,
          162,
          85,
          52,
          91,
          106,
          92,
          140,
          69,
          153,
          124,
          120,
          134,
          105,
          119,
          196,
          109,
          93,
          102,
          82,
          74,
          94,
          108,
          151,
          109,
          91,
          93,
          85,
          103,
          102,
          107,
          88,
          95,
          100,
          110,
          96,
          96,
          98,
          133,
          102,
          108,
          133,
          79,
          101,
          81,
          99,
          106,
          103,
          92,
          89,
          150,
          80,
          124,
          99,
          91,
          102,
          94,
          118,
          70,
          181,
          101,
          29,
          92,
          94,
          118,
          98,
          90,
          93,
          114,
          99,
          96,
          102,
          90,
          61,
          104,
          119,
          102,
          83,
          88,
          86,
          134,
          145,
          95,
          93,
          84,
          81,
          98,
          88,
          118,
          113,
          86,
          91,
          115,
          112,
          103,
          116,
          72,
          104,
          97,
          92,
          93,
          93,
          99,
          97,
          88,
          97,
          88,
          88,
          132,
          108,
          111,
          167,
          96,
          95,
          107,
          118,
          130,
          87,
          109,
          103,
          110,
          85,
          163,
          100,
          58,
          110,
          58,
          56,
          161,
          141,
          115,
          90,
          103,
          111,
          103,
          129,
          113,
          106,
          105,
          137,
          130,
          89,
          110,
          148,
          100,
          90,
          103,
          75,
          99,
          93,
          90,
          145,
          95,
          92,
          90,
          137,
          98,
          109,
          117,
          93,
          57,
          110,
          95,
          102,
          57,
          91,
          100,
          101,
          95,
          116,
          117,
          65,
          158,
          110,
          79,
          99,
          86,
          138,
          91,
          79,
          79,
          96,
          101,
          88,
          95,
          87,
          83,
          90,
          151,
          99,
          86,
          85,
          93,
          89,
          89,
          90,
          104,
          107,
          124,
          87,
          94,
          86,
          102,
          122,
          126,
          87,
          156,
          97,
          89,
          88,
          96,
          104,
          95,
          97,
          118,
          118,
          170,
          118,
          128,
          106,
          92,
          102,
          126,
          111,
          100,
          86,
          95,
          79,
          81,
          120,
          85,
          134,
          93,
          82,
          88,
          96,
          97,
          101,
          88,
          84,
          110,
          105,
          116,
          94,
          116,
          103,
          83,
          176,
          149,
          79,
          97,
          91,
          85,
          85,
          117,
          84,
          106,
          107,
          98,
          54,
          139,
          93,
          91,
          89,
          116,
          100,
          96,
          119,
          108,
          104,
          124,
          87,
          75,
          108,
          103,
          103,
          89,
          103,
          89,
          119,
          106,
          118,
          95,
          123,
          127,
          116,
          119,
          99,
          90,
          153,
          106,
          141,
          122,
          87,
          102,
          88,
          99,
          99,
          134,
          88,
          127,
          137,
          77,
          71,
          130,
          140,
          101,
          91,
          84,
          88,
          163,
          93,
          154,
          92,
          132,
          132,
          94,
          132,
          105,
          97,
          109,
          134,
          53,
          84,
          102,
          79,
          133,
          125,
          101,
          135,
          133,
          91,
          123,
          113,
          107,
          128,
          94,
          95,
          106,
          138,
          139,
          132,
          173,
          105,
          148,
          120,
          85,
          113,
          99,
          41,
          137,
          118,
          140,
          85,
          116,
          133,
          89,
          75,
          67,
          90,
          170,
          124,
          120,
          157,
          124,
          110,
          90,
          97,
          108,
          95,
          111,
          137,
          100,
          53,
          87,
          106,
          86,
          100,
          103,
          109,
          81,
          98,
          114,
          87,
          132,
          116,
          92,
          99,
          63,
          121,
          56,
          96,
          115,
          117,
          65,
          81,
          85,
          93,
          126,
          99,
          79,
          26,
          107,
          95,
          100,
          149,
          52,
          165,
          104,
          109,
          88,
          143,
          112,
          101,
          110,
          145,
          87,
          86,
          115,
          93,
          121,
          100,
          37,
          33,
          35,
          147,
          110,
          97,
          108,
          101,
          100,
          78,
          58,
          90,
          89,
          84,
          104,
          99,
          105,
          94,
          150,
          111,
          92,
          23,
          25,
          85,
          90,
          91,
          87,
          98,
          108,
          85,
          95,
          103,
          118,
          153,
          96,
          88,
          116,
          155,
          98,
          103,
          163,
          93,
          77,
          97,
          115,
          103,
          77,
          79,
          98,
          131,
          110,
          100,
          117,
          107,
          76,
          118,
          93,
          99,
          84,
          102,
          134,
          78,
          95,
          73,
          110,
          75,
          119,
          92,
          137,
          192,
          132,
          91,
          105,
          88,
          155,
          103,
          97,
          92,
          98,
          89,
          112,
          75,
          89,
          99,
          107,
          94,
          90,
          104,
          55,
          72,
          103,
          131,
          138,
          143,
          80,
          132,
          84,
          99,
          93,
          114,
          132,
          83,
          105,
          112,
          94,
          90,
          110,
          84,
          118,
          98,
          88,
          81,
          112,
          106,
          148,
          105,
          92,
          112,
          128,
          128,
          136,
          106,
          129,
          90,
          130,
          85,
          94,
          86,
          107,
          93,
          109,
          109,
          92,
          93,
          100,
          141,
          119,
          84,
          96,
          83,
          117,
          93,
          73,
          72,
          46,
          74,
          46,
          46,
          74,
          71,
          72,
          23,
          60,
          46,
          101,
          97,
          111,
          96,
          135,
          91,
          121,
          109,
          94,
          105,
          97,
          102,
          86,
          88,
          90,
          131,
          158,
          85,
          110,
          79,
          185,
          80,
          116,
          95,
          99,
          77,
          91,
          68,
          72,
          73,
          90,
          99,
          109,
          108,
          99,
          88,
          92,
          85,
          171,
          80,
          102,
          76,
          42,
          131,
          165,
          91,
          101,
          108,
          89,
          91,
          96,
          124,
          87,
          113,
          118,
          97,
          161,
          116,
          104,
          89,
          92,
          90,
          113,
          53,
          54,
          53,
          54,
          113,
          53,
          53,
          52,
          54,
          54,
          53,
          53,
          53,
          86,
          102,
          114,
          99,
          117,
          124,
          122,
          84,
          84,
          120,
          127,
          122,
          125,
          107,
          91,
          103,
          103,
          97,
          89,
          92,
          107,
          86,
          70,
          66,
          111,
          166,
          135,
          92,
          92,
          93,
          90,
          76,
          86,
          111,
          124,
          139,
          91,
          86,
          122,
          96,
          88,
          93,
          90,
          102,
          105,
          117,
          126,
          89,
          82,
          98,
          96,
          108,
          163,
          112,
          137,
          89,
          86,
          187,
          109,
          84,
          140,
          117,
          105,
          91,
          104,
          114,
          112,
          48,
          95,
          89,
          108,
          72,
          109,
          105,
          92,
          95,
          85,
          126,
          118,
          125,
          112,
          96,
          81,
          92,
          127,
          81,
          133,
          81,
          108,
          120,
          149,
          96,
          114,
          77,
          90,
          55,
          24,
          106,
          127,
          86,
          131,
          93,
          97,
          84,
          83,
          165,
          154,
          158,
          89,
          149,
          106,
          128,
          98,
          99,
          113,
          83,
          129,
          117,
          124,
          177,
          104,
          113,
          178,
          90,
          154,
          122,
          115,
          126,
          99,
          144,
          111,
          73,
          81,
          114,
          112,
          80,
          100,
          96,
          88,
          95,
          112,
          112,
          97,
          97,
          94,
          97,
          118,
          95,
          120,
          84,
          101,
          103,
          83,
          107,
          136,
          96,
          45,
          92,
          120,
          119,
          100,
          92,
          104,
          93,
          98,
          122,
          118,
          89,
          26,
          137,
          121,
          103,
          92,
          89,
          97,
          134,
          116,
          110,
          88,
          93,
          72,
          141,
          117,
          118,
          105,
          94,
          137,
          61,
          86,
          118,
          173,
          152,
          99,
          110,
          116,
          107,
          109,
          122,
          228,
          86,
          72,
          102,
          140,
          145,
          126,
          133,
          141,
          78,
          150,
          153,
          83,
          95,
          93,
          126,
          95,
          99,
          93,
          93,
          88,
          88,
          195,
          120,
          77,
          112,
          121,
          117,
          90,
          110,
          86,
          95,
          101,
          111,
          54,
          54,
          54,
          55,
          54,
          55,
          55,
          55,
          55,
          55,
          102,
          106,
          69,
          85,
          146,
          145,
          103,
          111,
          125,
          115,
          168,
          109,
          148,
          92,
          91,
          135,
          112,
          128,
          168,
          45,
          75,
          71,
          122,
          97,
          89,
          98,
          115,
          96,
          119,
          105,
          88,
          94,
          143,
          127,
          92,
          87,
          83,
          95,
          96,
          107,
          100,
          94,
          101,
          89,
          135,
          107,
          84,
          110,
          95,
          83,
          86,
          137,
          142,
          94,
          135,
          135,
          104,
          97,
          128,
          109,
          106,
          94,
          98,
          96,
          139,
          117,
          95,
          129,
          94,
          112,
          88,
          100,
          83,
          93,
          103,
          88,
          86,
          152,
          106,
          52,
          98,
          89,
          86,
          106,
          100,
          91,
          113,
          132,
          96,
          96,
          113,
          95,
          106,
          117,
          123,
          78,
          95,
          135,
          130,
          115,
          114,
          107,
          93,
          94,
          85,
          63,
          104,
          127,
          113,
          91,
          154,
          82,
          98,
          103,
          86,
          123,
          116,
          93,
          97,
          108,
          101,
          177,
          95,
          97,
          111,
          81,
          89,
          72,
          112,
          48,
          137,
          89,
          87,
          88,
          125,
          108,
          102,
          109,
          115,
          98,
          84,
          133,
          121,
          117,
          87,
          88,
          93,
          107,
          99,
          140,
          113,
          89,
          97,
          108,
          80,
          90,
          117,
          95,
          86,
          100,
          87,
          83,
          89,
          18,
          72,
          95,
          95,
          98,
          118,
          98,
          111,
          116,
          97,
          95,
          122,
          95,
          93,
          107,
          119,
          119,
          97,
          96,
          106,
          109,
          112,
          96,
          60,
          113,
          126,
          109,
          93,
          101,
          111,
          107,
          100,
          92,
          103,
          105,
          103,
          101,
          123,
          114,
          101,
          99,
          102,
          66,
          112,
          101,
          99,
          105,
          93,
          121,
          95,
          100,
          151,
          78,
          85,
          84,
          86,
          121,
          99,
          110,
          104,
          95,
          96,
          106,
          112,
          85,
          107,
          76,
          88,
          116,
          121,
          82,
          87,
          46,
          103,
          97,
          91,
          91,
          101,
          104,
          113,
          89,
          115,
          84,
          106,
          124,
          107,
          158,
          95,
          97,
          97,
          89,
          161,
          205,
          161,
          133,
          119,
          94,
          85,
          108,
          147,
          88,
          99,
          96,
          97,
          92,
          94,
          123,
          103,
          111,
          123,
          100,
          75,
          118,
          96,
          108,
          99,
          103,
          99,
          100,
          105,
          106,
          90,
          95,
          118,
          98,
          86,
          84,
          93,
          88,
          131,
          44,
          96,
          88,
          118,
          89,
          85,
          107,
          138,
          119,
          93,
          121,
          95,
          201,
          179,
          87,
          82,
          85,
          90,
          68,
          138,
          136,
          138,
          129,
          116,
          130,
          94,
          104,
          91,
          70,
          104,
          115,
          85,
          138,
          82,
          99,
          91,
          106,
          108,
          94,
          87,
          124,
          141,
          103,
          141,
          155,
          93,
          78,
          118,
          88,
          140,
          124,
          110,
          100,
          116,
          91,
          111,
          98,
          125,
          76,
          117,
          90,
          119,
          136,
          81,
          77,
          102,
          90,
          92,
          93,
          116,
          107,
          87,
          111,
          101,
          91,
          103,
          120,
          90,
          92,
          99,
          124,
          111,
          86,
          123,
          105,
          97,
          97,
          90,
          163,
          121,
          120,
          95,
          84,
          94,
          122,
          90,
          89,
          106,
          139,
          83,
          96,
          94,
          58,
          96,
          107,
          104,
          94,
          108,
          91,
          58,
          99,
          96,
          93,
          106,
          103,
          91,
          98,
          111,
          112,
          90,
          101,
          98,
          92,
          88,
          100,
          114,
          128,
          53,
          89,
          83,
          85,
          94,
          104,
          89,
          107,
          123,
          122,
          131,
          77,
          125,
          125,
          88,
          93,
          42,
          108,
          151,
          125,
          78,
          97,
          108,
          119,
          87,
          104,
          94,
          94,
          130,
          88,
          118,
          94,
          114,
          119,
          114,
          94,
          96,
          104,
          101,
          99,
          98,
          100,
          134,
          173,
          113,
          91,
          90,
          128,
          108,
          124,
          89,
          162,
          76,
          96,
          102,
          53,
          86,
          80,
          95,
          90,
          125,
          94,
          90,
          40,
          108,
          94,
          94,
          105,
          83,
          110,
          121,
          95,
          130,
          132,
          90,
          117,
          130,
          106,
          110,
          91,
          113,
          101,
          125,
          116,
          106,
          113,
          99,
          130,
          120,
          94,
          94,
          109,
          94,
          96,
          103,
          109,
          147,
          98,
          73,
          92,
          96,
          83,
          91,
          93,
          94,
          91,
          95,
          124,
          73,
          108,
          84,
          93,
          102,
          130,
          91,
          110,
          89,
          86,
          97,
          89,
          91,
          78,
          90,
          50,
          106,
          105,
          100,
          86,
          100,
          106,
          108,
          74,
          109,
          129,
          93,
          133,
          140,
          191,
          81,
          124,
          101,
          106,
          137,
          171,
          132,
          147,
          151,
          97,
          90,
          111,
          112,
          107,
          96,
          88,
          87,
          85,
          157,
          116,
          113,
          94,
          81,
          88,
          98,
          131,
          120,
          96,
          158,
          88,
          88,
          111
         ]
        }
       ],
       "layout": {
        "barmode": "overlay",
        "legend": {
         "bgcolor": "#1A1A1C",
         "font": {
          "color": "#D9D9D9"
         }
        },
        "paper_bgcolor": "#1A1A1C",
        "plot_bgcolor": "#1A1A1C",
        "template": {
         "data": {
          "bar": [
           {
            "error_x": {
             "color": "#2a3f5f"
            },
            "error_y": {
             "color": "#2a3f5f"
            },
            "marker": {
             "line": {
              "color": "#E5ECF6",
              "width": 0.5
             },
             "pattern": {
              "fillmode": "overlay",
              "size": 10,
              "solidity": 0.2
             }
            },
            "type": "bar"
           }
          ],
          "barpolar": [
           {
            "marker": {
             "line": {
              "color": "#E5ECF6",
              "width": 0.5
             },
             "pattern": {
              "fillmode": "overlay",
              "size": 10,
              "solidity": 0.2
             }
            },
            "type": "barpolar"
           }
          ],
          "carpet": [
           {
            "aaxis": {
             "endlinecolor": "#2a3f5f",
             "gridcolor": "white",
             "linecolor": "white",
             "minorgridcolor": "white",
             "startlinecolor": "#2a3f5f"
            },
            "baxis": {
             "endlinecolor": "#2a3f5f",
             "gridcolor": "white",
             "linecolor": "white",
             "minorgridcolor": "white",
             "startlinecolor": "#2a3f5f"
            },
            "type": "carpet"
           }
          ],
          "choropleth": [
           {
            "colorbar": {
             "outlinewidth": 0,
             "ticks": ""
            },
            "type": "choropleth"
           }
          ],
          "contour": [
           {
            "colorbar": {
             "outlinewidth": 0,
             "ticks": ""
            },
            "colorscale": [
             [
              0,
              "#0d0887"
             ],
             [
              0.1111111111111111,
              "#46039f"
             ],
             [
              0.2222222222222222,
              "#7201a8"
             ],
             [
              0.3333333333333333,
              "#9c179e"
             ],
             [
              0.4444444444444444,
              "#bd3786"
             ],
             [
              0.5555555555555556,
              "#d8576b"
             ],
             [
              0.6666666666666666,
              "#ed7953"
             ],
             [
              0.7777777777777778,
              "#fb9f3a"
             ],
             [
              0.8888888888888888,
              "#fdca26"
             ],
             [
              1,
              "#f0f921"
             ]
            ],
            "type": "contour"
           }
          ],
          "contourcarpet": [
           {
            "colorbar": {
             "outlinewidth": 0,
             "ticks": ""
            },
            "type": "contourcarpet"
           }
          ],
          "heatmap": [
           {
            "colorbar": {
             "outlinewidth": 0,
             "ticks": ""
            },
            "colorscale": [
             [
              0,
              "#0d0887"
             ],
             [
              0.1111111111111111,
              "#46039f"
             ],
             [
              0.2222222222222222,
              "#7201a8"
             ],
             [
              0.3333333333333333,
              "#9c179e"
             ],
             [
              0.4444444444444444,
              "#bd3786"
             ],
             [
              0.5555555555555556,
              "#d8576b"
             ],
             [
              0.6666666666666666,
              "#ed7953"
             ],
             [
              0.7777777777777778,
              "#fb9f3a"
             ],
             [
              0.8888888888888888,
              "#fdca26"
             ],
             [
              1,
              "#f0f921"
             ]
            ],
            "type": "heatmap"
           }
          ],
          "heatmapgl": [
           {
            "colorbar": {
             "outlinewidth": 0,
             "ticks": ""
            },
            "colorscale": [
             [
              0,
              "#0d0887"
             ],
             [
              0.1111111111111111,
              "#46039f"
             ],
             [
              0.2222222222222222,
              "#7201a8"
             ],
             [
              0.3333333333333333,
              "#9c179e"
             ],
             [
              0.4444444444444444,
              "#bd3786"
             ],
             [
              0.5555555555555556,
              "#d8576b"
             ],
             [
              0.6666666666666666,
              "#ed7953"
             ],
             [
              0.7777777777777778,
              "#fb9f3a"
             ],
             [
              0.8888888888888888,
              "#fdca26"
             ],
             [
              1,
              "#f0f921"
             ]
            ],
            "type": "heatmapgl"
           }
          ],
          "histogram": [
           {
            "marker": {
             "pattern": {
              "fillmode": "overlay",
              "size": 10,
              "solidity": 0.2
             }
            },
            "type": "histogram"
           }
          ],
          "histogram2d": [
           {
            "colorbar": {
             "outlinewidth": 0,
             "ticks": ""
            },
            "colorscale": [
             [
              0,
              "#0d0887"
             ],
             [
              0.1111111111111111,
              "#46039f"
             ],
             [
              0.2222222222222222,
              "#7201a8"
             ],
             [
              0.3333333333333333,
              "#9c179e"
             ],
             [
              0.4444444444444444,
              "#bd3786"
             ],
             [
              0.5555555555555556,
              "#d8576b"
             ],
             [
              0.6666666666666666,
              "#ed7953"
             ],
             [
              0.7777777777777778,
              "#fb9f3a"
             ],
             [
              0.8888888888888888,
              "#fdca26"
             ],
             [
              1,
              "#f0f921"
             ]
            ],
            "type": "histogram2d"
           }
          ],
          "histogram2dcontour": [
           {
            "colorbar": {
             "outlinewidth": 0,
             "ticks": ""
            },
            "colorscale": [
             [
              0,
              "#0d0887"
             ],
             [
              0.1111111111111111,
              "#46039f"
             ],
             [
              0.2222222222222222,
              "#7201a8"
             ],
             [
              0.3333333333333333,
              "#9c179e"
             ],
             [
              0.4444444444444444,
              "#bd3786"
             ],
             [
              0.5555555555555556,
              "#d8576b"
             ],
             [
              0.6666666666666666,
              "#ed7953"
             ],
             [
              0.7777777777777778,
              "#fb9f3a"
             ],
             [
              0.8888888888888888,
              "#fdca26"
             ],
             [
              1,
              "#f0f921"
             ]
            ],
            "type": "histogram2dcontour"
           }
          ],
          "mesh3d": [
           {
            "colorbar": {
             "outlinewidth": 0,
             "ticks": ""
            },
            "type": "mesh3d"
           }
          ],
          "parcoords": [
           {
            "line": {
             "colorbar": {
              "outlinewidth": 0,
              "ticks": ""
             }
            },
            "type": "parcoords"
           }
          ],
          "pie": [
           {
            "automargin": true,
            "type": "pie"
           }
          ],
          "scatter": [
           {
            "fillpattern": {
             "fillmode": "overlay",
             "size": 10,
             "solidity": 0.2
            },
            "type": "scatter"
           }
          ],
          "scatter3d": [
           {
            "line": {
             "colorbar": {
              "outlinewidth": 0,
              "ticks": ""
             }
            },
            "marker": {
             "colorbar": {
              "outlinewidth": 0,
              "ticks": ""
             }
            },
            "type": "scatter3d"
           }
          ],
          "scattercarpet": [
           {
            "marker": {
             "colorbar": {
              "outlinewidth": 0,
              "ticks": ""
             }
            },
            "type": "scattercarpet"
           }
          ],
          "scattergeo": [
           {
            "marker": {
             "colorbar": {
              "outlinewidth": 0,
              "ticks": ""
             }
            },
            "type": "scattergeo"
           }
          ],
          "scattergl": [
           {
            "marker": {
             "colorbar": {
              "outlinewidth": 0,
              "ticks": ""
             }
            },
            "type": "scattergl"
           }
          ],
          "scattermapbox": [
           {
            "marker": {
             "colorbar": {
              "outlinewidth": 0,
              "ticks": ""
             }
            },
            "type": "scattermapbox"
           }
          ],
          "scatterpolar": [
           {
            "marker": {
             "colorbar": {
              "outlinewidth": 0,
              "ticks": ""
             }
            },
            "type": "scatterpolar"
           }
          ],
          "scatterpolargl": [
           {
            "marker": {
             "colorbar": {
              "outlinewidth": 0,
              "ticks": ""
             }
            },
            "type": "scatterpolargl"
           }
          ],
          "scatterternary": [
           {
            "marker": {
             "colorbar": {
              "outlinewidth": 0,
              "ticks": ""
             }
            },
            "type": "scatterternary"
           }
          ],
          "surface": [
           {
            "colorbar": {
             "outlinewidth": 0,
             "ticks": ""
            },
            "colorscale": [
             [
              0,
              "#0d0887"
             ],
             [
              0.1111111111111111,
              "#46039f"
             ],
             [
              0.2222222222222222,
              "#7201a8"
             ],
             [
              0.3333333333333333,
              "#9c179e"
             ],
             [
              0.4444444444444444,
              "#bd3786"
             ],
             [
              0.5555555555555556,
              "#d8576b"
             ],
             [
              0.6666666666666666,
              "#ed7953"
             ],
             [
              0.7777777777777778,
              "#fb9f3a"
             ],
             [
              0.8888888888888888,
              "#fdca26"
             ],
             [
              1,
              "#f0f921"
             ]
            ],
            "type": "surface"
           }
          ],
          "table": [
           {
            "cells": {
             "fill": {
              "color": "#EBF0F8"
             },
             "line": {
              "color": "white"
             }
            },
            "header": {
             "fill": {
              "color": "#C8D4E3"
             },
             "line": {
              "color": "white"
             }
            },
            "type": "table"
           }
          ]
         },
         "layout": {
          "annotationdefaults": {
           "arrowcolor": "#2a3f5f",
           "arrowhead": 0,
           "arrowwidth": 1
          },
          "autotypenumbers": "strict",
          "coloraxis": {
           "colorbar": {
            "outlinewidth": 0,
            "ticks": ""
           }
          },
          "colorscale": {
           "diverging": [
            [
             0,
             "#8e0152"
            ],
            [
             0.1,
             "#c51b7d"
            ],
            [
             0.2,
             "#de77ae"
            ],
            [
             0.3,
             "#f1b6da"
            ],
            [
             0.4,
             "#fde0ef"
            ],
            [
             0.5,
             "#f7f7f7"
            ],
            [
             0.6,
             "#e6f5d0"
            ],
            [
             0.7,
             "#b8e186"
            ],
            [
             0.8,
             "#7fbc41"
            ],
            [
             0.9,
             "#4d9221"
            ],
            [
             1,
             "#276419"
            ]
           ],
           "sequential": [
            [
             0,
             "#0d0887"
            ],
            [
             0.1111111111111111,
             "#46039f"
            ],
            [
             0.2222222222222222,
             "#7201a8"
            ],
            [
             0.3333333333333333,
             "#9c179e"
            ],
            [
             0.4444444444444444,
             "#bd3786"
            ],
            [
             0.5555555555555556,
             "#d8576b"
            ],
            [
             0.6666666666666666,
             "#ed7953"
            ],
            [
             0.7777777777777778,
             "#fb9f3a"
            ],
            [
             0.8888888888888888,
             "#fdca26"
            ],
            [
             1,
             "#f0f921"
            ]
           ],
           "sequentialminus": [
            [
             0,
             "#0d0887"
            ],
            [
             0.1111111111111111,
             "#46039f"
            ],
            [
             0.2222222222222222,
             "#7201a8"
            ],
            [
             0.3333333333333333,
             "#9c179e"
            ],
            [
             0.4444444444444444,
             "#bd3786"
            ],
            [
             0.5555555555555556,
             "#d8576b"
            ],
            [
             0.6666666666666666,
             "#ed7953"
            ],
            [
             0.7777777777777778,
             "#fb9f3a"
            ],
            [
             0.8888888888888888,
             "#fdca26"
            ],
            [
             1,
             "#f0f921"
            ]
           ]
          },
          "colorway": [
           "#636efa",
           "#EF553B",
           "#00cc96",
           "#ab63fa",
           "#FFA15A",
           "#19d3f3",
           "#FF6692",
           "#B6E880",
           "#FF97FF",
           "#FECB52"
          ],
          "font": {
           "color": "#2a3f5f"
          },
          "geo": {
           "bgcolor": "white",
           "lakecolor": "white",
           "landcolor": "#E5ECF6",
           "showlakes": true,
           "showland": true,
           "subunitcolor": "white"
          },
          "hoverlabel": {
           "align": "left"
          },
          "hovermode": "closest",
          "mapbox": {
           "style": "light"
          },
          "paper_bgcolor": "white",
          "plot_bgcolor": "#E5ECF6",
          "polar": {
           "angularaxis": {
            "gridcolor": "white",
            "linecolor": "white",
            "ticks": ""
           },
           "bgcolor": "#E5ECF6",
           "radialaxis": {
            "gridcolor": "white",
            "linecolor": "white",
            "ticks": ""
           }
          },
          "scene": {
           "xaxis": {
            "backgroundcolor": "#E5ECF6",
            "gridcolor": "white",
            "gridwidth": 2,
            "linecolor": "white",
            "showbackground": true,
            "ticks": "",
            "zerolinecolor": "white"
           },
           "yaxis": {
            "backgroundcolor": "#E5ECF6",
            "gridcolor": "white",
            "gridwidth": 2,
            "linecolor": "white",
            "showbackground": true,
            "ticks": "",
            "zerolinecolor": "white"
           },
           "zaxis": {
            "backgroundcolor": "#E5ECF6",
            "gridcolor": "white",
            "gridwidth": 2,
            "linecolor": "white",
            "showbackground": true,
            "ticks": "",
            "zerolinecolor": "white"
           }
          },
          "shapedefaults": {
           "line": {
            "color": "#2a3f5f"
           }
          },
          "ternary": {
           "aaxis": {
            "gridcolor": "white",
            "linecolor": "white",
            "ticks": ""
           },
           "baxis": {
            "gridcolor": "white",
            "linecolor": "white",
            "ticks": ""
           },
           "bgcolor": "#E5ECF6",
           "caxis": {
            "gridcolor": "white",
            "linecolor": "white",
            "ticks": ""
           }
          },
          "title": {
           "x": 0.05
          },
          "xaxis": {
           "automargin": true,
           "gridcolor": "white",
           "linecolor": "white",
           "ticks": "",
           "title": {
            "standoff": 15
           },
           "zerolinecolor": "white",
           "zerolinewidth": 2
          },
          "yaxis": {
           "automargin": true,
           "gridcolor": "white",
           "linecolor": "white",
           "ticks": "",
           "title": {
            "standoff": 15
           },
           "zerolinecolor": "white",
           "zerolinewidth": 2
          }
         }
        },
        "title": {
         "font": {
          "color": "#D9D9D9"
         },
         "text": "Histogram: Time Duration of Movies"
        },
        "xaxis": {
         "gridcolor": "#434343",
         "showgrid": true,
         "tickfont": {
          "color": "#C2C2C2"
         },
         "title": {
          "font": {
           "color": "#D9D9D9"
          },
          "text": "Duration (minutes)"
         },
         "zerolinecolor": "#666570"
        },
        "yaxis": {
         "gridcolor": "#434343",
         "showgrid": true,
         "tickfont": {
          "color": "#C2C2C2"
         },
         "title": {
          "font": {
           "color": "#D9D9D9"
          },
          "text": "Num of Movies"
         },
         "zerolinecolor": "#666570"
        }
       }
      },
      "text/html": [
       "<div>                            <div id=\"8cba0fde-756b-49a5-a3e1-80cdc31c711a\" class=\"plotly-graph-div\" style=\"height:525px; width:100%;\"></div>            <script type=\"text/javascript\">                require([\"plotly\"], function(Plotly) {                    window.PLOTLYENV=window.PLOTLYENV || {};\n",
       "                    window.PLOTLYENV.BASE_URL='https://plot.ly';                                    if (document.getElementById(\"8cba0fde-756b-49a5-a3e1-80cdc31c711a\")) {                    Plotly.newPlot(                        \"8cba0fde-756b-49a5-a3e1-80cdc31c711a\",                        [{\"histfunc\":\"count\",\"histnorm\":\"\",\"marker\":{\"color\":\"rgba(178, 7, 16, 1.0)\",\"line\":{\"color\":\"#D9D9D9\",\"width\":1.3}},\"name\":\"duration\",\"opacity\":0.8,\"orientation\":\"v\",\"x\":[125.0,104.0,127.0,166.0,103.0,97.0,106.0,96.0,124.0,116.0,98.0,91.0,115.0,122.0,99.0,99.0,88.0,100.0,102.0,93.0,96.0,95.0,85.0,97.0,95.0,83.0,182.0,106.0,147.0,95.0,90.0,97.0,128.0,90.0,143.0,119.0,114.0,106.0,118.0,115.0,95.0,108.0,117.0,121.0,142.0,113.0,154.0,95.0,108.0,120.0,100.0,82.0,124.0,114.0,104.0,94.0,94.0,93.0,97.0,109.0,88.0,101.0,105.0,102.0,101.0,103.0,106.0,118.0,86.0,121.0,229.0,76.0,95.0,98.0,89.0,120.0,110.0,83.0,121.0,105.0,94.0,156.0,112.0,95.0,114.0,129.0,97.0,125.0,107.0,127.0,128.0,135.0,124.0,136.0,165.0,124.0,136.0,150.0,112.0,119.0,133.0,142.0,93.0,113.0,116.0,106.0,145.0,95.0,108.0,90.0,92.0,110.0,91.0,135.0,82.0,94.0,121.0,110.0,64.0,59.0,101.0,127.0,114.0,108.0,98.0,86.0,111.0,115.0,102.0,100.0,135.0,95.0,97.0,124.0,118.0,115.0,115.0,104.0,106.0,87.0,88.0,114.0,90.0,142.0,90.0,105.0,103.0,116.0,113.0,99.0,148.0,189.0,97.0,102.0,99.0,85.0,112.0,91.0,91.0,141.0,130.0,98.0,105.0,101.0,105.0,118.0,97.0,102.0,114.0,111.0,125.0,103.0,94.0,92.0,143.0,117.0,165.0,91.0,111.0,64.0,68.0,99.0,105.0,102.0,91.0,88.0,101.0,94.0,105.0,117.0,115.0,124.0,131.0,122.0,113.0,86.0,95.0,87.0,96.0,94.0,104.0,97.0,91.0,106.0,90.0,104.0,92.0,95.0,105.0,116.0,124.0,101.0,95.0,128.0,143.0,136.0,136.0,126.0,116.0,100.0,115.0,125.0,94.0,90.0,95.0,155.0,98.0,108.0,96.0,117.0,103.0,94.0,93.0,115.0,120.0,145.0,126.0,101.0,118.0,109.0,89.0,106.0,101.0,123.0,106.0,89.0,128.0,85.0,89.0,108.0,105.0,133.0,129.0,127.0,113.0,112.0,130.0,100.0,103.0,85.0,124.0,103.0,121.0,89.0,92.0,112.0,114.0,116.0,98.0,100.0,97.0,83.0,101.0,109.0,87.0,96.0,84.0,125.0,119.0,105.0,111.0,119.0,13.0,101.0,96.0,122.0,89.0,98.0,119.0,104.0,101.0,99.0,84.0,89.0,113.0,110.0,102.0,86.0,91.0,117.0,99.0,77.0,97.0,106.0,97.0,104.0,110.0,98.0,74.0,103.0,94.0,112.0,49.0,111.0,72.0,78.0,101.0,110.0,94.0,70.0,118.0,103.0,95.0,93.0,101.0,101.0,89.0,109.0,104.0,90.0,109.0,145.0,88.0,132.0,109.0,133.0,85.0,104.0,99.0,93.0,98.0,101.0,94.0,99.0,108.0,128.0,104.0,127.0,136.0,97.0,88.0,97.0,97.0,88.0,97.0,97.0,118.0,70.0,91.0,92.0,94.0,131.0,148.0,92.0,88.0,109.0,92.0,101.0,140.0,89.0,81.0,99.0,107.0,107.0,90.0,104.0,100.0,102.0,105.0,107.0,99.0,102.0,119.0,86.0,122.0,95.0,104.0,118.0,98.0,99.0,107.0,97.0,112.0,118.0,109.0,109.0,88.0,97.0,97.0,95.0,91.0,115.0,93.0,109.0,96.0,138.0,113.0,94.0,89.0,121.0,127.0,94.0,89.0,136.0,89.0,99.0,93.0,85.0,102.0,101.0,128.0,85.0,95.0,121.0,116.0,91.0,149.0,113.0,127.0,101.0,102.0,102.0,107.0,123.0,98.0,95.0,101.0,104.0,104.0,111.0,102.0,15.0,120.0,106.0,116.0,116.0,86.0,97.0,132.0,126.0,101.0,102.0,147.0,224.0,141.0,109.0,162.0,142.0,93.0,60.0,119.0,96.0,116.0,102.0,123.0,102.0,127.0,88.0,106.0,65.0,96.0,88.0,143.0,137.0,75.0,103.0,130.0,145.0,118.0,102.0,132.0,108.0,133.0,107.0,32.0,78.0,140.0,143.0,88.0,89.0,93.0,97.0,94.0,112.0,100.0,120.0,91.0,98.0,113.0,98.0,91.0,158.0,164.0,133.0,103.0,90.0,116.0,96.0,121.0,101.0,173.0,89.0,181.0,99.0,88.0,107.0,114.0,96.0,149.0,102.0,83.0,98.0,83.0,104.0,111.0,98.0,93.0,73.0,141.0,116.0,98.0,95.0,93.0,97.0,114.0,100.0,105.0,60.0,98.0,108.0,90.0,102.0,120.0,106.0,115.0,98.0,60.0,113.0,101.0,24.0,80.0,100.0,139.0,74.0,131.0,131.0,118.0,97.0,92.0,136.0,97.0,110.0,105.0,90.0,107.0,92.0,94.0,99.0,97.0,151.0,108.0,113.0,81.0,116.0,119.0,116.0,112.0,121.0,115.0,98.0,181.0,100.0,22.0,134.0,94.0,88.0,119.0,107.0,112.0,103.0,90.0,120.0,97.0,102.0,106.0,119.0,58.0,143.0,112.0,134.0,123.0,123.0,118.0,91.0,97.0,85.0,139.0,162.0,92.0,86.0,107.0,85.0,83.0,104.0,116.0,87.0,91.0,119.0,102.0,86.0,102.0,98.0,99.0,108.0,114.0,104.0,88.0,104.0,123.0,106.0,138.0,107.0,133.0,97.0,116.0,123.0,89.0,93.0,139.0,112.0,101.0,113.0,89.0,107.0,123.0,113.0,90.0,52.0,127.0,95.0,121.0,95.0,133.0,127.0,95.0,101.0,123.0,89.0,100.0,108.0,94.0,103.0,105.0,116.0,92.0,65.0,115.0,96.0,32.0,102.0,102.0,101.0,71.0,81.0,112.0,161.0,129.0,85.0,148.0,99.0,101.0,89.0,128.0,99.0,126.0,106.0,101.0,87.0,111.0,90.0,91.0,101.0,96.0,96.0,148.0,96.0,98.0,104.0,53.0,113.0,102.0,118.0,83.0,116.0,116.0,106.0,105.0,8.0,110.0,71.0,91.0,46.0,109.0,102.0,101.0,94.0,110.0,117.0,85.0,119.0,115.0,105.0,68.0,57.0,28.0,98.0,95.0,96.0,66.0,112.0,84.0,94.0,98.0,85.0,120.0,83.0,94.0,102.0,111.0,90.0,110.0,87.0,132.0,117.0,50.0,106.0,125.0,107.0,91.0,132.0,133.0,109.0,107.0,111.0,108.0,105.0,119.0,104.0,83.0,79.0,115.0,97.0,26.0,46.0,106.0,133.0,93.0,108.0,96.0,101.0,106.0,54.0,118.0,117.0,48.0,139.0,115.0,109.0,91.0,60.0,102.0,120.0,149.0,91.0,99.0,106.0,108.0,45.0,93.0,22.0,81.0,98.0,100.0,112.0,114.0,68.0,103.0,121.0,95.0,87.0,115.0,171.0,46.0,117.0,84.0,98.0,83.0,97.0,99.0,108.0,93.0,42.0,64.0,162.0,130.0,108.0,129.0,105.0,133.0,142.0,128.0,97.0,107.0,135.0,84.0,70.0,124.0,84.0,95.0,84.0,120.0,87.0,75.0,124.0,95.0,107.0,123.0,85.0,150.0,97.0,88.0,93.0,151.0,82.0,148.0,95.0,90.0,103.0,87.0,102.0,96.0,86.0,136.0,60.0,127.0,100.0,87.0,28.0,27.0,90.0,102.0,94.0,81.0,134.0,114.0,107.0,107.0,130.0,87.0,93.0,114.0,91.0,116.0,93.0,106.0,105.0,93.0,103.0,50.0,150.0,100.0,117.0,87.0,100.0,86.0,87.0,103.0,112.0,120.0,111.0,78.0,51.0,123.0,46.0,102.0,106.0,112.0,101.0,96.0,103.0,94.0,69.0,81.0,76.0,108.0,94.0,106.0,98.0,93.0,99.0,93.0,82.0,107.0,104.0,130.0,83.0,99.0,77.0,94.0,118.0,87.0,101.0,80.0,117.0,47.0,165.0,134.0,140.0,150.0,156.0,86.0,126.0,100.0,124.0,100.0,106.0,104.0,96.0,90.0,33.0,81.0,84.0,44.0,115.0,94.0,107.0,115.0,93.0,107.0,86.0,112.0,102.0,91.0,83.0,73.0,139.0,101.0,87.0,120.0,123.0,95.0,29.0,28.0,122.0,59.0,80.0,103.0,104.0,146.0,135.0,129.0,115.0,143.0,173.0,129.0,149.0,98.0,127.0,124.0,85.0,102.0,129.0,124.0,118.0,111.0,94.0,130.0,117.0,137.0,139.0,111.0,103.0,120.0,98.0,130.0,96.0,61.0,90.0,139.0,94.0,92.0,63.0,88.0,105.0,140.0,103.0,102.0,93.0,133.0,157.0,116.0,112.0,96.0,127.0,130.0,93.0,138.0,138.0,92.0,110.0,102.0,113.0,96.0,108.0,94.0,99.0,98.0,97.0,135.0,93.0,94.0,117.0,63.0,73.0,91.0,93.0,101.0,93.0,96.0,112.0,72.0,112.0,72.0,92.0,109.0,155.0,109.0,115.0,97.0,103.0,24.0,110.0,97.0,94.0,107.0,97.0,103.0,88.0,111.0,94.0,33.0,110.0,98.0,81.0,104.0,121.0,100.0,97.0,75.0,102.0,158.0,102.0,203.0,92.0,104.0,72.0,113.0,93.0,119.0,105.0,113.0,93.0,44.0,110.0,90.0,82.0,69.0,46.0,94.0,72.0,95.0,71.0,64.0,92.0,80.0,104.0,25.0,111.0,99.0,83.0,150.0,108.0,44.0,102.0,137.0,112.0,102.0,103.0,136.0,84.0,114.0,110.0,103.0,106.0,46.0,115.0,140.0,124.0,133.0,91.0,30.0,105.0,58.0,87.0,95.0,90.0,102.0,98.0,104.0,89.0,62.0,104.0,101.0,126.0,89.0,96.0,91.0,86.0,89.0,151.0,116.0,110.0,123.0,139.0,95.0,121.0,127.0,162.0,128.0,112.0,125.0,128.0,120.0,86.0,107.0,129.0,135.0,97.0,125.0,162.0,136.0,138.0,126.0,137.0,114.0,96.0,107.0,89.0,94.0,148.0,82.0,95.0,120.0,115.0,107.0,105.0,134.0,128.0,103.0,114.0,102.0,52.0,86.0,104.0,76.0,99.0,124.0,117.0,107.0,135.0,126.0,164.0,166.0,94.0,92.0,52.0,112.0,90.0,101.0,84.0,112.0,136.0,110.0,93.0,90.0,130.0,128.0,104.0,131.0,109.0,129.0,73.0,104.0,114.0,86.0,194.0,76.0,116.0,130.0,85.0,108.0,81.0,76.0,92.0,85.0,108.0,120.0,117.0,100.0,101.0,156.0,55.0,96.0,104.0,101.0,113.0,126.0,98.0,114.0,132.0,92.0,90.0,86.0,103.0,114.0,115.0,149.0,102.0,105.0,114.0,94.0,106.0,116.0,109.0,100.0,116.0,111.0,95.0,135.0,95.0,92.0,100.0,80.0,98.0,104.0,98.0,104.0,99.0,68.0,106.0,71.0,80.0,116.0,112.0,73.0,110.0,135.0,128.0,93.0,149.0,54.0,87.0,102.0,177.0,98.0,237.0,195.0,253.0,157.0,97.0,85.0,94.0,80.0,94.0,92.0,105.0,120.0,96.0,107.0,93.0,101.0,110.0,112.0,93.0,109.0,105.0,97.0,91.0,88.0,109.0,118.0,109.0,131.0,152.0,67.0,72.0,83.0,90.0,106.0,190.0,129.0,160.0,86.0,92.0,114.0,90.0,94.0,86.0,89.0,61.0,93.0,81.0,120.0,94.0,91.0,104.0,76.0,90.0,103.0,122.0,97.0,98.0,42.0,91.0,94.0,107.0,143.0,105.0,116.0,105.0,97.0,105.0,109.0,111.0,132.0,102.0,107.0,100.0,115.0,104.0,110.0,100.0,108.0,104.0,116.0,106.0,96.0,140.0,107.0,138.0,132.0,208.0,105.0,101.0,124.0,93.0,110.0,115.0,107.0,72.0,107.0,95.0,180.0,135.0,94.0,105.0,93.0,92.0,144.0,101.0,81.0,95.0,119.0,121.0,88.0,106.0,119.0,63.0,82.0,95.0,93.0,120.0,147.0,55.0,107.0,92.0,98.0,101.0,112.0,103.0,91.0,96.0,104.0,66.0,83.0,111.0,90.0,121.0,121.0,88.0,107.0,91.0,174.0,155.0,87.0,77.0,142.0,170.0,165.0,161.0,144.0,149.0,135.0,131.0,126.0,192.0,209.0,187.0,138.0,185.0,143.0,172.0,103.0,83.0,107.0,114.0,93.0,85.0,131.0,101.0,107.0,84.0,104.0,160.0,103.0,46.0,112.0,83.0,72.0,24.0,104.0,72.0,113.0,100.0,99.0,104.0,70.0,95.0,109.0,91.0,75.0,100.0,95.0,113.0,62.0,93.0,135.0,101.0,98.0,103.0,106.0,95.0,132.0,82.0,71.0,79.0,120.0,82.0,115.0,111.0,110.0,121.0,108.0,186.0,116.0,154.0,105.0,71.0,61.0,133.0,98.0,119.0,61.0,130.0,87.0,127.0,87.0,88.0,158.0,93.0,109.0,162.0,98.0,103.0,97.0,94.0,101.0,109.0,50.0,110.0,92.0,120.0,101.0,116.0,117.0,95.0,122.0,102.0,96.0,93.0,93.0,87.0,95.0,33.0,113.0,118.0,171.0,100.0,103.0,86.0,102.0,101.0,96.0,106.0,88.0,103.0,139.0,89.0,104.0,124.0,112.0,70.0,106.0,97.0,106.0,60.0,148.0,122.0,86.0,193.0,92.0,94.0,82.0,89.0,176.0,116.0,86.0,93.0,85.0,62.0,112.0,121.0,133.0,76.0,82.0,156.0,90.0,97.0,51.0,98.0,61.0,116.0,132.0,17.0,91.0,121.0,78.0,95.0,86.0,132.0,107.0,122.0,95.0,108.0,99.0,103.0,66.0,132.0,56.0,128.0,119.0,97.0,92.0,102.0,90.0,129.0,106.0,105.0,78.0,79.0,78.0,145.0,71.0,83.0,119.0,98.0,102.0,97.0,110.0,85.0,90.0,89.0,120.0,102.0,73.0,79.0,97.0,91.0,96.0,103.0,95.0,83.0,117.0,70.0,90.0,86.0,86.0,113.0,141.0,126.0,63.0,136.0,120.0,134.0,185.0,174.0,169.0,148.0,135.0,135.0,119.0,98.0,135.0,185.0,156.0,104.0,139.0,140.0,154.0,129.0,99.0,100.0,95.0,65.0,143.0,101.0,60.0,29.0,92.0,172.0,97.0,108.0,137.0,106.0,115.0,92.0,93.0,85.0,56.0,86.0,127.0,93.0,94.0,120.0,135.0,134.0,137.0,103.0,133.0,95.0,126.0,67.0,135.0,106.0,107.0,81.0,107.0,110.0,104.0,93.0,94.0,137.0,134.0,106.0,209.0,86.0,24.0,117.0,121.0,97.0,121.0,119.0,93.0,86.0,134.0,28.0,131.0,78.0,84.0,107.0,101.0,107.0,74.0,60.0,143.0,105.0,110.0,98.0,74.0,46.0,54.0,59.0,100.0,93.0,94.0,121.0,78.0,116.0,87.0,61.0,98.0,123.0,85.0,78.0,103.0,68.0,68.0,69.0,81.0,69.0,68.0,68.0,86.0,40.0,94.0,90.0,112.0,101.0,119.0,86.0,92.0,91.0,141.0,107.0,89.0,65.0,126.0,63.0,20.0,106.0,118.0,86.0,94.0,82.0,92.0,52.0,108.0,67.0,91.0,118.0,87.0,98.0,95.0,100.0,101.0,96.0,99.0,112.0,127.0,63.0,97.0,86.0,62.0,96.0,104.0,123.0,100.0,99.0,151.0,102.0,106.0,87.0,70.0,101.0,109.0,110.0,102.0,102.0,24.0,98.0,90.0,64.0,79.0,81.0,81.0,64.0,90.0,102.0,116.0,133.0,108.0,106.0,58.0,152.0,87.0,121.0,83.0,111.0,171.0,88.0,76.0,64.0,94.0,157.0,83.0,65.0,105.0,107.0,103.0,67.0,125.0,142.0,133.0,100.0,128.0,93.0,82.0,47.0,95.0,91.0,102.0,100.0,98.0,110.0,85.0,66.0,92.0,133.0,135.0,120.0,118.0,98.0,104.0,52.0,117.0,100.0,86.0,69.0,119.0,123.0,93.0,107.0,46.0,117.0,67.0,114.0,67.0,77.0,63.0,59.0,102.0,81.0,116.0,177.0,130.0,111.0,100.0,77.0,93.0,58.0,56.0,110.0,98.0,106.0,102.0,81.0,98.0,136.0,161.0,32.0,105.0,106.0,90.0,87.0,65.0,66.0,122.0,141.0,176.0,73.0,87.0,15.0,55.0,122.0,63.0,96.0,113.0,69.0,87.0,116.0,116.0,110.0,59.0,88.0,91.0,113.0,90.0,95.0,98.0,61.0,117.0,60.0,142.0,74.0,119.0,114.0,125.0,71.0,110.0,127.0,118.0,90.0,130.0,12.0,62.0,114.0,128.0,109.0,109.0,101.0,103.0,98.0,123.0,101.0,99.0,91.0,137.0,66.0,90.0,53.0,87.0,90.0,96.0,94.0,108.0,102.0,70.0,88.0,100.0,111.0,128.0,98.0,104.0,126.0,125.0,79.0,110.0,128.0,110.0,116.0,119.0,90.0,88.0,104.0,140.0,92.0,64.0,119.0,91.0,122.0,125.0,168.0,102.0,92.0,111.0,113.0,54.0,123.0,102.0,141.0,111.0,131.0,116.0,119.0,146.0,101.0,87.0,94.0,133.0,135.0,91.0,59.0,91.0,131.0,88.0,170.0,92.0,126.0,120.0,76.0,60.0,103.0,124.0,91.0,88.0,81.0,124.0,102.0,132.0,75.0,126.0,61.0,126.0,108.0,100.0,129.0,108.0,105.0,115.0,118.0,130.0,115.0,69.0,97.0,61.0,92.0,108.0,104.0,65.0,106.0,69.0,97.0,80.0,85.0,98.0,115.0,117.0,132.0,127.0,125.0,128.0,126.0,116.0,90.0,111.0,100.0,99.0,105.0,128.0,91.0,127.0,94.0,124.0,103.0,118.0,89.0,103.0,87.0,93.0,90.0,114.0,107.0,97.0,103.0,125.0,130.0,119.0,110.0,120.0,102.0,125.0,127.0,121.0,113.0,118.0,132.0,61.0,80.0,110.0,70.0,117.0,89.0,84.0,131.0,139.0,42.0,79.0,96.0,114.0,111.0,112.0,103.0,104.0,102.0,97.0,132.0,120.0,137.0,82.0,115.0,130.0,62.0,91.0,63.0,74.0,136.0,59.0,91.0,93.0,100.0,22.0,22.0,113.0,110.0,120.0,127.0,74.0,137.0,86.0,125.0,114.0,143.0,121.0,119.0,150.0,88.0,105.0,96.0,96.0,96.0,90.0,97.0,88.0,127.0,125.0,116.0,102.0,65.0,106.0,117.0,136.0,104.0,91.0,99.0,91.0,117.0,95.0,101.0,102.0,95.0,92.0,111.0,115.0,61.0,97.0,120.0,148.0,48.0,28.0,61.0,56.0,81.0,50.0,49.0,71.0,100.0,30.0,146.0,127.0,46.0,57.0,122.0,109.0,96.0,105.0,124.0,78.0,22.0,95.0,82.0,89.0,90.0,85.0,29.0,137.0,27.0,112.0,112.0,153.0,123.0,90.0,84.0,79.0,83.0,145.0,135.0,68.0,96.0,110.0,105.0,98.0,155.0,122.0,87.0,98.0,130.0,105.0,110.0,81.0,115.0,113.0,146.0,118.0,109.0,117.0,95.0,124.0,96.0,96.0,93.0,30.0,82.0,127.0,114.0,119.0,101.0,96.0,44.0,104.0,91.0,91.0,114.0,91.0,64.0,89.0,95.0,94.0,133.0,122.0,86.0,111.0,111.0,121.0,119.0,115.0,128.0,99.0,106.0,122.0,129.0,116.0,95.0,122.0,98.0,117.0,95.0,146.0,136.0,91.0,123.0,144.0,121.0,91.0,158.0,157.0,124.0,106.0,92.0,80.0,126.0,129.0,133.0,109.0,143.0,140.0,150.0,128.0,120.0,154.0,45.0,132.0,126.0,95.0,135.0,139.0,131.0,118.0,129.0,131.0,146.0,123.0,141.0,93.0,91.0,106.0,131.0,104.0,126.0,118.0,94.0,126.0,90.0,115.0,93.0,74.0,102.0,104.0,51.0,86.0,140.0,122.0,95.0,121.0,131.0,63.0,150.0,159.0,131.0,130.0,99.0,106.0,97.0,144.0,110.0,57.0,119.0,94.0,89.0,124.0,121.0,88.0,111.0,81.0,137.0,56.0,80.0,94.0,94.0,72.0,140.0,91.0,97.0,146.0,118.0,128.0,137.0,145.0,106.0,137.0,129.0,99.0,155.0,142.0,214.0,137.0,128.0,151.0,121.0,101.0,145.0,147.0,90.0,129.0,129.0,136.0,117.0,150.0,134.0,100.0,44.0,44.0,111.0,147.0,115.0,121.0,103.0,73.0,129.0,102.0,122.0,155.0,139.0,131.0,127.0,156.0,132.0,130.0,137.0,156.0,132.0,119.0,140.0,126.0,107.0,111.0,130.0,126.0,108.0,101.0,124.0,114.0,98.0,100.0,123.0,106.0,106.0,102.0,146.0,96.0,104.0,109.0,110.0,110.0,101.0,94.0,101.0,141.0,120.0,140.0,50.0,31.0,90.0,110.0,162.0,139.0,130.0,145.0,114.0,100.0,54.0,150.0,105.0,124.0,95.0,12.0,104.0,143.0,127.0,100.0,74.0,104.0,148.0,127.0,158.0,124.0,163.0,121.0,154.0,127.0,128.0,98.0,109.0,168.0,162.0,159.0,137.0,133.0,127.0,131.0,90.0,88.0,87.0,82.0,86.0,100.0,57.0,95.0,124.0,72.0,93.0,92.0,133.0,105.0,101.0,88.0,113.0,71.0,75.0,66.0,83.0,110.0,88.0,77.0,58.0,69.0,61.0,88.0,122.0,60.0,166.0,107.0,94.0,87.0,92.0,130.0,88.0,128.0,94.0,69.0,90.0,101.0,77.0,89.0,98.0,66.0,103.0,95.0,89.0,119.0,70.0,121.0,106.0,106.0,113.0,119.0,100.0,110.0,66.0,126.0,130.0,110.0,85.0,117.0,63.0,94.0,74.0,58.0,117.0,89.0,158.0,100.0,64.0,92.0,63.0,105.0,67.0,91.0,92.0,87.0,100.0,113.0,105.0,94.0,109.0,99.0,89.0,92.0,105.0,130.0,98.0,90.0,65.0,92.0,25.0,101.0,90.0,96.0,115.0,92.0,93.0,95.0,117.0,66.0,97.0,78.0,102.0,62.0,97.0,105.0,90.0,107.0,105.0,99.0,108.0,66.0,75.0,96.0,95.0,32.0,70.0,94.0,78.0,91.0,75.0,105.0,96.0,132.0,60.0,171.0,116.0,169.0,134.0,159.0,87.0,103.0,78.0,62.0,97.0,102.0,95.0,115.0,102.0,99.0,74.0,100.0,150.0,87.0,129.0,91.0,115.0,140.0,79.0,104.0,121.0,94.0,58.0,51.0,69.0,104.0,94.0,166.0,155.0,145.0,106.0,94.0,127.0,87.0,185.0,75.0,89.0,81.0,47.0,46.0,125.0,160.0,110.0,67.0,105.0,127.0,109.0,134.0,60.0,96.0,65.0,133.0,96.0,95.0,97.0,102.0,116.0,102.0,117.0,96.0,69.0,108.0,102.0,61.0,49.0,87.0,59.0,63.0,62.0,108.0,95.0,99.0,62.0,147.0,153.0,87.0,124.0,94.0,71.0,135.0,97.0,86.0,82.0,102.0,105.0,106.0,91.0,61.0,80.0,118.0,94.0,84.0,103.0,69.0,105.0,128.0,86.0,109.0,70.0,89.0,162.0,163.0,27.0,67.0,142.0,78.0,26.0,81.0,119.0,99.0,96.0,128.0,101.0,109.0,51.0,61.0,73.0,92.0,94.0,135.0,66.0,126.0,54.0,100.0,81.0,123.0,153.0,141.0,104.0,97.0,82.0,98.0,84.0,76.0,75.0,93.0,98.0,91.0,168.0,68.0,103.0,82.0,94.0,66.0,135.0,144.0,90.0,158.0,83.0,102.0,52.0,85.0,113.0,88.0,89.0,59.0,66.0,135.0,93.0,47.0,118.0,81.0,103.0,103.0,104.0,82.0,112.0,102.0,101.0,119.0,62.0,64.0,137.0,78.0,71.0,99.0,60.0,98.0,70.0,148.0,92.0,107.0,90.0,151.0,132.0,95.0,162.0,163.0,89.0,103.0,160.0,113.0,86.0,83.0,113.0,86.0,57.0,98.0,116.0,100.0,51.0,113.0,124.0,63.0,56.0,94.0,90.0,71.0,97.0,83.0,92.0,165.0,159.0,22.0,105.0,54.0,121.0,103.0,129.0,95.0,80.0,84.0,97.0,86.0,114.0,84.0,67.0,63.0,116.0,104.0,14.0,108.0,59.0,74.0,84.0,97.0,95.0,116.0,86.0,153.0,104.0,163.0,106.0,148.0,105.0,121.0,66.0,102.0,89.0,161.0,24.0,66.0,104.0,73.0,47.0,102.0,87.0,117.0,119.0,130.0,102.0,154.0,44.0,96.0,47.0,44.0,109.0,89.0,92.0,122.0,154.0,152.0,161.0,123.0,44.0,71.0,153.0,143.0,123.0,80.0,106.0,101.0,59.0,164.0,151.0,84.0,142.0,110.0,86.0,101.0,88.0,86.0,61.0,81.0,72.0,98.0,64.0,111.0,148.0,163.0,95.0,99.0,93.0,89.0,83.0,104.0,53.0,95.0,149.0,106.0,108.0,66.0,113.0,83.0,50.0,97.0,105.0,107.0,99.0,101.0,81.0,92.0,131.0,101.0,96.0,85.0,110.0,89.0,88.0,88.0,143.0,83.0,107.0,134.0,78.0,81.0,106.0,102.0,63.0,91.0,93.0,93.0,97.0,92.0,137.0,143.0,168.0,117.0,87.0,160.0,62.0,109.0,102.0,118.0,57.0,94.0,71.0,123.0,97.0,99.0,97.0,67.0,105.0,78.0,99.0,119.0,109.0,92.0,88.0,71.0,64.0,97.0,54.0,78.0,86.0,154.0,179.0,93.0,97.0,108.0,92.0,78.0,87.0,99.0,91.0,102.0,67.0,57.0,130.0,80.0,66.0,105.0,98.0,91.0,123.0,104.0,109.0,74.0,84.0,98.0,22.0,100.0,75.0,69.0,97.0,92.0,92.0,146.0,97.0,93.0,62.0,22.0,88.0,105.0,88.0,93.0,98.0,88.0,31.0,83.0,38.0,108.0,97.0,81.0,70.0,62.0,99.0,112.0,90.0,89.0,24.0,100.0,116.0,92.0,79.0,72.0,92.0,61.0,88.0,113.0,67.0,65.0,62.0,107.0,69.0,77.0,98.0,71.0,64.0,59.0,91.0,107.0,92.0,89.0,107.0,94.0,110.0,81.0,77.0,64.0,97.0,77.0,94.0,94.0,91.0,80.0,95.0,90.0,73.0,108.0,25.0,86.0,105.0,100.0,96.0,97.0,73.0,132.0,96.0,92.0,99.0,78.0,89.0,60.0,83.0,75.0,92.0,80.0,72.0,71.0,77.0,70.0,73.0,81.0,45.0,46.0,112.0,101.0,117.0,114.0,96.0,87.0,105.0,80.0,97.0,105.0,60.0,109.0,60.0,101.0,127.0,82.0,23.0,97.0,62.0,84.0,90.0,101.0,74.0,68.0,92.0,107.0,108.0,74.0,29.0,60.0,120.0,74.0,57.0,91.0,62.0,85.0,90.0,105.0,59.0,137.0,86.0,64.0,82.0,90.0,80.0,62.0,92.0,78.0,92.0,69.0,92.0,143.0,78.0,84.0,84.0,58.0,82.0,83.0,81.0,75.0,68.0,71.0,94.0,80.0,93.0,105.0,130.0,100.0,80.0,76.0,95.0,96.0,94.0,94.0,93.0,96.0,94.0,94.0,93.0,95.0,93.0,75.0,103.0,29.0,104.0,81.0,80.0,123.0,119.0,118.0,143.0,149.0,144.0,124.0,128.0,117.0,100.0,105.0,106.0,99.0,93.0,89.0,105.0,109.0,90.0,90.0,93.0,113.0,89.0,102.0,102.0,90.0,94.0,91.0,95.0,119.0,93.0,101.0,93.0,82.0,70.0,104.0,92.0,124.0,91.0,83.0,93.0,81.0,86.0,97.0,99.0,100.0,126.0,94.0,103.0,96.0,137.0,104.0,104.0,94.0,176.0,137.0,101.0,111.0,110.0,142.0,86.0,86.0,80.0,92.0,96.0,125.0,82.0,111.0,92.0,94.0,91.0,44.0,108.0,123.0,106.0,89.0,98.0,108.0,92.0,102.0,103.0,110.0,77.0,99.0,122.0,150.0,126.0,164.0,115.0,133.0,127.0,131.0,44.0,101.0,90.0,89.0,88.0,133.0,110.0,112.0,87.0,91.0,111.0,99.0,86.0,107.0,89.0,92.0,122.0,91.0,127.0,153.0,106.0,102.0,112.0,63.0,90.0,101.0,85.0,83.0,92.0,84.0,91.0,100.0,103.0,103.0,45.0,45.0,98.0,92.0,172.0,125.0,81.0,112.0,122.0,53.0,53.0,99.0,95.0,119.0,163.0,55.0,102.0,106.0,128.0,80.0,75.0,75.0,79.0,87.0,97.0,85.0,111.0,113.0,90.0,103.0,105.0,104.0,127.0,92.0,72.0,118.0,110.0,90.0,134.0,86.0,87.0,107.0,79.0,87.0,113.0,110.0,98.0,93.0,139.0,94.0,133.0,81.0,91.0,122.0,102.0,88.0,49.0,110.0,150.0,97.0,129.0,99.0,112.0,143.0,95.0,92.0,97.0,90.0,119.0,147.0,83.0,83.0,91.0,117.0,78.0,75.0,78.0,149.0,103.0,94.0,95.0,122.0,107.0,126.0,122.0,95.0,74.0,74.0,74.0,83.0,79.0,72.0,80.0,75.0,75.0,72.0,99.0,91.0,166.0,103.0,128.0,87.0,125.0,121.0,110.0,88.0,89.0,81.0,73.0,75.0,99.0,121.0,100.0,97.0,100.0,115.0,99.0,91.0,90.0,100.0,25.0,99.0,104.0,149.0,112.0,98.0,120.0,151.0,148.0,114.0,123.0,87.0,93.0,88.0,126.0,90.0,95.0,108.0,65.0,110.0,66.0,127.0,131.0,88.0,97.0,116.0,117.0,79.0,144.0,135.0,88.0,116.0,91.0,90.0,129.0,120.0,91.0,85.0,88.0,123.0,180.0,98.0,90.0,90.0,94.0,112.0,97.0,47.0,99.0,168.0,99.0,92.0,99.0,89.0,88.0,111.0,79.0,86.0,74.0,84.0,80.0,86.0,90.0,102.0,92.0,81.0,116.0,110.0,95.0,133.0,120.0,91.0,90.0,90.0,103.0,98.0,119.0,148.0,94.0,108.0,114.0,98.0,151.0,78.0,125.0,126.0,104.0,104.0,117.0,101.0,99.0,126.0,92.0,131.0,119.0,98.0,85.0,84.0,145.0,125.0,108.0,108.0,82.0,77.0,156.0,116.0,126.0,129.0,132.0,118.0,87.0,95.0,86.0,106.0,115.0,106.0,94.0,121.0,113.0,129.0,99.0,116.0,88.0,112.0,113.0,82.0,98.0,87.0,111.0,105.0,146.0,96.0,80.0,99.0,87.0,88.0,99.0,104.0,104.0,118.0,127.0,109.0,130.0,110.0,88.0,106.0,91.0,103.0,89.0,108.0,124.0,96.0,172.0,124.0,85.0,137.0,91.0,120.0,118.0,110.0,114.0,112.0,137.0,84.0,96.0,112.0,90.0,106.0,116.0,127.0,96.0,101.0,88.0,75.0,112.0,110.0,120.0,90.0,82.0,118.0,153.0,117.0,93.0,82.0,115.0,151.0,103.0,117.0,100.0,70.0,103.0,108.0,91.0,93.0,113.0,116.0,121.0,112.0,76.0,81.0,110.0,90.0,97.0,86.0,94.0,83.0,43.0,92.0,93.0,88.0,53.0,156.0,79.0,96.0,140.0,62.0,76.0,99.0,97.0,87.0,108.0,94.0,123.0,128.0,132.0,93.0,96.0,133.0,176.0,115.0,90.0,111.0,87.0,112.0,200.0,93.0,90.0,107.0,89.0,83.0,96.0,99.0,95.0,88.0,94.0,93.0,93.0,92.0,127.0,105.0,94.0,104.0,82.0,86.0,103.0,97.0,84.0,98.0,42.0,89.0,93.0,162.0,85.0,52.0,91.0,106.0,92.0,140.0,69.0,153.0,124.0,120.0,134.0,105.0,119.0,196.0,109.0,93.0,102.0,82.0,74.0,94.0,108.0,151.0,109.0,91.0,93.0,85.0,103.0,102.0,107.0,88.0,95.0,100.0,110.0,96.0,96.0,98.0,133.0,102.0,108.0,133.0,79.0,101.0,81.0,99.0,106.0,103.0,92.0,89.0,150.0,80.0,124.0,99.0,91.0,102.0,94.0,118.0,70.0,181.0,101.0,29.0,92.0,94.0,118.0,98.0,90.0,93.0,114.0,99.0,96.0,102.0,90.0,61.0,104.0,119.0,102.0,83.0,88.0,86.0,134.0,145.0,95.0,93.0,84.0,81.0,98.0,88.0,118.0,113.0,86.0,91.0,115.0,112.0,103.0,116.0,72.0,104.0,97.0,92.0,93.0,93.0,99.0,97.0,88.0,97.0,88.0,88.0,132.0,108.0,111.0,167.0,96.0,95.0,107.0,118.0,130.0,87.0,109.0,103.0,110.0,85.0,163.0,100.0,58.0,110.0,58.0,56.0,161.0,141.0,115.0,90.0,103.0,111.0,103.0,129.0,113.0,106.0,105.0,137.0,130.0,89.0,110.0,148.0,100.0,90.0,103.0,75.0,99.0,93.0,90.0,145.0,95.0,92.0,90.0,137.0,98.0,109.0,117.0,93.0,57.0,110.0,95.0,102.0,57.0,91.0,100.0,101.0,95.0,116.0,117.0,65.0,158.0,110.0,79.0,99.0,86.0,138.0,91.0,79.0,79.0,96.0,101.0,88.0,95.0,87.0,83.0,90.0,151.0,99.0,86.0,85.0,93.0,89.0,89.0,90.0,104.0,107.0,124.0,87.0,94.0,86.0,102.0,122.0,126.0,87.0,156.0,97.0,89.0,88.0,96.0,104.0,95.0,97.0,118.0,118.0,170.0,118.0,128.0,106.0,92.0,102.0,126.0,111.0,100.0,86.0,95.0,79.0,81.0,120.0,85.0,134.0,93.0,82.0,88.0,96.0,97.0,101.0,88.0,84.0,110.0,105.0,116.0,94.0,116.0,103.0,83.0,176.0,149.0,79.0,97.0,91.0,85.0,85.0,117.0,84.0,106.0,107.0,98.0,54.0,139.0,93.0,91.0,89.0,116.0,100.0,96.0,119.0,108.0,104.0,124.0,87.0,75.0,108.0,103.0,103.0,89.0,103.0,89.0,119.0,106.0,118.0,95.0,123.0,127.0,116.0,119.0,99.0,90.0,153.0,106.0,141.0,122.0,87.0,102.0,88.0,99.0,99.0,134.0,88.0,127.0,137.0,77.0,71.0,130.0,140.0,101.0,91.0,84.0,88.0,163.0,93.0,154.0,92.0,132.0,132.0,94.0,132.0,105.0,97.0,109.0,134.0,53.0,84.0,102.0,79.0,133.0,125.0,101.0,135.0,133.0,91.0,123.0,113.0,107.0,128.0,94.0,95.0,106.0,138.0,139.0,132.0,173.0,105.0,148.0,120.0,85.0,113.0,99.0,41.0,137.0,118.0,140.0,85.0,116.0,133.0,89.0,75.0,67.0,90.0,170.0,124.0,120.0,157.0,124.0,110.0,90.0,97.0,108.0,95.0,111.0,137.0,100.0,53.0,87.0,106.0,86.0,100.0,103.0,109.0,81.0,98.0,114.0,87.0,132.0,116.0,92.0,99.0,63.0,121.0,56.0,96.0,115.0,117.0,65.0,81.0,85.0,93.0,126.0,99.0,79.0,26.0,107.0,95.0,100.0,149.0,52.0,165.0,104.0,109.0,88.0,143.0,112.0,101.0,110.0,145.0,87.0,86.0,115.0,93.0,121.0,100.0,37.0,33.0,35.0,147.0,110.0,97.0,108.0,101.0,100.0,78.0,58.0,90.0,89.0,84.0,104.0,99.0,105.0,94.0,150.0,111.0,92.0,23.0,25.0,85.0,90.0,91.0,87.0,98.0,108.0,85.0,95.0,103.0,118.0,153.0,96.0,88.0,116.0,155.0,98.0,103.0,163.0,93.0,77.0,97.0,115.0,103.0,77.0,79.0,98.0,131.0,110.0,100.0,117.0,107.0,76.0,118.0,93.0,99.0,84.0,102.0,134.0,78.0,95.0,73.0,110.0,75.0,119.0,92.0,137.0,192.0,132.0,91.0,105.0,88.0,155.0,103.0,97.0,92.0,98.0,89.0,112.0,75.0,89.0,99.0,107.0,94.0,90.0,104.0,55.0,72.0,103.0,131.0,138.0,143.0,80.0,132.0,84.0,99.0,93.0,114.0,132.0,83.0,105.0,112.0,94.0,90.0,110.0,84.0,118.0,98.0,88.0,81.0,112.0,106.0,148.0,105.0,92.0,112.0,128.0,128.0,136.0,106.0,129.0,90.0,130.0,85.0,94.0,86.0,107.0,93.0,109.0,109.0,92.0,93.0,100.0,141.0,119.0,84.0,96.0,83.0,117.0,93.0,73.0,72.0,46.0,74.0,46.0,46.0,74.0,71.0,72.0,23.0,60.0,46.0,101.0,97.0,111.0,96.0,135.0,91.0,121.0,109.0,94.0,105.0,97.0,102.0,86.0,88.0,90.0,131.0,158.0,85.0,110.0,79.0,185.0,80.0,116.0,95.0,99.0,77.0,91.0,68.0,72.0,73.0,90.0,99.0,109.0,108.0,99.0,88.0,92.0,85.0,171.0,80.0,102.0,76.0,42.0,131.0,165.0,91.0,101.0,108.0,89.0,91.0,96.0,124.0,87.0,113.0,118.0,97.0,161.0,116.0,104.0,89.0,92.0,90.0,113.0,53.0,54.0,53.0,54.0,113.0,53.0,53.0,52.0,54.0,54.0,53.0,53.0,53.0,86.0,102.0,114.0,99.0,117.0,124.0,122.0,84.0,84.0,120.0,127.0,122.0,125.0,107.0,91.0,103.0,103.0,97.0,89.0,92.0,107.0,86.0,70.0,66.0,111.0,166.0,135.0,92.0,92.0,93.0,90.0,76.0,86.0,111.0,124.0,139.0,91.0,86.0,122.0,96.0,88.0,93.0,90.0,102.0,105.0,117.0,126.0,89.0,82.0,98.0,96.0,108.0,163.0,112.0,137.0,89.0,86.0,187.0,109.0,84.0,140.0,117.0,105.0,91.0,104.0,114.0,112.0,48.0,95.0,89.0,108.0,72.0,109.0,105.0,92.0,95.0,85.0,126.0,118.0,125.0,112.0,96.0,81.0,92.0,127.0,81.0,133.0,81.0,108.0,120.0,149.0,96.0,114.0,77.0,90.0,55.0,24.0,106.0,127.0,86.0,131.0,93.0,97.0,84.0,83.0,165.0,154.0,158.0,89.0,149.0,106.0,128.0,98.0,99.0,113.0,83.0,129.0,117.0,124.0,177.0,104.0,113.0,178.0,90.0,154.0,122.0,115.0,126.0,99.0,144.0,111.0,73.0,81.0,114.0,112.0,80.0,100.0,96.0,88.0,95.0,112.0,112.0,97.0,97.0,94.0,97.0,118.0,95.0,120.0,84.0,101.0,103.0,83.0,107.0,136.0,96.0,45.0,92.0,120.0,119.0,100.0,92.0,104.0,93.0,98.0,122.0,118.0,89.0,26.0,137.0,121.0,103.0,92.0,89.0,97.0,134.0,116.0,110.0,88.0,93.0,72.0,141.0,117.0,118.0,105.0,94.0,137.0,61.0,86.0,118.0,173.0,152.0,99.0,110.0,116.0,107.0,109.0,122.0,228.0,86.0,72.0,102.0,140.0,145.0,126.0,133.0,141.0,78.0,150.0,153.0,83.0,95.0,93.0,126.0,95.0,99.0,93.0,93.0,88.0,88.0,195.0,120.0,77.0,112.0,121.0,117.0,90.0,110.0,86.0,95.0,101.0,111.0,54.0,54.0,54.0,55.0,54.0,55.0,55.0,55.0,55.0,55.0,102.0,106.0,69.0,85.0,146.0,145.0,103.0,111.0,125.0,115.0,168.0,109.0,148.0,92.0,91.0,135.0,112.0,128.0,168.0,45.0,75.0,71.0,122.0,97.0,89.0,98.0,115.0,96.0,119.0,105.0,88.0,94.0,143.0,127.0,92.0,87.0,83.0,95.0,96.0,107.0,100.0,94.0,101.0,89.0,135.0,107.0,84.0,110.0,95.0,83.0,86.0,137.0,142.0,94.0,135.0,135.0,104.0,97.0,128.0,109.0,106.0,94.0,98.0,96.0,139.0,117.0,95.0,129.0,94.0,112.0,88.0,100.0,83.0,93.0,103.0,88.0,86.0,152.0,106.0,52.0,98.0,89.0,86.0,106.0,100.0,91.0,113.0,132.0,96.0,96.0,113.0,95.0,106.0,117.0,123.0,78.0,95.0,135.0,130.0,115.0,114.0,107.0,93.0,94.0,85.0,63.0,104.0,127.0,113.0,91.0,154.0,82.0,98.0,103.0,86.0,123.0,116.0,93.0,97.0,108.0,101.0,177.0,95.0,97.0,111.0,81.0,89.0,72.0,112.0,48.0,137.0,89.0,87.0,88.0,125.0,108.0,102.0,109.0,115.0,98.0,84.0,133.0,121.0,117.0,87.0,88.0,93.0,107.0,99.0,140.0,113.0,89.0,97.0,108.0,80.0,90.0,117.0,95.0,86.0,100.0,87.0,83.0,89.0,18.0,72.0,95.0,95.0,98.0,118.0,98.0,111.0,116.0,97.0,95.0,122.0,95.0,93.0,107.0,119.0,119.0,97.0,96.0,106.0,109.0,112.0,96.0,60.0,113.0,126.0,109.0,93.0,101.0,111.0,107.0,100.0,92.0,103.0,105.0,103.0,101.0,123.0,114.0,101.0,99.0,102.0,66.0,112.0,101.0,99.0,105.0,93.0,121.0,95.0,100.0,151.0,78.0,85.0,84.0,86.0,121.0,99.0,110.0,104.0,95.0,96.0,106.0,112.0,85.0,107.0,76.0,88.0,116.0,121.0,82.0,87.0,46.0,103.0,97.0,91.0,91.0,101.0,104.0,113.0,89.0,115.0,84.0,106.0,124.0,107.0,158.0,95.0,97.0,97.0,89.0,161.0,205.0,161.0,133.0,119.0,94.0,85.0,108.0,147.0,88.0,99.0,96.0,97.0,92.0,94.0,123.0,103.0,111.0,123.0,100.0,75.0,118.0,96.0,108.0,99.0,103.0,99.0,100.0,105.0,106.0,90.0,95.0,118.0,98.0,86.0,84.0,93.0,88.0,131.0,44.0,96.0,88.0,118.0,89.0,85.0,107.0,138.0,119.0,93.0,121.0,95.0,201.0,179.0,87.0,82.0,85.0,90.0,68.0,138.0,136.0,138.0,129.0,116.0,130.0,94.0,104.0,91.0,70.0,104.0,115.0,85.0,138.0,82.0,99.0,91.0,106.0,108.0,94.0,87.0,124.0,141.0,103.0,141.0,155.0,93.0,78.0,118.0,88.0,140.0,124.0,110.0,100.0,116.0,91.0,111.0,98.0,125.0,76.0,117.0,90.0,119.0,136.0,81.0,77.0,102.0,90.0,92.0,93.0,116.0,107.0,87.0,111.0,101.0,91.0,103.0,120.0,90.0,92.0,99.0,124.0,111.0,86.0,123.0,105.0,97.0,97.0,90.0,163.0,121.0,120.0,95.0,84.0,94.0,122.0,90.0,89.0,106.0,139.0,83.0,96.0,94.0,58.0,96.0,107.0,104.0,94.0,108.0,91.0,58.0,99.0,96.0,93.0,106.0,103.0,91.0,98.0,111.0,112.0,90.0,101.0,98.0,92.0,88.0,100.0,114.0,128.0,53.0,89.0,83.0,85.0,94.0,104.0,89.0,107.0,123.0,122.0,131.0,77.0,125.0,125.0,88.0,93.0,42.0,108.0,151.0,125.0,78.0,97.0,108.0,119.0,87.0,104.0,94.0,94.0,130.0,88.0,118.0,94.0,114.0,119.0,114.0,94.0,96.0,104.0,101.0,99.0,98.0,100.0,134.0,173.0,113.0,91.0,90.0,128.0,108.0,124.0,89.0,162.0,76.0,96.0,102.0,53.0,86.0,80.0,95.0,90.0,125.0,94.0,90.0,40.0,108.0,94.0,94.0,105.0,83.0,110.0,121.0,95.0,130.0,132.0,90.0,117.0,130.0,106.0,110.0,91.0,113.0,101.0,125.0,116.0,106.0,113.0,99.0,130.0,120.0,94.0,94.0,109.0,94.0,96.0,103.0,109.0,147.0,98.0,73.0,92.0,96.0,83.0,91.0,93.0,94.0,91.0,95.0,124.0,73.0,108.0,84.0,93.0,102.0,130.0,91.0,110.0,89.0,86.0,97.0,89.0,91.0,78.0,90.0,50.0,106.0,105.0,100.0,86.0,100.0,106.0,108.0,74.0,109.0,129.0,93.0,133.0,140.0,191.0,81.0,124.0,101.0,106.0,137.0,171.0,132.0,147.0,151.0,97.0,90.0,111.0,112.0,107.0,96.0,88.0,87.0,85.0,157.0,116.0,113.0,94.0,81.0,88.0,98.0,131.0,120.0,96.0,158.0,88.0,88.0,111.0],\"type\":\"histogram\"}],                        {\"barmode\":\"overlay\",\"legend\":{\"bgcolor\":\"#1A1A1C\",\"font\":{\"color\":\"#D9D9D9\"}},\"paper_bgcolor\":\"#1A1A1C\",\"plot_bgcolor\":\"#1A1A1C\",\"template\":{\"data\":{\"barpolar\":[{\"marker\":{\"line\":{\"color\":\"#E5ECF6\",\"width\":0.5},\"pattern\":{\"fillmode\":\"overlay\",\"size\":10,\"solidity\":0.2}},\"type\":\"barpolar\"}],\"bar\":[{\"error_x\":{\"color\":\"#2a3f5f\"},\"error_y\":{\"color\":\"#2a3f5f\"},\"marker\":{\"line\":{\"color\":\"#E5ECF6\",\"width\":0.5},\"pattern\":{\"fillmode\":\"overlay\",\"size\":10,\"solidity\":0.2}},\"type\":\"bar\"}],\"carpet\":[{\"aaxis\":{\"endlinecolor\":\"#2a3f5f\",\"gridcolor\":\"white\",\"linecolor\":\"white\",\"minorgridcolor\":\"white\",\"startlinecolor\":\"#2a3f5f\"},\"baxis\":{\"endlinecolor\":\"#2a3f5f\",\"gridcolor\":\"white\",\"linecolor\":\"white\",\"minorgridcolor\":\"white\",\"startlinecolor\":\"#2a3f5f\"},\"type\":\"carpet\"}],\"choropleth\":[{\"colorbar\":{\"outlinewidth\":0,\"ticks\":\"\"},\"type\":\"choropleth\"}],\"contourcarpet\":[{\"colorbar\":{\"outlinewidth\":0,\"ticks\":\"\"},\"type\":\"contourcarpet\"}],\"contour\":[{\"colorbar\":{\"outlinewidth\":0,\"ticks\":\"\"},\"colorscale\":[[0.0,\"#0d0887\"],[0.1111111111111111,\"#46039f\"],[0.2222222222222222,\"#7201a8\"],[0.3333333333333333,\"#9c179e\"],[0.4444444444444444,\"#bd3786\"],[0.5555555555555556,\"#d8576b\"],[0.6666666666666666,\"#ed7953\"],[0.7777777777777778,\"#fb9f3a\"],[0.8888888888888888,\"#fdca26\"],[1.0,\"#f0f921\"]],\"type\":\"contour\"}],\"heatmapgl\":[{\"colorbar\":{\"outlinewidth\":0,\"ticks\":\"\"},\"colorscale\":[[0.0,\"#0d0887\"],[0.1111111111111111,\"#46039f\"],[0.2222222222222222,\"#7201a8\"],[0.3333333333333333,\"#9c179e\"],[0.4444444444444444,\"#bd3786\"],[0.5555555555555556,\"#d8576b\"],[0.6666666666666666,\"#ed7953\"],[0.7777777777777778,\"#fb9f3a\"],[0.8888888888888888,\"#fdca26\"],[1.0,\"#f0f921\"]],\"type\":\"heatmapgl\"}],\"heatmap\":[{\"colorbar\":{\"outlinewidth\":0,\"ticks\":\"\"},\"colorscale\":[[0.0,\"#0d0887\"],[0.1111111111111111,\"#46039f\"],[0.2222222222222222,\"#7201a8\"],[0.3333333333333333,\"#9c179e\"],[0.4444444444444444,\"#bd3786\"],[0.5555555555555556,\"#d8576b\"],[0.6666666666666666,\"#ed7953\"],[0.7777777777777778,\"#fb9f3a\"],[0.8888888888888888,\"#fdca26\"],[1.0,\"#f0f921\"]],\"type\":\"heatmap\"}],\"histogram2dcontour\":[{\"colorbar\":{\"outlinewidth\":0,\"ticks\":\"\"},\"colorscale\":[[0.0,\"#0d0887\"],[0.1111111111111111,\"#46039f\"],[0.2222222222222222,\"#7201a8\"],[0.3333333333333333,\"#9c179e\"],[0.4444444444444444,\"#bd3786\"],[0.5555555555555556,\"#d8576b\"],[0.6666666666666666,\"#ed7953\"],[0.7777777777777778,\"#fb9f3a\"],[0.8888888888888888,\"#fdca26\"],[1.0,\"#f0f921\"]],\"type\":\"histogram2dcontour\"}],\"histogram2d\":[{\"colorbar\":{\"outlinewidth\":0,\"ticks\":\"\"},\"colorscale\":[[0.0,\"#0d0887\"],[0.1111111111111111,\"#46039f\"],[0.2222222222222222,\"#7201a8\"],[0.3333333333333333,\"#9c179e\"],[0.4444444444444444,\"#bd3786\"],[0.5555555555555556,\"#d8576b\"],[0.6666666666666666,\"#ed7953\"],[0.7777777777777778,\"#fb9f3a\"],[0.8888888888888888,\"#fdca26\"],[1.0,\"#f0f921\"]],\"type\":\"histogram2d\"}],\"histogram\":[{\"marker\":{\"pattern\":{\"fillmode\":\"overlay\",\"size\":10,\"solidity\":0.2}},\"type\":\"histogram\"}],\"mesh3d\":[{\"colorbar\":{\"outlinewidth\":0,\"ticks\":\"\"},\"type\":\"mesh3d\"}],\"parcoords\":[{\"line\":{\"colorbar\":{\"outlinewidth\":0,\"ticks\":\"\"}},\"type\":\"parcoords\"}],\"pie\":[{\"automargin\":true,\"type\":\"pie\"}],\"scatter3d\":[{\"line\":{\"colorbar\":{\"outlinewidth\":0,\"ticks\":\"\"}},\"marker\":{\"colorbar\":{\"outlinewidth\":0,\"ticks\":\"\"}},\"type\":\"scatter3d\"}],\"scattercarpet\":[{\"marker\":{\"colorbar\":{\"outlinewidth\":0,\"ticks\":\"\"}},\"type\":\"scattercarpet\"}],\"scattergeo\":[{\"marker\":{\"colorbar\":{\"outlinewidth\":0,\"ticks\":\"\"}},\"type\":\"scattergeo\"}],\"scattergl\":[{\"marker\":{\"colorbar\":{\"outlinewidth\":0,\"ticks\":\"\"}},\"type\":\"scattergl\"}],\"scattermapbox\":[{\"marker\":{\"colorbar\":{\"outlinewidth\":0,\"ticks\":\"\"}},\"type\":\"scattermapbox\"}],\"scatterpolargl\":[{\"marker\":{\"colorbar\":{\"outlinewidth\":0,\"ticks\":\"\"}},\"type\":\"scatterpolargl\"}],\"scatterpolar\":[{\"marker\":{\"colorbar\":{\"outlinewidth\":0,\"ticks\":\"\"}},\"type\":\"scatterpolar\"}],\"scatter\":[{\"fillpattern\":{\"fillmode\":\"overlay\",\"size\":10,\"solidity\":0.2},\"type\":\"scatter\"}],\"scatterternary\":[{\"marker\":{\"colorbar\":{\"outlinewidth\":0,\"ticks\":\"\"}},\"type\":\"scatterternary\"}],\"surface\":[{\"colorbar\":{\"outlinewidth\":0,\"ticks\":\"\"},\"colorscale\":[[0.0,\"#0d0887\"],[0.1111111111111111,\"#46039f\"],[0.2222222222222222,\"#7201a8\"],[0.3333333333333333,\"#9c179e\"],[0.4444444444444444,\"#bd3786\"],[0.5555555555555556,\"#d8576b\"],[0.6666666666666666,\"#ed7953\"],[0.7777777777777778,\"#fb9f3a\"],[0.8888888888888888,\"#fdca26\"],[1.0,\"#f0f921\"]],\"type\":\"surface\"}],\"table\":[{\"cells\":{\"fill\":{\"color\":\"#EBF0F8\"},\"line\":{\"color\":\"white\"}},\"header\":{\"fill\":{\"color\":\"#C8D4E3\"},\"line\":{\"color\":\"white\"}},\"type\":\"table\"}]},\"layout\":{\"annotationdefaults\":{\"arrowcolor\":\"#2a3f5f\",\"arrowhead\":0,\"arrowwidth\":1},\"autotypenumbers\":\"strict\",\"coloraxis\":{\"colorbar\":{\"outlinewidth\":0,\"ticks\":\"\"}},\"colorscale\":{\"diverging\":[[0,\"#8e0152\"],[0.1,\"#c51b7d\"],[0.2,\"#de77ae\"],[0.3,\"#f1b6da\"],[0.4,\"#fde0ef\"],[0.5,\"#f7f7f7\"],[0.6,\"#e6f5d0\"],[0.7,\"#b8e186\"],[0.8,\"#7fbc41\"],[0.9,\"#4d9221\"],[1,\"#276419\"]],\"sequential\":[[0.0,\"#0d0887\"],[0.1111111111111111,\"#46039f\"],[0.2222222222222222,\"#7201a8\"],[0.3333333333333333,\"#9c179e\"],[0.4444444444444444,\"#bd3786\"],[0.5555555555555556,\"#d8576b\"],[0.6666666666666666,\"#ed7953\"],[0.7777777777777778,\"#fb9f3a\"],[0.8888888888888888,\"#fdca26\"],[1.0,\"#f0f921\"]],\"sequentialminus\":[[0.0,\"#0d0887\"],[0.1111111111111111,\"#46039f\"],[0.2222222222222222,\"#7201a8\"],[0.3333333333333333,\"#9c179e\"],[0.4444444444444444,\"#bd3786\"],[0.5555555555555556,\"#d8576b\"],[0.6666666666666666,\"#ed7953\"],[0.7777777777777778,\"#fb9f3a\"],[0.8888888888888888,\"#fdca26\"],[1.0,\"#f0f921\"]]},\"colorway\":[\"#636efa\",\"#EF553B\",\"#00cc96\",\"#ab63fa\",\"#FFA15A\",\"#19d3f3\",\"#FF6692\",\"#B6E880\",\"#FF97FF\",\"#FECB52\"],\"font\":{\"color\":\"#2a3f5f\"},\"geo\":{\"bgcolor\":\"white\",\"lakecolor\":\"white\",\"landcolor\":\"#E5ECF6\",\"showlakes\":true,\"showland\":true,\"subunitcolor\":\"white\"},\"hoverlabel\":{\"align\":\"left\"},\"hovermode\":\"closest\",\"mapbox\":{\"style\":\"light\"},\"paper_bgcolor\":\"white\",\"plot_bgcolor\":\"#E5ECF6\",\"polar\":{\"angularaxis\":{\"gridcolor\":\"white\",\"linecolor\":\"white\",\"ticks\":\"\"},\"bgcolor\":\"#E5ECF6\",\"radialaxis\":{\"gridcolor\":\"white\",\"linecolor\":\"white\",\"ticks\":\"\"}},\"scene\":{\"xaxis\":{\"backgroundcolor\":\"#E5ECF6\",\"gridcolor\":\"white\",\"gridwidth\":2,\"linecolor\":\"white\",\"showbackground\":true,\"ticks\":\"\",\"zerolinecolor\":\"white\"},\"yaxis\":{\"backgroundcolor\":\"#E5ECF6\",\"gridcolor\":\"white\",\"gridwidth\":2,\"linecolor\":\"white\",\"showbackground\":true,\"ticks\":\"\",\"zerolinecolor\":\"white\"},\"zaxis\":{\"backgroundcolor\":\"#E5ECF6\",\"gridcolor\":\"white\",\"gridwidth\":2,\"linecolor\":\"white\",\"showbackground\":true,\"ticks\":\"\",\"zerolinecolor\":\"white\"}},\"shapedefaults\":{\"line\":{\"color\":\"#2a3f5f\"}},\"ternary\":{\"aaxis\":{\"gridcolor\":\"white\",\"linecolor\":\"white\",\"ticks\":\"\"},\"baxis\":{\"gridcolor\":\"white\",\"linecolor\":\"white\",\"ticks\":\"\"},\"bgcolor\":\"#E5ECF6\",\"caxis\":{\"gridcolor\":\"white\",\"linecolor\":\"white\",\"ticks\":\"\"}},\"title\":{\"x\":0.05},\"xaxis\":{\"automargin\":true,\"gridcolor\":\"white\",\"linecolor\":\"white\",\"ticks\":\"\",\"title\":{\"standoff\":15},\"zerolinecolor\":\"white\",\"zerolinewidth\":2},\"yaxis\":{\"automargin\":true,\"gridcolor\":\"white\",\"linecolor\":\"white\",\"ticks\":\"\",\"title\":{\"standoff\":15},\"zerolinecolor\":\"white\",\"zerolinewidth\":2}}},\"title\":{\"font\":{\"color\":\"#D9D9D9\"},\"text\":\"Histogram: Time Duration of Movies\"},\"xaxis\":{\"gridcolor\":\"#434343\",\"showgrid\":true,\"tickfont\":{\"color\":\"#C2C2C2\"},\"title\":{\"font\":{\"color\":\"#D9D9D9\"},\"text\":\"Duration (minutes)\"},\"zerolinecolor\":\"#666570\"},\"yaxis\":{\"gridcolor\":\"#434343\",\"showgrid\":true,\"tickfont\":{\"color\":\"#C2C2C2\"},\"title\":{\"font\":{\"color\":\"#D9D9D9\"},\"text\":\"Num of Movies\"},\"zerolinecolor\":\"#666570\"}},                        {\"showLink\": true, \"linkText\": \"Export to plot.ly\", \"plotlyServerURL\": \"https://plot.ly\", \"responsive\": true}                    ).then(function(){\n",
       "                            \n",
       "var gd = document.getElementById('8cba0fde-756b-49a5-a3e1-80cdc31c711a');\n",
       "var x = new MutationObserver(function (mutations, observer) {{\n",
       "        var display = window.getComputedStyle(gd).display;\n",
       "        if (!display || display === 'none') {{\n",
       "            console.log([gd, 'removed!']);\n",
       "            Plotly.purge(gd);\n",
       "            observer.disconnect();\n",
       "        }}\n",
       "}});\n",
       "\n",
       "// Listen for the removal of the full notebook cells\n",
       "var notebookContainer = gd.closest('#notebook-container');\n",
       "if (notebookContainer) {{\n",
       "    x.observe(notebookContainer, {childList: true});\n",
       "}}\n",
       "\n",
       "// Listen for the clearing of the current output cell\n",
       "var outputEl = gd.closest('.output');\n",
       "if (outputEl) {{\n",
       "    x.observe(outputEl, {childList: true});\n",
       "}}\n",
       "\n",
       "                        })                };                });            </script>        </div>"
      ]
     },
     "metadata": {},
     "output_type": "display_data"
    }
   ],
   "source": [
    "import cufflinks as cf\n",
    "\n",
    "df_movies = df.loc[df['type'] == 'Movie']\n",
    "df_movies['duration'] = df_movies['duration'].apply(lambda x: float(x))\n",
    "\n",
    "cf.go_offline()\n",
    "cf.set_config_file(sharing='public', theme='space',offline=True, world_readable=True)\n",
    "\n",
    "df_movies['duration'].iplot(kind='hist', xTitle='Duration (minutes)', yTitle='Num of Movies',\n",
    "                            title='Histogram: Time Duration of Movies', color='#b20710')\n"
   ]
  },
  {
   "cell_type": "markdown",
   "metadata": {},
   "source": [
    "<h4>Conclusion 9</h4>\n",
    "<ul>\n",
    "    <li>There are very few short films added into Netflix</li>\n",
    "    <li>Also, there are some long films, with a duration bigger than 3 hours!</li>\n",
    "    <li>In a general way, movies with a duration close to 100 minutes, are the majority.</li>\n",
    "</ul>"
   ]
  },
  {
   "cell_type": "markdown",
   "metadata": {},
   "source": [
    "<h4>Final Conclusions</h4>\n",
    "<p>Through this notebook, we have developed different kinds of analyses in order to understand the Netflix data, and those analyses have allowed us to understand the data and get a good amount of conclusions. However, in the beginning, we raised four concerns, that we can now answer.</p>\n",
    "<ol>\n",
    "    <li><b>What are the most preferred genres?</b> From conclusion 7, we know that for movies the preferred genre is drama, and for TV Shows, the preferred genre is the international tv shows.</li>\n",
    "    <li><b>Which Netflix shows have the highest ratings?</b> Regarding conclusion 6, we have that for both cases, movies and tv shows, the highest rating is the TV-MA (Mature Audience Only), i.e., programs specifically designed to be viewed by adults and therefore may be unsuitable for children under 17.</li>\n",
    "    <li><b>What’s the best time of the year to release a show on Netflix?</b> Recalling conclusion 6 looks like the best period of the year to release movies is the last quarter, i.e., from October to December.</li>\n",
    "    <li><b>Which countries have added the most content?</b> From conclusion 4, we have that the countries that have added content are the USA, followed by India, and United Kingdom.</li>\n",
    "</ol>"
   ]
  }
 ],
 "metadata": {
  "kernelspec": {
   "display_name": "Python 3.9.12 ('base')",
   "language": "python",
   "name": "python3"
  },
  "language_info": {
   "codemirror_mode": {
    "name": "ipython",
    "version": 3
   },
   "file_extension": ".py",
   "mimetype": "text/x-python",
   "name": "python",
   "nbconvert_exporter": "python",
   "pygments_lexer": "ipython3",
   "version": "3.9.12"
  },
  "orig_nbformat": 4,
  "vscode": {
   "interpreter": {
    "hash": "ad2bdc8ecc057115af97d19610ffacc2b4e99fae6737bb82f5d7fb13d2f2c186"
   }
  }
 },
 "nbformat": 4,
 "nbformat_minor": 2
}
